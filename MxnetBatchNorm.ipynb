{
 "cells": [
  {
   "cell_type": "markdown",
   "metadata": {},
   "source": [
    "# Mxnet BatchNorm Layer"
   ]
  },
  {
   "cell_type": "markdown",
   "metadata": {},
   "source": [
    "The objective of this notebook is to have a closer look at the batchnorm layer implemented in mxnet."
   ]
  },
  {
   "cell_type": "code",
   "execution_count": 1,
   "metadata": {},
   "outputs": [],
   "source": [
    "import mxnet as mx\n",
    "import numpy as np\n",
    "import matplotlib.pyplot as plt"
   ]
  },
  {
   "cell_type": "markdown",
   "metadata": {},
   "source": [
    "First, I will generate some data. The input, x, has zero mean and unit variance.\n",
    "The output is a scaled and shifted version of the input such as : $y=3x+2$. Hence, If the batchnorm layer was trained correctly, then its learnable parameters $\\gamma,\\beta$ would converge to $3,2$. Also, the moving mean and moving variance computed by the batchnorm should be around $0,1$ respectively."
   ]
  },
  {
   "cell_type": "code",
   "execution_count": 2,
   "metadata": {},
   "outputs": [],
   "source": [
    "#generate data\n",
    "np.random.seed(313)\n",
    "N = 200\n",
    "x = np.random.randn(N,1)\n",
    "noise = .25*np.random.randn(N,1)\n",
    "y=3*x+2+noise"
   ]
  },
  {
   "cell_type": "code",
   "execution_count": 3,
   "metadata": {},
   "outputs": [
    {
     "data": {
      "image/png": "[encoded data removed]",
      "text/plain": [
       "<Figure size 432x288 with 1 Axes>"
      ]
     },
     "metadata": {},
     "output_type": "display_data"
    }
   ],
   "source": [
    "if True:\n",
    "    plt.plot(x,y,'*')"
   ]
  },
  {
   "cell_type": "code",
   "execution_count": 4,
   "metadata": {},
   "outputs": [],
   "source": [
    "#Define your data Iterator\n",
    "bs=5\n",
    "train_iter = mx.io.NDArrayIter(x, y,batch_size=5)"
   ]
  },
  {
   "cell_type": "markdown",
   "metadata": {},
   "source": [
    "We need to visit some of the default settings of the batchnorm layer. fix_gamma = True is the default behaviour. i.e. gamma will always be set to 1 and its gradient will always be 0. This is fine when the layer following a batchnorm is linear(also relu) sine the scaing can be handled b the next layer. However, when this is not the case, as in our case here, you need to make sure that fix_gamma = False"
   ]
  },
  {
   "cell_type": "markdown",
   "metadata": {},
   "source": [
    "Also, it may be useful to tune the momentum layer used to compute the moving mean and moving variance. Here I selected it to be .99"
   ]
  },
  {
   "cell_type": "code",
   "execution_count": 5,
   "metadata": {},
   "outputs": [],
   "source": [
    "#define network\n",
    "source = mx.sym.Variable(\"data\")\n",
    "label = mx.sym.Variable(\"softmax_label\")\n",
    "network = mx.sym.BatchNorm(source,fix_gamma=False,momentum =0.99)\n",
    "network=mx.sym.LinearRegressionOutput(network,label)"
   ]
  },
  {
   "cell_type": "code",
   "execution_count": 6,
   "metadata": {},
   "outputs": [],
   "source": [
    "#binding\n",
    "input_shapes = dict(train_iter.provide_data+train_iter.provide_label)\n",
    "exe = network.simple_bind(ctx=mx.cpu(), **input_shapes)"
   ]
  },
  {
   "cell_type": "code",
   "execution_count": 7,
   "metadata": {},
   "outputs": [],
   "source": [
    "arg_arrays = dict(zip(network.list_arguments(), exe.arg_arrays))\n",
    "data = arg_arrays[train_iter.provide_data[0][0]]\n",
    "label = arg_arrays[train_iter.provide_label[0][0]]"
   ]
  },
  {
   "cell_type": "code",
   "execution_count": 8,
   "metadata": {},
   "outputs": [],
   "source": [
    "# ===============Optimizer=================                        \n",
    "# We also need to create an optimizer for updating weights\n",
    "opt = mx.optimizer.SGD(\n",
    "    learning_rate=.01)\n",
    "    \n",
    "updater = mx.optimizer.get_updater(opt)"
   ]
  },
  {
   "cell_type": "code",
   "execution_count": 9,
   "metadata": {},
   "outputs": [
    {
     "name": "stdout",
     "output_type": "stream",
     "text": [
      "25.76581565104425\n"
     ]
    }
   ],
   "source": [
    "for i in range(100):\n",
    "    i=0\n",
    "    error=0\n",
    "    train_iter.reset()\n",
    "    for batch in train_iter:\n",
    "        data[:] = batch.data[0]\n",
    "        label[:] = batch.label[0]\n",
    "        y = exe.forward(is_train=True)\n",
    "        exe.backward()\n",
    "        for i, pair in enumerate(zip(exe.arg_arrays, exe.grad_arrays)):\n",
    "            weight, grad = pair\n",
    "            updater(i, grad, weight)  \n",
    "        error+=np.sum((y[0].asnumpy()-label.asnumpy())**2)\n",
    "        i+=1\n",
    "print(error/i/bs)"
   ]
  },
  {
   "cell_type": "code",
   "execution_count": 10,
   "metadata": {},
   "outputs": [
    {
     "data": {
      "text/plain": [
       "(1.9501822, 2.6362016)"
      ]
     },
     "execution_count": 10,
     "metadata": {},
     "output_type": "execute_result"
    }
   ],
   "source": [
    "exe.arg_dict['batchnorm0_beta'].asnumpy()[0],exe.arg_dict['batchnorm0_gamma'].asnumpy()[0]"
   ]
  },
  {
   "cell_type": "markdown",
   "metadata": {},
   "source": [
    "The above results are close to the parameters I used to generate the data: 2,3"
   ]
  },
  {
   "cell_type": "code",
   "execution_count": 11,
   "metadata": {},
   "outputs": [
    {
     "data": {
      "text/plain": [
       "(-0.0005539595, 0.8334114)"
      ]
     },
     "execution_count": 11,
     "metadata": {},
     "output_type": "execute_result"
    }
   ],
   "source": [
    "exe.aux_dict['batchnorm0_moving_mean'].asnumpy()[0],exe.aux_dict['batchnorm0_moving_var'].asnumpy()[0]"
   ]
  },
  {
   "cell_type": "markdown",
   "metadata": {},
   "source": [
    "The above statistics is close to the statistics of my input x (zero mean and unit variance)"
   ]
  },
  {
   "cell_type": "code",
   "execution_count": 12,
   "metadata": {},
   "outputs": [],
   "source": [
    "train_iter.reset()\n",
    "error2=0\n",
    "i=0\n",
    "for batch in train_iter:\n",
    "    data[:] = batch.data[0]\n",
    "    label[:] = batch.label[0]\n",
    "    y = exe.forward(is_train=False)\n",
    "    error2+=np.sum((y[0].asnumpy()-label.asnumpy())**2)\n",
    "    i+=1"
   ]
  },
  {
   "cell_type": "code",
   "execution_count": 13,
   "metadata": {},
   "outputs": [
    {
     "data": {
      "text/plain": [
       "0.08464536294341088"
      ]
     },
     "execution_count": 13,
     "metadata": {},
     "output_type": "execute_result"
    }
   ],
   "source": [
    "error2/i/bs"
   ]
  },
  {
   "cell_type": "markdown",
   "metadata": {},
   "source": [
    "There is a great difference between the mse when is_train=False compared to when is_train = True"
   ]
  },
  {
   "cell_type": "markdown",
   "metadata": {},
   "source": [
    "Let us compute it manually"
   ]
  },
  {
   "cell_type": "code",
   "execution_count": 14,
   "metadata": {},
   "outputs": [
    {
     "data": {
      "text/plain": [
       "0.08423280706629158"
      ]
     },
     "execution_count": 14,
     "metadata": {},
     "output_type": "execute_result"
    }
   ],
   "source": [
    "a,b=exe.aux_dict['batchnorm0_moving_mean'].asnumpy()[0],exe.aux_dict['batchnorm0_moving_var'].asnumpy()[0]\n",
    "train_iter.reset()\n",
    "error=0\n",
    "i=0\n",
    "for batch in train_iter:\n",
    "    data[:] = batch.data[0]\n",
    "    label[:] = batch.label[0]\n",
    "    xi = data.asnumpy()\n",
    "    xnorm = (xi-a)/np.sqrt(b+1e-5)\n",
    "    beta, alpha = exe.arg_dict['batchnorm0_beta'].asnumpy(),exe.arg_dict['batchnorm0_gamma'].asnumpy()\n",
    "    y = alpha * xnorm+beta\n",
    "    error+=np.sum((y-label.asnumpy())**2)\n",
    "    i+=1\n",
    "error/i/bs"
   ]
  },
  {
   "cell_type": "code",
   "execution_count": null,
   "metadata": {},
   "outputs": [],
   "source": []
  }
 ],
 "metadata": {
  "kernelspec": {
   "display_name": "Python 3",
   "language": "python",
   "name": "python3"
  },
  "language_info": {
   "codemirror_mode": {
    "name": "ipython",
    "version": 3
   },
   "file_extension": ".py",
   "mimetype": "text/x-python",
   "name": "python",
   "nbconvert_exporter": "python",
   "pygments_lexer": "ipython3",
   "version": "3.5.2"
  }
 },
 "nbformat": 4,
 "nbformat_minor": 2
}
