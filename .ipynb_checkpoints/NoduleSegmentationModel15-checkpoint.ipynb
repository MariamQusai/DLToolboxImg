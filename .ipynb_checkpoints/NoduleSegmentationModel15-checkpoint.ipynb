{
 "cells": [
  {
   "cell_type": "markdown",
   "metadata": {
    "colab_type": "text",
    "id": "view-in-github"
   },
   "source": [
    "<a href=\"https://colab.research.google.com/github/x110/DLToolboxImg/blob/master/NoduleSegmentationModel13.ipynb\" target=\"_parent\"><img src=\"https://colab.research.google.com/assets/colab-badge.svg\" alt=\"Open In Colab\"/></a>"
   ]
  },
  {
   "cell_type": "markdown",
   "metadata": {
    "colab_type": "text",
    "id": "EIFzslyej3R8",
    "toc": true
   },
   "source": [
    "<h1>Table of Contents<span class=\"tocSkip\"></span></h1>\n",
    "<div class=\"toc\"><ul class=\"toc-item\"><li><span><a href=\"#Colab-Configuration\" data-toc-modified-id=\"Colab-Configuration-1\"><span class=\"toc-item-num\">1&nbsp;&nbsp;</span>Colab Configuration</a></span></li><li><span><a href=\"#Load-Data\" data-toc-modified-id=\"Load-Data-2\"><span class=\"toc-item-num\">2&nbsp;&nbsp;</span>Load Data</a></span></li><li><span><a href=\"#Settings\" data-toc-modified-id=\"Settings-3\"><span class=\"toc-item-num\">3&nbsp;&nbsp;</span>Settings</a></span></li><li><span><a href=\"#Model-Code\" data-toc-modified-id=\"Model-Code-4\"><span class=\"toc-item-num\">4&nbsp;&nbsp;</span>Model Code</a></span></li><li><span><a href=\"#Nodule-Segmentation:-Model\" data-toc-modified-id=\"Nodule-Segmentation:-Model-5\"><span class=\"toc-item-num\">5&nbsp;&nbsp;</span>Nodule Segmentation: Model</a></span><ul class=\"toc-item\"><li><span><a href=\"#Preprocessing\" data-toc-modified-id=\"Preprocessing-5.1\"><span class=\"toc-item-num\">5.1&nbsp;&nbsp;</span>Preprocessing</a></span><ul class=\"toc-item\"><li><span><a href=\"#Find-mean-of-images\" data-toc-modified-id=\"Find-mean-of-images-5.1.1\"><span class=\"toc-item-num\">5.1.1&nbsp;&nbsp;</span>Find mean of images</a></span></li><li><span><a href=\"#Find-variance-of-images\" data-toc-modified-id=\"Find-variance-of-images-5.1.2\"><span class=\"toc-item-num\">5.1.2&nbsp;&nbsp;</span>Find variance of images</a></span></li></ul></li><li><span><a href=\"#Data-Iterator\" data-toc-modified-id=\"Data-Iterator-5.2\"><span class=\"toc-item-num\">5.2&nbsp;&nbsp;</span>Data Iterator</a></span></li><li><span><a href=\"#Evaluation-Metric\" data-toc-modified-id=\"Evaluation-Metric-5.3\"><span class=\"toc-item-num\">5.3&nbsp;&nbsp;</span>Evaluation Metric</a></span></li><li><span><a href=\"#Model-Architecture\" data-toc-modified-id=\"Model-Architecture-5.4\"><span class=\"toc-item-num\">5.4&nbsp;&nbsp;</span>Model Architecture</a></span></li></ul></li><li><span><a href=\"#Nodule-Segmentation:-Model\" data-toc-modified-id=\"Nodule-Segmentation:-Model-6\"><span class=\"toc-item-num\">6&nbsp;&nbsp;</span>Nodule Segmentation: Model</a></span><ul class=\"toc-item\"><li><span><a href=\"#Optimizer\" data-toc-modified-id=\"Optimizer-6.1\"><span class=\"toc-item-num\">6.1&nbsp;&nbsp;</span>Optimizer</a></span><ul class=\"toc-item\"><li><span><a href=\"#Find--learning-rate\" data-toc-modified-id=\"Find--learning-rate-6.1.1\"><span class=\"toc-item-num\">6.1.1&nbsp;&nbsp;</span>Find  learning rate</a></span></li><li><span><a href=\"#Optimizer-Parameters\" data-toc-modified-id=\"Optimizer-Parameters-6.1.2\"><span class=\"toc-item-num\">6.1.2&nbsp;&nbsp;</span>Optimizer Parameters</a></span></li></ul></li></ul></li></ul></div>"
   ]
  },
  {
   "cell_type": "markdown",
   "metadata": {
    "colab_type": "text",
    "id": "W6ljz0jskI2x"
   },
   "source": [
    "# Colab Configuration"
   ]
  },
  {
   "cell_type": "code",
   "execution_count": 2,
   "metadata": {},
   "outputs": [],
   "source": [
    "colab = False"
   ]
  },
  {
   "cell_type": "code",
   "execution_count": 3,
   "metadata": {
    "code_folding": [
     0
    ],
    "colab": {
     "base_uri": "https://localhost:8080/",
     "height": 34
    },
    "colab_type": "code",
    "id": "2nWGr82Ik3t_",
    "outputId": "033d43b8-8b70-422d-854e-941f40029c79"
   },
   "outputs": [],
   "source": [
    "if colab:\n",
    "    from google.colab import drive\n",
    "    drive.mount('/content/drive')"
   ]
  },
  {
   "cell_type": "code",
   "execution_count": 4,
   "metadata": {
    "code_folding": [
     0
    ],
    "colab": {},
    "colab_type": "code",
    "id": "faJWgZ4m-OyT"
   },
   "outputs": [],
   "source": [
    "if colab:    \n",
    "    # Remove CUDA 9 completely\n",
    "    !apt-get --purge remove cuda nvidia* libnvidia-*\n",
    "    !apt-get remove cuda-*\n",
    "    !dpkg -l | grep cuda- | awk '{print $2}' | xargs -n1 dpkg --purge\n",
    "    !apt autoremove\n",
    "    !apt-get update"
   ]
  },
  {
   "cell_type": "code",
   "execution_count": 5,
   "metadata": {
    "code_folding": [
     0
    ],
    "colab": {},
    "colab_type": "code",
    "id": "xQt0wZRLkM62"
   },
   "outputs": [],
   "source": [
    "if colab:\n",
    "    # Install CUDA 8\n",
    "    !wget https://developer.download.nvidia.com/compute/cuda/repos/ubuntu1604/x86_64/cuda-repo-ubuntu1604_8.0.61-1_amd64.deb\n",
    "    !dpkg -i --force-overwrite cuda-repo-ubuntu1604_8.0.61-1_amd64.deb\n",
    "    !apt-get update\n",
    "    !apt-get install cuda-8-0\n",
    "\n",
    "    # install will fail, need to force dpkg to overwrite the configuration file\n",
    "\n",
    "    !wget http://archive.ubuntu.com/ubuntu/pool/main/m/mesa/libglx-mesa0_18.0.5-0ubuntu0~18.04.1_amd64.deb\n",
    "    !dpkg -i --force-overwrite libglx-mesa0_18.0.5-0ubuntu0~18.04.1_amd64.deb\n",
    "\n",
    "    !wget http://developer.download.nvidia.com/compute/cuda/repos/ubuntu1604/x86_64/nvidia-410_410.48-0ubuntu1_amd64.deb\n",
    "    !dpkg -i --force-overwrite nvidia-410_410.48-0ubuntu1_amd64.deb\n",
    "\n",
    "    !apt --fix-broken install\n",
    "    !apt-get install cuda-8-0\n",
    "\n",
    "    #More packages ro install \n",
    "    !pip uninstall -y numpy\n",
    "    !pip uninstall -y scipy\n",
    "    !pip install turicreate\n",
    "    # The worng version of MXNET will be installed.\n",
    "    !pip uninstall -y mxnet\n",
    "    !pip install scipy\n",
    "    # Instal CUDA8-compatible version of mxnet 1.1.0\n",
    "    !pip install mxnet-cu80==1.1.0"
   ]
  },
  {
   "cell_type": "markdown",
   "metadata": {
    "colab_type": "text",
    "id": "hreX2n06B5dg"
   },
   "source": [
    "#  Load Data"
   ]
  },
  {
   "cell_type": "code",
   "execution_count": 7,
   "metadata": {},
   "outputs": [],
   "source": [
    "if colab:\n",
    "    root_path = \"/content/drive/My Drive/\"\n",
    "else:\n",
    "    root_path = \"/home/mas/\""
   ]
  },
  {
   "cell_type": "code",
   "execution_count": 8,
   "metadata": {
    "colab": {},
    "colab_type": "code",
    "id": "M7hmz4sRBd40"
   },
   "outputs": [],
   "source": [
    "PATH = \"x110/\"\n",
    "if colab:\n",
    "    !mkdir {PATH}\n",
    "    !mkdir {PATH+\"Datasets\"}\n",
    "    !mkdir {PATH+\"Datasets/Dataset5/\"}\n",
    "    !mkdir {PATH+\"Datasets/Dataset5/processed/\"}\n",
    "    !mkdir {PATH+\"model\"}\n",
    "\n",
    "    !mkdir x110/DLToolboxImg\n",
    "    !git clone https://github.com/x110/DLToolboxImg.git x110/DLToolboxImg\n",
    "\n",
    "\n",
    "    dataset_path = root_path+'Datasets/Dataset5/processed/.'\n",
    "    !cp -a \"{dataset_path}\" {PATH+\"Datasets/Dataset5/processed/\"}\n"
   ]
  },
  {
   "cell_type": "code",
   "execution_count": 9,
   "metadata": {
    "colab": {},
    "colab_type": "code",
    "id": "TWY_-L4qDQXY"
   },
   "outputs": [],
   "source": [
    "model_path1 = root_path+\"x110/model/model13/\"\n",
    "#model details\n",
    "prefix1 = \"jan09\"\n",
    "model_epoch=29\n",
    "\n",
    "model_path2 = root_path+\"x110/model/model15/\"\n",
    "prefix2 = \"jan17\"\n"
   ]
  },
  {
   "cell_type": "code",
   "execution_count": 10,
   "metadata": {
    "colab": {},
    "colab_type": "code",
    "id": "7oArm9XTEWk-"
   },
   "outputs": [],
   "source": [
    "epochs = 10\n",
    "load_model = True\n",
    "find_stats = False#True\n",
    "bs = 34#100#64#34"
   ]
  },
  {
   "cell_type": "markdown",
   "metadata": {
    "colab_type": "text",
    "id": "-A_IctC4ABII"
   },
   "source": [
    "# Settings"
   ]
  },
  {
   "cell_type": "code",
   "execution_count": 13,
   "metadata": {
    "colab": {},
    "colab_type": "code",
    "id": "HT3hdPbNk6zy"
   },
   "outputs": [],
   "source": [
    "#Dataset Path \n",
    "interm_dir4 = root_path+ PATH + \"Datasets/Dataset5/processed/\"\n",
    "s = \"2018_11_25\"\n",
    "train_data_path=interm_dir4+'train'+s+'pos.rec'\n",
    "train_idx_path=interm_dir4+'train'+s+'pos.idx'\n",
    "valid_data_path=interm_dir4+'valid'+s+'pos.rec'\n",
    "valid_idx_path=interm_dir4+'valid'+s+'pos.idx'\n",
    "test_data_path=interm_dir4+'test'+s+'pos.rec'\n",
    "test_idx_path=interm_dir4+'test'+s+'pos.idx'"
   ]
  },
  {
   "cell_type": "code",
   "execution_count": 16,
   "metadata": {
    "colab": {},
    "colab_type": "code",
    "id": "ITGUgg7UB6BJ"
   },
   "outputs": [],
   "source": [
    "if load_model and colab:\n",
    "  drivefile = model_path1+prefix1+\"-\"+\"{:04d}\".format(model_epoch)+\".params\"\n",
    "  drivefile2 = model_path1+prefix1+\"-symbol.json\"\n",
    "  colabfile = PATH+\"model/\"+prefix1+\"-\"+\"{:04d}\".format(model_epoch)+\".params\"\n",
    "  colabfile2 = PATH+\"model/\"+prefix1+\"-symbol.json\"\n",
    "\n",
    "  !cp  \"{drivefile}\" {colabfile}\n",
    "  !cp  \"{drivefile2}\" {colabfile2}\n"
   ]
  },
  {
   "cell_type": "markdown",
   "metadata": {
    "colab_type": "text",
    "id": "fRuO7y9fj3R3"
   },
   "source": [
    "# Model Code"
   ]
  },
  {
   "cell_type": "code",
   "execution_count": 20,
   "metadata": {
    "colab": {},
    "colab_type": "code",
    "id": "F7JkqZ0mj3SM",
    "scrolled": true
   },
   "outputs": [],
   "source": [
    "import sys\n",
    "sys.path.insert(0,root_path+\"x110/DLToolboxImg/src/\")"
   ]
  },
  {
   "cell_type": "code",
   "execution_count": 21,
   "metadata": {
    "colab": {},
    "colab_type": "code",
    "id": "2yYRVHIdj3SU",
    "scrolled": true
   },
   "outputs": [],
   "source": [
    "import mynnet7 as nn\n",
    "import pickle\n",
    "import mxnet as mx\n",
    "import time\n",
    "import matplotlib.pyplot as plt\n",
    "import numpy as np\n",
    "import pandas as pd"
   ]
  },
  {
   "cell_type": "code",
   "execution_count": 22,
   "metadata": {
    "colab": {},
    "colab_type": "code",
    "id": "Vbr8CTJj4t8F"
   },
   "outputs": [],
   "source": [
    "import mxnet as mx\n",
    "import sys, os\n",
    "import random\n",
    "import time\n",
    "import matplotlib.pyplot as plt\n",
    "import matplotlib.image as mpimg\n",
    "\n",
    "import numpy as np\n",
    "import cv2\n",
    "import pandas as pd\n",
    "import re\n",
    "from mxnet.io import DataIter\n",
    "from mxnet.io import DataBatch\n",
    "import pandas as pd\n",
    "from scipy.ndimage.filters import gaussian_filter\n",
    "from scipy.ndimage.interpolation import map_coordinates\n",
    "from collections import namedtuple\n",
    "import pickle\n",
    "\n",
    "Batch = namedtuple('Batch', ['data'])\n",
    "\n",
    "BATCH_SIZE,INPUT_SIZE_z,INPUT_SIZE_y, INPUT_SIZE_x = 8,32,32,32\n",
    "\n",
    "class FileIter(DataIter):\n",
    "    def __init__(self, path,path_idx,\n",
    "                 data_name=\"data\",\n",
    "                 label_name=\"softmax_label\",\n",
    "                 batch_size=1,\n",
    "                 do_augment=False,\n",
    "                 random_flip=False,\n",
    "                 random_rot=False,\n",
    "                 random_elastic=False, \n",
    "                 mean_image=.28,\n",
    "                 std_image = .28,\n",
    "                 do_shuffle = True):\n",
    "\n",
    "        \n",
    "        random.seed(313)\n",
    "        self.ind2=None\n",
    "        self.do_shuffle = do_shuffle\n",
    "        self.epoch = 0\n",
    "        self.mean_image = mean_image\n",
    "        self.std_image = std_image\n",
    "        \n",
    "        super(FileIter, self).__init__()\n",
    "        self.batch_size = batch_size\n",
    "        self.do_augment=do_augment\n",
    "        self.random_flip = random_flip\n",
    "        self.random_rot = random_rot\n",
    "        self.random_elastic = random_elastic\n",
    "\n",
    "        self.data_name = data_name\n",
    "        self.label_name = label_name\n",
    "\n",
    "        self.record = mx.recordio.MXIndexedRecordIO(path_idx, path, 'r')#mx.recordio.MXRecordIO(path, 'r')\n",
    "\n",
    "        \n",
    "        def readrecord(record):\n",
    "            record.reset()\n",
    "            num_data=0\n",
    "            while True:\n",
    "                item = record.read()\n",
    "                num_data+=1\n",
    "                if not item:\n",
    "                    break\n",
    "            return num_data-1\n",
    "        \n",
    "        \n",
    "        self.num_data = readrecord(self.record)#len(open(self.flist_name, 'r').readlines())\n",
    "        \n",
    "        \n",
    "        \n",
    "        self.idx = self.shuffle_idx()\n",
    "        self.cursor = -1\n",
    "        self.cursor2 = -1\n",
    "        self.ind = self.idx[0]\n",
    "        self.record.reset()\n",
    "\n",
    "        self.data, self.label = self._read()\n",
    "        self.reset()\n",
    "            \n",
    "    def shuffle_idx(self):\n",
    "        num_data = self.num_data//self.batch_size*self.batch_size\n",
    "        idx = [i for i in range(num_data)]\n",
    "        if self.do_shuffle:\n",
    "            random.shuffle(idx)\n",
    "        idx = np.array(idx)\n",
    "        idx = idx.reshape(-1,self.batch_size)\n",
    "        return idx\n",
    "    \n",
    "    def _read(self):\n",
    "        \"\"\"get two list, each list contains two elements: name and nd.array value\"\"\"\n",
    "                \n",
    "        data = {}\n",
    "        label = {}\n",
    "\n",
    "        dd = []\n",
    "        ll = []\n",
    "        \n",
    "        if self.ind2 is None:\n",
    "            ind = self.ind\n",
    "        else:\n",
    "            ind = self.ind2\n",
    "            self.ind2=None\n",
    "            \n",
    "        for i in range(0, self.batch_size):\n",
    "            \n",
    "            item = self.record.read_idx(ind[i])            \n",
    "            header, l = mx.recordio.unpack_img(item)\n",
    "            \n",
    "            d=header.label\n",
    "\n",
    "            d=d.reshape((32,32,32))- self.mean_image\n",
    "            d = d/self.std_image\n",
    "            \n",
    "            l=l.reshape((32,32,32))\n",
    "            \n",
    "            if self.random_elastic:            \n",
    "              if random.randint(0, 100) > 50:\n",
    "                d=np.array([elastic_transform(subd, 34, 4) for subd  in d])\n",
    "                l=np.array([elastic_transform(subl, 34, 4) for subl  in l])\n",
    "\n",
    "                \n",
    "            data11=np.concatenate((d,l),axis=0)  \n",
    "            \n",
    "\n",
    "            if self.random_rot:\n",
    "              if random.randint(0, 100) > 50:\n",
    "                n,rows,cols = data11.shape\n",
    "                rot =40* random.random()-20\n",
    "                M = cv2.getRotationMatrix2D((cols/2,rows/2),rot,1)\n",
    "                data11=np.array([cv2.warpAffine(d,M,(cols,rows))for d in data11])\n",
    "\n",
    "            d,l=np.vsplit(data11,2)\n",
    "\n",
    "            if self.random_flip:\n",
    "            \tl=l.reshape((32,32,32))\n",
    "            \td,l = random_flip_img(d,l, horizontal_chance=0.5, vertical_chance=0.5)\n",
    "\n",
    "            d = np.expand_dims(d, axis=0) \n",
    "            d = np.expand_dims(d, axis=0)\n",
    "            l=l.reshape((32*32*32))\n",
    "            l=l.astype(float)\n",
    "            l = np.expand_dims(l, axis=0)\n",
    "\n",
    "\n",
    "\n",
    "            dd.append(d)\n",
    "            ll.append(l)\n",
    "\n",
    "        d = np.vstack(dd)\n",
    "        l = np.vstack(ll)\n",
    "        data[self.data_name] = d\n",
    "        label[self.label_name] = l\n",
    "        res = list(data.items()), list(label.items())\n",
    "        return res\n",
    "\n",
    "    @property\n",
    "    def provide_data(self):\n",
    "        \"\"\"The name and shape of data provided by this iterator\"\"\"\n",
    "        res = [(k, tuple(list(v.shape[0:]))) for k, v in self.data]\n",
    "        # print \"data : \" + str(res)\n",
    "        return res\n",
    "\n",
    "    @property\n",
    "    def provide_label(self):\n",
    "        \"\"\"The name and shape of label provided by this iterator\"\"\"\n",
    "        res = [(k, tuple(list(v.shape[0:]))) for k, v in self.label]\n",
    "        return res\n",
    "    \n",
    "\n",
    "    def reset(self):\n",
    "        self.cursor = -1\n",
    "        self.cursor2 = -1\n",
    "        self.record.reset()\n",
    "        self.epoch += 1\n",
    "        self.idx = self.shuffle_idx()\n",
    "        \n",
    "\n",
    "\n",
    "    def getpad(self):\n",
    "        return 0\n",
    "\n",
    "    def iter_next(self):\n",
    "        self.cursor += self.batch_size\n",
    "        self.cursor2 += 1\n",
    "        num_data = self.num_data//self.batch_size*self.batch_size\n",
    "            \n",
    "\n",
    "        if self.cursor < self.num_data:\n",
    "            self.ind = self.idx[self.cursor2]\n",
    "            return True\n",
    "        else:\n",
    "            return False\n",
    "\n",
    "    def eof(self):\n",
    "        res = self.cursor >= self.num_data\n",
    "        return res\n",
    "\n",
    "    def next(self):\n",
    "        \"\"\"return one dict which contains \"data\" and \"label\" \"\"\"\n",
    "        if self.iter_next():\n",
    "            self.data, self.label = self._read()\n",
    " \n",
    "            res = DataBatch(data=[mx.nd.array(self.data[0][1])], label=[mx.nd.array(self.label[0][1])], pad=self.getpad(), index=None)\n",
    "\n",
    "            return res\n",
    "        else:\n",
    "            raise StopIteration\n",
    "\n",
    "\n"
   ]
  },
  {
   "cell_type": "code",
   "execution_count": 23,
   "metadata": {
    "colab": {},
    "colab_type": "code",
    "id": "9hXyEtQCQZpY"
   },
   "outputs": [],
   "source": [
    "from scipy.ndimage.filters import gaussian_filter\n",
    "from scipy.ndimage.interpolation import map_coordinates\n",
    "ELASTIC_INDICES = None  # needed to make it faster to fix elastic deformation per epoch.\n",
    "def elastic_transform(image, alpha, sigma, random_state=None):\n",
    "  global ELASTIC_INDICES\n",
    "  shape = image.shape\n",
    "\n",
    "  if ELASTIC_INDICES == None:\n",
    "      if random_state is None:\n",
    "          random_state = np.random.RandomState(1301)\n",
    "\n",
    "      dx = gaussian_filter((random_state.rand(*shape) * 2 - 1), sigma, mode=\"constant\", cval=0) * alpha\n",
    "      dy = gaussian_filter((random_state.rand(*shape) * 2 - 1), sigma, mode=\"constant\", cval=0) * alpha\n",
    "      x, y = np.meshgrid(np.arange(shape[0]), np.arange(shape[1]))\n",
    "      ELASTIC_INDICES = np.reshape(y + dy, (-1, 1)), np.reshape(x + dx, (-1, 1))\n",
    "  return map_coordinates(image, ELASTIC_INDICES, order=1).reshape(shape)\n"
   ]
  },
  {
   "cell_type": "code",
   "execution_count": 24,
   "metadata": {
    "colab": {},
    "colab_type": "code",
    "id": "lc2EWJ_VQeoZ"
   },
   "outputs": [],
   "source": [
    "def random_flip_img(X,Y, horizontal_chance=0.5, vertical_chance=0.5):\n",
    "    import cv2\n",
    "    flip_horizontal = False\n",
    "    if random.random() < horizontal_chance:\n",
    "        flip_horizontal = True\n",
    "\n",
    "    flip_vertical = False\n",
    "    if random.random() < vertical_chance:\n",
    "        flip_vertical = True\n",
    "\n",
    "    if not flip_horizontal and not flip_vertical:\n",
    "        return (X,Y)\n",
    "\n",
    "    flip_val = 1\n",
    "    if flip_vertical:\n",
    "        flip_val = -1 if flip_horizontal else 0\n",
    "\n",
    "    Xaug = np.array([cv2.flip(x, flip_val) for x in X])\n",
    "    Yaug = np.array([cv2.flip(x, flip_val) for x in Y])\n",
    "\n",
    "    return (Xaug,Yaug)"
   ]
  },
  {
   "cell_type": "code",
   "execution_count": 25,
   "metadata": {
    "colab": {},
    "colab_type": "code",
    "id": "r57gImHw6rX4"
   },
   "outputs": [],
   "source": [
    "import os\n",
    "import math"
   ]
  },
  {
   "cell_type": "code",
   "execution_count": 26,
   "metadata": {
    "colab": {},
    "colab_type": "code",
    "id": "qEE6i_txGY1C"
   },
   "outputs": [],
   "source": [
    "# Set seed for reproducibility\n",
    "mx.random.seed(42)"
   ]
  },
  {
   "cell_type": "markdown",
   "metadata": {
    "colab_type": "text",
    "id": "xe-Fv5N2a9Ra"
   },
   "source": [
    "# Nodule Segmentation: Model"
   ]
  },
  {
   "cell_type": "markdown",
   "metadata": {
    "colab_type": "text",
    "id": "GWkyDSB2j3S_"
   },
   "source": [
    "## Preprocessing"
   ]
  },
  {
   "cell_type": "markdown",
   "metadata": {
    "colab_type": "text",
    "id": "T_OZbL4Mj3TC"
   },
   "source": [
    "### Find mean of images"
   ]
  },
  {
   "cell_type": "code",
   "execution_count": 27,
   "metadata": {
    "colab": {
     "base_uri": "https://localhost:8080/",
     "height": 34
    },
    "colab_type": "code",
    "id": "To2ssEIvj3TG",
    "outputId": "9fadc01c-b7c5-4c6e-bb5b-626d162359c6",
    "scrolled": true
   },
   "outputs": [
    {
     "data": {
      "text/plain": [
       "[0.2826227159416579]"
      ]
     },
     "execution_count": 27,
     "metadata": {},
     "output_type": "execute_result"
    }
   ],
   "source": [
    "if find_stats:\n",
    "    BATCH_SIZE=1\n",
    "    train_iter=nn.FileIter(train_data_path,train_idx_path,batch_size=BATCH_SIZE,do_augment=True,mean_image=0,std_image=1)\n",
    "    train_iter.reset()\n",
    "    x_mean = np.zeros((32,32,32))\n",
    "    for i,batch in enumerate(train_iter):\n",
    "        X =  batch.data[0][0][0].asnumpy()\n",
    "        x_mean+=X\n",
    "    x_mean=np.mean(x_mean/i)\n",
    "    # Saving the objects:\n",
    "    with open(interm_dir4+'x_mean.pkl', 'wb') as f:  # Python 3: open(..., 'wb')\n",
    "        pickle.dump([x_mean], f)\n",
    "\n",
    "else:\n",
    "    with open(interm_dir4+'x_mean.pkl','rb') as f:  # Python 3: open(..., 'rb')\n",
    "        x_mean = pickle.load(f)\n",
    "x_mean#x_mean=0.2826227159416579"
   ]
  },
  {
   "cell_type": "code",
   "execution_count": 28,
   "metadata": {
    "colab": {},
    "colab_type": "code",
    "id": "eRUFk9Juj3TT",
    "scrolled": true
   },
   "outputs": [],
   "source": [
    "x_mean=0.28"
   ]
  },
  {
   "cell_type": "markdown",
   "metadata": {
    "colab_type": "text",
    "id": "raNj5rVmj3Td"
   },
   "source": [
    "### Find variance of images"
   ]
  },
  {
   "cell_type": "code",
   "execution_count": 29,
   "metadata": {
    "colab": {
     "base_uri": "https://localhost:8080/",
     "height": 34
    },
    "colab_type": "code",
    "id": "z7p4QBZKj3Tg",
    "outputId": "ffa05d63-69a7-45d7-c002-38a66271f87f",
    "scrolled": true
   },
   "outputs": [
    {
     "data": {
      "text/plain": [
       "[0.2817920662435274]"
      ]
     },
     "execution_count": 29,
     "metadata": {},
     "output_type": "execute_result"
    }
   ],
   "source": [
    "if find_stats: \n",
    "    BATCH_SIZE=1\n",
    "    train_iter=nn.FileIter(train_data_path,train_idx_path,batch_size=BATCH_SIZE,do_augment=True,mean_image=0,std_image = 1)\n",
    "    train_iter.reset()\n",
    "    x_var = np.zeros((32,32,32))\n",
    "    for i,batch in enumerate(train_iter):\n",
    "        X =  (batch.data[0][0][0].asnumpy()-x_mean)**2\n",
    "        x_var+=X\n",
    "    #x_var=x_var/(i-1)\n",
    "    #x_var#x_mean=.2815\n",
    "    N = i*32*32*32\n",
    "    x_var = np.sum(x_var)/(N-1)\n",
    "    x_var#x_var = .07877\n",
    "    x_std = np.sqrt(x_var)#x_std=.2807\n",
    "    with open(interm_dir4+'x_std.pkl', 'wb') as f:  # Python 3: open(..., 'wb')\n",
    "        pickle.dump([x_std], f)\n",
    "else:\n",
    "    with open(interm_dir4+'x_std.pkl','rb') as f:  # Python 3: open(..., 'rb')\n",
    "        x_std = pickle.load(f)\n",
    "x_std#x_std=0.2817920662435274"
   ]
  },
  {
   "cell_type": "code",
   "execution_count": 30,
   "metadata": {
    "colab": {},
    "colab_type": "code",
    "id": "yXzLyS3Lj3To",
    "scrolled": true
   },
   "outputs": [],
   "source": [
    "x_std = 0.28"
   ]
  },
  {
   "cell_type": "markdown",
   "metadata": {
    "colab_type": "text",
    "id": "nIpXpHQxj3Tw"
   },
   "source": [
    "## Data Iterator"
   ]
  },
  {
   "cell_type": "code",
   "execution_count": 31,
   "metadata": {
    "colab": {
     "base_uri": "https://localhost:8080/",
     "height": 89
    },
    "colab_type": "code",
    "id": "cb3ZRqqWj3Ty",
    "outputId": "21a68edb-bc10-44a4-f8df-65be74464889",
    "scrolled": true
   },
   "outputs": [
    {
     "name": "stdout",
     "output_type": "stream",
     "text": [
      "{'softmax_label': (34, 32768), 'data': (34, 1, 32, 32, 32)}\n"
     ]
    }
   ],
   "source": [
    "BATCH_SIZE=bs\n",
    "train_iter=FileIter(train_data_path,train_idx_path,batch_size=BATCH_SIZE,random_elastic = True,random_flip=True,random_rot=True,do_augment=True,mean_image=x_mean,std_image = x_std,do_shuffle=True)\n",
    "input_shapes = dict(train_iter.provide_data+train_iter.provide_label)\n",
    "print(input_shapes)"
   ]
  },
  {
   "cell_type": "code",
   "execution_count": 32,
   "metadata": {
    "colab": {
     "base_uri": "https://localhost:8080/",
     "height": 72
    },
    "colab_type": "code",
    "id": "39QY_Ip9j3T8",
    "outputId": "1de353e2-afb9-449e-ebee-87fd8ec2c0de",
    "scrolled": true
   },
   "outputs": [],
   "source": [
    "BATCH_SIZE=bs\n",
    "valid_iter=FileIter(valid_data_path,valid_idx_path,batch_size=BATCH_SIZE,do_augment=False,mean_image=x_mean,std_image = x_std,do_shuffle=False)"
   ]
  },
  {
   "cell_type": "code",
   "execution_count": 33,
   "metadata": {
    "colab": {},
    "colab_type": "code",
    "id": "EO0l_t4Ej3UC",
    "scrolled": true
   },
   "outputs": [],
   "source": [
    "train_iter.reset()\n",
    "valid_iter.reset()"
   ]
  },
  {
   "cell_type": "markdown",
   "metadata": {
    "colab_type": "text",
    "id": "MKxlY8J9j3UH"
   },
   "source": [
    "## Evaluation Metric"
   ]
  },
  {
   "cell_type": "code",
   "execution_count": 34,
   "metadata": {
    "colab": {},
    "colab_type": "code",
    "id": "LIeANhbqj3UJ",
    "scrolled": true
   },
   "outputs": [],
   "source": [
    "def dice_coef2(label, y):\n",
    "    smooth = 1.\n",
    "    label=mx.nd.array(label).as_in_context(mx.gpu(0))\n",
    "    y=mx.nd.array(y).as_in_context(mx.gpu(0))\n",
    "    intersection = mx.nd.sum(label*y)\n",
    "    return ((2. * intersection + smooth) / (mx.nd.sum(label) +mx.nd.sum(mx.nd.abs(y)) + smooth))\n"
   ]
  },
  {
   "cell_type": "code",
   "execution_count": 35,
   "metadata": {
    "colab": {},
    "colab_type": "code",
    "id": "Z7Cb9A9_PP4f"
   },
   "outputs": [],
   "source": [
    "def logloss2(label, y,w=[.9,.1]):\n",
    "    smooth = 1.\n",
    "    label=mx.nd.array(label).as_in_context(mx.gpu(0))\n",
    "    y=mx.nd.array(y).as_in_context(mx.gpu(0))\n",
    "    eps=1e-12\n",
    "    return mx.nd.mean(-(w[0]*label*mx.nd.log(y+eps)+w[1]*(1-label)*mx.nd.log(1-y+eps)))"
   ]
  },
  {
   "cell_type": "code",
   "execution_count": 36,
   "metadata": {
    "colab": {},
    "colab_type": "code",
    "id": "aVZdy14Zc8V2"
   },
   "outputs": [],
   "source": [
    "# ===============Evaluation metric(s)================= \n",
    "eval_metrics_1 =  mx.metric.CustomMetric(feval=logloss2)\n",
    "eval_metrics_2 = mx.metric.CustomMetric(feval=nn.dice_coef2)\n",
    "metric= mx.metric.CompositeEvalMetric()\n",
    "for child_metric in [eval_metrics_1, eval_metrics_2]:\n",
    "  metric.add(child_metric)"
   ]
  },
  {
   "cell_type": "markdown",
   "metadata": {
    "colab_type": "text",
    "id": "g9Lb-RuGj3Uc"
   },
   "source": [
    "## Model Architecture"
   ]
  },
  {
   "cell_type": "code",
   "execution_count": 37,
   "metadata": {
    "colab": {
     "base_uri": "https://localhost:8080/",
     "height": 34
    },
    "colab_type": "code",
    "id": "pt98E9Faj3Uf",
    "outputId": "93f61e83-e0c7-428e-a78b-2d2df002d85a",
    "scrolled": true
   },
   "outputs": [
    {
     "data": {
      "text/plain": [
       "True"
      ]
     },
     "execution_count": 37,
     "metadata": {},
     "output_type": "execute_result"
    }
   ],
   "source": [
    "load_model"
   ]
  },
  {
   "cell_type": "code",
   "execution_count": 39,
   "metadata": {
    "colab": {},
    "colab_type": "code",
    "id": "mTiJEEydj3Uy",
    "scrolled": true
   },
   "outputs": [],
   "source": [
    "if load_model:\n",
    "    network, arg_params, aux_params = mx.model.load_checkpoint(model_path1+prefix1 , model_epoch)\n",
    "\n",
    "    # Binding\n",
    "    exe = network.simple_bind(ctx=mx.gpu(0), **input_shapes)\n",
    "\n",
    "\n",
    "    exe.copy_params_from(arg_params, aux_params)\n",
    "    \n",
    "    # get handle to input arrays\n",
    "    arg_arrays = dict(zip(network.list_arguments(), exe.arg_arrays))\n",
    "    data = arg_arrays[train_iter.provide_data[0][0]]\n",
    "    label = arg_arrays[train_iter.provide_label[0][0]]\n",
    "else:\n",
    "\n",
    "    network = nn.get_net_319()\n",
    "    init = mx.init.Normal(0.01) #note biases and gamma/beta are not affected\n",
    "\n",
    "    # Binding\n",
    "    exe = network.simple_bind(ctx=mx.gpu(), **input_shapes)\n",
    "    # get handle to input arrays\n",
    "    arg_arrays = dict(zip(network.list_arguments(), exe.arg_arrays))\n",
    "    data = arg_arrays[train_iter.provide_data[0][0]]\n",
    "    label = arg_arrays[train_iter.provide_label[0][0]]\n",
    "    for name, arr in arg_arrays.items():\n",
    "        if name not in input_shapes:\n",
    "            init(name, arr)\n"
   ]
  },
  {
   "cell_type": "code",
   "execution_count": 40,
   "metadata": {
    "colab": {},
    "colab_type": "code",
    "id": "aiWYX4iBG4ZE"
   },
   "outputs": [],
   "source": [
    "epoch=0\n",
    "arg={k:v for k, v in arg_arrays.items() if k not in input_shapes}\n",
    "aux = dict(zip(network.list_auxiliary_states(), exe.aux_arrays))\n",
    "mx.model.save_checkpoint(model_path2+prefix2, epoch, network, arg, aux)"
   ]
  },
  {
   "cell_type": "markdown",
   "metadata": {
    "colab_type": "text",
    "id": "p36aWzqzbH75"
   },
   "source": [
    "# Nodule Segmentation: Model"
   ]
  },
  {
   "cell_type": "markdown",
   "metadata": {
    "colab_type": "text",
    "id": "_VAcRTIBj3VB"
   },
   "source": [
    "## Optimizer"
   ]
  },
  {
   "cell_type": "markdown",
   "metadata": {
    "colab_type": "text",
    "id": "aw1eUaNVj3VJ"
   },
   "source": [
    "### Find  learning rate"
   ]
  },
  {
   "cell_type": "code",
   "execution_count": 86,
   "metadata": {
    "colab": {
     "base_uri": "https://localhost:8080/",
     "height": 106
    },
    "colab_type": "code",
    "id": "17MM3ZvwYbBV",
    "outputId": "f620c20d-a201-40bd-b5e2-0d01e39546df"
   },
   "outputs": [
    {
     "name": "stderr",
     "output_type": "stream",
     "text": [
      "/usr/local/lib/python3.6/dist-packages/mxnet/recordio.py:370: DeprecationWarning: The binary mode of fromstring is deprecated, as it behaves surprisingly on unicode inputs. Use frombuffer instead\n",
      "  header = header._replace(label=np.fromstring(s, np.float32, header.flag))\n"
     ]
    },
    {
     "name": "stdout",
     "output_type": "stream",
     "text": [
      "time: 131.1057813167572 Epoch: 0 trainloss: -0.65023327 validloss: -0.6096908 CE [-0.6656822]\n",
      "logloss2 0.23604059, dice_coef2 0.6096908, "
     ]
    }
   ],
   "source": [
    "find_learning_rate = True\n",
    "b=.3\n",
    "a=.001\n",
    "\n",
    "nb=train_iter.num_data//train_iter.batch_size\n",
    "\n",
    "if find_learning_rate:\n",
    "\n",
    "  lrs = []\n",
    "  loss = []\n",
    "  \n",
    "  sched=nn.lr_find(a,nb,end_lr=b)\n",
    "  # We also need to create an optimizer for updating weights\n",
    "  opt = mx.optimizer.SGD(\n",
    "      learning_rate=a,\n",
    "      momentum=0.9,\n",
    "      wd=0.00001,\n",
    "      lr_scheduler=sched)\n",
    "\n",
    "  updater = mx.optimizer.get_updater(opt)\n",
    "  for epoch in range(0,1):\n",
    "\n",
    "      start = time.time()\n",
    "\n",
    "      metric.reset()\n",
    "\n",
    "      train_iter.reset()\n",
    "\n",
    "      valid_iter.reset()\n",
    "\n",
    "      sched.reset()\n",
    "\n",
    "      sched.on_train_begin()\n",
    "\n",
    "\n",
    "      for batch in train_iter:\n",
    "          # Copy data to executor input. Note the [:].\n",
    "          data[:] = batch.data[0]\n",
    "          label[:] = batch.label[0]\n",
    "\n",
    "          # Forward\n",
    "          outputs=exe.forward(is_train=True)\n",
    "          # Backward\n",
    "          exe.backward()\n",
    "\n",
    "          # Update\n",
    "          for i, pair in enumerate(zip(exe.arg_arrays, exe.grad_arrays)):\n",
    "              weight, grad = pair\n",
    "              updater(i, grad, weight)   \n",
    "          #metric.update(batch.label[0], exe.outputs[0])#\n",
    "          metric.update(batch.label[0], exe.outputs[0])\n",
    "\n",
    "          e=metric.get()\n",
    "          e = dict(zip(e[0], e[1]))\n",
    "  \n",
    "          err_train=-e['dice_coef2'].asnumpy()[0]\n",
    "          sched.on_batch_end(err_train)\n",
    "\n",
    "      if epoch % 100== 0:       \n",
    "          #print(\"do_checkpoint\")\n",
    "          arg={k:v for k, v in arg_arrays.items() if k not in input_shapes}\n",
    "          aux = dict(zip(network.list_auxiliary_states(), exe.aux_arrays))\n",
    "          #mx.model.save_checkpoint(prefix, epoch, network, arg, aux)\n",
    "\n",
    "\n",
    "      #compute valid loss per epoch    \n",
    "      metric.reset()\n",
    "      for batch in valid_iter:        \n",
    "          data[:] = batch.data[0]       \n",
    "          label[:] = batch.label[0]\n",
    "          # predict\n",
    "          outputs = exe.forward(is_train=False)\n",
    "          metric.update(batch.label[0], exe.outputs[0])\n",
    "      e0=metric.get()\n",
    "      e = dict(zip(e0[0], e0[1]))\n",
    "      err_valid=-e['dice_coef2'].asnumpy()[0]\n",
    "      end = time.time()\n",
    "      print('time:',end-start,'Epoch:',epoch,'trainloss:',err_train,'validloss:',err_valid,'CE',outputs[1].asnumpy())\n",
    "      for x,y in zip(e0[0],e0[1]):\n",
    "        print(x,y[0].asnumpy()[0], end=\", \", flush=True)\n",
    "  lrs.extend(sched.lrs)\n",
    "  loss.extend(sched.losses)\n",
    "\n"
   ]
  },
  {
   "cell_type": "code",
   "execution_count": 87,
   "metadata": {
    "colab": {
     "base_uri": "https://localhost:8080/",
     "height": 364
    },
    "colab_type": "code",
    "id": "G8PveIwFyrOs",
    "outputId": "f942f6b1-aa29-4c11-b1be-a1e7095d720a"
   },
   "outputs": [
    {
     "data": {
      "text/plain": [
       "[<matplotlib.lines.Line2D at 0x7fb79c9fa4e0>]"
      ]
     },
     "execution_count": 87,
     "metadata": {
      "tags": []
     },
     "output_type": "execute_result"
    },
    {
     "data": {
      "image/png": "[encoded data removed]",
      "text/plain": [
       "<matplotlib.figure.Figure at 0x7fb7998a1390>"
      ]
     },
     "metadata": {
      "tags": []
     },
     "output_type": "display_data"
    }
   ],
   "source": [
    "plt.figure()\n",
    "plt.plot(lrs, loss,'*-')"
   ]
  },
  {
   "cell_type": "code",
   "execution_count": 0,
   "metadata": {
    "colab": {},
    "colab_type": "code",
    "id": "1-w5Z85n15Nz"
   },
   "outputs": [],
   "source": [
    "network, arg_params, aux_params = mx.model.load_checkpoint(model_path2+prefix2 ,5)\n",
    "exe.copy_params_from(arg_params, aux_params)"
   ]
  },
  {
   "cell_type": "code",
   "execution_count": 89,
   "metadata": {
    "colab": {
     "base_uri": "https://localhost:8080/",
     "height": 191
    },
    "colab_type": "code",
    "id": "UbwF-vYiEBKJ",
    "outputId": "e62012e1-9e12-411c-c253-01fd803ca4fd"
   },
   "outputs": [
    {
     "data": {
      "text/plain": [
       "[0.011538461538461539,\n",
       " 0.023076923076923078,\n",
       " 0.03461538461538462,\n",
       " 0.046153846153846156,\n",
       " 0.057692307692307696,\n",
       " 0.06923076923076923,\n",
       " 0.08076923076923077,\n",
       " 0.09230769230769231,\n",
       " 0.10384615384615384,\n",
       " 0.11538461538461539]"
      ]
     },
     "execution_count": 89,
     "metadata": {
      "tags": []
     },
     "output_type": "execute_result"
    }
   ],
   "source": [
    "lrs[:10]"
   ]
  },
  {
   "cell_type": "markdown",
   "metadata": {
    "colab_type": "text",
    "id": "ScwvyY2Hj3WA"
   },
   "source": [
    "### Optimizer Parameters"
   ]
  },
  {
   "cell_type": "code",
   "execution_count": 41,
   "metadata": {
    "colab": {},
    "colab_type": "code",
    "id": "QQMspdjFl1eQ"
   },
   "outputs": [],
   "source": [
    "if colab:\n",
    "    logfile = \"errorlogmodel10.csv\"\n",
    "else:\n",
    "    logfile = model_path2+\"errorlogmodel15.csv\"\n"
   ]
  },
  {
   "cell_type": "code",
   "execution_count": 42,
   "metadata": {
    "colab": {
     "base_uri": "https://localhost:8080/",
     "height": 34
    },
    "colab_type": "code",
    "id": "5B2wpqFMzz-C",
    "outputId": "afb024c2-a2be-4666-f131-9101f26f1424"
   },
   "outputs": [
    {
     "data": {
      "text/plain": [
       "False"
      ]
     },
     "execution_count": 42,
     "metadata": {},
     "output_type": "execute_result"
    }
   ],
   "source": [
    "import os\n",
    "exists = os.path.isfile(logfile)\n",
    "exists"
   ]
  },
  {
   "cell_type": "code",
   "execution_count": 43,
   "metadata": {
    "colab": {},
    "colab_type": "code",
    "id": "YmQgF9RBteXo"
   },
   "outputs": [],
   "source": [
    "#exists = False"
   ]
  },
  {
   "cell_type": "code",
   "execution_count": 44,
   "metadata": {
    "colab": {},
    "colab_type": "code",
    "id": "3KrV7AO1i62v"
   },
   "outputs": [],
   "source": [
    "\n",
    "col_names = ['epoch',\n",
    "             'lr',\n",
    "             'loss',\n",
    "             'E1train',\n",
    "             'E1valid',\n",
    "             'E2train',\n",
    "             'E2valid']\n",
    "df = pd.DataFrame(columns=col_names)\n",
    "\n",
    "if not exists:\n",
    "  df.to_csv(logfile)"
   ]
  },
  {
   "cell_type": "code",
   "execution_count": 45,
   "metadata": {
    "colab": {
     "base_uri": "https://localhost:8080/",
     "height": 49
    },
    "colab_type": "code",
    "id": "eMbv0lVruIIK",
    "outputId": "e65272f3-852c-40bc-8df9-6434d53aa5b1"
   },
   "outputs": [
    {
     "data": {
      "text/html": [
       "<div>\n",
       "<style scoped>\n",
       "    .dataframe tbody tr th:only-of-type {\n",
       "        vertical-align: middle;\n",
       "    }\n",
       "\n",
       "    .dataframe tbody tr th {\n",
       "        vertical-align: top;\n",
       "    }\n",
       "\n",
       "    .dataframe thead th {\n",
       "        text-align: right;\n",
       "    }\n",
       "</style>\n",
       "<table border=\"1\" class=\"dataframe\">\n",
       "  <thead>\n",
       "    <tr style=\"text-align: right;\">\n",
       "      <th></th>\n",
       "      <th>epoch</th>\n",
       "      <th>lr</th>\n",
       "      <th>loss</th>\n",
       "      <th>E1train</th>\n",
       "      <th>E1valid</th>\n",
       "      <th>E2train</th>\n",
       "      <th>E2valid</th>\n",
       "    </tr>\n",
       "  </thead>\n",
       "  <tbody>\n",
       "  </tbody>\n",
       "</table>\n",
       "</div>"
      ],
      "text/plain": [
       "Empty DataFrame\n",
       "Columns: [epoch, lr, loss, E1train, E1valid, E2train, E2valid]\n",
       "Index: []"
      ]
     },
     "execution_count": 45,
     "metadata": {},
     "output_type": "execute_result"
    }
   ],
   "source": [
    "df = pd.read_csv(logfile, index_col=0)\n",
    "df.head()"
   ]
  },
  {
   "cell_type": "code",
   "execution_count": 46,
   "metadata": {
    "colab": {},
    "colab_type": "code",
    "id": "a8AWu5Ia0euI"
   },
   "outputs": [],
   "source": [
    "import copy\n",
    "#import math\n",
    "\n",
    "\n",
    "def plot_schedule(schedule_fn, iterations=1500):\n",
    "    # Iteration count starting at 1\n",
    "    iterations = [i+1 for i in range(iterations)]\n",
    "    lrs = [schedule_fn(i) for i in iterations]\n",
    "    plt.scatter(iterations, lrs)\n",
    "    plt.xlabel(\"Iteration\")\n",
    "    plt.ylabel(\"Learning Rate\")\n",
    "    plt.show()\n",
    "\n",
    "class CosineAnnealingSchedule():\n",
    "    def __init__(self, min_lr, max_lr, cycle_length):\n",
    "        \"\"\"\n",
    "        min_lr: lower bound for learning rate (float)\n",
    "        max_lr: upper bound for learning rate (float)\n",
    "        cycle_length: iterations between start and finish (int)\n",
    "        \"\"\"\n",
    "        self.min_lr = min_lr\n",
    "        self.max_lr = max_lr\n",
    "        self.cycle_length = cycle_length\n",
    "        \n",
    "    def __call__(self, iteration):\n",
    "        if iteration <= self.cycle_length:\n",
    "            unit_cycle = (1 + math.cos(iteration * math.pi / self.cycle_length)) / 2\n",
    "            adjusted_cycle = (unit_cycle * (self.max_lr - self.min_lr)) + self.min_lr\n",
    "            return adjusted_cycle\n",
    "        else:\n",
    "            return self.min_lr\n",
    "          \n",
    "    \n",
    "    \n",
    "class TriangularSchedule():\n",
    "    def __init__(self, min_lr, max_lr, cycle_length, inc_fraction=0.5):     \n",
    "        \"\"\"\n",
    "        min_lr: lower bound for learning rate (float)\n",
    "        max_lr: upper bound for learning rate (float)\n",
    "        cycle_length: iterations between start and finish (int)\n",
    "        inc_fraction: fraction of iterations spent in increasing stage (float)\n",
    "        \"\"\"\n",
    "        self.min_lr = min_lr\n",
    "        self.max_lr = max_lr\n",
    "        self.cycle_length = cycle_length\n",
    "        self.inc_fraction = inc_fraction\n",
    "        \n",
    "    def __call__(self, iteration):\n",
    "        if iteration <= self.cycle_length*self.inc_fraction:\n",
    "            unit_cycle = iteration * 1 / (self.cycle_length * self.inc_fraction)\n",
    "        elif iteration <= self.cycle_length:\n",
    "            unit_cycle = (self.cycle_length - iteration) * 1 / (self.cycle_length * (1 - self.inc_fraction))\n",
    "        else:\n",
    "            unit_cycle = 0\n",
    "        adjusted_cycle = (unit_cycle * (self.max_lr - self.min_lr)) + self.min_lr\n",
    "        return adjusted_cycle\n",
    "\n",
    "class CyclicalSchedule():\n",
    "    def __init__(self, schedule_class, cycle_length, cycle_length_decay=1, cycle_magnitude_decay=1, **kwargs):\n",
    "        \"\"\"\n",
    "        schedule_class: class of schedule, expected to take `cycle_length` argument\n",
    "        cycle_length: iterations used for initial cycle (int)\n",
    "        cycle_length_decay: factor multiplied to cycle_length each cycle (float)\n",
    "        cycle_magnitude_decay: factor multiplied learning rate magnitudes each cycle (float)\n",
    "        kwargs: passed to the schedule_class\n",
    "        \"\"\"\n",
    "        self.schedule_class = schedule_class\n",
    "        self.length = cycle_length\n",
    "        self.length_decay = cycle_length_decay\n",
    "        self.magnitude_decay = cycle_magnitude_decay\n",
    "        self.kwargs = kwargs\n",
    "    \n",
    "    def __call__(self, iteration):\n",
    "        cycle_idx = 0\n",
    "        cycle_length = self.length\n",
    "        idx = self.length\n",
    "        while idx <= iteration:\n",
    "            cycle_length = math.ceil(cycle_length * self.length_decay)\n",
    "            cycle_idx += 1\n",
    "            idx += cycle_length\n",
    "        cycle_offset = iteration - idx + cycle_length\n",
    "        \n",
    "        schedule = self.schedule_class(cycle_length=cycle_length-6, **self.kwargs)\n",
    "        return schedule(cycle_offset) * self.magnitude_decay**cycle_idx"
   ]
  },
  {
   "cell_type": "code",
   "execution_count": 70,
   "metadata": {
    "colab": {},
    "colab_type": "code",
    "id": "HrdKZPyR6acE"
   },
   "outputs": [],
   "source": [
    "epochs = 20\n",
    "lr =.1#.2#.2#0.075#.01#.3#.02#.15#.34#.2#.01#.002"
   ]
  },
  {
   "cell_type": "code",
   "execution_count": 76,
   "metadata": {
    "colab": {
     "base_uri": "https://localhost:8080/",
     "height": 361
    },
    "colab_type": "code",
    "id": "CZR4pWdZ0J7V",
    "outputId": "4740cd33-77f1-4855-84df-9289d9ebc29c"
   },
   "outputs": [
    {
     "data": {
      "image/png": "[encoded data removed]",
      "text/plain": [
       "<Figure size 432x288 with 1 Axes>"
      ]
     },
     "metadata": {},
     "output_type": "display_data"
    }
   ],
   "source": [
    "schedule = CyclicalSchedule(TriangularSchedule, min_lr=lr/10, max_lr=lr,\n",
    "                            cycle_length=27, cycle_length_decay=1, cycle_magnitude_decay=1)\n",
    "plot_schedule(schedule,iterations=77)"
   ]
  },
  {
   "cell_type": "code",
   "execution_count": 77,
   "metadata": {},
   "outputs": [
    {
     "data": {
      "text/plain": [
       "(26.29, 77.32352941176471)"
      ]
     },
     "execution_count": 77,
     "metadata": {},
     "output_type": "execute_result"
    }
   ],
   "source": [
    "train_iter.num_data/100,train_iter.num_data/34"
   ]
  },
  {
   "cell_type": "code",
   "execution_count": 78,
   "metadata": {
    "colab": {},
    "colab_type": "code",
    "id": "I2EXT_W9Wz3y"
   },
   "outputs": [],
   "source": [
    "m1=.85\n",
    "m2=.95\n",
    "\n",
    "# We also need to create an optimizer for updating weights\n",
    "# ===============Optimizer=================                        \n",
    "opt = mx.optimizer.SGD(\n",
    "    learning_rate=lr,momentum=m1,wd=0.00001)\n",
    "\n",
    "updater = mx.optimizer.get_updater(opt)\n",
    "\n",
    "updater.optimizer.lr_scheduler=schedule"
   ]
  },
  {
   "cell_type": "code",
   "execution_count": 51,
   "metadata": {
    "colab": {},
    "colab_type": "code",
    "id": "4kTljGINPUpz"
   },
   "outputs": [],
   "source": [
    "try:\n",
    "    now\n",
    "except:\n",
    "    now = 0\n",
    "    err_validold = -.63"
   ]
  },
  {
   "cell_type": "code",
   "execution_count": null,
   "metadata": {
    "colab": {
     "base_uri": "https://localhost:8080/",
     "height": 280
    },
    "colab_type": "code",
    "id": "c7EogiUVnm1X",
    "outputId": "8f0d4cbf-0e72-40e3-c0fa-c12b5e765daa"
   },
   "outputs": [
    {
     "name": "stdout",
     "output_type": "stream",
     "text": [
      "time: 903.3277111053467 Epoch: 5 / 24 loss -0.80125946 trainloss: -0.73008484 validloss: -0.67926186 trainloss2: 0.18741949 validloss2: 0.26364356\n"
     ]
    }
   ],
   "source": [
    "lrs=[]\n",
    "ms=[]\n",
    "lrold=-1\n",
    "epoch_r  =now\n",
    "epoch_r\n",
    "Es_train=[]\n",
    "Es_valid=[]\n",
    "for epoch in range(epoch_r+1,epoch_r+epochs):\n",
    "  \n",
    "    start = time.time()\n",
    "    \n",
    "    ELASTIC_INDICES = None\n",
    "    \n",
    "    metric.reset()\n",
    "\n",
    "    train_iter.reset()\n",
    "    \n",
    "    valid_iter.reset()\n",
    "    \n",
    "\n",
    "    for batch in train_iter:\n",
    "        # Copy data to executor input. Note the [:].\n",
    "        data[:] = batch.data[0]\n",
    "        label[:] = batch.label[0]\n",
    "\n",
    "        # Forward\n",
    "        outputs=exe.forward(is_train=True)\n",
    "        Es_train.append(outputs[1].asnumpy()[0])\n",
    "        # Backward\n",
    "        exe.backward()\n",
    "\n",
    "        # Update\n",
    "        for i, pair in enumerate(zip(exe.arg_arrays, exe.grad_arrays)):\n",
    "            weight, grad = pair\n",
    "            updater(i, grad, weight)   \n",
    "        metric.update(batch.label[0], exe.outputs[0])#metric.update(label,p)\n",
    "        if (opt.learning_rate-lrold)<0:\n",
    "          opt.momentum=m2\n",
    "          lrold = opt.learning_rate\n",
    "        else: \n",
    "          opt.momentum=m1\n",
    "          lrold=opt.learning_rate\n",
    "        lrs.append(opt.learning_rate)\n",
    "        ms.append(opt.momentum)\n",
    "    e=metric.get()\n",
    "    ed={}\n",
    "    e_key,e_val = e\n",
    "    for k,v in zip(e_key,e_val):\n",
    "      ed[k]=v.asnumpy()[0]\n",
    "    err_train=-ed['dice_coef2']\n",
    "    err_train2=ed['logloss2']\n",
    "    \n",
    "    loss = outputs[1].asnumpy()[0] \n",
    "    \n",
    "    if epoch % 1== 0:       \n",
    "        #print(\"do_checkpoint\")\n",
    "        arg={k:v for k, v in arg_arrays.items() if k not in input_shapes}\n",
    "        aux = dict(zip(network.list_auxiliary_states(), exe.aux_arrays))\n",
    "        mx.model.save_checkpoint(model_path2+prefix2, epoch, network, arg, aux)\n",
    "        \n",
    "\n",
    "    #compute valid loss per epoch    \n",
    "    metric.reset()\n",
    "    for batch in valid_iter:        \n",
    "        data[:] = batch.data[0]       \n",
    "        label[:] = batch.label[0]\n",
    "        # predict\n",
    "        outputs = exe.forward(is_train=False)\n",
    "        Es_valid.append(outputs[1].asnumpy()[0])\n",
    "        metric.update(batch.label[0], exe.outputs[0])\n",
    "    e=metric.get()\n",
    "    ed={}\n",
    "    e_key,e_val = e\n",
    "    for k,v in zip(e_key,e_val):\n",
    "      ed[k]=v.asnumpy()[0]\n",
    "    err_valid=-ed['dice_coef2']\n",
    "    err_valid2=ed['logloss2']\n",
    "    \n",
    "    if err_valid<err_validold:       \n",
    "        #print(\"do_checkpoint\")\n",
    "        arg={k:v for k, v in arg_arrays.items() if k not in input_shapes}\n",
    "        aux = dict(zip(network.list_auxiliary_states(), exe.aux_arrays))\n",
    "        mx.model.save_checkpoint(model_path2+prefix2+'bst', epoch, network, arg, aux)\n",
    "        err_validold = err_valid\n",
    "    \n",
    "    \n",
    "    end = time.time()\n",
    "    print('time:',end-start,'Epoch:',epoch,\"/\",epochs+now,\"loss\",loss,'trainloss:',err_train,'validloss:',err_valid,'trainloss2:',err_train2,'validloss2:',err_valid2)\n",
    "    myCsvRow = [(epoch,lr,loss,err_train,err_valid,err_train2,err_valid2)]\n",
    "    df = pd.DataFrame.from_records(myCsvRow,columns = col_names)\n",
    "    df.to_csv(logfile, mode='a', header=False)\n",
    "now=epoch\n",
    "mx.model.save_checkpoint(model_path2+prefix2, epoch, network, arg, aux)"
   ]
  },
  {
   "cell_type": "code",
   "execution_count": null,
   "metadata": {},
   "outputs": [],
   "source": []
  },
  {
   "cell_type": "code",
   "execution_count": 0,
   "metadata": {
    "colab": {},
    "colab_type": "code",
    "id": "1uh4EKrd6cnV"
   },
   "outputs": [],
   "source": [
    "if colab:\n",
    "    model_path = \"drive/My Drive/x110/model/model13/errorlogmodel13.csv\"\n",
    "    df.to_csv(model_path, header=False)"
   ]
  },
  {
   "cell_type": "code",
   "execution_count": 0,
   "metadata": {
    "colab": {},
    "colab_type": "code",
    "id": "nBw3WCXgU3zf"
   },
   "outputs": [],
   "source": [
    "\n",
    "plt.figure()\n",
    "plt.plot(lrs)\n",
    "plt.figure()\n",
    "plt.plot(ms)\n"
   ]
  },
  {
   "cell_type": "code",
   "execution_count": 53,
   "metadata": {
    "colab": {
     "base_uri": "https://localhost:8080/",
     "height": 34
    },
    "colab_type": "code",
    "id": "I91j6ggRGbRL",
    "outputId": "7a549f6e-d1ae-4f7f-c5cf-04dd8eac9731"
   },
   "outputs": [
    {
     "data": {
      "text/plain": [
       "-0.66745955"
      ]
     },
     "execution_count": 53,
     "metadata": {},
     "output_type": "execute_result"
    }
   ],
   "source": [
    "err_validold"
   ]
  },
  {
   "cell_type": "code",
   "execution_count": 0,
   "metadata": {
    "colab": {},
    "colab_type": "code",
    "id": "vJ3smP_DaEag"
   },
   "outputs": [],
   "source": []
  }
 ],
 "metadata": {
  "accelerator": "GPU",
  "colab": {
   "collapsed_sections": [],
   "include_colab_link": true,
   "name": "NoduleSegmentationModel13.ipynb",
   "provenance": [],
   "version": "0.3.2"
  },
  "kernelspec": {
   "display_name": "Python 3",
   "language": "python",
   "name": "python3"
  },
  "language_info": {
   "codemirror_mode": {
    "name": "ipython",
    "version": 3
   },
   "file_extension": ".py",
   "mimetype": "text/x-python",
   "name": "python",
   "nbconvert_exporter": "python",
   "pygments_lexer": "ipython3",
   "version": "3.5.2"
  },
  "toc": {
   "base_numbering": 1,
   "nav_menu": {},
   "number_sections": true,
   "sideBar": false,
   "skip_h1_title": false,
   "title_cell": "Table of Contents",
   "title_sidebar": "Contents",
   "toc_cell": true,
   "toc_position": {
    "height": "403.333px",
    "left": "730.133px",
    "top": "110.567px",
    "width": "182.533px"
   },
   "toc_section_display": false,
   "toc_window_display": false
  }
 },
 "nbformat": 4,
 "nbformat_minor": 1
}
