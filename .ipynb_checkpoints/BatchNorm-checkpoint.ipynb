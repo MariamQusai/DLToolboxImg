{
 "cells": [
  {
   "cell_type": "markdown",
   "metadata": {},
   "source": [
    "# Batch Normalization"
   ]
  },
  {
   "cell_type": "code",
   "execution_count": 1,
   "metadata": {},
   "outputs": [],
   "source": [
    "import mxnet as mx"
   ]
  },
  {
   "cell_type": "code",
   "execution_count": 2,
   "metadata": {},
   "outputs": [],
   "source": [
    "import numpy as np"
   ]
  },
  {
   "cell_type": "code",
   "execution_count": 3,
   "metadata": {},
   "outputs": [],
   "source": [
    "np.random.seed(313)"
   ]
  },
  {
   "cell_type": "code",
   "execution_count": 4,
   "metadata": {},
   "outputs": [],
   "source": [
    "avrg = 3\n",
    "var = .25\n",
    "x1 = np.random.randn(10)*np.sqrt(var)+avrg"
   ]
  },
  {
   "cell_type": "code",
   "execution_count": 5,
   "metadata": {},
   "outputs": [
    {
     "data": {
      "text/plain": [
       "(2.9917563939327296, 0.2999604424866776)"
      ]
     },
     "execution_count": 5,
     "metadata": {},
     "output_type": "execute_result"
    }
   ],
   "source": [
    "np.mean(x1),np.var(x1)"
   ]
  },
  {
   "cell_type": "code",
   "execution_count": 6,
   "metadata": {},
   "outputs": [],
   "source": [
    "avrg = 0\n",
    "var = 1\n",
    "x2 = np.random.randn(10)*np.sqrt(var)+avrg"
   ]
  },
  {
   "cell_type": "code",
   "execution_count": 7,
   "metadata": {},
   "outputs": [
    {
     "data": {
      "text/plain": [
       "(-0.15288840641897847, 1.3694313214053957)"
      ]
     },
     "execution_count": 7,
     "metadata": {},
     "output_type": "execute_result"
    }
   ],
   "source": [
    "np.mean(x2),np.var(x2)"
   ]
  },
  {
   "cell_type": "code",
   "execution_count": 8,
   "metadata": {},
   "outputs": [],
   "source": [
    "avrg = 5\n",
    "var = 4\n",
    "x3 = np.random.randn(10)*np.sqrt(var)+avrg"
   ]
  },
  {
   "cell_type": "code",
   "execution_count": 11,
   "metadata": {},
   "outputs": [
    {
     "data": {
      "text/plain": [
       "(4.704028869181235, 6.455611114298456)"
      ]
     },
     "execution_count": 11,
     "metadata": {},
     "output_type": "execute_result"
    }
   ],
   "source": [
    "np.mean(x3),np.var(x3)"
   ]
  },
  {
   "cell_type": "code",
   "execution_count": 12,
   "metadata": {},
   "outputs": [
    {
     "data": {
      "text/plain": [
       "(10, 3)"
      ]
     },
     "execution_count": 12,
     "metadata": {},
     "output_type": "execute_result"
    }
   ],
   "source": [
    "x=np.vstack([x1,x2,x3])\n",
    "x=x.T\n",
    "x.shape"
   ]
  },
  {
   "cell_type": "code",
   "execution_count": 13,
   "metadata": {},
   "outputs": [],
   "source": [
    "train_iter = mx.io.NDArrayIter(x, batch_size=5)"
   ]
  },
  {
   "cell_type": "code",
   "execution_count": 14,
   "metadata": {},
   "outputs": [
    {
     "name": "stdout",
     "output_type": "stream",
     "text": [
      "{'data': (5, 3)}\n"
     ]
    }
   ],
   "source": [
    "input_shapes = dict(train_iter.provide_data+train_iter.provide_label)\n",
    "print(input_shapes)"
   ]
  },
  {
   "cell_type": "code",
   "execution_count": 15,
   "metadata": {},
   "outputs": [],
   "source": [
    "source = mx.sym.Variable(\"data\")\n",
    "network = mx.sym.BatchNorm(source,output_mean_var=1)"
   ]
  },
  {
   "cell_type": "code",
   "execution_count": 16,
   "metadata": {},
   "outputs": [],
   "source": [
    "exe = network.simple_bind(ctx=mx.cpu(), **input_shapes)"
   ]
  },
  {
   "cell_type": "code",
   "execution_count": 17,
   "metadata": {},
   "outputs": [],
   "source": [
    "arg_arrays = dict(zip(network.list_arguments(), exe.arg_arrays))\n",
    "data = arg_arrays[train_iter.provide_data[0][0]]"
   ]
  },
  {
   "cell_type": "code",
   "execution_count": 28,
   "metadata": {},
   "outputs": [],
   "source": [
    "# ===============Optimizer=================                        \n",
    "# We also need to create an optimizer for updating weights\n",
    "opt = mx.optimizer.SGD(\n",
    "    learning_rate=.0001,momentum=0.99,wd=0.000001)\n",
    "    \n",
    "updater = mx.optimizer.get_updater(opt)"
   ]
  },
  {
   "cell_type": "code",
   "execution_count": 23,
   "metadata": {},
   "outputs": [],
   "source": [
    "train_iter.reset()"
   ]
  },
  {
   "cell_type": "code",
   "execution_count": 24,
   "metadata": {},
   "outputs": [],
   "source": [
    "batch = train_iter.next()\n",
    "data[:] = batch.data[0]\n",
    "y = exe.forward(is_train=True)\n",
    "#exe.output_dict"
   ]
  },
  {
   "cell_type": "code",
   "execution_count": 25,
   "metadata": {},
   "outputs": [
    {
     "data": {
      "text/plain": [
       "{'batchnorm0_beta': \n",
       " [0. 0. 0.]\n",
       " <NDArray 3 @cpu(0)>, 'batchnorm0_gamma': \n",
       " [1. 1. 1.]\n",
       " <NDArray 3 @cpu(0)>, 'data': \n",
       " [[ 3.0926394   1.439875    3.2448242 ]\n",
       "  [ 2.3816063  -0.32394922  3.8698204 ]\n",
       "  [ 3.1630018  -1.6436483   2.2717297 ]\n",
       "  [ 3.4987779   0.7549092   6.228718  ]\n",
       "  [ 3.0436864  -0.70877945  0.07856566]]\n",
       " <NDArray 5x3 @cpu(0)>}"
      ]
     },
     "execution_count": 25,
     "metadata": {},
     "output_type": "execute_result"
    }
   ],
   "source": [
    "arg_arrays"
   ]
  },
  {
   "cell_type": "code",
   "execution_count": 26,
   "metadata": {},
   "outputs": [],
   "source": [
    "batch = train_iter.next()\n",
    "data[:] = batch.data[0]\n",
    "y = exe.forward(is_train=True)\n",
    "#exe.output_dict"
   ]
  },
  {
   "cell_type": "code",
   "execution_count": 27,
   "metadata": {},
   "outputs": [
    {
     "data": {
      "text/plain": [
       "{'batchnorm0_beta': \n",
       " [0. 0. 0.]\n",
       " <NDArray 3 @cpu(0)>, 'batchnorm0_gamma': \n",
       " [1. 1. 1.]\n",
       " <NDArray 3 @cpu(0)>, 'data': \n",
       " [[ 3.3203347   0.04660723  6.325675  ]\n",
       "  [ 2.926381    0.49063146  3.1070318 ]\n",
       "  [ 3.0830545   1.4542326   9.35412   ]\n",
       "  [ 3.7144659  -2.2269547   6.683032  ]\n",
       "  [ 1.6936157  -0.81180775  5.8767724 ]]\n",
       " <NDArray 5x3 @cpu(0)>}"
      ]
     },
     "execution_count": 27,
     "metadata": {},
     "output_type": "execute_result"
    }
   ],
   "source": [
    "arg_arrays"
   ]
  },
  {
   "cell_type": "code",
   "execution_count": null,
   "metadata": {},
   "outputs": [],
   "source": []
  },
  {
   "cell_type": "code",
   "execution_count": null,
   "metadata": {},
   "outputs": [],
   "source": []
  },
  {
   "cell_type": "code",
   "execution_count": null,
   "metadata": {},
   "outputs": [],
   "source": []
  },
  {
   "cell_type": "code",
   "execution_count": null,
   "metadata": {},
   "outputs": [],
   "source": []
  },
  {
   "cell_type": "code",
   "execution_count": null,
   "metadata": {},
   "outputs": [],
   "source": []
  },
  {
   "cell_type": "code",
   "execution_count": null,
   "metadata": {},
   "outputs": [],
   "source": []
  },
  {
   "cell_type": "code",
   "execution_count": null,
   "metadata": {},
   "outputs": [],
   "source": []
  },
  {
   "cell_type": "code",
   "execution_count": null,
   "metadata": {},
   "outputs": [],
   "source": []
  },
  {
   "cell_type": "code",
   "execution_count": null,
   "metadata": {},
   "outputs": [],
   "source": []
  },
  {
   "cell_type": "code",
   "execution_count": null,
   "metadata": {},
   "outputs": [],
   "source": []
  },
  {
   "cell_type": "code",
   "execution_count": null,
   "metadata": {},
   "outputs": [],
   "source": []
  },
  {
   "cell_type": "code",
   "execution_count": null,
   "metadata": {},
   "outputs": [],
   "source": []
  },
  {
   "cell_type": "code",
   "execution_count": null,
   "metadata": {},
   "outputs": [],
   "source": []
  },
  {
   "cell_type": "code",
   "execution_count": 2,
   "metadata": {},
   "outputs": [],
   "source": [
    "x = mx.nd.array([[1, 2, 3], [4, 5, 6]])"
   ]
  },
  {
   "cell_type": "code",
   "execution_count": 18,
   "metadata": {},
   "outputs": [
    {
     "ename": "TypeError",
     "evalue": "'module' object is not callable",
     "output_type": "error",
     "traceback": [
      "\u001b[0;31m---------------------------------------------------------------------------\u001b[0m",
      "\u001b[0;31mTypeError\u001b[0m                                 Traceback (most recent call last)",
      "\u001b[0;32m<ipython-input-18-b41cbc0a1e5c>\u001b[0m in \u001b[0;36m<module>\u001b[0;34m()\u001b[0m\n\u001b[0;32m----> 1\u001b[0;31m \u001b[0mx\u001b[0m \u001b[0;34m=\u001b[0m \u001b[0mmx\u001b[0m\u001b[0;34m.\u001b[0m\u001b[0mnd\u001b[0m\u001b[0;34m.\u001b[0m\u001b[0mrandom\u001b[0m\u001b[0;34m(\u001b[0m\u001b[0;34m(\u001b[0m\u001b[0;36m10\u001b[0m\u001b[0;34m,\u001b[0m\u001b[0;36m3\u001b[0m\u001b[0;34m)\u001b[0m\u001b[0;34m)\u001b[0m\u001b[0;34m\u001b[0m\u001b[0m\n\u001b[0m",
      "\u001b[0;31mTypeError\u001b[0m: 'module' object is not callable"
     ]
    }
   ],
   "source": [
    "x = mx.nd.random((10,3))"
   ]
  },
  {
   "cell_type": "code",
   "execution_count": 3,
   "metadata": {},
   "outputs": [
    {
     "data": {
      "text/plain": [
       "(2, 3)"
      ]
     },
     "execution_count": 3,
     "metadata": {},
     "output_type": "execute_result"
    }
   ],
   "source": [
    "x.shape"
   ]
  },
  {
   "cell_type": "code",
   "execution_count": 4,
   "metadata": {},
   "outputs": [],
   "source": [
    "train_iter = mx.io.NDArrayIter(x, batch_size=1)"
   ]
  },
  {
   "cell_type": "code",
   "execution_count": 5,
   "metadata": {},
   "outputs": [
    {
     "name": "stdout",
     "output_type": "stream",
     "text": [
      "{'data': (1, 3)}\n"
     ]
    }
   ],
   "source": [
    "input_shapes = dict(train_iter.provide_data+train_iter.provide_label)\n",
    "print(input_shapes)"
   ]
  },
  {
   "cell_type": "code",
   "execution_count": 6,
   "metadata": {},
   "outputs": [],
   "source": [
    "source = mx.sym.Variable(\"data\")\n",
    "network = mx.sym.BatchNorm(source,output_mean_var=1)"
   ]
  },
  {
   "cell_type": "code",
   "execution_count": 7,
   "metadata": {},
   "outputs": [],
   "source": [
    "exe = network.simple_bind(ctx=mx.cpu(), **input_shapes)"
   ]
  },
  {
   "cell_type": "code",
   "execution_count": 8,
   "metadata": {},
   "outputs": [],
   "source": [
    "arg_arrays = dict(zip(network.list_arguments(), exe.arg_arrays))\n",
    "data = arg_arrays[train_iter.provide_data[0][0]]"
   ]
  },
  {
   "cell_type": "code",
   "execution_count": 14,
   "metadata": {},
   "outputs": [],
   "source": [
    "train_iter.reset()"
   ]
  },
  {
   "cell_type": "code",
   "execution_count": 15,
   "metadata": {},
   "outputs": [
    {
     "data": {
      "text/plain": [
       "{'batchnorm0_mean': \n",
       " [1. 2. 3.]\n",
       " <NDArray 3 @cpu(0)>, 'batchnorm0_output': \n",
       " [[0. 0. 0.]]\n",
       " <NDArray 1x3 @cpu(0)>, 'batchnorm0_var': \n",
       " [31.622776 31.622776 31.622776]\n",
       " <NDArray 3 @cpu(0)>}"
      ]
     },
     "execution_count": 15,
     "metadata": {},
     "output_type": "execute_result"
    }
   ],
   "source": [
    "batch = train_iter.next()\n",
    "data[:] = batch.data[0]\n",
    "y = exe.forward(is_train=True)\n",
    "exe.output_dict"
   ]
  },
  {
   "cell_type": "code",
   "execution_count": 16,
   "metadata": {},
   "outputs": [
    {
     "data": {
      "text/plain": [
       "\n",
       "[[1. 2. 3.]]\n",
       "<NDArray 1x3 @cpu(0)>"
      ]
     },
     "execution_count": 16,
     "metadata": {},
     "output_type": "execute_result"
    }
   ],
   "source": [
    "data"
   ]
  },
  {
   "cell_type": "code",
   "execution_count": null,
   "metadata": {},
   "outputs": [],
   "source": []
  },
  {
   "cell_type": "code",
   "execution_count": 9,
   "metadata": {},
   "outputs": [],
   "source": [
    "train_iter.reset()"
   ]
  },
  {
   "cell_type": "code",
   "execution_count": 11,
   "metadata": {},
   "outputs": [
    {
     "data": {
      "text/plain": [
       "[\n",
       " [[0. 0. 0.]]\n",
       " <NDArray 1x3 @cpu(0)>, \n",
       " [1. 2. 3.]\n",
       " <NDArray 3 @cpu(0)>, \n",
       " [31.622776 31.622776 31.622776]\n",
       " <NDArray 3 @cpu(0)>]"
      ]
     },
     "execution_count": 11,
     "metadata": {},
     "output_type": "execute_result"
    }
   ],
   "source": [
    "batch = train_iter.next()\n",
    "data[:] = batch.data[0]\n",
    "y = exe.forward(is_train=True)\n",
    "y"
   ]
  },
  {
   "cell_type": "code",
   "execution_count": 12,
   "metadata": {},
   "outputs": [
    {
     "data": {
      "text/plain": [
       "[\n",
       " [[0. 0. 0.]]\n",
       " <NDArray 1x3 @cpu(0)>, \n",
       " [4. 5. 6.]\n",
       " <NDArray 3 @cpu(0)>, \n",
       " [31.622776 31.622776 31.622776]\n",
       " <NDArray 3 @cpu(0)>]"
      ]
     },
     "execution_count": 12,
     "metadata": {},
     "output_type": "execute_result"
    }
   ],
   "source": [
    "batch = train_iter.next()\n",
    "data[:] = batch.data[0]\n",
    "y = exe.forward(is_train=True)\n",
    "y"
   ]
  },
  {
   "cell_type": "code",
   "execution_count": 13,
   "metadata": {},
   "outputs": [
    {
     "data": {
      "text/plain": [
       "{'batchnorm1_beta': \n",
       " [0. 0. 0.]\n",
       " <NDArray 3 @cpu(0)>, 'batchnorm1_gamma': \n",
       " [1. 1. 1.]\n",
       " <NDArray 3 @cpu(0)>, 'data': \n",
       " [[4. 5. 6.]]\n",
       " <NDArray 1x3 @cpu(0)>}"
      ]
     },
     "execution_count": 13,
     "metadata": {},
     "output_type": "execute_result"
    }
   ],
   "source": [
    "exe.arg_dict"
   ]
  },
  {
   "cell_type": "code",
   "execution_count": 14,
   "metadata": {},
   "outputs": [
    {
     "data": {
      "text/plain": [
       "{'batchnorm1_mean': \n",
       " [4. 5. 6.]\n",
       " <NDArray 3 @cpu(0)>, 'batchnorm1_output': \n",
       " [[0. 0. 0.]]\n",
       " <NDArray 1x3 @cpu(0)>, 'batchnorm1_var': \n",
       " [31.622776 31.622776 31.622776]\n",
       " <NDArray 3 @cpu(0)>}"
      ]
     },
     "execution_count": 14,
     "metadata": {},
     "output_type": "execute_result"
    }
   ],
   "source": [
    "exe.output_dict"
   ]
  },
  {
   "cell_type": "code",
   "execution_count": 15,
   "metadata": {},
   "outputs": [],
   "source": [
    "train_iter.reset()"
   ]
  },
  {
   "cell_type": "code",
   "execution_count": 16,
   "metadata": {},
   "outputs": [
    {
     "data": {
      "text/plain": [
       "[\n",
       " [[31.622776 63.245552 94.86833 ]]\n",
       " <NDArray 1x3 @cpu(0)>, \n",
       " [0. 0. 0.]\n",
       " <NDArray 3 @cpu(0)>, \n",
       " [31.622776 31.622776 31.622776]\n",
       " <NDArray 3 @cpu(0)>]"
      ]
     },
     "execution_count": 16,
     "metadata": {},
     "output_type": "execute_result"
    }
   ],
   "source": [
    "batch = train_iter.next()\n",
    "data[:] = batch.data[0]\n",
    "y = exe.forward(is_train=False)\n",
    "y"
   ]
  },
  {
   "cell_type": "code",
   "execution_count": 17,
   "metadata": {},
   "outputs": [
    {
     "data": {
      "text/plain": [
       "[\n",
       " [[126.491104 158.11388  189.73666 ]]\n",
       " <NDArray 1x3 @cpu(0)>, \n",
       " [0. 0. 0.]\n",
       " <NDArray 3 @cpu(0)>, \n",
       " [31.622776 31.622776 31.622776]\n",
       " <NDArray 3 @cpu(0)>]"
      ]
     },
     "execution_count": 17,
     "metadata": {},
     "output_type": "execute_result"
    }
   ],
   "source": [
    "batch = train_iter.next()\n",
    "data[:] = batch.data[0]\n",
    "y = exe.forward(is_train=False)\n",
    "y"
   ]
  },
  {
   "cell_type": "code",
   "execution_count": 18,
   "metadata": {},
   "outputs": [
    {
     "data": {
      "text/plain": [
       "{'batchnorm1_beta': \n",
       " [0. 0. 0.]\n",
       " <NDArray 3 @cpu(0)>, 'batchnorm1_gamma': \n",
       " [1. 1. 1.]\n",
       " <NDArray 3 @cpu(0)>, 'data': \n",
       " [[4. 5. 6.]]\n",
       " <NDArray 1x3 @cpu(0)>}"
      ]
     },
     "execution_count": 18,
     "metadata": {},
     "output_type": "execute_result"
    }
   ],
   "source": [
    "exe.arg_dict"
   ]
  },
  {
   "cell_type": "code",
   "execution_count": 19,
   "metadata": {},
   "outputs": [
    {
     "data": {
      "text/plain": [
       "{'batchnorm1_mean': \n",
       " [0. 0. 0.]\n",
       " <NDArray 3 @cpu(0)>, 'batchnorm1_output': \n",
       " [[126.491104 158.11388  189.73666 ]]\n",
       " <NDArray 1x3 @cpu(0)>, 'batchnorm1_var': \n",
       " [31.622776 31.622776 31.622776]\n",
       " <NDArray 3 @cpu(0)>}"
      ]
     },
     "execution_count": 19,
     "metadata": {},
     "output_type": "execute_result"
    }
   ],
   "source": [
    "exe.output_dict"
   ]
  },
  {
   "cell_type": "code",
   "execution_count": null,
   "metadata": {},
   "outputs": [],
   "source": []
  }
 ],
 "metadata": {
  "kernelspec": {
   "display_name": "Python 3",
   "language": "python",
   "name": "python3"
  },
  "language_info": {
   "codemirror_mode": {
    "name": "ipython",
    "version": 3
   },
   "file_extension": ".py",
   "mimetype": "text/x-python",
   "name": "python",
   "nbconvert_exporter": "python",
   "pygments_lexer": "ipython3",
   "version": "3.5.2"
  }
 },
 "nbformat": 4,
 "nbformat_minor": 2
}
