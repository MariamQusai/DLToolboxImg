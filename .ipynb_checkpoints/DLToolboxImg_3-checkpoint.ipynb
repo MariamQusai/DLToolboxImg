{
 "cells": [
  {
   "cell_type": "markdown",
   "metadata": {},
   "source": [
    "# DLToolboxImg: Part 3"
   ]
  },
  {
   "cell_type": "markdown",
   "metadata": {},
   "source": [
    "# Table of Contents\n",
    "- [Define File Iterator](#fileiter)\n",
    "- [Define Evaluation Metric](#metric)\n",
    "- [Define Model Architecture](#arch)\n",
    "- [Select Learning Rate](#lrfind)\n",
    "- [Select Initial weights](#weights)\n",
    "- [Train Model](#train)\n",
    "- [Save Model](#save)\n",
    "- [Evaluate Model](#eval)\n",
    "- [Modify Learnig Parameters](#train2)\n",
    "- [Resume Training](#resume)\n",
    "- [Compare Models](#compare)"
   ]
  },
  {
   "cell_type": "code",
   "execution_count": 2,
   "metadata": {},
   "outputs": [],
   "source": [
    "%reload_ext autoreload\n",
    "%autoreload 2\n",
    "%matplotlib inline"
   ]
  },
  {
   "cell_type": "code",
   "execution_count": 3,
   "metadata": {},
   "outputs": [],
   "source": [
    "import sys\n",
    "sys.path.insert(0,\"./src\")"
   ]
  },
  {
   "cell_type": "code",
   "execution_count": 66,
   "metadata": {},
   "outputs": [],
   "source": [
    "import mynnet7 as nn"
   ]
  },
  {
   "cell_type": "markdown",
   "metadata": {},
   "source": [
    "## Define File Iterator"
   ]
  },
  {
   "cell_type": "code",
   "execution_count": 53,
   "metadata": {},
   "outputs": [],
   "source": [
    "import mxnet as mx\n",
    "import sys, os\n",
    "import random\n",
    "import time\n",
    "import matplotlib.pyplot as plt\n",
    "import matplotlib.image as mpimg\n",
    "\n",
    "import numpy as np\n",
    "import cv2\n",
    "import pandas as pd\n",
    "import re\n",
    "from mxnet.io import DataIter\n",
    "from mxnet.io import DataBatch\n",
    "import pandas as pd\n",
    "from scipy.ndimage.filters import gaussian_filter\n",
    "from scipy.ndimage.interpolation import map_coordinates\n",
    "from collections import namedtuple\n",
    "import pickle\n",
    "\n",
    "Batch = namedtuple('Batch', ['data'])\n",
    "\n",
    "BATCH_SIZE,INPUT_SIZE_z,INPUT_SIZE_y, INPUT_SIZE_x = 8,32,32,32\n",
    "def print_inferred_shape(net):\n",
    "    ar, ou, au = net.infer_shape(data=(BATCH_SIZE, 1, INPUT_SIZE_z,INPUT_SIZE_y, INPUT_SIZE_x))\n",
    "    print(net.name,ou)\n",
    "class FileIter(DataIter):\n",
    "    def __init__(self, path,\n",
    "                 data_name=\"data\",\n",
    "                 label_name=\"softmax_label\",\n",
    "                 batch_size=8,\n",
    "                 do_augment=False,\n",
    "                 mean_image=.2815):\n",
    "\n",
    "        \n",
    "        self.epoch = 0\n",
    "        self.mean_image = mean_image\n",
    "        \n",
    "        super(FileIter, self).__init__()\n",
    "        self.batch_size = batch_size\n",
    "        self.do_augment=do_augment\n",
    "\n",
    "\n",
    "        #self.mean = cv2.imread(mean_image, cv2.IMREAD_GRAYSCALE)\n",
    "\n",
    "        self.data_name = data_name\n",
    "        self.label_name = label_name\n",
    "\n",
    "        self.record = mx.recordio.MXRecordIO(path, 'r')\n",
    "\n",
    "        \n",
    "        def readrecord(record):\n",
    "            record.reset()\n",
    "            num_data=0\n",
    "            while True:\n",
    "                item = record.read()\n",
    "                num_data+=1\n",
    "                if not item:\n",
    "                    break\n",
    "            return num_data-1\n",
    "        \n",
    "        \n",
    "        self.num_data = readrecord(self.record)#len(open(self.flist_name, 'r').readlines())\n",
    "        \n",
    "        self.cursor = -1\n",
    "        self.record.reset()\n",
    "\n",
    "        self.data, self.label = self._read()\n",
    "        self.reset()\n",
    "\n",
    "    def _read(self):\n",
    "        \"\"\"get two list, each list contains two elements: name and nd.array value\"\"\"\n",
    "                \n",
    "        data = {}\n",
    "        label = {}\n",
    "\n",
    "        dd = []\n",
    "        ll = []\n",
    "        for i in range(0, self.batch_size):\n",
    "            \n",
    "            item = self.record.read()            \n",
    "            header, l = mx.recordio.unpack_img(item)\n",
    "            \n",
    "            d=header.label\n",
    "\n",
    "            d=d.reshape((32,32,32))- self.mean_image\n",
    "            d = np.expand_dims(d, axis=0) \n",
    "            d = np.expand_dims(d, axis=0)\n",
    "            \n",
    "\n",
    "            l=l.reshape((32*32*32))\n",
    "            l = np.expand_dims(l, axis=0)\n",
    "            l=l.astype(float)\n",
    "\n",
    "            dd.append(d)\n",
    "            ll.append(l)\n",
    "\n",
    "        d = np.vstack(dd)\n",
    "        l = np.vstack(ll)\n",
    "        data[self.data_name] = d\n",
    "        label[self.label_name] = l\n",
    "        res = list(data.items()), list(label.items())\n",
    "        return res\n",
    "\n",
    "    @property\n",
    "    def provide_data(self):\n",
    "        \"\"\"The name and shape of data provided by this iterator\"\"\"\n",
    "        res = [(k, tuple(list(v.shape[0:]))) for k, v in self.data]\n",
    "        # print \"data : \" + str(res)\n",
    "        return res\n",
    "\n",
    "    @property\n",
    "    def provide_label(self):\n",
    "        \"\"\"The name and shape of label provided by this iterator\"\"\"\n",
    "        res = [(k, tuple(list(v.shape[0:]))) for k, v in self.label]\n",
    "        return res\n",
    "    \n",
    "\n",
    "    def reset(self):\n",
    "        self.cursor = -1\n",
    "        self.record.reset()\n",
    "        self.epoch += 1\n",
    "\n",
    "    def getpad(self):\n",
    "        return 0\n",
    "\n",
    "    def iter_next(self):\n",
    "        self.cursor += self.batch_size\n",
    "        if self.cursor < self.num_data:\n",
    "            return True\n",
    "        else:\n",
    "            return False\n",
    "\n",
    "    def eof(self):\n",
    "        res = self.cursor >= self.num_data\n",
    "        return res\n",
    "\n",
    "    def next(self):\n",
    "        \"\"\"return one dict which contains \"data\" and \"label\" \"\"\"\n",
    "        if self.iter_next():\n",
    "            self.data, self.label = self._read()\n",
    " \n",
    "            res = DataBatch(data=[mx.nd.array(self.data[0][1])], label=[mx.nd.array(self.label[0][1])], pad=self.getpad(), index=None)\n",
    "\n",
    "            return res\n",
    "        else:\n",
    "            raise StopIteration\n",
    "\n"
   ]
  },
  {
   "cell_type": "code",
   "execution_count": 54,
   "metadata": {},
   "outputs": [
    {
     "name": "stdout",
     "output_type": "stream",
     "text": [
      "{'softmax_label': (1, 32768), 'data': (1, 1, 32, 32, 32)}\n"
     ]
    }
   ],
   "source": [
    "interm_dir4='/home/mas/x110/data'\n",
    "train_data_path=interm_dir4+'/Train6Oct2018augment.rec'\n",
    "BATCH_SIZE=1\n",
    "train_iter=FileIter(train_data_path,batch_size=BATCH_SIZE,do_augment=True)"
   ]
  },
  {
   "cell_type": "code",
   "execution_count": 55,
   "metadata": {},
   "outputs": [],
   "source": [
    "train_iter.reset()"
   ]
  },
  {
   "cell_type": "code",
   "execution_count": 56,
   "metadata": {},
   "outputs": [],
   "source": [
    "batch = train_iter.next()\n",
    "X =  batch.data[0][0][0].asnumpy()\n",
    "Y = batch.label[0].reshape((32,32,32)).asnumpy()"
   ]
  },
  {
   "cell_type": "code",
   "execution_count": 57,
   "metadata": {},
   "outputs": [
    {
     "data": {
      "text/plain": [
       "((32, 32, 32), (32, 32, 32))"
      ]
     },
     "execution_count": 57,
     "metadata": {},
     "output_type": "execute_result"
    }
   ],
   "source": [
    "X.shape,Y.shape"
   ]
  },
  {
   "cell_type": "code",
   "execution_count": 58,
   "metadata": {},
   "outputs": [
    {
     "data": {
      "image/png": "[encoded data removed]",
      "text/plain": [
       "<Figure size 720x720 with 36 Axes>"
      ]
     },
     "metadata": {},
     "output_type": "display_data"
    }
   ],
   "source": [
    "zs=32\n",
    "\n",
    "X2,Z2 = X,Y\n",
    "Z2 = np.ma.masked_where(Z2 ==0 , Z2)\n",
    "\n",
    "num_rows=6\n",
    "num_cols=6\n",
    "\n",
    "f, plots = plt.subplots(num_rows, num_cols, sharex='col', sharey='row', figsize=(10,10))\n",
    "\n",
    "ind=np.arange(0,32)\n",
    "for i in range(zs):\n",
    "    ii=ind[i]\n",
    "    plots[i // num_cols, i % num_cols].axis('off')\n",
    "    plots[i // num_cols, i % num_cols].imshow(X2[ii],'gray',vmin=0,vmax=1)\n",
    "\n",
    "    plots[i // num_cols, i % num_cols].imshow(Z2[ii],alpha=0.5,vmin=0,vmax=1)\n",
    "    plots[i // num_cols, i % num_cols].set_title(str(ii))\n",
    "      \n",
    "plt.tight_layout()"
   ]
  },
  {
   "cell_type": "markdown",
   "metadata": {},
   "source": [
    "## Find mean of images"
   ]
  },
  {
   "cell_type": "code",
   "execution_count": 59,
   "metadata": {},
   "outputs": [
    {
     "data": {
      "text/plain": [
       "0.2815327279660965"
      ]
     },
     "execution_count": 59,
     "metadata": {},
     "output_type": "execute_result"
    }
   ],
   "source": [
    "interm_dir4='/home/mas/x110/data'\n",
    "train_data_path=interm_dir4+'/Train6Oct2018augment.rec'\n",
    "BATCH_SIZE=1\n",
    "train_iter=FileIter(train_data_path,batch_size=BATCH_SIZE,do_augment=True,mean_image=0)\n",
    "train_iter.reset()\n",
    "x_mean = np.zeros((32,32,32))\n",
    "for i,batch in enumerate(train_iter):\n",
    "    X =  batch.data[0][0][0].asnumpy()\n",
    "    x_mean+=X\n",
    "x_mean=np.mean(x_mean/i)\n",
    "x_mean#x_mean=.2815"
   ]
  },
  {
   "cell_type": "code",
   "execution_count": 62,
   "metadata": {},
   "outputs": [],
   "source": [
    "BATCH_SIZE=1\n",
    "train_iter=FileIter(train_data_path,batch_size=BATCH_SIZE,do_augment=False,mean_image=x_mean)\n",
    "input_shapes = dict(train_iter.provide_data+train_iter.provide_label)\n",
    "print(input_shapes)"
   ]
  },
  {
   "cell_type": "code",
   "execution_count": 80,
   "metadata": {},
   "outputs": [],
   "source": [
    "BATCH_SIZE=1\n",
    "valid_iter=FileIter(train_data_path,batch_size=BATCH_SIZE,do_augment=False,mean_image=x_mean)"
   ]
  },
  {
   "cell_type": "code",
   "execution_count": 81,
   "metadata": {},
   "outputs": [],
   "source": [
    "train_iter.reset()\n",
    "valid_iter.reset()"
   ]
  },
  {
   "cell_type": "code",
   "execution_count": 77,
   "metadata": {},
   "outputs": [],
   "source": [
    "## Optimizer"
   ]
  },
  {
   "cell_type": "code",
   "execution_count": 78,
   "metadata": {},
   "outputs": [],
   "source": [
    "# ===============Optimizer=================                        \n",
    "# We also need to create an optimizer for updating weights\n",
    "opt = mx.optimizer.SGD(\n",
    "    learning_rate=.0001,momentum=0.99,wd=0.000001)\n",
    "    \n",
    "updater = mx.optimizer.get_updater(opt)"
   ]
  },
  {
   "cell_type": "code",
   "execution_count": 67,
   "metadata": {},
   "outputs": [],
   "source": [
    "# ===============Evaluation metric(s)================= \n",
    "metric = mx.metric.CustomMetric(feval=nn.dice_coef2)"
   ]
  },
  {
   "cell_type": "markdown",
   "metadata": {},
   "source": [
    "## Define Model Architecture"
   ]
  },
  {
   "cell_type": "code",
   "execution_count": 69,
   "metadata": {},
   "outputs": [],
   "source": [
    "network = nn.get_net_315()\n",
    "init = mx.init.Normal(0.01) #note biases and gamma/beta are not affected"
   ]
  },
  {
   "cell_type": "code",
   "execution_count": 70,
   "metadata": {},
   "outputs": [],
   "source": [
    "# Binding\n",
    "exe = network.simple_bind(ctx=mx.gpu(0), **input_shapes)\n",
    "# get handle to input arrays\n",
    "arg_arrays = dict(zip(network.list_arguments(), exe.arg_arrays))\n",
    "data = arg_arrays[train_iter.provide_data[0][0]]\n",
    "label = arg_arrays[train_iter.provide_label[0][0]]"
   ]
  },
  {
   "cell_type": "code",
   "execution_count": 71,
   "metadata": {},
   "outputs": [
    {
     "name": "stderr",
     "output_type": "stream",
     "text": [
      "/home/mas/.virtualenvs/colab/lib/python3.5/site-packages/ipykernel_launcher.py:3: DeprecationWarning: \u001b[91mCalling initializer with init(str, NDArray) has been deprecated.please use init(mx.init.InitDesc(...), NDArray) instead.\u001b[0m\n",
      "  This is separate from the ipykernel package so we can avoid doing imports until\n"
     ]
    }
   ],
   "source": [
    "for name, arr in arg_arrays.items():\n",
    "    if name not in input_shapes:\n",
    "        init(name, arr)"
   ]
  },
  {
   "cell_type": "code",
   "execution_count": 74,
   "metadata": {},
   "outputs": [
    {
     "name": "stdout",
     "output_type": "stream",
     "text": [
      "mkdir: cannot create directory ‘/home/mas/x110/model’: File exists\r\n"
     ]
    }
   ],
   "source": [
    "!mkdir /home/mas/x110/model"
   ]
  },
  {
   "cell_type": "code",
   "execution_count": 76,
   "metadata": {},
   "outputs": [],
   "source": [
    "prefix = \"/home/mas/x110/model/oct08\""
   ]
  },
  {
   "cell_type": "code",
   "execution_count": null,
   "metadata": {},
   "outputs": [
    {
     "name": "stdout",
     "output_type": "stream",
     "text": [
      "time: 4.56404709815979 Epoch: 0 trainloss: -0.120204486 validloss: -0.11542028\n"
     ]
    }
   ],
   "source": [
    "### import time\n",
    "\n",
    "for epoch in range(100):\n",
    "\n",
    "    start = time.time()\n",
    "\n",
    "    metric.reset()\n",
    "\n",
    "    train_iter.reset()\n",
    "    \n",
    "    valid_iter.reset()\n",
    "    \n",
    "\n",
    "    for batch in train_iter:\n",
    "        # Copy data to executor input. Note the [:].\n",
    "        data[:] = batch.data[0]\n",
    "        label[:] = batch.label[0]\n",
    "\n",
    "        # Forward\n",
    "        outputs=exe.forward(is_train=True)\n",
    "        # Backward\n",
    "        exe.backward()\n",
    "\n",
    "        # Update\n",
    "        for i, pair in enumerate(zip(exe.arg_arrays, exe.grad_arrays)):\n",
    "            weight, grad = pair\n",
    "            updater(i, grad, weight)   \n",
    "        metric.update(batch.label[0], exe.outputs[0])#metric.update(label,p)\n",
    "        \n",
    "    e=metric.get()\n",
    "    err_train=-e[1].asnumpy()[0]\n",
    "    \n",
    "    if epoch % 50== 0:       \n",
    "        #print(\"do_checkpoint\")\n",
    "        arg={k:v for k, v in arg_arrays.items() if k not in input_shapes}\n",
    "        aux = dict(zip(network.list_auxiliary_states(), exe.aux_arrays))\n",
    "        mx.model.save_checkpoint(prefix, epoch, network, arg, aux)\n",
    "        \n",
    "        \n",
    "    #compute valid loss per epoch    \n",
    "    metric.reset()\n",
    "    for batch in valid_iter:        \n",
    "        data[:] = batch.data[0]       \n",
    "        label[:] = batch.label[0]\n",
    "        # predict\n",
    "        outputs = exe.forward(is_train=False)\n",
    "        metric.update(batch.label[0], exe.outputs[0])\n",
    "    e=metric.get()\n",
    "    err_valid=-e[1].asnumpy()[0]\n",
    "    end = time.time()\n",
    "    print('time:',end-start,'Epoch:',epoch,'trainloss:',err_train,'validloss:',err_valid)"
   ]
  },
  {
   "cell_type": "code",
   "execution_count": null,
   "metadata": {},
   "outputs": [],
   "source": []
  }
 ],
 "metadata": {
  "kernelspec": {
   "display_name": "Python 3",
   "language": "python",
   "name": "python3"
  },
  "language_info": {
   "codemirror_mode": {
    "name": "ipython",
    "version": 3
   },
   "file_extension": ".py",
   "mimetype": "text/x-python",
   "name": "python",
   "nbconvert_exporter": "python",
   "pygments_lexer": "ipython3",
   "version": "3.5.2"
  }
 },
 "nbformat": 4,
 "nbformat_minor": 2
}
