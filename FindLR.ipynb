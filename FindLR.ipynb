{
  "nbformat": 4,
  "nbformat_minor": 0,
  "metadata": {
    "colab": {
      "name": "FindLR.ipynb",
      "version": "0.3.2",
      "provenance": []
    },
    "kernelspec": {
      "name": "python3",
      "display_name": "Python 3"
    },
    "accelerator": "GPU"
  },
  "cells": [
    {
      "cell_type": "markdown",
      "metadata": {
        "id": "view-in-github",
        "colab_type": "text"
      },
      "source": [
        "[View in Colaboratory](https://colab.research.google.com/github/x110/DLToolboxImg/blob/master/FindLR.ipynb)"
      ]
    },
    {
      "metadata": {
        "id": "JuER_M7AbaOq",
        "colab_type": "text"
      },
      "cell_type": "markdown",
      "source": [
        "## Below I show an implementation of how to find the learning rate to use when training deep neural networks. "
      ]
    },
    {
      "metadata": {
        "id": "9urz3fDLItZ_",
        "colab_type": "text"
      },
      "cell_type": "markdown",
      "source": [
        "## Install dependencies on Google colab\n"
      ]
    },
    {
      "metadata": {
        "id": "7jwaXzyc0eDG",
        "colab_type": "code",
        "colab": {}
      },
      "cell_type": "code",
      "source": [
        "# Prepare Machine\n",
        "## install dependencies\n",
        "!apt install libnvrtc8.0\n",
        "!pip install mxnet-cu80\n",
        "!apt-get install ffmpeg\n",
        "!apt-get install imagemagick\n",
        "!pip install pylidc\n",
        "!pip install dicom"
      ],
      "execution_count": 0,
      "outputs": []
    },
    {
      "metadata": {
        "id": "q1lXTQUabylr",
        "colab_type": "text"
      },
      "cell_type": "markdown",
      "source": [
        "## Imports and functions"
      ]
    },
    {
      "metadata": {
        "id": "Hgh08EcVgidE",
        "colab_type": "code",
        "colab": {}
      },
      "cell_type": "code",
      "source": [
        "%matplotlib inline\n",
        "import mxnet as mx\n",
        "import numpy as np\n",
        "import cv2\n",
        "import matplotlib.pyplot as plt\n",
        "import logging\n",
        "import math \n",
        "logger = logging.getLogger()\n",
        "logger.setLevel(logging.DEBUG)"
      ],
      "execution_count": 0,
      "outputs": []
    },
    {
      "metadata": {
        "id": "IFpHbWPd8EzH",
        "colab_type": "code",
        "colab": {}
      },
      "cell_type": "code",
      "source": [
        "class LRScheduler(object):\n",
        "    \"\"\"Base class of a learning rate scheduler.\n",
        "\n",
        "    A scheduler returns a new learning rate based on the number of updates that have\n",
        "    been performed.\n",
        "\n",
        "    Parameters\n",
        "    ----------\n",
        "    base_lr : float, optional\n",
        "        The initial learning rate.\n",
        "    \"\"\"\n",
        "    def __init__(self, base_lr=0.01):\n",
        "        self.base_lr = base_lr\n",
        "\n",
        "    def __call__(self, num_update):\n",
        "        \"\"\"Return a new learning rate.\n",
        "\n",
        "        The ``num_update`` is the upper bound of the number of updates applied to\n",
        "        every weight.\n",
        "\n",
        "        Assume the optimizer has updated *i*-th weight by *k_i* times, namely\n",
        "        ``optimizer.update(i, weight_i)`` is called by *k_i* times. Then::\n",
        "\n",
        "            num_update = max([k_i for all i])\n",
        "\n",
        "        Parameters\n",
        "        ----------\n",
        "        num_update: int\n",
        "            the maximal number of updates applied to a weight.\n",
        "        \"\"\"\n",
        "        raise NotImplementedError(\"must override this\")\n",
        "class lr_find(LRScheduler):\n",
        "    \"\"\"Reduce the learning rate by a factor for every *n* steps.\n",
        "\n",
        "    It returns a new learning rate by::\n",
        "\n",
        "        base_lr * pow(factor, floor(num_update/step))\n",
        "\n",
        "    Parameters\n",
        "    ----------\n",
        "    step : int\n",
        "        Changes the learning rate for every n updates.\n",
        "    factor : float, optional\n",
        "        The factor to change the learning rate.\n",
        "    stop_factor_lr : float, optional\n",
        "        Stop updating the learning rate if it is less than this value.\n",
        "        \n",
        "    \"\"\"\n",
        "\n",
        "    def __init__(self, layer_opt_lr, nb, end_lr=10, linear=True):\n",
        "        super(lr_find,self).__init__()\n",
        "\n",
        "        self.linear = linear\n",
        "        ratio = end_lr/layer_opt_lr\n",
        "        self.lr_mult = (ratio/nb) if linear else ratio**(1/nb)\n",
        "        self.iteration = 1\n",
        "        self.losses=[]\n",
        "        self.lrs=[]\n",
        "        self.init_lrs=layer_opt_lr\n",
        "        self.new_lr = self.init_lrs\n",
        "\n",
        "    def on_train_begin(self):\n",
        "        self.best=1e9\n",
        "        \n",
        "        \n",
        "    def __call__(self,b):\n",
        "        return self.new_lr\n",
        "\n",
        "\n",
        "\n",
        "    def on_batch_end(self, loss):\n",
        "        self.losses.append(loss)\n",
        "        mult = self.lr_mult*self.iteration if self.linear else self.lr_mult**self.iteration\n",
        "        self.iteration +=1\n",
        "        self.new_lr = self.init_lrs * mult\n",
        "        self.lrs.append(self.new_lr)\n",
        "        return self.init_lrs * mult\n",
        "        if math.isnan(loss) or loss>self.best*4:\n",
        "            return True\n",
        "        if (loss<self.best and self.iteration>10): self.best=loss\n",
        "\n",
        "    def plot(self, n_skip=10):\n",
        "        plt.ylabel(\"loss\")\n",
        "        plt.xlabel(\"learning rate (log scale)\")\n",
        "        plt.plot(self.lrs[n_skip:-5], self.losses[n_skip:-5])\n",
        "        plt.xscale('log')\n",
        "        \n",
        "    def reset(self):\n",
        "        self.iteration = 1\n",
        "        self.losses=[]\n",
        "        self.lrs=[]"
      ],
      "execution_count": 0,
      "outputs": []
    },
    {
      "metadata": {
        "id": "3iwfoqHreiK2",
        "colab_type": "text"
      },
      "cell_type": "markdown",
      "source": [
        "## Data"
      ]
    },
    {
      "metadata": {
        "id": "6uKnRvlUhLUM",
        "colab_type": "code",
        "colab": {
          "base_uri": "https://localhost:8080/",
          "height": 80
        },
        "outputId": "e15ce1ab-b72b-4c40-f69e-845038a36d08"
      },
      "cell_type": "code",
      "source": [
        "from sklearn.datasets import fetch_mldata\n",
        "mnist = fetch_mldata('MNIST original')\n",
        "np.random.seed(1234) # set seed for deterministic ordering\n",
        "p = np.random.permutation(mnist.data.shape[0])\n",
        "X = mnist.data[p]\n",
        "Y = mnist.target[p]\n",
        "\n",
        "for i in range(10):\n",
        "    plt.subplot(1,10,i+1)\n",
        "    plt.imshow(X[i].reshape((28,28)), cmap='Greys_r')\n",
        "    plt.axis('off')\n",
        "plt.show()\n",
        "\n",
        "X = X.astype(np.float32)/255\n",
        "X_train = X[:60000]\n",
        "X_test = X[60000:]\n",
        "Y_train = Y[:60000]\n",
        "Y_test = Y[60000:]\n",
        "\n"
      ],
      "execution_count": 3,
      "outputs": [
        {
          "output_type": "display_data",
          "data": {
            "image/png": "[encoded data removed]",
            "text/plain": [
              "<matplotlib.figure.Figure at 0x7fd122967fd0>"
            ]
          },
          "metadata": {
            "tags": []
          }
        }
      ]
    },
    {
      "metadata": {
        "id": "Yyw4JU0qb6AK",
        "colab_type": "text"
      },
      "cell_type": "markdown",
      "source": [
        "## Model"
      ]
    },
    {
      "metadata": {
        "id": "uH2ogBmsjgsW",
        "colab_type": "code",
        "colab": {}
      },
      "cell_type": "code",
      "source": [
        "# Variables are place holders for input arrays. We give each variable a unique name.\n",
        "data = mx.symbol.Variable('data')\n",
        "\n",
        "# The input is fed to a fully connected layer that computes Y=WX+b.\n",
        "# This is the main computation module in the network.\n",
        "# Each layer also needs an unique name. We'll talk more about naming in the next section.\n",
        "fc1  = mx.symbol.FullyConnected(data = data, name='fc1', num_hidden=128)\n",
        "# Activation layers apply a non-linear function on the previous layer's output.\n",
        "# Here we use Rectified Linear Unit (ReLU) that computes Y = max(X, 0).\n",
        "act1 = mx.symbol.Activation(data = fc1, name='relu1', act_type=\"relu\")\n",
        "\n",
        "fc2  = mx.symbol.FullyConnected(data = act1, name = 'fc2', num_hidden = 64)\n",
        "act2 = mx.symbol.Activation(data = fc2, name='relu2', act_type=\"relu\")\n",
        "\n",
        "fc3  = mx.symbol.FullyConnected(data = act2, name='fc3', num_hidden=10)\n",
        "# Finally we have a loss layer that compares the network's output with label and generates gradient signals.\n",
        "mlp  = mx.symbol.SoftmaxOutput(data = fc3, name = 'softmax')"
      ],
      "execution_count": 0,
      "outputs": []
    },
    {
      "metadata": {
        "id": "r5OuMYjlidYs",
        "colab_type": "code",
        "colab": {}
      },
      "cell_type": "code",
      "source": [
        "batch_size = 100\n",
        "train_iter = mx.io.NDArrayIter(X_train, Y_train, batch_size=batch_size)\n",
        "test_iter = mx.io.NDArrayIter(X_test, Y_test, batch_size=batch_size)"
      ],
      "execution_count": 0,
      "outputs": []
    },
    {
      "metadata": {
        "id": "5RIkcnamc56E",
        "colab_type": "code",
        "colab": {
          "base_uri": "https://localhost:8080/",
          "height": 70
        },
        "outputId": "fe5ab456-a5b2-4ead-c983-f34943ccb692"
      },
      "cell_type": "code",
      "source": [
        "# ==================Binding=====================\n",
        "# The symbol we created is only a graph description.\n",
        "# To run it, we first need to allocate memory and create an executor by 'binding' it.\n",
        "# In order to bind a symbol, we need at least two pieces of information: context and input shapes.\n",
        "# Context specifies which device the executor runs on, e.g. cpu, GPU0, GPU1, etc.\n",
        "# Input shapes define the executor's input array dimensions.\n",
        "# MXNet then run automatic shape inference to determine the dimensions of intermediate and output arrays.\n",
        "\n",
        "# data iterators defines shapes of its output with provide_data and provide_label property.\n",
        "input_shapes = dict(train_iter.provide_data+train_iter.provide_label)\n",
        "print ('input_shapes', input_shapes)\n",
        "# We use simple_bind to let MXNet allocate memory for us.\n",
        "# You can also allocate memory youself and use bind to pass it to MXNet.\n",
        "exe = mlp.simple_bind(ctx=mx.gpu(0), **input_shapes)\n",
        "\n",
        "# ===============Initialization=================\n",
        "# First we get handle to input arrays\n",
        "arg_arrays = dict(zip(mlp.list_arguments(), exe.arg_arrays))\n",
        "data = arg_arrays[train_iter.provide_data[0][0]]\n",
        "label = arg_arrays[train_iter.provide_label[0][0]]\n",
        "\n",
        "# We initialize the weights with uniform distribution on (-0.01, 0.01).\n",
        "init = mx.init.Uniform(scale=0.01)\n",
        "for name, arr in arg_arrays.items():\n",
        "    if name not in input_shapes:\n",
        "        init(name, arr)\n",
        "    \n",
        "# We also need to create an optimizer for updating weights\n",
        "#opt = mx.optimizer.SGD(\n",
        "    #learning_rate=0.1,rescale_grad=1.0/train_iter.batch_size,lr_scheduler=sched)\n",
        "    #momentum=0.9,\n",
        "    #wd=0.00001,\n",
        "    #rescale_grad=1.0/train_iter.batch_size)\n",
        "#updater = mx.optimizer.get_updater(opt)\n",
        "\n",
        "# Finally we need a metric to print out training progress\n",
        "metric = mx.metric.CrossEntropy() "
      ],
      "execution_count": 6,
      "outputs": [
        {
          "output_type": "stream",
          "text": [
            "input_shapes {'data': (100, 784), 'softmax_label': (100,)}\n"
          ],
          "name": "stdout"
        },
        {
          "output_type": "stream",
          "text": [
            "/usr/local/lib/python3.6/dist-packages/ipykernel_launcher.py:17: DeprecationWarning: \u001b[91mCalling initializer with init(str, NDArray) has been deprecated.please use init(mx.init.InitDesc(...), NDArray) instead.\u001b[0m\n"
          ],
          "name": "stderr"
        }
      ]
    },
    {
      "metadata": {
        "id": "kz3Vl4fEBMHc",
        "colab_type": "code",
        "colab": {
          "base_uri": "https://localhost:8080/",
          "height": 34
        },
        "outputId": "2a194800-4182-41fa-b747-7406fb01aabb"
      },
      "cell_type": "code",
      "source": [
        "nb = len(X_train)/batch_size\n",
        "nb"
      ],
      "execution_count": 7,
      "outputs": [
        {
          "output_type": "execute_result",
          "data": {
            "text/plain": [
              "600.0"
            ]
          },
          "metadata": {
            "tags": []
          },
          "execution_count": 7
        }
      ]
    },
    {
      "metadata": {
        "id": "0F0xvefTBYIn",
        "colab_type": "code",
        "colab": {}
      },
      "cell_type": "code",
      "source": [
        "sched=lr_find(1e-3,nb,end_lr=1)"
      ],
      "execution_count": 0,
      "outputs": []
    },
    {
      "metadata": {
        "id": "Jx1Odqm3iUv1",
        "colab_type": "code",
        "colab": {}
      },
      "cell_type": "code",
      "source": [
        "# We also need to create an optimizer for updating weights\n",
        "opt = mx.optimizer.SGD(\n",
        "    learning_rate=1,\n",
        "    momentum=0.9,\n",
        "    wd=0.00001,\n",
        "    rescale_grad=1.0/train_iter.batch_size,lr_scheduler=sched)\n",
        "\n",
        "updater = mx.optimizer.get_updater(opt)\n"
      ],
      "execution_count": 0,
      "outputs": []
    },
    {
      "metadata": {
        "id": "SL1_5crjqzYB",
        "colab_type": "code",
        "colab": {}
      },
      "cell_type": "code",
      "source": [
        "metric = mx.metric.CrossEntropy() "
      ],
      "execution_count": 0,
      "outputs": []
    },
    {
      "metadata": {
        "id": "v0YaADpfjOfn",
        "colab_type": "code",
        "colab": {
          "base_uri": "https://localhost:8080/",
          "height": 118
        },
        "outputId": "50b25afc-13ac-42cf-ad27-961eb81f26da"
      },
      "cell_type": "code",
      "source": [
        "counter=0\n",
        "# Training loop begines\n",
        "for epoch in range(1):\n",
        "    train_iter.reset()\n",
        "    metric.reset()\n",
        "    sched.reset()\n",
        "    t = 0\n",
        "    sched.on_train_begin()\n",
        "\n",
        "    for batch in train_iter:\n",
        "\n",
        "        data[:] = batch.data[0]\n",
        "        label[:] = batch.label[0]\n",
        "        outputs=exe.forward(is_train=True)\n",
        "        exe.backward()\n",
        "        \n",
        "        # Update\n",
        "        tmp=0\n",
        "\n",
        "        for i, pair in enumerate(zip(exe.arg_arrays, exe.grad_arrays)):\n",
        "            weight, grad = pair\n",
        "            updater(i, grad, weight)\n",
        "            tmp+=1\n",
        "        counter+=1   \n",
        "        metric.update(batch.label, exe.outputs)\n",
        "        e=metric.get()\n",
        "        err_train=e[1]\n",
        "        sched.on_batch_end(err_train)#loss)\n",
        "\n",
        "        t += 1\n",
        "        if t % 100 == 0:\n",
        "            print('epoch:', epoch, 'iter:', t, 'metric:', metric.get())\n",
        "  "
      ],
      "execution_count": 11,
      "outputs": [
        {
          "output_type": "stream",
          "text": [
            "epoch: 0 iter: 100 metric: ('cross-entropy', 2.299421466064453)\n",
            "epoch: 0 iter: 200 metric: ('cross-entropy', 1.7072034585952758)\n",
            "epoch: 0 iter: 300 metric: ('cross-entropy', 1.3090668846766154)\n",
            "epoch: 0 iter: 400 metric: ('cross-entropy', 1.1494513531684876)\n",
            "epoch: 0 iter: 500 metric: ('cross-entropy', 1.831294879837036)\n",
            "epoch: 0 iter: 600 metric: ('cross-entropy', 1.9204962469100952)\n"
          ],
          "name": "stdout"
        }
      ]
    },
    {
      "metadata": {
        "id": "_2-5xWIEkDNX",
        "colab_type": "code",
        "colab": {
          "base_uri": "https://localhost:8080/",
          "height": 282
        },
        "outputId": "6a0a4d0c-9000-4f43-dabb-eb9f766fc0b2"
      },
      "cell_type": "code",
      "source": [
        "plt.plot(sched.lrs, sched.losses)\n"
      ],
      "execution_count": 12,
      "outputs": [
        {
          "output_type": "execute_result",
          "data": {
            "text/plain": [
              "[<matplotlib.lines.Line2D at 0x7fd0fc953a58>]"
            ]
          },
          "metadata": {
            "tags": []
          },
          "execution_count": 12
        },
        {
          "output_type": "display_data",
          "data": {
            "image/png": "[encoded data removed]",
            "text/plain": [
              "<matplotlib.figure.Figure at 0x7fd120376828>"
            ]
          },
          "metadata": {
            "tags": []
          }
        }
      ]
    },
    {
      "metadata": {
        "id": "6QLCzeUKaloq",
        "colab_type": "text"
      },
      "cell_type": "markdown",
      "source": [
        "From the graph, we can see that the loss rate drop is larges at .5. Hence, we choose it to be our learning rate"
      ]
    },
    {
      "metadata": {
        "id": "mObvMi_3fAgn",
        "colab_type": "text"
      },
      "cell_type": "markdown",
      "source": [
        "### Learning with the suggested learning rate"
      ]
    },
    {
      "metadata": {
        "id": "Tt18if5ka1He",
        "colab_type": "code",
        "colab": {}
      },
      "cell_type": "code",
      "source": [
        "# We also need to create an optimizer for updating weights\n",
        "opt = mx.optimizer.SGD(\n",
        "    learning_rate=.5,rescale_grad=1.0/train_iter.batch_size)\n"
      ],
      "execution_count": 0,
      "outputs": []
    },
    {
      "metadata": {
        "id": "AWrSRwpjiubo",
        "colab_type": "code",
        "colab": {}
      },
      "cell_type": "code",
      "source": [
        "updater.optimizer.lr_scheduler=None\n"
      ],
      "execution_count": 0,
      "outputs": []
    },
    {
      "metadata": {
        "id": "Ls_P3uZBi1ja",
        "colab_type": "code",
        "colab": {}
      },
      "cell_type": "code",
      "source": [
        "updater = mx.optimizer.get_updater(opt)"
      ],
      "execution_count": 0,
      "outputs": []
    },
    {
      "metadata": {
        "id": "GDD1lU71nP81",
        "colab_type": "code",
        "colab": {}
      },
      "cell_type": "code",
      "source": [
        "metric = mx.metric.Accuracy()"
      ],
      "execution_count": 0,
      "outputs": []
    },
    {
      "metadata": {
        "id": "H89BuIoiyovn",
        "colab_type": "code",
        "colab": {
          "base_uri": "https://localhost:8080/",
          "height": 70
        },
        "outputId": "3bff27be-2ac9-435e-f0c9-4a4031a8514d"
      },
      "cell_type": "code",
      "source": [
        "# We initialize the weights with uniform distribution on (-0.01, 0.01).\n",
        "init = mx.init.Uniform(scale=0.01)\n",
        "for name, arr in arg_arrays.items():\n",
        "    if name not in input_shapes:\n",
        "        init(name, arr)"
      ],
      "execution_count": 17,
      "outputs": [
        {
          "output_type": "stream",
          "text": [
            "/usr/local/lib/python3.6/dist-packages/ipykernel_launcher.py:4: DeprecationWarning: \u001b[91mCalling initializer with init(str, NDArray) has been deprecated.please use init(mx.init.InitDesc(...), NDArray) instead.\u001b[0m\n",
            "  after removing the cwd from sys.path.\n"
          ],
          "name": "stderr"
        }
      ]
    },
    {
      "metadata": {
        "id": "k6c9fkQTc5Wi",
        "colab_type": "code",
        "colab": {
          "base_uri": "https://localhost:8080/",
          "height": 1025
        },
        "outputId": "9ce8cf40-fdc5-47e9-a5b2-8dee9180a3b1"
      },
      "cell_type": "code",
      "source": [
        "\n",
        "\n",
        "# Training loop begines\n",
        "for epoch in range(10):\n",
        "    train_iter.reset()\n",
        "    metric.reset()\n",
        "    t = 0\n",
        "    for batch in train_iter:\n",
        "        # Copy data to executor input. Note the [:].\n",
        "        data[:] = batch.data[0]\n",
        "        label[:] = batch.label[0]\n",
        "        \n",
        "        # Forward\n",
        "        outputs=exe.forward(is_train=True)\n",
        "        \n",
        "        # You perform operations on exe.outputs here if you need to.\n",
        "        # For example, you can stack a CRF on top of a neural network.\n",
        "        \n",
        "        # Backward\n",
        "        exe.backward()\n",
        "        \n",
        "        # Update\n",
        "        for i, pair in enumerate(zip(exe.arg_arrays, exe.grad_arrays)):\n",
        "            weight, grad = pair\n",
        "            updater(i, grad, weight)\n",
        "        metric.update(batch.label, exe.outputs)\n",
        "        t += 1\n",
        "        if t % 100 == 0:\n",
        "            print('epoch:', epoch, 'iter:', t, 'metric:', metric.get())"
      ],
      "execution_count": 18,
      "outputs": [
        {
          "output_type": "stream",
          "text": [
            "epoch: 0 iter: 100 metric: ('accuracy', 0.1229)\n",
            "epoch: 0 iter: 200 metric: ('accuracy', 0.279)\n",
            "epoch: 0 iter: 300 metric: ('accuracy', 0.45813333333333334)\n",
            "epoch: 0 iter: 400 metric: ('accuracy', 0.56845)\n",
            "epoch: 0 iter: 500 metric: ('accuracy', 0.63782)\n",
            "epoch: 0 iter: 600 metric: ('accuracy', 0.6868833333333333)\n",
            "epoch: 1 iter: 100 metric: ('accuracy', 0.9413)\n",
            "epoch: 1 iter: 200 metric: ('accuracy', 0.93995)\n",
            "epoch: 1 iter: 300 metric: ('accuracy', 0.9443666666666667)\n",
            "epoch: 1 iter: 400 metric: ('accuracy', 0.946875)\n",
            "epoch: 1 iter: 500 metric: ('accuracy', 0.94878)\n",
            "epoch: 1 iter: 600 metric: ('accuracy', 0.9508833333333333)\n",
            "epoch: 2 iter: 100 metric: ('accuracy', 0.9634)\n",
            "epoch: 2 iter: 200 metric: ('accuracy', 0.9616)\n",
            "epoch: 2 iter: 300 metric: ('accuracy', 0.9643)\n",
            "epoch: 2 iter: 400 metric: ('accuracy', 0.9652)\n",
            "epoch: 2 iter: 500 metric: ('accuracy', 0.96646)\n",
            "epoch: 2 iter: 600 metric: ('accuracy', 0.9677666666666667)\n",
            "epoch: 3 iter: 100 metric: ('accuracy', 0.9737)\n",
            "epoch: 3 iter: 200 metric: ('accuracy', 0.97225)\n",
            "epoch: 3 iter: 300 metric: ('accuracy', 0.9747)\n",
            "epoch: 3 iter: 400 metric: ('accuracy', 0.97465)\n",
            "epoch: 3 iter: 500 metric: ('accuracy', 0.9755)\n",
            "epoch: 3 iter: 600 metric: ('accuracy', 0.97615)\n",
            "epoch: 4 iter: 100 metric: ('accuracy', 0.9812)\n",
            "epoch: 4 iter: 200 metric: ('accuracy', 0.97905)\n",
            "epoch: 4 iter: 300 metric: ('accuracy', 0.9801666666666666)\n",
            "epoch: 4 iter: 400 metric: ('accuracy', 0.980475)\n",
            "epoch: 4 iter: 500 metric: ('accuracy', 0.98084)\n",
            "epoch: 4 iter: 600 metric: ('accuracy', 0.98145)\n",
            "epoch: 5 iter: 100 metric: ('accuracy', 0.9851)\n",
            "epoch: 5 iter: 200 metric: ('accuracy', 0.98305)\n",
            "epoch: 5 iter: 300 metric: ('accuracy', 0.9840666666666666)\n",
            "epoch: 5 iter: 400 metric: ('accuracy', 0.98415)\n",
            "epoch: 5 iter: 500 metric: ('accuracy', 0.9843)\n",
            "epoch: 5 iter: 600 metric: ('accuracy', 0.9844333333333334)\n",
            "epoch: 6 iter: 100 metric: ('accuracy', 0.9851)\n",
            "epoch: 6 iter: 200 metric: ('accuracy', 0.98565)\n",
            "epoch: 6 iter: 300 metric: ('accuracy', 0.9866666666666667)\n",
            "epoch: 6 iter: 400 metric: ('accuracy', 0.986675)\n",
            "epoch: 6 iter: 500 metric: ('accuracy', 0.98712)\n",
            "epoch: 6 iter: 600 metric: ('accuracy', 0.9876833333333334)\n",
            "epoch: 7 iter: 100 metric: ('accuracy', 0.9883)\n",
            "epoch: 7 iter: 200 metric: ('accuracy', 0.98775)\n",
            "epoch: 7 iter: 300 metric: ('accuracy', 0.9885)\n",
            "epoch: 7 iter: 400 metric: ('accuracy', 0.9887)\n",
            "epoch: 7 iter: 500 metric: ('accuracy', 0.98918)\n",
            "epoch: 7 iter: 600 metric: ('accuracy', 0.9894333333333334)\n",
            "epoch: 8 iter: 100 metric: ('accuracy', 0.9902)\n",
            "epoch: 8 iter: 200 metric: ('accuracy', 0.99005)\n",
            "epoch: 8 iter: 300 metric: ('accuracy', 0.9897666666666667)\n",
            "epoch: 8 iter: 400 metric: ('accuracy', 0.989875)\n",
            "epoch: 8 iter: 500 metric: ('accuracy', 0.98986)\n",
            "epoch: 8 iter: 600 metric: ('accuracy', 0.9902)\n",
            "epoch: 9 iter: 100 metric: ('accuracy', 0.9905)\n",
            "epoch: 9 iter: 200 metric: ('accuracy', 0.9914)\n",
            "epoch: 9 iter: 300 metric: ('accuracy', 0.9920333333333333)\n",
            "epoch: 9 iter: 400 metric: ('accuracy', 0.991675)\n",
            "epoch: 9 iter: 500 metric: ('accuracy', 0.9919)\n",
            "epoch: 9 iter: 600 metric: ('accuracy', 0.9919166666666667)\n"
          ],
          "name": "stdout"
        }
      ]
    },
    {
      "metadata": {
        "id": "Mtz29_n_fM_R",
        "colab_type": "text"
      },
      "cell_type": "markdown",
      "source": [
        "## Learning with the a guessed learning rate"
      ]
    },
    {
      "metadata": {
        "id": "Vb_ppn7dcAHI",
        "colab_type": "code",
        "colab": {}
      },
      "cell_type": "code",
      "source": [
        "# We also need to create an optimizer for updating weights\n",
        "opt = mx.optimizer.SGD(\n",
        "    learning_rate=0.1,\n",
        "    momentum=0.9,\n",
        "    wd=0.00001,\n",
        "    rescale_grad=1.0/train_iter.batch_size)\n",
        "#updater.optimizer.lr_scheduler=None\n"
      ],
      "execution_count": 0,
      "outputs": []
    },
    {
      "metadata": {
        "id": "LczKf5uycAL5",
        "colab_type": "code",
        "colab": {}
      },
      "cell_type": "code",
      "source": [
        "updater = mx.optimizer.get_updater(opt)"
      ],
      "execution_count": 0,
      "outputs": []
    },
    {
      "metadata": {
        "id": "5_Hix2Znbv8g",
        "colab_type": "code",
        "colab": {}
      },
      "cell_type": "code",
      "source": [
        "metric = mx.metric.Accuracy()"
      ],
      "execution_count": 0,
      "outputs": []
    },
    {
      "metadata": {
        "id": "bTiwj9wTyy8m",
        "colab_type": "code",
        "colab": {
          "base_uri": "https://localhost:8080/",
          "height": 70
        },
        "outputId": "678fabfa-3d95-4531-924f-b7bf5aa39c9d"
      },
      "cell_type": "code",
      "source": [
        "# We initialize the weights with uniform distribution on (-0.01, 0.01).\n",
        "init = mx.init.Uniform(scale=0.01)\n",
        "for name, arr in arg_arrays.items():\n",
        "    if name not in input_shapes:\n",
        "        init(name, arr)"
      ],
      "execution_count": 22,
      "outputs": [
        {
          "output_type": "stream",
          "text": [
            "/usr/local/lib/python3.6/dist-packages/ipykernel_launcher.py:4: DeprecationWarning: \u001b[91mCalling initializer with init(str, NDArray) has been deprecated.please use init(mx.init.InitDesc(...), NDArray) instead.\u001b[0m\n",
            "  after removing the cwd from sys.path.\n"
          ],
          "name": "stderr"
        }
      ]
    },
    {
      "metadata": {
        "id": "AKn2cnMfakR6",
        "colab_type": "code",
        "colab": {
          "base_uri": "https://localhost:8080/",
          "height": 1025
        },
        "outputId": "789408c8-2af6-46b9-dd6f-3832d2a1543e"
      },
      "cell_type": "code",
      "source": [
        "# Training loop begines\n",
        "for epoch in range(10):\n",
        "    train_iter.reset()\n",
        "    metric.reset()\n",
        "    t = 0\n",
        "    for batch in train_iter:\n",
        "        # Copy data to executor input. Note the [:].\n",
        "        data[:] = batch.data[0]\n",
        "        label[:] = batch.label[0]\n",
        "        \n",
        "        # Forward\n",
        "        outputs=exe.forward(is_train=True)\n",
        "        \n",
        "        # You perform operations on exe.outputs here if you need to.\n",
        "        # For example, you can stack a CRF on top of a neural network.\n",
        "        \n",
        "        # Backward\n",
        "        exe.backward()\n",
        "        \n",
        "        # Update\n",
        "        for i, pair in enumerate(zip(exe.arg_arrays, exe.grad_arrays)):\n",
        "            weight, grad = pair\n",
        "            updater(i, grad, weight)\n",
        "        metric.update(batch.label, exe.outputs)\n",
        "        t += 1\n",
        "        if t % 100 == 0:\n",
        "            print('epoch:', epoch, 'iter:', t, 'metric:', metric.get())"
      ],
      "execution_count": 23,
      "outputs": [
        {
          "output_type": "stream",
          "text": [
            "epoch: 0 iter: 100 metric: ('accuracy', 0.1451)\n",
            "epoch: 0 iter: 200 metric: ('accuracy', 0.4331)\n",
            "epoch: 0 iter: 300 metric: ('accuracy', 0.5851)\n",
            "epoch: 0 iter: 400 metric: ('accuracy', 0.670275)\n",
            "epoch: 0 iter: 500 metric: ('accuracy', 0.72354)\n",
            "epoch: 0 iter: 600 metric: ('accuracy', 0.7607333333333334)\n",
            "epoch: 1 iter: 100 metric: ('accuracy', 0.9475)\n",
            "epoch: 1 iter: 200 metric: ('accuracy', 0.9506)\n",
            "epoch: 1 iter: 300 metric: ('accuracy', 0.9530666666666666)\n",
            "epoch: 1 iter: 400 metric: ('accuracy', 0.955)\n",
            "epoch: 1 iter: 500 metric: ('accuracy', 0.95706)\n",
            "epoch: 1 iter: 600 metric: ('accuracy', 0.9583666666666667)\n",
            "epoch: 2 iter: 100 metric: ('accuracy', 0.9688)\n",
            "epoch: 2 iter: 200 metric: ('accuracy', 0.96735)\n",
            "epoch: 2 iter: 300 metric: ('accuracy', 0.9693333333333334)\n",
            "epoch: 2 iter: 400 metric: ('accuracy', 0.970075)\n",
            "epoch: 2 iter: 500 metric: ('accuracy', 0.97054)\n",
            "epoch: 2 iter: 600 metric: ('accuracy', 0.9711)\n",
            "epoch: 3 iter: 100 metric: ('accuracy', 0.9741)\n",
            "epoch: 3 iter: 200 metric: ('accuracy', 0.9748)\n",
            "epoch: 3 iter: 300 metric: ('accuracy', 0.9758333333333333)\n",
            "epoch: 3 iter: 400 metric: ('accuracy', 0.97635)\n",
            "epoch: 3 iter: 500 metric: ('accuracy', 0.97616)\n",
            "epoch: 3 iter: 600 metric: ('accuracy', 0.9768166666666667)\n",
            "epoch: 4 iter: 100 metric: ('accuracy', 0.978)\n",
            "epoch: 4 iter: 200 metric: ('accuracy', 0.978)\n",
            "epoch: 4 iter: 300 metric: ('accuracy', 0.9794)\n",
            "epoch: 4 iter: 400 metric: ('accuracy', 0.979425)\n",
            "epoch: 4 iter: 500 metric: ('accuracy', 0.98004)\n",
            "epoch: 4 iter: 600 metric: ('accuracy', 0.98045)\n",
            "epoch: 5 iter: 100 metric: ('accuracy', 0.9821)\n",
            "epoch: 5 iter: 200 metric: ('accuracy', 0.98175)\n",
            "epoch: 5 iter: 300 metric: ('accuracy', 0.9822333333333333)\n",
            "epoch: 5 iter: 400 metric: ('accuracy', 0.9826)\n",
            "epoch: 5 iter: 500 metric: ('accuracy', 0.9832)\n",
            "epoch: 5 iter: 600 metric: ('accuracy', 0.9838)\n",
            "epoch: 6 iter: 100 metric: ('accuracy', 0.9841)\n",
            "epoch: 6 iter: 200 metric: ('accuracy', 0.98475)\n",
            "epoch: 6 iter: 300 metric: ('accuracy', 0.9855333333333334)\n",
            "epoch: 6 iter: 400 metric: ('accuracy', 0.98565)\n",
            "epoch: 6 iter: 500 metric: ('accuracy', 0.98552)\n",
            "epoch: 6 iter: 600 metric: ('accuracy', 0.9857666666666667)\n",
            "epoch: 7 iter: 100 metric: ('accuracy', 0.9867)\n",
            "epoch: 7 iter: 200 metric: ('accuracy', 0.9862)\n",
            "epoch: 7 iter: 300 metric: ('accuracy', 0.9855)\n",
            "epoch: 7 iter: 400 metric: ('accuracy', 0.98575)\n",
            "epoch: 7 iter: 500 metric: ('accuracy', 0.98588)\n",
            "epoch: 7 iter: 600 metric: ('accuracy', 0.9864666666666667)\n",
            "epoch: 8 iter: 100 metric: ('accuracy', 0.9862)\n",
            "epoch: 8 iter: 200 metric: ('accuracy', 0.9862)\n",
            "epoch: 8 iter: 300 metric: ('accuracy', 0.9864333333333334)\n",
            "epoch: 8 iter: 400 metric: ('accuracy', 0.986925)\n",
            "epoch: 8 iter: 500 metric: ('accuracy', 0.9874)\n",
            "epoch: 8 iter: 600 metric: ('accuracy', 0.9875666666666667)\n",
            "epoch: 9 iter: 100 metric: ('accuracy', 0.987)\n",
            "epoch: 9 iter: 200 metric: ('accuracy', 0.98745)\n",
            "epoch: 9 iter: 300 metric: ('accuracy', 0.9883)\n",
            "epoch: 9 iter: 400 metric: ('accuracy', 0.9886)\n",
            "epoch: 9 iter: 500 metric: ('accuracy', 0.98896)\n",
            "epoch: 9 iter: 600 metric: ('accuracy', 0.9891333333333333)\n"
          ],
          "name": "stdout"
        }
      ]
    },
    {
      "metadata": {
        "id": "mD8iulTmn_F2",
        "colab_type": "text"
      },
      "cell_type": "markdown",
      "source": [
        "## Conclusion\n",
        "with the learn rate finder, we got an accuracy of .9919 whereas with the guessed learning rate we got .98896 accuracy."
      ]
    },
    {
      "metadata": {
        "id": "btQp60t-ldpG",
        "colab_type": "code",
        "colab": {}
      },
      "cell_type": "code",
      "source": [
        ""
      ],
      "execution_count": 0,
      "outputs": []
    }
  ]
}