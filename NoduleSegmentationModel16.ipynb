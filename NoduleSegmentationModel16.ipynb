{
  "nbformat": 4,
  "nbformat_minor": 0,
  "metadata": {
    "colab": {
      "name": "NoduleSegmentationModel16.ipynb",
      "version": "0.3.2",
      "provenance": [],
      "collapsed_sections": [],
      "include_colab_link": true
    },
    "kernelspec": {
      "display_name": "Python 3",
      "language": "python",
      "name": "python3"
    },
    "accelerator": "GPU"
  },
  "cells": [
    {
      "cell_type": "markdown",
      "metadata": {
        "id": "view-in-github",
        "colab_type": "text"
      },
      "source": [
        "<a href=\"https://colab.research.google.com/github/x110/DLToolboxImg/blob/master/NoduleSegmentationModel16.ipynb\" target=\"_parent\"><img src=\"https://colab.research.google.com/assets/colab-badge.svg\" alt=\"Open In Colab\"/></a>"
      ]
    },
    {
      "metadata": {
        "colab_type": "text",
        "id": "EIFzslyej3R8",
        "toc": true
      },
      "cell_type": "markdown",
      "source": [
        "<h1>Table of Contents<span class=\"tocSkip\"></span></h1>\n",
        "<div class=\"toc\"><ul class=\"toc-item\"><li><span><a href=\"#Colab-Configuration\" data-toc-modified-id=\"Colab-Configuration-1\"><span class=\"toc-item-num\">1&nbsp;&nbsp;</span>Colab Configuration</a></span></li><li><span><a href=\"#Load-Data\" data-toc-modified-id=\"Load-Data-2\"><span class=\"toc-item-num\">2&nbsp;&nbsp;</span>Load Data</a></span></li><li><span><a href=\"#Settings\" data-toc-modified-id=\"Settings-3\"><span class=\"toc-item-num\">3&nbsp;&nbsp;</span>Settings</a></span></li><li><span><a href=\"#Model-Code\" data-toc-modified-id=\"Model-Code-4\"><span class=\"toc-item-num\">4&nbsp;&nbsp;</span>Model Code</a></span></li><li><span><a href=\"#Nodule-Segmentation:-Model\" data-toc-modified-id=\"Nodule-Segmentation:-Model-5\"><span class=\"toc-item-num\">5&nbsp;&nbsp;</span>Nodule Segmentation: Model</a></span><ul class=\"toc-item\"><li><span><a href=\"#Preprocessing\" data-toc-modified-id=\"Preprocessing-5.1\"><span class=\"toc-item-num\">5.1&nbsp;&nbsp;</span>Preprocessing</a></span><ul class=\"toc-item\"><li><span><a href=\"#Find-mean-of-images\" data-toc-modified-id=\"Find-mean-of-images-5.1.1\"><span class=\"toc-item-num\">5.1.1&nbsp;&nbsp;</span>Find mean of images</a></span></li><li><span><a href=\"#Find-variance-of-images\" data-toc-modified-id=\"Find-variance-of-images-5.1.2\"><span class=\"toc-item-num\">5.1.2&nbsp;&nbsp;</span>Find variance of images</a></span></li></ul></li><li><span><a href=\"#Data-Iterator\" data-toc-modified-id=\"Data-Iterator-5.2\"><span class=\"toc-item-num\">5.2&nbsp;&nbsp;</span>Data Iterator</a></span></li><li><span><a href=\"#Evaluation-Metric\" data-toc-modified-id=\"Evaluation-Metric-5.3\"><span class=\"toc-item-num\">5.3&nbsp;&nbsp;</span>Evaluation Metric</a></span></li><li><span><a href=\"#Model-Architecture\" data-toc-modified-id=\"Model-Architecture-5.4\"><span class=\"toc-item-num\">5.4&nbsp;&nbsp;</span>Model Architecture</a></span></li></ul></li><li><span><a href=\"#Nodule-Segmentation:-Model\" data-toc-modified-id=\"Nodule-Segmentation:-Model-6\"><span class=\"toc-item-num\">6&nbsp;&nbsp;</span>Nodule Segmentation: Model</a></span><ul class=\"toc-item\"><li><span><a href=\"#Optimizer\" data-toc-modified-id=\"Optimizer-6.1\"><span class=\"toc-item-num\">6.1&nbsp;&nbsp;</span>Optimizer</a></span><ul class=\"toc-item\"><li><span><a href=\"#Find--learning-rate\" data-toc-modified-id=\"Find--learning-rate-6.1.1\"><span class=\"toc-item-num\">6.1.1&nbsp;&nbsp;</span>Find  learning rate</a></span></li><li><span><a href=\"#Optimizer-Parameters\" data-toc-modified-id=\"Optimizer-Parameters-6.1.2\"><span class=\"toc-item-num\">6.1.2&nbsp;&nbsp;</span>Optimizer Parameters</a></span></li></ul></li></ul></li></ul></div>"
      ]
    },
    {
      "metadata": {
        "colab_type": "text",
        "id": "W6ljz0jskI2x"
      },
      "cell_type": "markdown",
      "source": [
        "# Colab Configuration"
      ]
    },
    {
      "metadata": {
        "id": "wmIVeRAD-6xW",
        "colab_type": "code",
        "colab": {}
      },
      "cell_type": "code",
      "source": [
        "colab = True"
      ],
      "execution_count": 0,
      "outputs": []
    },
    {
      "metadata": {
        "code_folding": [
          0
        ],
        "colab_type": "code",
        "id": "2nWGr82Ik3t_",
        "colab": {}
      },
      "cell_type": "code",
      "source": [
        "if colab:\n",
        "    from google.colab import drive\n",
        "    drive.mount('/content/drive')"
      ],
      "execution_count": 0,
      "outputs": []
    },
    {
      "metadata": {
        "id": "3baB9y9EJoA0",
        "colab_type": "code",
        "colab": {}
      },
      "cell_type": "code",
      "source": [
        "drive.mount(\"/content/drive\", force_remount=True)"
      ],
      "execution_count": 0,
      "outputs": []
    },
    {
      "metadata": {
        "code_folding": [
          0
        ],
        "colab_type": "code",
        "id": "faJWgZ4m-OyT",
        "colab": {}
      },
      "cell_type": "code",
      "source": [
        "if colab:    \n",
        "    # Remove CUDA 9 completely\n",
        "    !apt-get --purge remove cuda nvidia* libnvidia-*\n",
        "    !apt-get remove cuda-*\n",
        "    !dpkg -l | grep cuda- | awk '{print $2}' | xargs -n1 dpkg --purge\n",
        "    !apt autoremove\n",
        "    !apt-get update"
      ],
      "execution_count": 0,
      "outputs": []
    },
    {
      "metadata": {
        "code_folding": [
          0
        ],
        "colab_type": "code",
        "id": "xQt0wZRLkM62",
        "colab": {}
      },
      "cell_type": "code",
      "source": [
        "if colab:\n",
        "    # Install CUDA 8\n",
        "    !wget https://developer.download.nvidia.com/compute/cuda/repos/ubuntu1604/x86_64/cuda-repo-ubuntu1604_8.0.61-1_amd64.deb\n",
        "    !dpkg -i --force-overwrite cuda-repo-ubuntu1604_8.0.61-1_amd64.deb\n",
        "    !apt-get update\n",
        "    !apt-get install cuda-8-0\n",
        "\n",
        "    # install will fail, need to force dpkg to overwrite the configuration file\n",
        "\n",
        "    !wget http://archive.ubuntu.com/ubuntu/pool/main/m/mesa/libglx-mesa0_18.0.5-0ubuntu0~18.04.1_amd64.deb\n",
        "    !dpkg -i --force-overwrite libglx-mesa0_18.0.5-0ubuntu0~18.04.1_amd64.deb\n",
        "\n",
        "    !wget http://developer.download.nvidia.com/compute/cuda/repos/ubuntu1604/x86_64/nvidia-410_410.48-0ubuntu1_amd64.deb\n",
        "    !dpkg -i --force-overwrite nvidia-410_410.48-0ubuntu1_amd64.deb\n",
        "\n",
        "    !apt --fix-broken install\n",
        "    !apt-get install cuda-8-0\n",
        "\n",
        "    #More packages ro install \n",
        "    !pip uninstall -y numpy\n",
        "    !pip uninstall -y scipy\n",
        "    !pip install turicreate\n",
        "    # The worng version of MXNET will be installed.\n",
        "    !pip uninstall -y mxnet\n",
        "    !pip install scipy\n",
        "    # Instal CUDA8-compatible version of mxnet 1.1.0\n",
        "    !pip install mxnet-cu80==1.1.0"
      ],
      "execution_count": 0,
      "outputs": []
    },
    {
      "metadata": {
        "colab_type": "text",
        "id": "hreX2n06B5dg"
      },
      "cell_type": "markdown",
      "source": [
        "#  Load Data"
      ]
    },
    {
      "metadata": {
        "id": "G4saZxdM-6x2",
        "colab_type": "code",
        "colab": {}
      },
      "cell_type": "code",
      "source": [
        "if colab:\n",
        "    root_path = \"/content/drive/My Drive/x110/\"\n",
        "else:\n",
        "    root_path = \"/home/mas/\""
      ],
      "execution_count": 0,
      "outputs": []
    },
    {
      "metadata": {
        "id": "RXHf1r38Kyi4",
        "colab_type": "code",
        "colab": {}
      },
      "cell_type": "code",
      "source": [
        "PATH = \"x110/\""
      ],
      "execution_count": 0,
      "outputs": []
    },
    {
      "metadata": {
        "colab_type": "code",
        "id": "M7hmz4sRBd40",
        "colab": {}
      },
      "cell_type": "code",
      "source": [
        "if colab:\n",
        "    !mkdir {PATH}\n",
        "    !mkdir {PATH+\"Datasets\"}\n",
        "    !mkdir {PATH+\"Datasets/Dataset5/\"}\n",
        "    !mkdir {PATH+\"Datasets/Dataset5/processed/\"}\n",
        "    !mkdir {PATH+\"model\"}\n",
        "\n",
        "    !mkdir x110/DLToolboxImg\n",
        "    !git clone https://github.com/x110/DLToolboxImg.git x110/DLToolboxImg\n",
        "\n",
        "\n",
        "    dataset_path = root_path+'Datasets/Dataset5/processed/.'\n",
        "    !cp -a \"{dataset_path}\" {PATH+\"Datasets/Dataset5/processed/\"}\n"
      ],
      "execution_count": 0,
      "outputs": []
    },
    {
      "metadata": {
        "id": "tdlUnJDra1Ne",
        "colab_type": "code",
        "colab": {}
      },
      "cell_type": "code",
      "source": [
        "#!rm -r x110/DLToolboxImg\n",
        "#!mkdir x110/DLToolboxImg\n",
        "#!git clone https://github.com/x110/DLToolboxImg.git x110/DLToolboxImg\n"
      ],
      "execution_count": 0,
      "outputs": []
    },
    {
      "metadata": {
        "colab_type": "code",
        "id": "TWY_-L4qDQXY",
        "colab": {}
      },
      "cell_type": "code",
      "source": [
        "model_path1 = root_path+\"model/model15/\"\n",
        "#model details\n",
        "prefix1 = \"jan17\"\n",
        "model_epoch=0\n",
        "\n",
        "model_path2 = root_path+\"model/model15/\"\n",
        "prefix2 = \"jan17\"\n"
      ],
      "execution_count": 0,
      "outputs": []
    },
    {
      "metadata": {
        "colab_type": "code",
        "id": "7oArm9XTEWk-",
        "colab": {}
      },
      "cell_type": "code",
      "source": [
        "epochs = 10\n",
        "load_model = True\n",
        "find_stats = False#True\n",
        "bs = 34#100#64#34"
      ],
      "execution_count": 0,
      "outputs": []
    },
    {
      "metadata": {
        "colab_type": "text",
        "id": "-A_IctC4ABII"
      },
      "cell_type": "markdown",
      "source": [
        "# Settings"
      ]
    },
    {
      "metadata": {
        "colab_type": "code",
        "id": "HT3hdPbNk6zy",
        "colab": {}
      },
      "cell_type": "code",
      "source": [
        "#Dataset Path \n",
        "interm_dir4 = root_path+ \"Datasets/Dataset5/processed/\"\n",
        "s = \"2018_11_25\"\n",
        "train_data_path=interm_dir4+'train'+s+'pos.rec'\n",
        "train_idx_path=interm_dir4+'train'+s+'pos.idx'\n",
        "valid_data_path=interm_dir4+'valid'+s+'pos.rec'\n",
        "valid_idx_path=interm_dir4+'valid'+s+'pos.idx'\n",
        "test_data_path=interm_dir4+'test'+s+'pos.rec'\n",
        "test_idx_path=interm_dir4+'test'+s+'pos.idx'"
      ],
      "execution_count": 0,
      "outputs": []
    },
    {
      "metadata": {
        "colab_type": "code",
        "id": "ITGUgg7UB6BJ",
        "colab": {}
      },
      "cell_type": "code",
      "source": [
        "if load_model and colab:\n",
        "  drivefile = model_path1+prefix1+\"-\"+\"{:04d}\".format(model_epoch)+\".params\"\n",
        "  drivefile2 = model_path1+prefix1+\"-symbol.json\"\n",
        "  colabfile = PATH+\"model/\"+prefix1+\"-\"+\"{:04d}\".format(model_epoch)+\".params\"\n",
        "  colabfile2 = PATH+\"model/\"+prefix1+\"-symbol.json\"\n",
        "\n",
        "  !cp  \"{drivefile}\" {colabfile}\n",
        "  !cp  \"{drivefile2}\" {colabfile2}\n"
      ],
      "execution_count": 0,
      "outputs": []
    },
    {
      "metadata": {
        "id": "ZH7G6KOCw3En",
        "colab_type": "code",
        "outputId": "0b111db6-e2c4-416f-a7ca-f324caec8a26",
        "colab": {
          "base_uri": "https://localhost:8080/",
          "height": 121
        }
      },
      "cell_type": "code",
      "source": [
        "!ls"
      ],
      "execution_count": 0,
      "outputs": [
        {
          "output_type": "stream",
          "text": [
            "cuda-repo-ubuntu1604_8.0.61-1_amd64.deb\n",
            "drive\n",
            "libglx-mesa0_18.0.5-0ubuntu0~18.04.1_amd64.deb\n",
            "nvidia-410_410.48-0ubuntu1_amd64.deb\n",
            "sample_data\n",
            "x110\n"
          ],
          "name": "stdout"
        }
      ]
    },
    {
      "metadata": {
        "colab_type": "text",
        "id": "fRuO7y9fj3R3"
      },
      "cell_type": "markdown",
      "source": [
        "# Model Code"
      ]
    },
    {
      "metadata": {
        "colab_type": "code",
        "id": "F7JkqZ0mj3SM",
        "scrolled": true,
        "colab": {}
      },
      "cell_type": "code",
      "source": [
        "import sys\n",
        "sys.path.insert(0,\"x110/DLToolboxImg/src/\")"
      ],
      "execution_count": 0,
      "outputs": []
    },
    {
      "metadata": {
        "colab_type": "code",
        "id": "2yYRVHIdj3SU",
        "scrolled": true,
        "colab": {}
      },
      "cell_type": "code",
      "source": [
        "import mynnet7 as nn\n",
        "import pickle\n",
        "import mxnet as mx\n",
        "import time\n",
        "import matplotlib.pyplot as plt\n",
        "import numpy as np\n",
        "import pandas as pd"
      ],
      "execution_count": 0,
      "outputs": []
    },
    {
      "metadata": {
        "colab_type": "code",
        "id": "Vbr8CTJj4t8F",
        "colab": {}
      },
      "cell_type": "code",
      "source": [
        "import mxnet as mx\n",
        "import sys, os\n",
        "import random\n",
        "import time\n",
        "import matplotlib.pyplot as plt\n",
        "import matplotlib.image as mpimg\n",
        "\n",
        "import numpy as np\n",
        "import cv2\n",
        "import pandas as pd\n",
        "import re\n",
        "from mxnet.io import DataIter\n",
        "from mxnet.io import DataBatch\n",
        "import pandas as pd\n",
        "from scipy.ndimage.filters import gaussian_filter\n",
        "from scipy.ndimage.interpolation import map_coordinates\n",
        "from collections import namedtuple\n",
        "import pickle\n",
        "\n",
        "Batch = namedtuple('Batch', ['data'])\n",
        "\n",
        "BATCH_SIZE,INPUT_SIZE_z,INPUT_SIZE_y, INPUT_SIZE_x = 8,32,32,32\n",
        "\n",
        "class FileIter(DataIter):\n",
        "    def __init__(self, path,path_idx,\n",
        "                 data_name=\"data\",\n",
        "                 label_name=\"softmax_label\",\n",
        "                 batch_size=1,\n",
        "                 do_augment=False,\n",
        "                 random_flip=False,\n",
        "                 random_rot=False,\n",
        "                 random_elastic=False, \n",
        "                 mean_image=.28,\n",
        "                 std_image = .28,\n",
        "                 do_shuffle = True):\n",
        "\n",
        "        \n",
        "        random.seed(313)\n",
        "        self.ind2=None\n",
        "        self.do_shuffle = do_shuffle\n",
        "        self.epoch = 0\n",
        "        self.mean_image = mean_image\n",
        "        self.std_image = std_image\n",
        "        \n",
        "        super(FileIter, self).__init__()\n",
        "        self.batch_size = batch_size\n",
        "        self.do_augment=do_augment\n",
        "        self.random_flip = random_flip\n",
        "        self.random_rot = random_rot\n",
        "        self.random_elastic = random_elastic\n",
        "\n",
        "        self.data_name = data_name\n",
        "        self.label_name = label_name\n",
        "\n",
        "        self.record = mx.recordio.MXIndexedRecordIO(path_idx, path, 'r')#mx.recordio.MXRecordIO(path, 'r')\n",
        "\n",
        "        \n",
        "        def readrecord(record):\n",
        "            record.reset()\n",
        "            num_data=0\n",
        "            while True:\n",
        "                item = record.read()\n",
        "                num_data+=1\n",
        "                if not item:\n",
        "                    break\n",
        "            return num_data-1\n",
        "        \n",
        "        \n",
        "        self.num_data = readrecord(self.record)#len(open(self.flist_name, 'r').readlines())\n",
        "        \n",
        "        \n",
        "        \n",
        "        self.idx = self.shuffle_idx()\n",
        "        self.cursor = -1\n",
        "        self.cursor2 = -1\n",
        "        self.ind = self.idx[0]\n",
        "        self.record.reset()\n",
        "\n",
        "        self.data, self.label = self._read()\n",
        "        self.reset()\n",
        "            \n",
        "    def shuffle_idx(self):\n",
        "        num_data = self.num_data//self.batch_size*self.batch_size\n",
        "        idx = [i for i in range(num_data)]\n",
        "        if self.do_shuffle:\n",
        "            random.shuffle(idx)\n",
        "        idx = np.array(idx)\n",
        "        idx = idx.reshape(-1,self.batch_size)\n",
        "        return idx\n",
        "    \n",
        "    def _read(self):\n",
        "        \"\"\"get two list, each list contains two elements: name and nd.array value\"\"\"\n",
        "                \n",
        "        data = {}\n",
        "        label = {}\n",
        "\n",
        "        dd = []\n",
        "        ll = []\n",
        "        \n",
        "        if self.ind2 is None:\n",
        "            ind = self.ind\n",
        "        else:\n",
        "            ind = self.ind2\n",
        "            self.ind2=None\n",
        "            \n",
        "        for i in range(0, self.batch_size):\n",
        "            \n",
        "            item = self.record.read_idx(ind[i])            \n",
        "            header, l = mx.recordio.unpack_img(item)\n",
        "            \n",
        "            d=header.label\n",
        "\n",
        "            d=d.reshape((32,32,32))- self.mean_image\n",
        "            d = d/self.std_image\n",
        "            \n",
        "            l=l.reshape((32,32,32))\n",
        "            \n",
        "            if self.random_elastic:            \n",
        "              if random.randint(0, 100) > 50:\n",
        "                d=np.array([elastic_transform(subd, 34, 4) for subd  in d])\n",
        "                l=np.array([elastic_transform(subl, 34, 4) for subl  in l])\n",
        "\n",
        "                \n",
        "            data11=np.concatenate((d,l),axis=0)  \n",
        "            \n",
        "\n",
        "            if self.random_rot:\n",
        "              if random.randint(0, 100) > 50:\n",
        "                n,rows,cols = data11.shape\n",
        "                rot =40* random.random()-20\n",
        "                M = cv2.getRotationMatrix2D((cols/2,rows/2),rot,1)\n",
        "                data11=np.array([cv2.warpAffine(d,M,(cols,rows))for d in data11])\n",
        "\n",
        "            d,l=np.vsplit(data11,2)\n",
        "\n",
        "            if self.random_flip:\n",
        "            \tl=l.reshape((32,32,32))\n",
        "            \td,l = random_flip_img(d,l, horizontal_chance=0.5, vertical_chance=0.5)\n",
        "\n",
        "            d = np.expand_dims(d, axis=0) \n",
        "            d = np.expand_dims(d, axis=0)\n",
        "            l=l.reshape((32*32*32))\n",
        "            l=l.astype(float)\n",
        "            l = np.expand_dims(l, axis=0)\n",
        "\n",
        "\n",
        "\n",
        "            dd.append(d)\n",
        "            ll.append(l)\n",
        "\n",
        "        d = np.vstack(dd)\n",
        "        l = np.vstack(ll)\n",
        "        data[self.data_name] = d\n",
        "        label[self.label_name] = l\n",
        "        res = list(data.items()), list(label.items())\n",
        "        return res\n",
        "\n",
        "    @property\n",
        "    def provide_data(self):\n",
        "        \"\"\"The name and shape of data provided by this iterator\"\"\"\n",
        "        res = [(k, tuple(list(v.shape[0:]))) for k, v in self.data]\n",
        "        # print \"data : \" + str(res)\n",
        "        return res\n",
        "\n",
        "    @property\n",
        "    def provide_label(self):\n",
        "        \"\"\"The name and shape of label provided by this iterator\"\"\"\n",
        "        res = [(k, tuple(list(v.shape[0:]))) for k, v in self.label]\n",
        "        return res\n",
        "    \n",
        "\n",
        "    def reset(self):\n",
        "        self.cursor = -1\n",
        "        self.cursor2 = -1\n",
        "        self.record.reset()\n",
        "        self.epoch += 1\n",
        "        self.idx = self.shuffle_idx()\n",
        "        \n",
        "\n",
        "\n",
        "    def getpad(self):\n",
        "        return 0\n",
        "\n",
        "    def iter_next(self):\n",
        "        self.cursor += self.batch_size\n",
        "        self.cursor2 += 1\n",
        "        num_data = self.num_data//self.batch_size*self.batch_size\n",
        "            \n",
        "\n",
        "        if self.cursor < self.num_data:\n",
        "            self.ind = self.idx[self.cursor2]\n",
        "            return True\n",
        "        else:\n",
        "            return False\n",
        "\n",
        "    def eof(self):\n",
        "        res = self.cursor >= self.num_data\n",
        "        return res\n",
        "\n",
        "    def next(self):\n",
        "        \"\"\"return one dict which contains \"data\" and \"label\" \"\"\"\n",
        "        if self.iter_next():\n",
        "            self.data, self.label = self._read()\n",
        " \n",
        "            res = DataBatch(data=[mx.nd.array(self.data[0][1])], label=[mx.nd.array(self.label[0][1])], pad=self.getpad(), index=None)\n",
        "\n",
        "            return res\n",
        "        else:\n",
        "            raise StopIteration\n",
        "\n",
        "\n"
      ],
      "execution_count": 0,
      "outputs": []
    },
    {
      "metadata": {
        "colab_type": "code",
        "id": "9hXyEtQCQZpY",
        "colab": {}
      },
      "cell_type": "code",
      "source": [
        "from scipy.ndimage.filters import gaussian_filter\n",
        "from scipy.ndimage.interpolation import map_coordinates\n",
        "ELASTIC_INDICES = None  # needed to make it faster to fix elastic deformation per epoch.\n",
        "def elastic_transform(image, alpha, sigma, random_state=None):\n",
        "  global ELASTIC_INDICES\n",
        "  shape = image.shape\n",
        "\n",
        "  if ELASTIC_INDICES == None:\n",
        "      if random_state is None:\n",
        "          random_state = np.random.RandomState(1301)\n",
        "\n",
        "      dx = gaussian_filter((random_state.rand(*shape) * 2 - 1), sigma, mode=\"constant\", cval=0) * alpha\n",
        "      dy = gaussian_filter((random_state.rand(*shape) * 2 - 1), sigma, mode=\"constant\", cval=0) * alpha\n",
        "      x, y = np.meshgrid(np.arange(shape[0]), np.arange(shape[1]))\n",
        "      ELASTIC_INDICES = np.reshape(y + dy, (-1, 1)), np.reshape(x + dx, (-1, 1))\n",
        "  return map_coordinates(image, ELASTIC_INDICES, order=1).reshape(shape)\n"
      ],
      "execution_count": 0,
      "outputs": []
    },
    {
      "metadata": {
        "colab_type": "code",
        "id": "lc2EWJ_VQeoZ",
        "colab": {}
      },
      "cell_type": "code",
      "source": [
        "def random_flip_img(X,Y, horizontal_chance=0.5, vertical_chance=0.5):\n",
        "    import cv2\n",
        "    flip_horizontal = False\n",
        "    if random.random() < horizontal_chance:\n",
        "        flip_horizontal = True\n",
        "\n",
        "    flip_vertical = False\n",
        "    if random.random() < vertical_chance:\n",
        "        flip_vertical = True\n",
        "\n",
        "    if not flip_horizontal and not flip_vertical:\n",
        "        return (X,Y)\n",
        "\n",
        "    flip_val = 1\n",
        "    if flip_vertical:\n",
        "        flip_val = -1 if flip_horizontal else 0\n",
        "\n",
        "    Xaug = np.array([cv2.flip(x, flip_val) for x in X])\n",
        "    Yaug = np.array([cv2.flip(x, flip_val) for x in Y])\n",
        "\n",
        "    return (Xaug,Yaug)"
      ],
      "execution_count": 0,
      "outputs": []
    },
    {
      "metadata": {
        "id": "UvT1TmQgBdoL",
        "colab_type": "code",
        "colab": {}
      },
      "cell_type": "code",
      "source": [
        "from scipy.ndimage.interpolation import zoom\n",
        "def resample(imgs, spacing, new_spacing,order=2):\n",
        "    if len(imgs.shape)==3:\n",
        "        new_shape = np.round(imgs.shape * spacing / new_spacing)\n",
        "        true_spacing = spacing * imgs.shape / new_shape\n",
        "        resize_factor = new_shape / imgs.shape\n",
        "        imgs = zoom(imgs, resize_factor, mode = 'nearest',order=order)\n",
        "        return imgs, true_spacing\n",
        "    elif len(imgs.shape)==4:\n",
        "        n = imgs.shape[-1]\n",
        "        newimg = []\n",
        "        for i in range(n):\n",
        "            slice = imgs[:,:,:,i]\n",
        "            newslice,true_spacing = resample(slice,spacing,new_spacing)\n",
        "            newimg.append(newslice)\n",
        "        newimg=np.transpose(np.array(newimg),[1,2,3,0])\n",
        "        return newimg,true_spacing\n",
        "    else:\n",
        "        raise ValueError('wrong shape')"
      ],
      "execution_count": 0,
      "outputs": []
    },
    {
      "metadata": {
        "id": "ii6TA8bkBnev",
        "colab_type": "code",
        "colab": {}
      },
      "cell_type": "code",
      "source": [
        "    def resample(self):\n",
        "\n",
        "        image=self.image_HU.copy() #zxy\n",
        "\n",
        "        image=image.swapaxes(0,2) #yxz\n",
        "        image=image.swapaxes(0,1) #xyz\n",
        "\n",
        "        resize_factor = self.original_spacing/self.desired_spacing\n",
        "\n",
        "        new_real_shape = image.shape * resize_factor\n",
        "\n",
        "        new_shape = np.round(new_real_shape)\n",
        "\n",
        "        real_resize_factor = new_shape/image.shape\n",
        "\n",
        "        new_spacing = self.original_spacing/real_resize_factor\n",
        "\n",
        "        image = scipy.ndimage.interpolation.zoom(image, real_resize_factor, mode='nearest')\n",
        "\n",
        "        image=image.swapaxes(0,2) #zyx\n",
        "        image=image.swapaxes(1,2) #zxy\n",
        "\n",
        "        return image, new_spacing"
      ],
      "execution_count": 0,
      "outputs": []
    },
    {
      "metadata": {
        "id": "soL0gxgvbybh",
        "colab_type": "code",
        "colab": {}
      },
      "cell_type": "code",
      "source": [
        ""
      ],
      "execution_count": 0,
      "outputs": []
    },
    {
      "metadata": {
        "id": "2rhJhA7sbyni",
        "colab_type": "code",
        "colab": {}
      },
      "cell_type": "code",
      "source": [
        ""
      ],
      "execution_count": 0,
      "outputs": []
    },
    {
      "metadata": {
        "id": "7z7MuZFKbysQ",
        "colab_type": "code",
        "colab": {}
      },
      "cell_type": "code",
      "source": [
        ""
      ],
      "execution_count": 0,
      "outputs": []
    },
    {
      "metadata": {
        "id": "i1gjnrgZbywY",
        "colab_type": "code",
        "colab": {}
      },
      "cell_type": "code",
      "source": [
        ""
      ],
      "execution_count": 0,
      "outputs": []
    },
    {
      "metadata": {
        "id": "uQ-7Sa0jbyqf",
        "colab_type": "code",
        "colab": {}
      },
      "cell_type": "code",
      "source": [
        ""
      ],
      "execution_count": 0,
      "outputs": []
    },
    {
      "metadata": {
        "id": "wkuGr3Psbyld",
        "colab_type": "code",
        "colab": {}
      },
      "cell_type": "code",
      "source": [
        ""
      ],
      "execution_count": 0,
      "outputs": []
    },
    {
      "metadata": {
        "colab_type": "code",
        "id": "r57gImHw6rX4",
        "colab": {}
      },
      "cell_type": "code",
      "source": [
        "import os\n",
        "import math"
      ],
      "execution_count": 0,
      "outputs": []
    },
    {
      "metadata": {
        "colab_type": "code",
        "id": "qEE6i_txGY1C",
        "colab": {}
      },
      "cell_type": "code",
      "source": [
        "# Set seed for reproducibility\n",
        "mx.random.seed(42)"
      ],
      "execution_count": 0,
      "outputs": []
    },
    {
      "metadata": {
        "colab_type": "text",
        "id": "xe-Fv5N2a9Ra"
      },
      "cell_type": "markdown",
      "source": [
        "# Nodule Segmentation: Model"
      ]
    },
    {
      "metadata": {
        "colab_type": "text",
        "id": "GWkyDSB2j3S_"
      },
      "cell_type": "markdown",
      "source": [
        "## Preprocessing"
      ]
    },
    {
      "metadata": {
        "colab_type": "text",
        "id": "T_OZbL4Mj3TC"
      },
      "cell_type": "markdown",
      "source": [
        "### Find mean of images"
      ]
    },
    {
      "metadata": {
        "colab_type": "code",
        "id": "To2ssEIvj3TG",
        "outputId": "ed900bd9-b624-42e1-88a4-76e30bd1a4cd",
        "scrolled": true,
        "colab": {
          "base_uri": "https://localhost:8080/",
          "height": 236
        }
      },
      "cell_type": "code",
      "source": [
        "if find_stats:\n",
        "    BATCH_SIZE=1\n",
        "    train_iter=nn.FileIter(train_data_path,train_idx_path,batch_size=BATCH_SIZE,do_augment=True,mean_image=0,std_image=1)\n",
        "    train_iter.reset()\n",
        "    x_mean = np.zeros((32,32,32))\n",
        "    for i,batch in enumerate(train_iter):\n",
        "        X =  batch.data[0][0][0].asnumpy()\n",
        "        x_mean+=X\n",
        "    x_mean=np.mean(x_mean/i)\n",
        "    # Saving the objects:\n",
        "    with open(interm_dir4+'x_mean.pkl', 'wb') as f:  # Python 3: open(..., 'wb')\n",
        "        pickle.dump([x_mean], f)\n",
        "\n",
        "else:\n",
        "    with open(interm_dir4+'x_mean.pkl','rb') as f:  # Python 3: open(..., 'rb')\n",
        "        x_mean = pickle.load(f)\n",
        "x_mean#x_mean=0.2826227159416579"
      ],
      "execution_count": 0,
      "outputs": [
        {
          "output_type": "error",
          "ename": "FileNotFoundError",
          "evalue": "ignored",
          "traceback": [
            "\u001b[0;31m---------------------------------------------------------------------------\u001b[0m",
            "\u001b[0;31mFileNotFoundError\u001b[0m                         Traceback (most recent call last)",
            "\u001b[0;32m<ipython-input-19-a5a90de34235>\u001b[0m in \u001b[0;36m<module>\u001b[0;34m()\u001b[0m\n\u001b[1;32m     13\u001b[0m \u001b[0;34m\u001b[0m\u001b[0m\n\u001b[1;32m     14\u001b[0m \u001b[0;32melse\u001b[0m\u001b[0;34m:\u001b[0m\u001b[0;34m\u001b[0m\u001b[0;34m\u001b[0m\u001b[0m\n\u001b[0;32m---> 15\u001b[0;31m     \u001b[0;32mwith\u001b[0m \u001b[0mopen\u001b[0m\u001b[0;34m(\u001b[0m\u001b[0minterm_dir4\u001b[0m\u001b[0;34m+\u001b[0m\u001b[0;34m'x_mean.pkl'\u001b[0m\u001b[0;34m,\u001b[0m\u001b[0;34m'rb'\u001b[0m\u001b[0;34m)\u001b[0m \u001b[0;32mas\u001b[0m \u001b[0mf\u001b[0m\u001b[0;34m:\u001b[0m  \u001b[0;31m# Python 3: open(..., 'rb')\u001b[0m\u001b[0;34m\u001b[0m\u001b[0;34m\u001b[0m\u001b[0m\n\u001b[0m\u001b[1;32m     16\u001b[0m         \u001b[0mx_mean\u001b[0m \u001b[0;34m=\u001b[0m \u001b[0mpickle\u001b[0m\u001b[0;34m.\u001b[0m\u001b[0mload\u001b[0m\u001b[0;34m(\u001b[0m\u001b[0mf\u001b[0m\u001b[0;34m)\u001b[0m\u001b[0;34m\u001b[0m\u001b[0;34m\u001b[0m\u001b[0m\n\u001b[1;32m     17\u001b[0m \u001b[0mx_mean\u001b[0m\u001b[0;31m#x_mean=0.2826227159416579\u001b[0m\u001b[0;34m\u001b[0m\u001b[0;34m\u001b[0m\u001b[0m\n",
            "\u001b[0;31mFileNotFoundError\u001b[0m: [Errno 2] No such file or directory: '/content/drive/My Drive/x110/Datasets/Dataset5/processed/x_mean.pkl'"
          ]
        }
      ]
    },
    {
      "metadata": {
        "colab_type": "code",
        "id": "eRUFk9Juj3TT",
        "scrolled": true,
        "colab": {}
      },
      "cell_type": "code",
      "source": [
        "x_mean=0.28"
      ],
      "execution_count": 0,
      "outputs": []
    },
    {
      "metadata": {
        "colab_type": "text",
        "id": "raNj5rVmj3Td"
      },
      "cell_type": "markdown",
      "source": [
        "### Find variance of images"
      ]
    },
    {
      "metadata": {
        "colab_type": "code",
        "id": "z7p4QBZKj3Tg",
        "scrolled": true,
        "colab": {}
      },
      "cell_type": "code",
      "source": [
        "if find_stats: \n",
        "    BATCH_SIZE=1\n",
        "    train_iter=nn.FileIter(train_data_path,train_idx_path,batch_size=BATCH_SIZE,do_augment=True,mean_image=0,std_image = 1)\n",
        "    train_iter.reset()\n",
        "    x_var = np.zeros((32,32,32))\n",
        "    for i,batch in enumerate(train_iter):\n",
        "        X =  (batch.data[0][0][0].asnumpy()-x_mean)**2\n",
        "        x_var+=X\n",
        "    #x_var=x_var/(i-1)\n",
        "    #x_var#x_mean=.2815\n",
        "    N = i*32*32*32\n",
        "    x_var = np.sum(x_var)/(N-1)\n",
        "    x_var#x_var = .07877\n",
        "    x_std = np.sqrt(x_var)#x_std=.2807\n",
        "    with open(interm_dir4+'x_std.pkl', 'wb') as f:  # Python 3: open(..., 'wb')\n",
        "        pickle.dump([x_std], f)\n",
        "else:\n",
        "    with open(interm_dir4+'x_std.pkl','rb') as f:  # Python 3: open(..., 'rb')\n",
        "        x_std = pickle.load(f)\n",
        "x_std#x_std=0.2817920662435274"
      ],
      "execution_count": 0,
      "outputs": []
    },
    {
      "metadata": {
        "colab_type": "code",
        "id": "yXzLyS3Lj3To",
        "scrolled": true,
        "colab": {}
      },
      "cell_type": "code",
      "source": [
        "x_std = 0.28"
      ],
      "execution_count": 0,
      "outputs": []
    },
    {
      "metadata": {
        "colab_type": "text",
        "id": "nIpXpHQxj3Tw"
      },
      "cell_type": "markdown",
      "source": [
        "## Data Iterator"
      ]
    },
    {
      "metadata": {
        "colab_type": "code",
        "id": "cb3ZRqqWj3Ty",
        "scrolled": true,
        "colab": {}
      },
      "cell_type": "code",
      "source": [
        "BATCH_SIZE=bs\n",
        "train_iter=FileIter(train_data_path,train_idx_path,batch_size=BATCH_SIZE,random_elastic = True,random_flip=True,random_rot=True,do_augment=True,mean_image=x_mean,std_image = x_std,do_shuffle=True)\n",
        "input_shapes = dict(train_iter.provide_data+train_iter.provide_label)\n",
        "print(input_shapes)"
      ],
      "execution_count": 0,
      "outputs": []
    },
    {
      "metadata": {
        "colab_type": "code",
        "id": "39QY_Ip9j3T8",
        "scrolled": true,
        "colab": {}
      },
      "cell_type": "code",
      "source": [
        "BATCH_SIZE=bs\n",
        "valid_iter=FileIter(valid_data_path,valid_idx_path,batch_size=BATCH_SIZE,do_augment=False,mean_image=x_mean,std_image = x_std,do_shuffle=False)"
      ],
      "execution_count": 0,
      "outputs": []
    },
    {
      "metadata": {
        "colab_type": "code",
        "id": "EO0l_t4Ej3UC",
        "scrolled": true,
        "colab": {}
      },
      "cell_type": "code",
      "source": [
        "train_iter.reset()\n",
        "valid_iter.reset()"
      ],
      "execution_count": 0,
      "outputs": []
    },
    {
      "metadata": {
        "colab_type": "text",
        "id": "MKxlY8J9j3UH"
      },
      "cell_type": "markdown",
      "source": [
        "## Evaluation Metric"
      ]
    },
    {
      "metadata": {
        "colab_type": "code",
        "id": "LIeANhbqj3UJ",
        "scrolled": true,
        "colab": {}
      },
      "cell_type": "code",
      "source": [
        "def dice_coef2(label, y):\n",
        "    smooth = 1.\n",
        "    label=mx.nd.array(label).as_in_context(mx.gpu(0))\n",
        "    y=mx.nd.array(y).as_in_context(mx.gpu(0))\n",
        "    intersection = mx.nd.sum(label*y)\n",
        "    return ((2. * intersection + smooth) / (mx.nd.sum(label) +mx.nd.sum(mx.nd.abs(y)) + smooth))\n"
      ],
      "execution_count": 0,
      "outputs": []
    },
    {
      "metadata": {
        "colab_type": "code",
        "id": "Z7Cb9A9_PP4f",
        "colab": {}
      },
      "cell_type": "code",
      "source": [
        "def logloss2(label, y,w=[.9,.1]):\n",
        "    smooth = 1.\n",
        "    label=mx.nd.array(label).as_in_context(mx.gpu(0))\n",
        "    y=mx.nd.array(y).as_in_context(mx.gpu(0))\n",
        "    eps=1e-12\n",
        "    return mx.nd.mean(-(w[0]*label*mx.nd.log(y+eps)+w[1]*(1-label)*mx.nd.log(1-y+eps)))"
      ],
      "execution_count": 0,
      "outputs": []
    },
    {
      "metadata": {
        "colab_type": "code",
        "id": "aVZdy14Zc8V2",
        "colab": {}
      },
      "cell_type": "code",
      "source": [
        "# ===============Evaluation metric(s)================= \n",
        "eval_metrics_1 =  mx.metric.CustomMetric(feval=logloss2)\n",
        "eval_metrics_2 = mx.metric.CustomMetric(feval=nn.dice_coef2)\n",
        "metric= mx.metric.CompositeEvalMetric()\n",
        "for child_metric in [eval_metrics_1, eval_metrics_2]:\n",
        "  metric.add(child_metric)"
      ],
      "execution_count": 0,
      "outputs": []
    },
    {
      "metadata": {
        "colab_type": "text",
        "id": "g9Lb-RuGj3Uc"
      },
      "cell_type": "markdown",
      "source": [
        "## Model Architecture"
      ]
    },
    {
      "metadata": {
        "colab_type": "code",
        "id": "pt98E9Faj3Uf",
        "scrolled": true,
        "colab": {}
      },
      "cell_type": "code",
      "source": [
        "load_model"
      ],
      "execution_count": 0,
      "outputs": []
    },
    {
      "metadata": {
        "colab_type": "code",
        "id": "mTiJEEydj3Uy",
        "scrolled": true,
        "colab": {}
      },
      "cell_type": "code",
      "source": [
        "if load_model:\n",
        "    network, arg_params, aux_params = mx.model.load_checkpoint(model_path1+prefix1 , model_epoch)\n",
        "\n",
        "    # Binding\n",
        "    exe = network.simple_bind(ctx=mx.gpu(0), **input_shapes)\n",
        "\n",
        "\n",
        "    exe.copy_params_from(arg_params, aux_params)\n",
        "    \n",
        "    # get handle to input arrays\n",
        "    arg_arrays = dict(zip(network.list_arguments(), exe.arg_arrays))\n",
        "    data = arg_arrays[train_iter.provide_data[0][0]]\n",
        "    label = arg_arrays[train_iter.provide_label[0][0]]\n",
        "else:\n",
        "\n",
        "    network = nn.get_net_319()\n",
        "    init = mx.init.Normal(0.01) #note biases and gamma/beta are not affected\n",
        "\n",
        "    # Binding\n",
        "    exe = network.simple_bind(ctx=mx.gpu(), **input_shapes)\n",
        "    # get handle to input arrays\n",
        "    arg_arrays = dict(zip(network.list_arguments(), exe.arg_arrays))\n",
        "    data = arg_arrays[train_iter.provide_data[0][0]]\n",
        "    label = arg_arrays[train_iter.provide_label[0][0]]\n",
        "    for name, arr in arg_arrays.items():\n",
        "        if name not in input_shapes:\n",
        "            init(name, arr)\n"
      ],
      "execution_count": 0,
      "outputs": []
    },
    {
      "metadata": {
        "colab_type": "code",
        "id": "aiWYX4iBG4ZE",
        "colab": {}
      },
      "cell_type": "code",
      "source": [
        "if False:\n",
        "  epoch=0\n",
        "  arg={k:v for k, v in arg_arrays.items() if k not in input_shapes}\n",
        "  aux = dict(zip(network.list_auxiliary_states(), exe.aux_arrays))\n",
        "  mx.model.save_checkpoint(model_path2+prefix2, epoch, network, arg, aux)"
      ],
      "execution_count": 0,
      "outputs": []
    },
    {
      "metadata": {
        "colab_type": "text",
        "id": "p36aWzqzbH75"
      },
      "cell_type": "markdown",
      "source": [
        "# Nodule Segmentation: Model"
      ]
    },
    {
      "metadata": {
        "colab_type": "text",
        "id": "_VAcRTIBj3VB"
      },
      "cell_type": "markdown",
      "source": [
        "## Optimizer"
      ]
    },
    {
      "metadata": {
        "colab_type": "text",
        "id": "aw1eUaNVj3VJ"
      },
      "cell_type": "markdown",
      "source": [
        "### Find  learning rate"
      ]
    },
    {
      "metadata": {
        "colab_type": "code",
        "id": "17MM3ZvwYbBV",
        "outputId": "4f479c3a-86a1-4f0f-fdb0-b62f9cf5b65a",
        "colab": {
          "base_uri": "https://localhost:8080/",
          "height": 106
        }
      },
      "cell_type": "code",
      "source": [
        "find_learning_rate = True\n",
        "b=.1\n",
        "a=.01\n",
        "\n",
        "nb=train_iter.num_data//train_iter.batch_size\n",
        "\n",
        "if find_learning_rate:\n",
        "\n",
        "  lrs = []\n",
        "  loss = []\n",
        "  \n",
        "  sched=nn.lr_find(a,nb,end_lr=b)\n",
        "  # We also need to create an optimizer for updating weights\n",
        "  opt = mx.optimizer.SGD(\n",
        "      learning_rate=a,\n",
        "      momentum=0.9,\n",
        "      wd=0.00001,\n",
        "      lr_scheduler=sched)\n",
        "\n",
        "  updater = mx.optimizer.get_updater(opt)\n",
        "  for epoch in range(0,1):\n",
        "\n",
        "      start = time.time()\n",
        "\n",
        "      metric.reset()\n",
        "\n",
        "      train_iter.reset()\n",
        "\n",
        "      valid_iter.reset()\n",
        "\n",
        "      sched.reset()\n",
        "\n",
        "      sched.on_train_begin()\n",
        "\n",
        "\n",
        "      for batch in train_iter:\n",
        "          # Copy data to executor input. Note the [:].\n",
        "          data[:] = batch.data[0]\n",
        "          label[:] = batch.label[0]\n",
        "\n",
        "          # Forward\n",
        "          outputs=exe.forward(is_train=True)\n",
        "          # Backward\n",
        "          exe.backward()\n",
        "\n",
        "          # Update\n",
        "          for i, pair in enumerate(zip(exe.arg_arrays, exe.grad_arrays)):\n",
        "              weight, grad = pair\n",
        "              updater(i, grad, weight)   \n",
        "          #metric.update(batch.label[0], exe.outputs[0])#\n",
        "          metric.update(batch.label[0], exe.outputs[0])\n",
        "\n",
        "          e=metric.get()\n",
        "          e = dict(zip(e[0], e[1]))\n",
        "  \n",
        "          err_train=-e['dice_coef2'].asnumpy()[0]\n",
        "          sched.on_batch_end(err_train)\n",
        "\n",
        "      if epoch % 100== 0:       \n",
        "          #print(\"do_checkpoint\")\n",
        "          arg={k:v for k, v in arg_arrays.items() if k not in input_shapes}\n",
        "          aux = dict(zip(network.list_auxiliary_states(), exe.aux_arrays))\n",
        "          #mx.model.save_checkpoint(prefix, epoch, network, arg, aux)\n",
        "\n",
        "\n",
        "      #compute valid loss per epoch    \n",
        "      metric.reset()\n",
        "      for batch in valid_iter:        \n",
        "          data[:] = batch.data[0]       \n",
        "          label[:] = batch.label[0]\n",
        "          # predict\n",
        "          outputs = exe.forward(is_train=False)\n",
        "          metric.update(batch.label[0], exe.outputs[0])\n",
        "      e0=metric.get()\n",
        "      e = dict(zip(e0[0], e0[1]))\n",
        "      err_valid=-e['dice_coef2'].asnumpy()[0]\n",
        "      end = time.time()\n",
        "      print('time:',end-start,'Epoch:',epoch,'trainloss:',err_train,'validloss:',err_valid,'CE',outputs[1].asnumpy())\n",
        "      for x,y in zip(e0[0],e0[1]):\n",
        "        print(x,y[0].asnumpy()[0], end=\", \", flush=True)\n",
        "  lrs.extend(sched.lrs)\n",
        "  loss.extend(sched.losses)\n",
        "\n"
      ],
      "execution_count": 0,
      "outputs": [
        {
          "output_type": "stream",
          "text": [
            "/usr/local/lib/python3.6/dist-packages/mxnet/recordio.py:370: DeprecationWarning: The binary mode of fromstring is deprecated, as it behaves surprisingly on unicode inputs. Use frombuffer instead\n",
            "  header = header._replace(label=np.fromstring(s, np.float32, header.flag))\n"
          ],
          "name": "stderr"
        },
        {
          "output_type": "stream",
          "text": [
            "time: 136.8477602005005 Epoch: 0 trainloss: -0.680025 validloss: -0.6151931 CE [-0.66701543]\n",
            "logloss2 0.2656961, dice_coef2 0.6151931, "
          ],
          "name": "stdout"
        }
      ]
    },
    {
      "metadata": {
        "colab_type": "code",
        "id": "G8PveIwFyrOs",
        "outputId": "c4162496-082a-440d-c44e-a9270e24e9c5",
        "colab": {
          "base_uri": "https://localhost:8080/",
          "height": 368
        }
      },
      "cell_type": "code",
      "source": [
        "plt.figure()\n",
        "plt.plot(lrs, loss,'*-')"
      ],
      "execution_count": 0,
      "outputs": [
        {
          "output_type": "execute_result",
          "data": {
            "text/plain": [
              "[<matplotlib.lines.Line2D at 0x7f6131afcc88>]"
            ]
          },
          "metadata": {
            "tags": []
          },
          "execution_count": 49
        },
        {
          "output_type": "display_data",
          "data": {
            "image/png": "[encoded data removed]",
            "text/plain": [
              "<Figure size 576x396 with 1 Axes>"
            ]
          },
          "metadata": {
            "tags": []
          }
        }
      ]
    },
    {
      "metadata": {
        "colab_type": "code",
        "id": "1-w5Z85n15Nz",
        "colab": {}
      },
      "cell_type": "code",
      "source": [
        "network, arg_params, aux_params = mx.model.load_checkpoint(model_path2+prefix2 ,178)\n",
        "exe.copy_params_from(arg_params, aux_params)"
      ],
      "execution_count": 0,
      "outputs": []
    },
    {
      "metadata": {
        "id": "-xKkdAPIdGab",
        "colab_type": "code",
        "outputId": "5aa70223-1830-445a-aeec-b1536d463307",
        "colab": {
          "base_uri": "https://localhost:8080/",
          "height": 191
        }
      },
      "cell_type": "code",
      "source": [
        "lrs[:10]"
      ],
      "execution_count": 0,
      "outputs": [
        {
          "output_type": "execute_result",
          "data": {
            "text/plain": [
              "[0.0038461538461538464,\n",
              " 0.007692307692307693,\n",
              " 0.011538461538461539,\n",
              " 0.015384615384615385,\n",
              " 0.019230769230769232,\n",
              " 0.023076923076923078,\n",
              " 0.026923076923076925,\n",
              " 0.03076923076923077,\n",
              " 0.03461538461538462,\n",
              " 0.038461538461538464]"
            ]
          },
          "metadata": {
            "tags": []
          },
          "execution_count": 53
        }
      ]
    },
    {
      "metadata": {
        "colab_type": "code",
        "id": "UbwF-vYiEBKJ",
        "outputId": "e8eb92f8-f542-4911-b277-b9513adaf474",
        "colab": {
          "base_uri": "https://localhost:8080/",
          "height": 34
        }
      },
      "cell_type": "code",
      "source": [
        "lrs[7]"
      ],
      "execution_count": 0,
      "outputs": [
        {
          "output_type": "execute_result",
          "data": {
            "text/plain": [
              "0.03076923076923077"
            ]
          },
          "metadata": {
            "tags": []
          },
          "execution_count": 47
        }
      ]
    },
    {
      "metadata": {
        "colab_type": "text",
        "id": "ScwvyY2Hj3WA"
      },
      "cell_type": "markdown",
      "source": [
        "### Optimizer Parameters"
      ]
    },
    {
      "metadata": {
        "colab_type": "code",
        "id": "QQMspdjFl1eQ",
        "colab": {}
      },
      "cell_type": "code",
      "source": [
        "if colab:\n",
        "  #logfile = \"errorlogmodel10.csv\"\n",
        "  logfile = model_path2+\"errorlogmodel15.csv\"\n",
        "\n",
        "else:\n",
        "  logfile = model_path2+\"errorlogmodel15.csv\"\n"
      ],
      "execution_count": 0,
      "outputs": []
    },
    {
      "metadata": {
        "colab_type": "code",
        "id": "5B2wpqFMzz-C",
        "outputId": "d4bd255b-d189-49ea-c71b-9b1b38f48b04",
        "colab": {
          "base_uri": "https://localhost:8080/",
          "height": 34
        }
      },
      "cell_type": "code",
      "source": [
        "import os\n",
        "exists = os.path.isfile(logfile)\n",
        "exists"
      ],
      "execution_count": 0,
      "outputs": [
        {
          "output_type": "execute_result",
          "data": {
            "text/plain": [
              "False"
            ]
          },
          "metadata": {
            "tags": []
          },
          "execution_count": 44
        }
      ]
    },
    {
      "metadata": {
        "colab_type": "code",
        "id": "YmQgF9RBteXo",
        "colab": {}
      },
      "cell_type": "code",
      "source": [
        "#exists = False"
      ],
      "execution_count": 0,
      "outputs": []
    },
    {
      "metadata": {
        "colab_type": "code",
        "id": "3KrV7AO1i62v",
        "colab": {}
      },
      "cell_type": "code",
      "source": [
        "\n",
        "col_names = ['epoch',\n",
        "             'lr',\n",
        "             'loss',\n",
        "             'E1train',\n",
        "             'E1valid',\n",
        "             'E2train',\n",
        "             'E2valid']\n",
        "df = pd.DataFrame(columns=col_names)\n",
        "\n",
        "if not exists:\n",
        "  df.to_csv(logfile)"
      ],
      "execution_count": 0,
      "outputs": []
    },
    {
      "metadata": {
        "colab_type": "code",
        "id": "eMbv0lVruIIK",
        "outputId": "9ecb6c20-d4d2-434a-d664-bdc9ce314a56",
        "colab": {
          "base_uri": "https://localhost:8080/",
          "height": 49
        }
      },
      "cell_type": "code",
      "source": [
        "df = pd.read_csv(logfile, index_col=0)\n",
        "df.head()"
      ],
      "execution_count": 0,
      "outputs": [
        {
          "output_type": "execute_result",
          "data": {
            "text/html": [
              "<div>\n",
              "<style scoped>\n",
              "    .dataframe tbody tr th:only-of-type {\n",
              "        vertical-align: middle;\n",
              "    }\n",
              "\n",
              "    .dataframe tbody tr th {\n",
              "        vertical-align: top;\n",
              "    }\n",
              "\n",
              "    .dataframe thead th {\n",
              "        text-align: right;\n",
              "    }\n",
              "</style>\n",
              "<table border=\"1\" class=\"dataframe\">\n",
              "  <thead>\n",
              "    <tr style=\"text-align: right;\">\n",
              "      <th></th>\n",
              "      <th>epoch</th>\n",
              "      <th>lr</th>\n",
              "      <th>loss</th>\n",
              "      <th>E1train</th>\n",
              "      <th>E1valid</th>\n",
              "      <th>E2train</th>\n",
              "      <th>E2valid</th>\n",
              "    </tr>\n",
              "  </thead>\n",
              "  <tbody>\n",
              "  </tbody>\n",
              "</table>\n",
              "</div>"
            ],
            "text/plain": [
              "Empty DataFrame\n",
              "Columns: [epoch, lr, loss, E1train, E1valid, E2train, E2valid]\n",
              "Index: []"
            ]
          },
          "metadata": {
            "tags": []
          },
          "execution_count": 71
        }
      ]
    },
    {
      "metadata": {
        "colab_type": "code",
        "id": "a8AWu5Ia0euI",
        "colab": {}
      },
      "cell_type": "code",
      "source": [
        "import copy\n",
        "#import math\n",
        "\n",
        "\n",
        "def plot_schedule(schedule_fn, iterations=1500):\n",
        "    # Iteration count starting at 1\n",
        "    iterations = [i+1 for i in range(iterations)]\n",
        "    lrs = [schedule_fn(i) for i in iterations]\n",
        "    plt.scatter(iterations, lrs)\n",
        "    plt.xlabel(\"Iteration\")\n",
        "    plt.ylabel(\"Learning Rate\")\n",
        "    plt.show()\n",
        "\n",
        "class CosineAnnealingSchedule():\n",
        "    def __init__(self, min_lr, max_lr, cycle_length):\n",
        "        \"\"\"\n",
        "        min_lr: lower bound for learning rate (float)\n",
        "        max_lr: upper bound for learning rate (float)\n",
        "        cycle_length: iterations between start and finish (int)\n",
        "        \"\"\"\n",
        "        self.min_lr = min_lr\n",
        "        self.max_lr = max_lr\n",
        "        self.cycle_length = cycle_length\n",
        "        \n",
        "    def __call__(self, iteration):\n",
        "        if iteration <= self.cycle_length:\n",
        "            unit_cycle = (1 + math.cos(iteration * math.pi / self.cycle_length)) / 2\n",
        "            adjusted_cycle = (unit_cycle * (self.max_lr - self.min_lr)) + self.min_lr\n",
        "            return adjusted_cycle\n",
        "        else:\n",
        "            return self.min_lr\n",
        "          \n",
        "    \n",
        "    \n",
        "class TriangularSchedule():\n",
        "    def __init__(self, min_lr, max_lr, cycle_length, inc_fraction=0.5):     \n",
        "        \"\"\"\n",
        "        min_lr: lower bound for learning rate (float)\n",
        "        max_lr: upper bound for learning rate (float)\n",
        "        cycle_length: iterations between start and finish (int)\n",
        "        inc_fraction: fraction of iterations spent in increasing stage (float)\n",
        "        \"\"\"\n",
        "        self.min_lr = min_lr\n",
        "        self.max_lr = max_lr\n",
        "        self.cycle_length = cycle_length\n",
        "        self.inc_fraction = inc_fraction\n",
        "        \n",
        "    def __call__(self, iteration):\n",
        "        if iteration <= self.cycle_length*self.inc_fraction:\n",
        "            unit_cycle = iteration * 1 / (self.cycle_length * self.inc_fraction)\n",
        "        elif iteration <= self.cycle_length:\n",
        "            unit_cycle = (self.cycle_length - iteration) * 1 / (self.cycle_length * (1 - self.inc_fraction))\n",
        "        else:\n",
        "            unit_cycle = 0\n",
        "        adjusted_cycle = (unit_cycle * (self.max_lr - self.min_lr)) + self.min_lr\n",
        "        return adjusted_cycle\n",
        "\n",
        "class CyclicalSchedule():\n",
        "    def __init__(self, schedule_class, cycle_length, cycle_length_decay=1, cycle_magnitude_decay=1, **kwargs):\n",
        "        \"\"\"\n",
        "        schedule_class: class of schedule, expected to take `cycle_length` argument\n",
        "        cycle_length: iterations used for initial cycle (int)\n",
        "        cycle_length_decay: factor multiplied to cycle_length each cycle (float)\n",
        "        cycle_magnitude_decay: factor multiplied learning rate magnitudes each cycle (float)\n",
        "        kwargs: passed to the schedule_class\n",
        "        \"\"\"\n",
        "        self.schedule_class = schedule_class\n",
        "        self.length = cycle_length\n",
        "        self.length_decay = cycle_length_decay\n",
        "        self.magnitude_decay = cycle_magnitude_decay\n",
        "        self.kwargs = kwargs\n",
        "    \n",
        "    def __call__(self, iteration):\n",
        "        cycle_idx = 0\n",
        "        cycle_length = self.length\n",
        "        idx = self.length\n",
        "        while idx <= iteration:\n",
        "            cycle_length = math.ceil(cycle_length * self.length_decay)\n",
        "            cycle_idx += 1\n",
        "            idx += cycle_length\n",
        "        cycle_offset = iteration - idx + cycle_length\n",
        "        \n",
        "        schedule = self.schedule_class(cycle_length=cycle_length, **self.kwargs)\n",
        "        return schedule(cycle_offset) * self.magnitude_decay**cycle_idx"
      ],
      "execution_count": 0,
      "outputs": []
    },
    {
      "metadata": {
        "colab_type": "code",
        "id": "HrdKZPyR6acE",
        "colab": {}
      },
      "cell_type": "code",
      "source": [
        "epochs = 378\n",
        "lr =.012#.2#.2#0.075#.01#.3#.02#.15#.34#.2#.01#.002"
      ],
      "execution_count": 0,
      "outputs": []
    },
    {
      "metadata": {
        "id": "Cn4Toviupm6l",
        "colab_type": "code",
        "colab": {}
      },
      "cell_type": "code",
      "source": [
        ""
      ],
      "execution_count": 0,
      "outputs": []
    },
    {
      "metadata": {
        "colab_type": "code",
        "id": "CZR4pWdZ0J7V",
        "outputId": "43834ca2-1be0-41dc-97e2-33d941230c31",
        "colab": {
          "base_uri": "https://localhost:8080/",
          "height": 362
        }
      },
      "cell_type": "code",
      "source": [
        "schedule = CyclicalSchedule(TriangularSchedule, min_lr=lr/5, max_lr=lr,\n",
        "                            cycle_length=10, cycle_length_decay=1, cycle_magnitude_decay=1)\n",
        "plot_schedule(schedule,iterations=26)"
      ],
      "execution_count": 0,
      "outputs": [
        {
          "output_type": "display_data",
          "data": {
            "image/png": "[encoded data removed]",
            "text/plain": [
              "<Figure size 576x396 with 1 Axes>"
            ]
          },
          "metadata": {
            "tags": []
          }
        }
      ]
    },
    {
      "metadata": {
        "id": "kV6h_vWZ-63B",
        "colab_type": "code",
        "outputId": "49138f37-ea47-4ed0-bf7b-2d7c2e1e3bec",
        "colab": {
          "base_uri": "https://localhost:8080/",
          "height": 34
        }
      },
      "cell_type": "code",
      "source": [
        "train_iter.num_data/100,train_iter.num_data/34"
      ],
      "execution_count": 0,
      "outputs": [
        {
          "output_type": "execute_result",
          "data": {
            "text/plain": [
              "(26.29, 77.32352941176471)"
            ]
          },
          "metadata": {
            "tags": []
          },
          "execution_count": 66
        }
      ]
    },
    {
      "metadata": {
        "colab_type": "code",
        "id": "I2EXT_W9Wz3y",
        "colab": {}
      },
      "cell_type": "code",
      "source": [
        "m1=.85\n",
        "m2=.95\n",
        "\n",
        "# We also need to create an optimizer for updating weights\n",
        "# ===============Optimizer=================                        \n",
        "opt = mx.optimizer.SGD(\n",
        "    learning_rate=lr,momentum=m1,wd=0.00001)\n",
        "\n",
        "updater = mx.optimizer.get_updater(opt)\n",
        "\n",
        "updater.optimizer.lr_scheduler=schedule"
      ],
      "execution_count": 0,
      "outputs": []
    },
    {
      "metadata": {
        "id": "4bfQwTtyZwvF",
        "colab_type": "code",
        "colab": {}
      },
      "cell_type": "code",
      "source": [
        ""
      ],
      "execution_count": 0,
      "outputs": []
    },
    {
      "metadata": {
        "colab_type": "code",
        "id": "4kTljGINPUpz",
        "colab": {}
      },
      "cell_type": "code",
      "source": [
        "try:\n",
        "    now\n",
        "except:\n",
        "  now=178\n",
        "  err_validold = -.68"
      ],
      "execution_count": 0,
      "outputs": []
    },
    {
      "metadata": {
        "colab_type": "code",
        "id": "c7EogiUVnm1X",
        "outputId": "51c1436e-ed1d-4240-d92b-023828778b96",
        "colab": {
          "base_uri": "https://localhost:8080/",
          "height": 6063
        }
      },
      "cell_type": "code",
      "source": [
        "lrs=[]\n",
        "ms=[]\n",
        "lrold=-1\n",
        "epoch_r  =now\n",
        "epoch_r\n",
        "Es_train=[]\n",
        "Es_valid=[]\n",
        "for epoch in range(epoch_r+1,epoch_r+epochs):\n",
        "  \n",
        "    start = time.time()\n",
        "    \n",
        "    ELASTIC_INDICES = None\n",
        "    \n",
        "    metric.reset()\n",
        "\n",
        "    train_iter.reset()\n",
        "    \n",
        "    valid_iter.reset()\n",
        "    \n",
        "\n",
        "    for batch in train_iter:\n",
        "        # Copy data to executor input. Note the [:].\n",
        "        data[:] = batch.data[0]\n",
        "        label[:] = batch.label[0]\n",
        "\n",
        "        # Forward\n",
        "        outputs=exe.forward(is_train=True)\n",
        "        Es_train.append(outputs[1].asnumpy()[0])\n",
        "        # Backward\n",
        "        exe.backward()\n",
        "\n",
        "        # Update\n",
        "        for i, pair in enumerate(zip(exe.arg_arrays, exe.grad_arrays)):\n",
        "            weight, grad = pair\n",
        "            updater(i, grad, weight)   \n",
        "        metric.update(batch.label[0], exe.outputs[0])#metric.update(label,p)\n",
        "        if (opt.learning_rate-lrold)<0:\n",
        "          opt.momentum=m2\n",
        "          lrold = opt.learning_rate\n",
        "        else: \n",
        "          opt.momentum=m1\n",
        "          lrold=opt.learning_rate\n",
        "        lrs.append(opt.learning_rate)\n",
        "        ms.append(opt.momentum)\n",
        "    e=metric.get()\n",
        "    ed={}\n",
        "    e_key,e_val = e\n",
        "    for k,v in zip(e_key,e_val):\n",
        "      ed[k]=v.asnumpy()[0]\n",
        "    err_train=-ed['dice_coef2']\n",
        "    err_train2=ed['logloss2']\n",
        "    \n",
        "    loss = outputs[1].asnumpy()[0] \n",
        "    \n",
        "    if epoch % 1== 0:       \n",
        "        #print(\"do_checkpoint\")\n",
        "        arg={k:v for k, v in arg_arrays.items() if k not in input_shapes}\n",
        "        aux = dict(zip(network.list_auxiliary_states(), exe.aux_arrays))\n",
        "        mx.model.save_checkpoint(model_path2+prefix2, epoch, network, arg, aux)\n",
        "        \n",
        "\n",
        "    #compute valid loss per epoch    \n",
        "    metric.reset()\n",
        "    for batch in valid_iter:        \n",
        "        data[:] = batch.data[0]       \n",
        "        label[:] = batch.label[0]\n",
        "        # predict\n",
        "        outputs = exe.forward(is_train=False)\n",
        "        Es_valid.append(outputs[1].asnumpy()[0])\n",
        "        metric.update(batch.label[0], exe.outputs[0])\n",
        "    e=metric.get()\n",
        "    ed={}\n",
        "    e_key,e_val = e\n",
        "    for k,v in zip(e_key,e_val):\n",
        "      ed[k]=v.asnumpy()[0]\n",
        "    err_valid=-ed['dice_coef2']\n",
        "    err_valid2=ed['logloss2']\n",
        "    \n",
        "    if err_valid<err_validold:       \n",
        "        #print(\"do_checkpoint\")\n",
        "        arg={k:v for k, v in arg_arrays.items() if k not in input_shapes}\n",
        "        aux = dict(zip(network.list_auxiliary_states(), exe.aux_arrays))\n",
        "        mx.model.save_checkpoint(model_path2+prefix2+'bst', epoch, network, arg, aux)\n",
        "        err_validold = err_valid\n",
        "    \n",
        "    \n",
        "    end = time.time()\n",
        "    print('time:',end-start,'Epoch:',epoch,\"/\",epochs+now,\"loss\",loss,'trainloss:',err_train,'validloss:',err_valid,'trainloss2:',err_train2,'validloss2:',err_valid2)\n",
        "    myCsvRow = [(epoch,lr,loss,err_train,err_valid,err_train2,err_valid2)]\n",
        "    df = pd.DataFrame.from_records(myCsvRow,columns = col_names)\n",
        "    df.to_csv(logfile, mode='a', header=False)\n",
        "now=epoch\n",
        "mx.model.save_checkpoint(model_path2+prefix2, epoch, network, arg, aux)"
      ],
      "execution_count": 0,
      "outputs": [
        {
          "output_type": "stream",
          "text": [
            "/usr/local/lib/python3.6/dist-packages/mxnet/recordio.py:370: DeprecationWarning: The binary mode of fromstring is deprecated, as it behaves surprisingly on unicode inputs. Use frombuffer instead\n",
            "  header = header._replace(label=np.fromstring(s, np.float32, header.flag))\n"
          ],
          "name": "stderr"
        },
        {
          "output_type": "stream",
          "text": [
            "time: 119.44086766242981 Epoch: 179 / 556 loss -0.8315225 trainloss: -0.68207234 validloss: -0.61624706 trainloss2: 0.1319377 validloss2: 0.26447088\n",
            "time: 119.03286051750183 Epoch: 180 / 556 loss -0.80949336 trainloss: -0.6829003 validloss: -0.60954267 trainloss2: 0.13096632 validloss2: 0.28300092\n",
            "time: 118.99733400344849 Epoch: 181 / 556 loss -0.84059644 trainloss: -0.68340665 validloss: -0.6066986 trainloss2: 0.13325335 validloss2: 0.27792042\n",
            "time: 119.04269695281982 Epoch: 182 / 556 loss -0.7811875 trainloss: -0.6762508 validloss: -0.6141632 trainloss2: 0.13272086 validloss2: 0.26646692\n",
            "time: 119.01160430908203 Epoch: 183 / 556 loss -0.80104136 trainloss: -0.68315536 validloss: -0.6105102 trainloss2: 0.13080084 validloss2: 0.27324915\n",
            "time: 119.24834370613098 Epoch: 184 / 556 loss -0.79269445 trainloss: -0.6813851 validloss: -0.59891516 trainloss2: 0.13149115 validloss2: 0.2815691\n",
            "time: 119.23680663108826 Epoch: 185 / 556 loss -0.8250178 trainloss: -0.67935896 validloss: -0.6041806 trainloss2: 0.13213441 validloss2: 0.28449827\n",
            "time: 118.9846568107605 Epoch: 186 / 556 loss -0.81072426 trainloss: -0.6762606 validloss: -0.6117581 trainloss2: 0.13328351 validloss2: 0.27058995\n",
            "time: 119.22552680969238 Epoch: 187 / 556 loss -0.79809266 trainloss: -0.6801246 validloss: -0.60928994 trainloss2: 0.13136823 validloss2: 0.2806366\n",
            "time: 119.14923334121704 Epoch: 188 / 556 loss -0.82733154 trainloss: -0.68205094 validloss: -0.61488837 trainloss2: 0.13050959 validloss2: 0.27244237\n",
            "time: 119.10042762756348 Epoch: 189 / 556 loss -0.7938187 trainloss: -0.68288666 validloss: -0.6096552 trainloss2: 0.13198502 validloss2: 0.2755589\n",
            "time: 118.979159116745 Epoch: 190 / 556 loss -0.8184527 trainloss: -0.6848742 validloss: -0.61358005 trainloss2: 0.13045464 validloss2: 0.26867637\n",
            "time: 119.15880274772644 Epoch: 191 / 556 loss -0.80761886 trainloss: -0.6813545 validloss: -0.6092384 trainloss2: 0.1339857 validloss2: 0.27971652\n",
            "time: 119.02202939987183 Epoch: 192 / 556 loss -0.79036725 trainloss: -0.67883754 validloss: -0.6147225 trainloss2: 0.13233455 validloss2: 0.27047384\n",
            "time: 118.85135293006897 Epoch: 193 / 556 loss -0.83523834 trainloss: -0.68241453 validloss: -0.6072075 trainloss2: 0.13404466 validloss2: 0.2799324\n",
            "time: 119.22627663612366 Epoch: 194 / 556 loss -0.8105408 trainloss: -0.68292046 validloss: -0.61344504 trainloss2: 0.1306944 validloss2: 0.27359062\n",
            "time: 118.95248794555664 Epoch: 195 / 556 loss -0.8197877 trainloss: -0.6817445 validloss: -0.6073889 trainloss2: 0.13302264 validloss2: 0.28178608\n",
            "time: 118.92096424102783 Epoch: 196 / 556 loss -0.8214132 trainloss: -0.68104994 validloss: -0.6126004 trainloss2: 0.13153803 validloss2: 0.27634045\n",
            "time: 119.17357206344604 Epoch: 197 / 556 loss -0.81509674 trainloss: -0.68061435 validloss: -0.60763454 trainloss2: 0.12938327 validloss2: 0.27737403\n",
            "time: 119.31950640678406 Epoch: 198 / 556 loss -0.81332195 trainloss: -0.68118197 validloss: -0.60686815 trainloss2: 0.13283749 validloss2: 0.27611628\n",
            "time: 119.1906476020813 Epoch: 199 / 556 loss -0.80806077 trainloss: -0.6831674 validloss: -0.6192887 trainloss2: 0.13317758 validloss2: 0.27733138\n",
            "time: 119.23076367378235 Epoch: 200 / 556 loss -0.8398658 trainloss: -0.68273264 validloss: -0.6103239 trainloss2: 0.13040517 validloss2: 0.27949807\n",
            "time: 119.11968183517456 Epoch: 201 / 556 loss -0.8174326 trainloss: -0.6833561 validloss: -0.6175293 trainloss2: 0.13175443 validloss2: 0.27384174\n",
            "time: 119.26162958145142 Epoch: 202 / 556 loss -0.80628324 trainloss: -0.6799138 validloss: -0.613624 trainloss2: 0.13389789 validloss2: 0.28190827\n",
            "time: 119.11678910255432 Epoch: 203 / 556 loss -0.80144215 trainloss: -0.6809492 validloss: -0.60710263 trainloss2: 0.13162124 validloss2: 0.28361958\n",
            "time: 119.23143196105957 Epoch: 204 / 556 loss -0.82850504 trainloss: -0.68137187 validloss: -0.6100511 trainloss2: 0.13257602 validloss2: 0.2721441\n",
            "time: 119.13115620613098 Epoch: 205 / 556 loss -0.7962269 trainloss: -0.68129593 validloss: -0.61314905 trainloss2: 0.13188037 validloss2: 0.26898634\n",
            "time: 119.19083666801453 Epoch: 206 / 556 loss -0.79846126 trainloss: -0.680748 validloss: -0.60928476 trainloss2: 0.13175729 validloss2: 0.27910012\n",
            "time: 119.35413932800293 Epoch: 207 / 556 loss -0.8235405 trainloss: -0.6792898 validloss: -0.6109217 trainloss2: 0.1332868 validloss2: 0.2768418\n",
            "time: 119.23627018928528 Epoch: 208 / 556 loss -0.8498068 trainloss: -0.6802924 validloss: -0.61261827 trainloss2: 0.13429491 validloss2: 0.28275478\n",
            "time: 119.18047904968262 Epoch: 209 / 556 loss -0.7894262 trainloss: -0.68083596 validloss: -0.6045142 trainloss2: 0.13214406 validloss2: 0.27851066\n",
            "time: 119.35941505432129 Epoch: 210 / 556 loss -0.82175744 trainloss: -0.6822511 validloss: -0.6115841 trainloss2: 0.13142575 validloss2: 0.27013883\n",
            "time: 119.40332436561584 Epoch: 211 / 556 loss -0.8228153 trainloss: -0.68055844 validloss: -0.6134208 trainloss2: 0.13120812 validloss2: 0.27391797\n",
            "time: 119.059898853302 Epoch: 212 / 556 loss -0.8150223 trainloss: -0.6835454 validloss: -0.61120236 trainloss2: 0.12964134 validloss2: 0.27309296\n",
            "time: 118.9691174030304 Epoch: 213 / 556 loss -0.7870464 trainloss: -0.68328464 validloss: -0.61384195 trainloss2: 0.1338606 validloss2: 0.27184972\n",
            "time: 119.18315839767456 Epoch: 214 / 556 loss -0.8250857 trainloss: -0.6802071 validloss: -0.6089855 trainloss2: 0.13205063 validloss2: 0.27323812\n",
            "time: 119.20731925964355 Epoch: 215 / 556 loss -0.830404 trainloss: -0.6780297 validloss: -0.6171716 trainloss2: 0.1329213 validloss2: 0.26849592\n",
            "time: 119.27801156044006 Epoch: 216 / 556 loss -0.8173554 trainloss: -0.6851666 validloss: -0.60644996 trainloss2: 0.13051686 validloss2: 0.279503\n",
            "time: 119.35736227035522 Epoch: 217 / 556 loss -0.78635734 trainloss: -0.6797798 validloss: -0.61708605 trainloss2: 0.1354939 validloss2: 0.27448192\n",
            "time: 119.25499296188354 Epoch: 218 / 556 loss -0.79230726 trainloss: -0.68260324 validloss: -0.60654616 trainloss2: 0.13211147 validloss2: 0.2748476\n",
            "time: 119.47505068778992 Epoch: 219 / 556 loss -0.8217905 trainloss: -0.6824463 validloss: -0.6112016 trainloss2: 0.13134468 validloss2: 0.27785105\n",
            "time: 119.18400430679321 Epoch: 220 / 556 loss -0.81633705 trainloss: -0.6843604 validloss: -0.60763747 trainloss2: 0.13077846 validloss2: 0.27383602\n",
            "time: 119.1681764125824 Epoch: 221 / 556 loss -0.8268448 trainloss: -0.6839046 validloss: -0.6098021 trainloss2: 0.13135237 validloss2: 0.2721196\n",
            "time: 119.21119284629822 Epoch: 222 / 556 loss -0.8425953 trainloss: -0.6810689 validloss: -0.60784864 trainloss2: 0.13182785 validloss2: 0.27985966\n",
            "time: 119.21595406532288 Epoch: 223 / 556 loss -0.81137 trainloss: -0.6844482 validloss: -0.6088172 trainloss2: 0.13189429 validloss2: 0.27853134\n",
            "time: 119.19085311889648 Epoch: 224 / 556 loss -0.80475056 trainloss: -0.6825872 validloss: -0.6111981 trainloss2: 0.13336968 validloss2: 0.26997435\n",
            "time: 119.0775465965271 Epoch: 225 / 556 loss -0.8127782 trainloss: -0.6792802 validloss: -0.60761535 trainloss2: 0.13088462 validloss2: 0.27665108\n",
            "time: 119.24673628807068 Epoch: 226 / 556 loss -0.82952595 trainloss: -0.68054277 validloss: -0.61293507 trainloss2: 0.13092966 validloss2: 0.27587196\n",
            "time: 119.1756546497345 Epoch: 227 / 556 loss -0.8114463 trainloss: -0.68397754 validloss: -0.6112954 trainloss2: 0.1325269 validloss2: 0.2803689\n",
            "time: 119.14726233482361 Epoch: 228 / 556 loss -0.8085414 trainloss: -0.680878 validloss: -0.6129344 trainloss2: 0.13133049 validloss2: 0.27914393\n",
            "time: 119.21523594856262 Epoch: 229 / 556 loss -0.8036371 trainloss: -0.6861266 validloss: -0.61134195 trainloss2: 0.1330054 validloss2: 0.27544728\n",
            "time: 119.33205556869507 Epoch: 230 / 556 loss -0.8340408 trainloss: -0.68227714 validloss: -0.6086485 trainloss2: 0.13055153 validloss2: 0.27868193\n",
            "time: 119.14070177078247 Epoch: 231 / 556 loss -0.7915602 trainloss: -0.6800325 validloss: -0.6136366 trainloss2: 0.13164113 validloss2: 0.27286887\n",
            "time: 119.19806337356567 Epoch: 232 / 556 loss -0.8035848 trainloss: -0.68193454 validloss: -0.6063463 trainloss2: 0.1290344 validloss2: 0.2842594\n",
            "time: 119.16879677772522 Epoch: 233 / 556 loss -0.8277533 trainloss: -0.6818951 validloss: -0.6107617 trainloss2: 0.13281617 validloss2: 0.27398753\n",
            "time: 119.17291021347046 Epoch: 234 / 556 loss -0.8163667 trainloss: -0.67984045 validloss: -0.60889417 trainloss2: 0.13073644 validloss2: 0.27813247\n",
            "time: 119.16737627983093 Epoch: 235 / 556 loss -0.8042123 trainloss: -0.68031806 validloss: -0.61166364 trainloss2: 0.1322054 validloss2: 0.26811853\n",
            "time: 119.20279908180237 Epoch: 236 / 556 loss -0.8047775 trainloss: -0.68342936 validloss: -0.6126323 trainloss2: 0.13092923 validloss2: 0.28177866\n",
            "time: 119.19832563400269 Epoch: 237 / 556 loss -0.8117955 trainloss: -0.6811248 validloss: -0.61505365 trainloss2: 0.13189113 validloss2: 0.27146673\n",
            "time: 119.15030765533447 Epoch: 238 / 556 loss -0.7915271 trainloss: -0.6794081 validloss: -0.6142368 trainloss2: 0.13157822 validloss2: 0.2716411\n",
            "time: 119.2257251739502 Epoch: 239 / 556 loss -0.7943644 trainloss: -0.68350565 validloss: -0.6028816 trainloss2: 0.1297683 validloss2: 0.27464604\n",
            "time: 119.67685675621033 Epoch: 240 / 556 loss -0.797045 trainloss: -0.6841584 validloss: -0.61017925 trainloss2: 0.134011 validloss2: 0.2741942\n",
            "time: 119.69905638694763 Epoch: 241 / 556 loss -0.83471847 trainloss: -0.6826332 validloss: -0.6067556 trainloss2: 0.13302498 validloss2: 0.27826047\n",
            "time: 119.72299766540527 Epoch: 242 / 556 loss -0.8049832 trainloss: -0.68633866 validloss: -0.6101756 trainloss2: 0.12872738 validloss2: 0.27235278\n",
            "time: 119.65120315551758 Epoch: 243 / 556 loss -0.8096027 trainloss: -0.68061507 validloss: -0.61705476 trainloss2: 0.13078488 validloss2: 0.27180433\n",
            "time: 119.84028482437134 Epoch: 244 / 556 loss -0.81017977 trainloss: -0.67958003 validloss: -0.60435987 trainloss2: 0.13183175 validloss2: 0.27888992\n",
            "time: 119.67940092086792 Epoch: 245 / 556 loss -0.81562763 trainloss: -0.6808753 validloss: -0.6125428 trainloss2: 0.13246918 validloss2: 0.28120178\n",
            "time: 119.72973227500916 Epoch: 246 / 556 loss -0.8015362 trainloss: -0.6836301 validloss: -0.6129857 trainloss2: 0.13055103 validloss2: 0.2792993\n",
            "time: 119.74983954429626 Epoch: 247 / 556 loss -0.81424147 trainloss: -0.6828904 validloss: -0.61667293 trainloss2: 0.1320558 validloss2: 0.27127543\n",
            "time: 119.83660221099854 Epoch: 248 / 556 loss -0.832665 trainloss: -0.68124753 validloss: -0.6094881 trainloss2: 0.13433641 validloss2: 0.28021157\n",
            "time: 119.83857464790344 Epoch: 249 / 556 loss -0.8191147 trainloss: -0.68234974 validloss: -0.6043661 trainloss2: 0.1304162 validloss2: 0.28428414\n",
            "time: 119.70426201820374 Epoch: 250 / 556 loss -0.80769974 trainloss: -0.6829304 validloss: -0.6072605 trainloss2: 0.13035102 validloss2: 0.28191388\n",
            "time: 119.59328269958496 Epoch: 251 / 556 loss -0.8561978 trainloss: -0.67862517 validloss: -0.6140812 trainloss2: 0.1347269 validloss2: 0.2736712\n",
            "time: 119.79602813720703 Epoch: 252 / 556 loss -0.8102744 trainloss: -0.6818922 validloss: -0.6102348 trainloss2: 0.12863031 validloss2: 0.27678046\n",
            "time: 119.58529710769653 Epoch: 253 / 556 loss -0.83785677 trainloss: -0.68012226 validloss: -0.60818654 trainloss2: 0.13209487 validloss2: 0.27776045\n",
            "time: 119.61139678955078 Epoch: 254 / 556 loss -0.80622375 trainloss: -0.68403083 validloss: -0.6074146 trainloss2: 0.13133264 validloss2: 0.2871157\n",
            "time: 119.70260286331177 Epoch: 255 / 556 loss -0.80465245 trainloss: -0.6829949 validloss: -0.61009604 trainloss2: 0.13094227 validloss2: 0.27394524\n",
            "time: 119.67811441421509 Epoch: 256 / 556 loss -0.78365433 trainloss: -0.68177724 validloss: -0.6095839 trainloss2: 0.13265789 validloss2: 0.28503865\n",
            "time: 119.53338623046875 Epoch: 257 / 556 loss -0.80182123 trainloss: -0.68092644 validloss: -0.61119944 trainloss2: 0.13357978 validloss2: 0.27385825\n",
            "time: 119.5698139667511 Epoch: 258 / 556 loss -0.82855636 trainloss: -0.6816218 validloss: -0.6133519 trainloss2: 0.12878172 validloss2: 0.27673027\n",
            "time: 119.69657897949219 Epoch: 259 / 556 loss -0.7982446 trainloss: -0.68680316 validloss: -0.61141235 trainloss2: 0.1297965 validloss2: 0.27482456\n",
            "time: 119.64534568786621 Epoch: 260 / 556 loss -0.8171148 trainloss: -0.6833183 validloss: -0.6083963 trainloss2: 0.13237199 validloss2: 0.2774701\n",
            "time: 119.58107995986938 Epoch: 261 / 556 loss -0.8169825 trainloss: -0.6815213 validloss: -0.6121612 trainloss2: 0.1330459 validloss2: 0.27656627\n",
            "time: 119.61801028251648 Epoch: 262 / 556 loss -0.82126284 trainloss: -0.6840402 validloss: -0.61322683 trainloss2: 0.12945877 validloss2: 0.28209928\n",
            "time: 119.74089860916138 Epoch: 263 / 556 loss -0.83940905 trainloss: -0.6840229 validloss: -0.6070929 trainloss2: 0.1323221 validloss2: 0.2827878\n",
            "time: 119.6655924320221 Epoch: 264 / 556 loss -0.8172441 trainloss: -0.6822859 validloss: -0.61458045 trainloss2: 0.133169 validloss2: 0.2751068\n",
            "time: 119.41293120384216 Epoch: 265 / 556 loss -0.8448097 trainloss: -0.68460935 validloss: -0.6097116 trainloss2: 0.12989478 validloss2: 0.28095448\n",
            "time: 119.16867232322693 Epoch: 266 / 556 loss -0.8213421 trainloss: -0.6822246 validloss: -0.6070405 trainloss2: 0.13249825 validloss2: 0.27924338\n",
            "time: 119.18151354789734 Epoch: 267 / 556 loss -0.8058192 trainloss: -0.6829459 validloss: -0.6187635 trainloss2: 0.13266489 validloss2: 0.27852055\n",
            "time: 119.15407872200012 Epoch: 268 / 556 loss -0.804024 trainloss: -0.6841924 validloss: -0.6108866 trainloss2: 0.13227731 validloss2: 0.2769543\n",
            "time: 119.19701814651489 Epoch: 269 / 556 loss -0.8303111 trainloss: -0.6817601 validloss: -0.60664374 trainloss2: 0.13100082 validloss2: 0.28791404\n",
            "time: 119.1271710395813 Epoch: 270 / 556 loss -0.83466345 trainloss: -0.6866785 validloss: -0.61399496 trainloss2: 0.13244146 validloss2: 0.27949294\n",
            "time: 119.15987086296082 Epoch: 271 / 556 loss -0.7991073 trainloss: -0.68441737 validloss: -0.6131628 trainloss2: 0.1318445 validloss2: 0.27951896\n",
            "time: 119.24319458007812 Epoch: 272 / 556 loss -0.7992501 trainloss: -0.6782781 validloss: -0.6184467 trainloss2: 0.13299437 validloss2: 0.27166227\n",
            "time: 119.13651013374329 Epoch: 273 / 556 loss -0.81957304 trainloss: -0.68371826 validloss: -0.61034775 trainloss2: 0.1324057 validloss2: 0.27896598\n",
            "time: 119.13202619552612 Epoch: 274 / 556 loss -0.79690844 trainloss: -0.683238 validloss: -0.61152506 trainloss2: 0.13022403 validloss2: 0.2748193\n",
            "time: 119.1307442188263 Epoch: 275 / 556 loss -0.8148615 trainloss: -0.68278646 validloss: -0.613941 trainloss2: 0.1316123 validloss2: 0.2800836\n",
            "time: 119.16453456878662 Epoch: 276 / 556 loss -0.82368296 trainloss: -0.6840074 validloss: -0.6089143 trainloss2: 0.13519125 validloss2: 0.27847826\n",
            "time: 119.22444462776184 Epoch: 277 / 556 loss -0.833122 trainloss: -0.68517596 validloss: -0.6116373 trainloss2: 0.13073765 validloss2: 0.279977\n",
            "time: 119.15974259376526 Epoch: 278 / 556 loss -0.80393094 trainloss: -0.68143487 validloss: -0.6042097 trainloss2: 0.13203526 validloss2: 0.27718163\n",
            "time: 119.25938677787781 Epoch: 279 / 556 loss -0.80529803 trainloss: -0.68379647 validloss: -0.60785043 trainloss2: 0.12936461 validloss2: 0.28419048\n",
            "time: 119.09706616401672 Epoch: 280 / 556 loss -0.791728 trainloss: -0.68097997 validloss: -0.6119631 trainloss2: 0.13321368 validloss2: 0.28216803\n",
            "time: 119.1544759273529 Epoch: 281 / 556 loss -0.8233947 trainloss: -0.682499 validloss: -0.612085 trainloss2: 0.12875585 validloss2: 0.27708012\n",
            "time: 119.15936732292175 Epoch: 282 / 556 loss -0.80518365 trainloss: -0.6822568 validloss: -0.609937 trainloss2: 0.13533309 validloss2: 0.27879456\n",
            "time: 119.24631381034851 Epoch: 283 / 556 loss -0.83950883 trainloss: -0.6845306 validloss: -0.6073269 trainloss2: 0.13025531 validloss2: 0.28182408\n",
            "time: 119.38407325744629 Epoch: 284 / 556 loss -0.8270105 trainloss: -0.68334347 validloss: -0.61272717 trainloss2: 0.13109352 validloss2: 0.27143383\n",
            "time: 119.24978041648865 Epoch: 285 / 556 loss -0.80315405 trainloss: -0.6847146 validloss: -0.6113797 trainloss2: 0.1323896 validloss2: 0.28306112\n",
            "time: 119.43300652503967 Epoch: 286 / 556 loss -0.8063266 trainloss: -0.68371594 validloss: -0.61296755 trainloss2: 0.13061304 validloss2: 0.2843092\n",
            "time: 119.4111020565033 Epoch: 287 / 556 loss -0.8287584 trainloss: -0.6838559 validloss: -0.6017406 trainloss2: 0.12854448 validloss2: 0.2834666\n",
            "time: 119.59641075134277 Epoch: 288 / 556 loss -0.8148856 trainloss: -0.6835334 validloss: -0.6132664 trainloss2: 0.12996642 validloss2: 0.27848652\n",
            "time: 120.36869072914124 Epoch: 289 / 556 loss -0.8338822 trainloss: -0.68518394 validloss: -0.6094448 trainloss2: 0.13243496 validloss2: 0.28025383\n",
            "time: 120.13616228103638 Epoch: 290 / 556 loss -0.8131915 trainloss: -0.683593 validloss: -0.6118373 trainloss2: 0.1309844 validloss2: 0.27960092\n",
            "time: 120.25285768508911 Epoch: 291 / 556 loss -0.81401086 trainloss: -0.6831066 validloss: -0.6075683 trainloss2: 0.133969 validloss2: 0.28437918\n",
            "time: 120.27895545959473 Epoch: 292 / 556 loss -0.83980817 trainloss: -0.6840088 validloss: -0.6028573 trainloss2: 0.13131459 validloss2: 0.28407237\n",
            "time: 120.05774331092834 Epoch: 293 / 556 loss -0.8176997 trainloss: -0.6814766 validloss: -0.61488783 trainloss2: 0.13303396 validloss2: 0.2786103\n",
            "time: 120.18633341789246 Epoch: 294 / 556 loss -0.8133661 trainloss: -0.68516284 validloss: -0.6106635 trainloss2: 0.13116886 validloss2: 0.2797742\n",
            "time: 120.18647742271423 Epoch: 295 / 556 loss -0.8161306 trainloss: -0.6827031 validloss: -0.6090923 trainloss2: 0.13259077 validloss2: 0.27610385\n",
            "time: 120.0754292011261 Epoch: 296 / 556 loss -0.8064154 trainloss: -0.68592584 validloss: -0.60591185 trainloss2: 0.13131192 validloss2: 0.28251407\n",
            "time: 120.13784694671631 Epoch: 297 / 556 loss -0.8184951 trainloss: -0.6806094 validloss: -0.61450213 trainloss2: 0.12860829 validloss2: 0.27330208\n",
            "time: 120.05973982810974 Epoch: 298 / 556 loss -0.8139323 trainloss: -0.68247133 validloss: -0.6067315 trainloss2: 0.13340986 validloss2: 0.2827614\n",
            "time: 119.99149513244629 Epoch: 299 / 556 loss -0.829444 trainloss: -0.6815333 validloss: -0.6087549 trainloss2: 0.13234568 validloss2: 0.27534354\n",
            "time: 120.12979698181152 Epoch: 300 / 556 loss -0.81021947 trainloss: -0.684727 validloss: -0.6210284 trainloss2: 0.13440125 validloss2: 0.27045587\n",
            "time: 119.9965934753418 Epoch: 301 / 556 loss -0.7986348 trainloss: -0.68388563 validloss: -0.6075857 trainloss2: 0.130449 validloss2: 0.27353847\n",
            "time: 120.14308404922485 Epoch: 302 / 556 loss -0.8195267 trainloss: -0.6814844 validloss: -0.60898066 trainloss2: 0.12857096 validloss2: 0.27707103\n",
            "time: 120.19171333312988 Epoch: 303 / 556 loss -0.8108175 trainloss: -0.6816382 validloss: -0.6160504 trainloss2: 0.13422918 validloss2: 0.2746444\n",
            "time: 120.22370290756226 Epoch: 304 / 556 loss -0.80487996 trainloss: -0.6820796 validloss: -0.61454344 trainloss2: 0.12976338 validloss2: 0.27648503\n",
            "time: 120.13851523399353 Epoch: 305 / 556 loss -0.7953229 trainloss: -0.6842051 validloss: -0.60490984 trainloss2: 0.13306595 validloss2: 0.27771863\n",
            "time: 120.18717193603516 Epoch: 306 / 556 loss -0.8172252 trainloss: -0.68203086 validloss: -0.6102456 trainloss2: 0.13286223 validloss2: 0.2785193\n",
            "time: 120.13967752456665 Epoch: 307 / 556 loss -0.84395087 trainloss: -0.6850744 validloss: -0.6061785 trainloss2: 0.12987638 validloss2: 0.2877502\n",
            "time: 120.15279984474182 Epoch: 308 / 556 loss -0.80552524 trainloss: -0.6824603 validloss: -0.60882086 trainloss2: 0.1318219 validloss2: 0.27781025\n",
            "time: 120.15037488937378 Epoch: 309 / 556 loss -0.825074 trainloss: -0.6830862 validloss: -0.6018959 trainloss2: 0.12898968 validloss2: 0.2867406\n",
            "time: 119.92947125434875 Epoch: 310 / 556 loss -0.79387057 trainloss: -0.68281716 validloss: -0.61801904 trainloss2: 0.13083416 validloss2: 0.2707592\n",
            "time: 120.1160056591034 Epoch: 311 / 556 loss -0.82206345 trainloss: -0.6870127 validloss: -0.60198545 trainloss2: 0.13093673 validloss2: 0.2844691\n",
            "time: 120.08685970306396 Epoch: 312 / 556 loss -0.77487165 trainloss: -0.6848152 validloss: -0.6039304 trainloss2: 0.12915593 validloss2: 0.2805217\n",
            "time: 120.2129077911377 Epoch: 313 / 556 loss -0.8288958 trainloss: -0.68602186 validloss: -0.61196554 trainloss2: 0.13127284 validloss2: 0.27522027\n",
            "time: 120.0280818939209 Epoch: 314 / 556 loss -0.829276 trainloss: -0.684927 validloss: -0.61104375 trainloss2: 0.13126913 validloss2: 0.28306004\n",
            "time: 120.18425011634827 Epoch: 315 / 556 loss -0.83913344 trainloss: -0.68339455 validloss: -0.6091495 trainloss2: 0.13015993 validloss2: 0.28040132\n",
            "time: 120.21900057792664 Epoch: 316 / 556 loss -0.8117729 trainloss: -0.68585414 validloss: -0.6094974 trainloss2: 0.13101222 validloss2: 0.280086\n",
            "time: 120.09859704971313 Epoch: 317 / 556 loss -0.7953663 trainloss: -0.68420976 validloss: -0.6078498 trainloss2: 0.131314 validloss2: 0.2754467\n",
            "time: 120.13600087165833 Epoch: 318 / 556 loss -0.8386264 trainloss: -0.6847375 validloss: -0.60531855 trainloss2: 0.13146493 validloss2: 0.28768197\n",
            "time: 120.01882886886597 Epoch: 319 / 556 loss -0.80715233 trainloss: -0.6832804 validloss: -0.61156386 trainloss2: 0.12921235 validloss2: 0.27715838\n",
            "time: 120.17966198921204 Epoch: 320 / 556 loss -0.8343774 trainloss: -0.6871646 validloss: -0.6113591 trainloss2: 0.12850903 validloss2: 0.27665234\n",
            "time: 119.95817637443542 Epoch: 321 / 556 loss -0.82015455 trainloss: -0.6814972 validloss: -0.61194676 trainloss2: 0.130474 validloss2: 0.27535006\n",
            "time: 119.92936587333679 Epoch: 322 / 556 loss -0.7915581 trainloss: -0.6793574 validloss: -0.60815513 trainloss2: 0.13046274 validloss2: 0.27640104\n",
            "time: 119.95184016227722 Epoch: 323 / 556 loss -0.8416647 trainloss: -0.6869939 validloss: -0.60819906 trainloss2: 0.1336597 validloss2: 0.28365445\n",
            "time: 119.92929768562317 Epoch: 324 / 556 loss -0.8440705 trainloss: -0.68525815 validloss: -0.6069198 trainloss2: 0.13277446 validloss2: 0.28302497\n",
            "time: 120.11814665794373 Epoch: 325 / 556 loss -0.83011085 trainloss: -0.6844541 validloss: -0.6080544 trainloss2: 0.12912238 validloss2: 0.28243667\n",
            "time: 120.11750340461731 Epoch: 326 / 556 loss -0.79469705 trainloss: -0.68084425 validloss: -0.60890585 trainloss2: 0.12859808 validloss2: 0.27577612\n",
            "time: 120.1389548778534 Epoch: 327 / 556 loss -0.8225548 trainloss: -0.6857021 validloss: -0.60797286 trainloss2: 0.1347932 validloss2: 0.27866864\n",
            "time: 119.9980046749115 Epoch: 328 / 556 loss -0.8114729 trainloss: -0.68197656 validloss: -0.60900337 trainloss2: 0.13170975 validloss2: 0.27974853\n",
            "time: 120.18112421035767 Epoch: 329 / 556 loss -0.8001444 trainloss: -0.6809301 validloss: -0.6103684 trainloss2: 0.13013685 validloss2: 0.28035507\n",
            "time: 120.1005346775055 Epoch: 330 / 556 loss -0.8366246 trainloss: -0.68523234 validloss: -0.6054034 trainloss2: 0.1302294 validloss2: 0.27256095\n",
            "time: 120.15941548347473 Epoch: 331 / 556 loss -0.82739156 trainloss: -0.6853186 validloss: -0.6086224 trainloss2: 0.13124043 validloss2: 0.28061113\n",
            "time: 119.90674901008606 Epoch: 332 / 556 loss -0.81949705 trainloss: -0.68101555 validloss: -0.6107451 trainloss2: 0.13353056 validloss2: 0.2754977\n",
            "time: 120.10823798179626 Epoch: 333 / 556 loss -0.8250454 trainloss: -0.68450695 validloss: -0.6150509 trainloss2: 0.1308623 validloss2: 0.27526444\n",
            "time: 120.05378913879395 Epoch: 334 / 556 loss -0.8194546 trainloss: -0.68588394 validloss: -0.6048531 trainloss2: 0.13083902 validloss2: 0.2768299\n",
            "time: 120.05963635444641 Epoch: 335 / 556 loss -0.81191045 trainloss: -0.68312186 validloss: -0.6112325 trainloss2: 0.13207726 validloss2: 0.2845935\n",
            "time: 120.09984564781189 Epoch: 336 / 556 loss -0.8043882 trainloss: -0.68326604 validloss: -0.6134238 trainloss2: 0.1340416 validloss2: 0.2804064\n",
            "time: 120.05246067047119 Epoch: 337 / 556 loss -0.7923172 trainloss: -0.6837278 validloss: -0.6020631 trainloss2: 0.12909071 validloss2: 0.28563493\n",
            "time: 120.28194618225098 Epoch: 338 / 556 loss -0.8227172 trainloss: -0.68177825 validloss: -0.6071857 trainloss2: 0.13169636 validloss2: 0.2842127\n",
            "time: 120.15781712532043 Epoch: 339 / 556 loss -0.8009403 trainloss: -0.6850565 validloss: -0.60884416 trainloss2: 0.13237853 validloss2: 0.28118744\n",
            "time: 120.18861675262451 Epoch: 340 / 556 loss -0.83187366 trainloss: -0.6861277 validloss: -0.60538316 trainloss2: 0.13005179 validloss2: 0.28696597\n",
            "time: 120.08769583702087 Epoch: 341 / 556 loss -0.82162994 trainloss: -0.68686134 validloss: -0.6075207 trainloss2: 0.13130628 validloss2: 0.28156173\n",
            "time: 120.15479135513306 Epoch: 342 / 556 loss -0.8096597 trainloss: -0.6870759 validloss: -0.6095072 trainloss2: 0.12820038 validloss2: 0.27705824\n",
            "time: 120.16944217681885 Epoch: 343 / 556 loss -0.821869 trainloss: -0.68342847 validloss: -0.62089026 trainloss2: 0.13105173 validloss2: 0.27382767\n",
            "time: 120.1844835281372 Epoch: 344 / 556 loss -0.8211266 trainloss: -0.6840935 validloss: -0.6137038 trainloss2: 0.13308962 validloss2: 0.28121665\n",
            "time: 120.0012617111206 Epoch: 345 / 556 loss -0.8368686 trainloss: -0.68814754 validloss: -0.6161377 trainloss2: 0.12930262 validloss2: 0.27345276\n",
            "time: 120.01850771903992 Epoch: 346 / 556 loss -0.8156184 trainloss: -0.6839472 validloss: -0.60579205 trainloss2: 0.13044228 validloss2: 0.28183475\n",
            "time: 120.08389592170715 Epoch: 347 / 556 loss -0.81721735 trainloss: -0.6877367 validloss: -0.6087948 trainloss2: 0.12947312 validloss2: 0.28238487\n",
            "time: 120.02403402328491 Epoch: 348 / 556 loss -0.82192266 trainloss: -0.68516505 validloss: -0.61203146 trainloss2: 0.12996155 validloss2: 0.27261156\n",
            "time: 120.00692582130432 Epoch: 349 / 556 loss -0.82251346 trainloss: -0.6828402 validloss: -0.609215 trainloss2: 0.1338031 validloss2: 0.27905276\n",
            "time: 120.03151059150696 Epoch: 350 / 556 loss -0.8073777 trainloss: -0.68133515 validloss: -0.6166128 trainloss2: 0.1281194 validloss2: 0.26455548\n",
            "time: 119.94944500923157 Epoch: 351 / 556 loss -0.80472386 trainloss: -0.68298775 validloss: -0.6079185 trainloss2: 0.12948407 validloss2: 0.27831122\n",
            "time: 120.00058197975159 Epoch: 352 / 556 loss -0.8201097 trainloss: -0.68504745 validloss: -0.6056829 trainloss2: 0.13360505 validloss2: 0.28566018\n",
            "time: 120.14660263061523 Epoch: 353 / 556 loss -0.8395003 trainloss: -0.68479264 validloss: -0.61185354 trainloss2: 0.13029741 validloss2: 0.27848548\n",
            "time: 120.08560466766357 Epoch: 354 / 556 loss -0.8058566 trainloss: -0.6826346 validloss: -0.6145993 trainloss2: 0.13262479 validloss2: 0.27546024\n",
            "time: 119.86954689025879 Epoch: 355 / 556 loss -0.84584695 trainloss: -0.6835679 validloss: -0.6091775 trainloss2: 0.1285384 validloss2: 0.28860927\n",
            "time: 120.05486607551575 Epoch: 356 / 556 loss -0.8201159 trainloss: -0.6865162 validloss: -0.61399347 trainloss2: 0.130501 validloss2: 0.27685142\n",
            "time: 120.11474967002869 Epoch: 357 / 556 loss -0.81149536 trainloss: -0.6874979 validloss: -0.60865134 trainloss2: 0.13265118 validloss2: 0.2734326\n",
            "time: 120.17504906654358 Epoch: 358 / 556 loss -0.8235223 trainloss: -0.6843632 validloss: -0.6095698 trainloss2: 0.13098858 validloss2: 0.2870236\n",
            "time: 120.04129576683044 Epoch: 359 / 556 loss -0.80689937 trainloss: -0.6888808 validloss: -0.60774565 trainloss2: 0.13073066 validloss2: 0.27644214\n",
            "time: 119.92272877693176 Epoch: 360 / 556 loss -0.80133843 trainloss: -0.6824406 validloss: -0.6032079 trainloss2: 0.12899972 validloss2: 0.27627\n",
            "time: 120.04559183120728 Epoch: 361 / 556 loss -0.8317336 trainloss: -0.68200296 validloss: -0.6022594 trainloss2: 0.13209544 validloss2: 0.27790746\n",
            "time: 119.95107674598694 Epoch: 362 / 556 loss -0.8435843 trainloss: -0.67923427 validloss: -0.6043047 trainloss2: 0.13250914 validloss2: 0.28793147\n",
            "time: 119.92921280860901 Epoch: 363 / 556 loss -0.8355029 trainloss: -0.684546 validloss: -0.61200035 trainloss2: 0.13218156 validloss2: 0.28455344\n",
            "time: 119.8135392665863 Epoch: 364 / 556 loss -0.82773244 trainloss: -0.68405557 validloss: -0.59905726 trainloss2: 0.13290183 validloss2: 0.2925153\n",
            "time: 120.01621222496033 Epoch: 365 / 556 loss -0.8022683 trainloss: -0.6825038 validloss: -0.61237574 trainloss2: 0.12768403 validloss2: 0.28080684\n",
            "time: 120.08017945289612 Epoch: 366 / 556 loss -0.82799065 trainloss: -0.685347 validloss: -0.6101486 trainloss2: 0.13317083 validloss2: 0.2797309\n",
            "time: 119.93081998825073 Epoch: 367 / 556 loss -0.80661714 trainloss: -0.68275356 validloss: -0.60262257 trainloss2: 0.13100569 validloss2: 0.27803287\n",
            "time: 119.99134469032288 Epoch: 368 / 556 loss -0.8204931 trainloss: -0.6807719 validloss: -0.603138 trainloss2: 0.1318446 validloss2: 0.2788011\n",
            "time: 119.79536175727844 Epoch: 369 / 556 loss -0.82536304 trainloss: -0.68413776 validloss: -0.6099798 trainloss2: 0.13013591 validloss2: 0.28034818\n",
            "time: 120.05452728271484 Epoch: 370 / 556 loss -0.81240493 trainloss: -0.6841389 validloss: -0.6038681 trainloss2: 0.12994166 validloss2: 0.2805859\n",
            "time: 120.01136684417725 Epoch: 371 / 556 loss -0.7921024 trainloss: -0.68123287 validloss: -0.6122256 trainloss2: 0.13056783 validloss2: 0.28250232\n",
            "time: 119.88391590118408 Epoch: 372 / 556 loss -0.8143388 trainloss: -0.6841321 validloss: -0.610222 trainloss2: 0.13065523 validloss2: 0.27722558\n",
            "time: 119.92107558250427 Epoch: 373 / 556 loss -0.8170421 trainloss: -0.6819381 validloss: -0.60913557 trainloss2: 0.12854981 validloss2: 0.28028446\n",
            "time: 119.84177017211914 Epoch: 374 / 556 loss -0.78693354 trainloss: -0.6902409 validloss: -0.6061379 trainloss2: 0.12745902 validloss2: 0.28253135\n",
            "time: 119.92200422286987 Epoch: 375 / 556 loss -0.80817306 trainloss: -0.6855598 validloss: -0.6081523 trainloss2: 0.13340928 validloss2: 0.27988905\n",
            "time: 120.02226281166077 Epoch: 376 / 556 loss -0.8309077 trainloss: -0.6813055 validloss: -0.61009675 trainloss2: 0.13179655 validloss2: 0.2825056\n",
            "time: 120.1324474811554 Epoch: 377 / 556 loss -0.83137596 trainloss: -0.6857177 validloss: -0.6033271 trainloss2: 0.12796398 validloss2: 0.28369257\n",
            "time: 119.70134949684143 Epoch: 378 / 556 loss -0.8233883 trainloss: -0.68185794 validloss: -0.61581784 trainloss2: 0.13060498 validloss2: 0.27482793\n",
            "time: 119.14108276367188 Epoch: 379 / 556 loss -0.8071283 trainloss: -0.6877873 validloss: -0.6094553 trainloss2: 0.13167222 validloss2: 0.28062364\n",
            "time: 119.0589292049408 Epoch: 380 / 556 loss -0.8145996 trainloss: -0.68592966 validloss: -0.6075457 trainloss2: 0.12905328 validloss2: 0.29455414\n",
            "time: 119.15095496177673 Epoch: 381 / 556 loss -0.7830955 trainloss: -0.68301225 validloss: -0.6179795 trainloss2: 0.1307632 validloss2: 0.27608413\n",
            "time: 119.17195272445679 Epoch: 382 / 556 loss -0.8182033 trainloss: -0.6851026 validloss: -0.60782427 trainloss2: 0.13182455 validloss2: 0.28396556\n",
            "time: 118.97952103614807 Epoch: 383 / 556 loss -0.836924 trainloss: -0.68105364 validloss: -0.6098505 trainloss2: 0.13054952 validloss2: 0.27905282\n",
            "time: 119.15459179878235 Epoch: 384 / 556 loss -0.8148944 trainloss: -0.6845259 validloss: -0.61105394 trainloss2: 0.13034946 validloss2: 0.27781522\n",
            "time: 119.12075018882751 Epoch: 385 / 556 loss -0.85412717 trainloss: -0.6866128 validloss: -0.61210686 trainloss2: 0.13134623 validloss2: 0.28736982\n",
            "time: 118.86359000205994 Epoch: 386 / 556 loss -0.82044196 trainloss: -0.68145746 validloss: -0.6163734 trainloss2: 0.13078976 validloss2: 0.2756637\n",
            "time: 118.8577527999878 Epoch: 387 / 556 loss -0.8353181 trainloss: -0.6868312 validloss: -0.6086466 trainloss2: 0.13174863 validloss2: 0.2860754\n",
            "time: 118.97236800193787 Epoch: 388 / 556 loss -0.82067984 trainloss: -0.6828993 validloss: -0.6095733 trainloss2: 0.12983245 validloss2: 0.28373778\n",
            "time: 118.94859290122986 Epoch: 389 / 556 loss -0.7997402 trainloss: -0.68331134 validloss: -0.60618955 trainloss2: 0.12940197 validloss2: 0.29041627\n",
            "time: 118.93588376045227 Epoch: 390 / 556 loss -0.8335804 trainloss: -0.6867049 validloss: -0.6126961 trainloss2: 0.12854688 validloss2: 0.28710043\n",
            "time: 118.86460876464844 Epoch: 391 / 556 loss -0.7949888 trainloss: -0.6821324 validloss: -0.6060106 trainloss2: 0.13135114 validloss2: 0.28552052\n",
            "time: 119.06413245201111 Epoch: 392 / 556 loss -0.8085368 trainloss: -0.68561834 validloss: -0.6152959 trainloss2: 0.12874527 validloss2: 0.27949202\n",
            "time: 119.06514501571655 Epoch: 393 / 556 loss -0.84925056 trainloss: -0.6881607 validloss: -0.60276914 trainloss2: 0.12988575 validloss2: 0.28393903\n",
            "time: 118.94842457771301 Epoch: 394 / 556 loss -0.8122535 trainloss: -0.6861399 validloss: -0.61385286 trainloss2: 0.13162999 validloss2: 0.26870328\n",
            "time: 118.97016930580139 Epoch: 395 / 556 loss -0.80020976 trainloss: -0.6837092 validloss: -0.6080862 trainloss2: 0.13005242 validloss2: 0.27377832\n",
            "time: 119.16916394233704 Epoch: 396 / 556 loss -0.83730465 trainloss: -0.68653744 validloss: -0.61252034 trainloss2: 0.12992005 validloss2: 0.27612203\n",
            "time: 118.89313054084778 Epoch: 397 / 556 loss -0.8326731 trainloss: -0.68682516 validloss: -0.59976304 trainloss2: 0.12865445 validloss2: 0.28424668\n",
            "time: 119.25804114341736 Epoch: 398 / 556 loss -0.7941163 trainloss: -0.6814271 validloss: -0.60682577 trainloss2: 0.13069677 validloss2: 0.27828464\n",
            "time: 119.15144109725952 Epoch: 399 / 556 loss -0.8406593 trainloss: -0.6852512 validloss: -0.60754734 trainloss2: 0.12777333 validloss2: 0.27777195\n",
            "time: 119.15482640266418 Epoch: 400 / 556 loss -0.8150099 trainloss: -0.6849475 validloss: -0.6066986 trainloss2: 0.13286562 validloss2: 0.28720993\n",
            "time: 119.12057328224182 Epoch: 401 / 556 loss -0.83733666 trainloss: -0.68770796 validloss: -0.606127 trainloss2: 0.1313913 validloss2: 0.28422052\n",
            "time: 119.24035787582397 Epoch: 402 / 556 loss -0.8453687 trainloss: -0.6830923 validloss: -0.6084233 trainloss2: 0.12948805 validloss2: 0.28521705\n",
            "time: 119.14654636383057 Epoch: 403 / 556 loss -0.8205123 trainloss: -0.6818734 validloss: -0.6101824 trainloss2: 0.13013177 validloss2: 0.28580514\n",
            "time: 119.10619735717773 Epoch: 404 / 556 loss -0.81177986 trainloss: -0.6829863 validloss: -0.61229193 trainloss2: 0.1340503 validloss2: 0.28385308\n",
            "time: 119.241366147995 Epoch: 405 / 556 loss -0.81949806 trainloss: -0.68405855 validloss: -0.6043369 trainloss2: 0.13077329 validloss2: 0.2842152\n",
            "time: 119.14683198928833 Epoch: 406 / 556 loss -0.840448 trainloss: -0.685926 validloss: -0.60793364 trainloss2: 0.12895024 validloss2: 0.2877135\n",
            "time: 119.17596554756165 Epoch: 407 / 556 loss -0.8076797 trainloss: -0.6839365 validloss: -0.61212784 trainloss2: 0.13042347 validloss2: 0.27689502\n",
            "time: 119.21276879310608 Epoch: 408 / 556 loss -0.8276918 trainloss: -0.68592185 validloss: -0.61161387 trainloss2: 0.13160509 validloss2: 0.2801965\n",
            "time: 119.12231016159058 Epoch: 409 / 556 loss -0.8209951 trainloss: -0.6848854 validloss: -0.61690634 trainloss2: 0.13008022 validloss2: 0.28012422\n",
            "time: 119.1397922039032 Epoch: 410 / 556 loss -0.8088913 trainloss: -0.68380994 validloss: -0.6056418 trainloss2: 0.13417438 validloss2: 0.28143427\n",
            "time: 119.24434399604797 Epoch: 411 / 556 loss -0.8067688 trainloss: -0.68185955 validloss: -0.61971724 trainloss2: 0.13172208 validloss2: 0.26994392\n",
            "time: 119.11117649078369 Epoch: 412 / 556 loss -0.8183953 trainloss: -0.68591255 validloss: -0.6173078 trainloss2: 0.13202238 validloss2: 0.2736376\n",
            "time: 119.25418472290039 Epoch: 413 / 556 loss -0.81527954 trainloss: -0.681538 validloss: -0.6085051 trainloss2: 0.12948677 validloss2: 0.2813712\n",
            "time: 119.11739253997803 Epoch: 414 / 556 loss -0.8465434 trainloss: -0.68147063 validloss: -0.61183244 trainloss2: 0.13286343 validloss2: 0.28006294\n",
            "time: 119.17459797859192 Epoch: 415 / 556 loss -0.83652973 trainloss: -0.68983734 validloss: -0.6152839 trainloss2: 0.13093701 validloss2: 0.27467868\n",
            "time: 119.1484386920929 Epoch: 416 / 556 loss -0.8296802 trainloss: -0.68572193 validloss: -0.6100244 trainloss2: 0.12976718 validloss2: 0.28048366\n",
            "time: 119.05651140213013 Epoch: 417 / 556 loss -0.84866303 trainloss: -0.6871569 validloss: -0.61562765 trainloss2: 0.12946635 validloss2: 0.27979818\n",
            "time: 119.02323126792908 Epoch: 418 / 556 loss -0.8263245 trainloss: -0.68395036 validloss: -0.60635465 trainloss2: 0.1305727 validloss2: 0.28747624\n",
            "time: 119.14990139007568 Epoch: 419 / 556 loss -0.7774414 trainloss: -0.68286335 validloss: -0.60772306 trainloss2: 0.13248968 validloss2: 0.2849382\n",
            "time: 119.15390396118164 Epoch: 420 / 556 loss -0.843198 trainloss: -0.6836093 validloss: -0.59334314 trainloss2: 0.12847051 validloss2: 0.29830647\n",
            "time: 119.17237591743469 Epoch: 421 / 556 loss -0.82514596 trainloss: -0.68272763 validloss: -0.61756444 trainloss2: 0.13201928 validloss2: 0.27359343\n",
            "time: 119.17129921913147 Epoch: 422 / 556 loss -0.81414086 trainloss: -0.68265253 validloss: -0.60879743 trainloss2: 0.12713377 validloss2: 0.28371778\n",
            "time: 119.2260890007019 Epoch: 423 / 556 loss -0.819206 trainloss: -0.6837029 validloss: -0.60679775 trainloss2: 0.12927338 validloss2: 0.28149417\n",
            "time: 119.12554025650024 Epoch: 424 / 556 loss -0.80768776 trainloss: -0.68535167 validloss: -0.6095037 trainloss2: 0.13224755 validloss2: 0.2809832\n",
            "time: 119.2188823223114 Epoch: 425 / 556 loss -0.83763796 trainloss: -0.6838508 validloss: -0.6150707 trainloss2: 0.13191436 validloss2: 0.27849686\n",
            "time: 119.14377450942993 Epoch: 426 / 556 loss -0.82860786 trainloss: -0.68845254 validloss: -0.6082683 trainloss2: 0.13179065 validloss2: 0.2825359\n",
            "time: 119.20347595214844 Epoch: 427 / 556 loss -0.82182974 trainloss: -0.6841897 validloss: -0.61243784 trainloss2: 0.13051319 validloss2: 0.2723897\n",
            "time: 119.10159969329834 Epoch: 428 / 556 loss -0.8478458 trainloss: -0.68764585 validloss: -0.61151224 trainloss2: 0.1324864 validloss2: 0.2879462\n",
            "time: 119.2013144493103 Epoch: 429 / 556 loss -0.846473 trainloss: -0.6827077 validloss: -0.61617583 trainloss2: 0.13133089 validloss2: 0.27314907\n",
            "time: 119.12399578094482 Epoch: 430 / 556 loss -0.81832457 trainloss: -0.68646276 validloss: -0.61196226 trainloss2: 0.12826174 validloss2: 0.278465\n",
            "time: 118.94460344314575 Epoch: 431 / 556 loss -0.84399515 trainloss: -0.68651694 validloss: -0.60834146 trainloss2: 0.13070449 validloss2: 0.274565\n",
            "time: 119.15796971321106 Epoch: 432 / 556 loss -0.8190535 trainloss: -0.68646246 validloss: -0.61018324 trainloss2: 0.13227132 validloss2: 0.2819819\n",
            "time: 119.2504780292511 Epoch: 433 / 556 loss -0.82893723 trainloss: -0.6891589 validloss: -0.603956 trainloss2: 0.12661669 validloss2: 0.2780957\n",
            "time: 119.11496758460999 Epoch: 434 / 556 loss -0.7997273 trainloss: -0.6862236 validloss: -0.60975254 trainloss2: 0.12823953 validloss2: 0.284384\n",
            "time: 119.17056441307068 Epoch: 435 / 556 loss -0.78871745 trainloss: -0.68383414 validloss: -0.6061762 trainloss2: 0.13203959 validloss2: 0.28405267\n",
            "time: 119.21687650680542 Epoch: 436 / 556 loss -0.7958082 trainloss: -0.683476 validloss: -0.6111584 trainloss2: 0.13200107 validloss2: 0.28447667\n",
            "time: 119.17220187187195 Epoch: 437 / 556 loss -0.8019785 trainloss: -0.6825282 validloss: -0.61128926 trainloss2: 0.13217664 validloss2: 0.28149995\n",
            "time: 119.1255042552948 Epoch: 438 / 556 loss -0.83340293 trainloss: -0.6818321 validloss: -0.6109399 trainloss2: 0.13406444 validloss2: 0.2842911\n",
            "time: 119.20188975334167 Epoch: 439 / 556 loss -0.81956947 trainloss: -0.6869133 validloss: -0.6146949 trainloss2: 0.129475 validloss2: 0.27282035\n",
            "time: 119.17007160186768 Epoch: 440 / 556 loss -0.80959255 trainloss: -0.6888889 validloss: -0.5964413 trainloss2: 0.13239492 validloss2: 0.293518\n",
            "time: 119.21085786819458 Epoch: 441 / 556 loss -0.8048993 trainloss: -0.6847595 validloss: -0.61172086 trainloss2: 0.12992956 validloss2: 0.27993798\n",
            "time: 119.13958406448364 Epoch: 442 / 556 loss -0.8095072 trainloss: -0.6850753 validloss: -0.606523 trainloss2: 0.1304003 validloss2: 0.28904477\n",
            "time: 119.15061163902283 Epoch: 443 / 556 loss -0.79832023 trainloss: -0.68703634 validloss: -0.60878694 trainloss2: 0.13226473 validloss2: 0.28149623\n",
            "time: 119.17097187042236 Epoch: 444 / 556 loss -0.8310644 trainloss: -0.68488353 validloss: -0.6058131 trainloss2: 0.13213202 validloss2: 0.29865044\n",
            "time: 119.16035962104797 Epoch: 445 / 556 loss -0.8294123 trainloss: -0.6832303 validloss: -0.6073044 trainloss2: 0.13300167 validloss2: 0.28187338\n",
            "time: 119.15778017044067 Epoch: 446 / 556 loss -0.80618435 trainloss: -0.6844638 validloss: -0.60416 trainloss2: 0.13326989 validloss2: 0.28237256\n",
            "time: 119.18036341667175 Epoch: 447 / 556 loss -0.7768101 trainloss: -0.6870156 validloss: -0.60314155 trainloss2: 0.13051797 validloss2: 0.2770916\n",
            "time: 119.17895650863647 Epoch: 448 / 556 loss -0.8449424 trainloss: -0.68517244 validloss: -0.61381423 trainloss2: 0.13126156 validloss2: 0.27647132\n",
            "time: 119.15387511253357 Epoch: 449 / 556 loss -0.80473083 trainloss: -0.6834534 validloss: -0.6102815 trainloss2: 0.13147628 validloss2: 0.28551397\n",
            "time: 119.17797017097473 Epoch: 450 / 556 loss -0.81592107 trainloss: -0.68325526 validloss: -0.61491084 trainloss2: 0.1283466 validloss2: 0.2733506\n",
            "time: 119.16225671768188 Epoch: 451 / 556 loss -0.8177963 trainloss: -0.68617845 validloss: -0.61378497 trainloss2: 0.13156141 validloss2: 0.2779435\n",
            "time: 119.2096951007843 Epoch: 452 / 556 loss -0.8277489 trainloss: -0.68324345 validloss: -0.61154383 trainloss2: 0.13191447 validloss2: 0.27919492\n",
            "time: 119.10045123100281 Epoch: 453 / 556 loss -0.82486176 trainloss: -0.6825378 validloss: -0.61017144 trainloss2: 0.13301432 validloss2: 0.29924625\n",
            "time: 119.21221876144409 Epoch: 454 / 556 loss -0.832036 trainloss: -0.68807817 validloss: -0.60975164 trainloss2: 0.13065289 validloss2: 0.2843155\n",
            "time: 119.1721830368042 Epoch: 455 / 556 loss -0.7837081 trainloss: -0.68266755 validloss: -0.6122845 trainloss2: 0.13071312 validloss2: 0.28686944\n",
            "time: 119.10340428352356 Epoch: 456 / 556 loss -0.8363042 trainloss: -0.68644404 validloss: -0.60774887 trainloss2: 0.13086487 validloss2: 0.2858607\n",
            "time: 119.22566056251526 Epoch: 457 / 556 loss -0.8108268 trainloss: -0.6847816 validloss: -0.60807604 trainloss2: 0.12947127 validloss2: 0.2767583\n",
            "time: 119.1639289855957 Epoch: 458 / 556 loss -0.83307344 trainloss: -0.6863369 validloss: -0.6125034 trainloss2: 0.13027065 validloss2: 0.28074396\n",
            "time: 119.1776077747345 Epoch: 459 / 556 loss -0.8003961 trainloss: -0.6847203 validloss: -0.6124677 trainloss2: 0.13197355 validloss2: 0.27773112\n",
            "time: 119.18316912651062 Epoch: 460 / 556 loss -0.8235078 trainloss: -0.68836194 validloss: -0.6043763 trainloss2: 0.12978819 validloss2: 0.28817105\n",
            "time: 119.16555738449097 Epoch: 461 / 556 loss -0.8434678 trainloss: -0.68777895 validloss: -0.6070898 trainloss2: 0.12851028 validloss2: 0.2806687\n",
            "time: 119.14282369613647 Epoch: 462 / 556 loss -0.84014684 trainloss: -0.68036205 validloss: -0.60268193 trainloss2: 0.13025147 validloss2: 0.28476775\n",
            "time: 119.145911693573 Epoch: 463 / 556 loss -0.8080756 trainloss: -0.6854012 validloss: -0.6055878 trainloss2: 0.13165864 validloss2: 0.28658354\n",
            "time: 119.2238495349884 Epoch: 464 / 556 loss -0.83215404 trainloss: -0.68667305 validloss: -0.6049972 trainloss2: 0.13117719 validloss2: 0.2811638\n",
            "time: 119.14187717437744 Epoch: 465 / 556 loss -0.79214925 trainloss: -0.6833077 validloss: -0.6158506 trainloss2: 0.13032727 validloss2: 0.27661058\n",
            "time: 119.13314533233643 Epoch: 466 / 556 loss -0.81958985 trainloss: -0.68607974 validloss: -0.60052747 trainloss2: 0.1313735 validloss2: 0.2827048\n",
            "time: 119.23293805122375 Epoch: 467 / 556 loss -0.8362062 trainloss: -0.6873419 validloss: -0.608816 trainloss2: 0.13051331 validloss2: 0.2907697\n",
            "time: 119.12709856033325 Epoch: 468 / 556 loss -0.84320575 trainloss: -0.6856935 validloss: -0.60651946 trainloss2: 0.13218167 validloss2: 0.28141195\n",
            "time: 119.12374711036682 Epoch: 469 / 556 loss -0.8197228 trainloss: -0.6828002 validloss: -0.60471225 trainloss2: 0.1305715 validloss2: 0.2856566\n",
            "time: 119.22318577766418 Epoch: 470 / 556 loss -0.8381908 trainloss: -0.68538934 validloss: -0.60757565 trainloss2: 0.12985703 validloss2: 0.2834778\n",
            "time: 119.18955755233765 Epoch: 471 / 556 loss -0.8253553 trainloss: -0.6881539 validloss: -0.6126447 trainloss2: 0.13187416 validloss2: 0.2831095\n",
            "time: 119.13227701187134 Epoch: 472 / 556 loss -0.8394368 trainloss: -0.68196714 validloss: -0.6065988 trainloss2: 0.13258056 validloss2: 0.2828225\n",
            "time: 119.10766100883484 Epoch: 473 / 556 loss -0.79957986 trainloss: -0.6845613 validloss: -0.60900116 trainloss2: 0.13145876 validloss2: 0.27461964\n",
            "time: 118.95344972610474 Epoch: 474 / 556 loss -0.8244752 trainloss: -0.679467 validloss: -0.608859 trainloss2: 0.12954237 validloss2: 0.277766\n",
            "time: 119.1558825969696 Epoch: 475 / 556 loss -0.80229944 trainloss: -0.6838438 validloss: -0.6067923 trainloss2: 0.12963802 validloss2: 0.2785892\n",
            "time: 119.18191862106323 Epoch: 476 / 556 loss -0.81263274 trainloss: -0.6804127 validloss: -0.5967002 trainloss2: 0.13001221 validloss2: 0.2814146\n",
            "time: 119.10189032554626 Epoch: 477 / 556 loss -0.83412963 trainloss: -0.68716735 validloss: -0.6169283 trainloss2: 0.13184135 validloss2: 0.27525225\n",
            "time: 119.00507092475891 Epoch: 478 / 556 loss -0.8236348 trainloss: -0.684253 validloss: -0.6102857 trainloss2: 0.12771681 validloss2: 0.28288344\n",
            "time: 119.21779417991638 Epoch: 479 / 556 loss -0.78312314 trainloss: -0.6878293 validloss: -0.60286885 trainloss2: 0.12692314 validloss2: 0.2825652\n",
            "time: 119.12366390228271 Epoch: 480 / 556 loss -0.82174754 trainloss: -0.6841441 validloss: -0.5999127 trainloss2: 0.13046484 validloss2: 0.29107338\n",
            "time: 119.10381698608398 Epoch: 481 / 556 loss -0.820111 trainloss: -0.6814979 validloss: -0.61014986 trainloss2: 0.13155958 validloss2: 0.2798433\n",
            "time: 119.17784452438354 Epoch: 482 / 556 loss -0.82187027 trainloss: -0.6862278 validloss: -0.60811955 trainloss2: 0.12969011 validloss2: 0.2874852\n",
            "time: 119.00410628318787 Epoch: 483 / 556 loss -0.8058906 trainloss: -0.6866701 validloss: -0.60287076 trainloss2: 0.13043831 validloss2: 0.28654402\n",
            "time: 119.12125086784363 Epoch: 484 / 556 loss -0.8033578 trainloss: -0.6857471 validloss: -0.61056435 trainloss2: 0.12976885 validloss2: 0.2868049\n",
            "time: 119.19012570381165 Epoch: 485 / 556 loss -0.8252755 trainloss: -0.6837647 validloss: -0.6108171 trainloss2: 0.13036738 validloss2: 0.2861036\n",
            "time: 119.10667371749878 Epoch: 486 / 556 loss -0.768604 trainloss: -0.68387395 validloss: -0.619278 trainloss2: 0.13174622 validloss2: 0.2679257\n",
            "time: 119.209055185318 Epoch: 487 / 556 loss -0.8283456 trainloss: -0.68881303 validloss: -0.60445905 trainloss2: 0.12928225 validloss2: 0.286787\n",
            "time: 119.22796034812927 Epoch: 488 / 556 loss -0.8117553 trainloss: -0.6865983 validloss: -0.60871404 trainloss2: 0.13272418 validloss2: 0.2909934\n",
            "time: 119.12200713157654 Epoch: 489 / 556 loss -0.8226228 trainloss: -0.6883862 validloss: -0.6114035 trainloss2: 0.12922682 validloss2: 0.28537545\n",
            "time: 119.19737148284912 Epoch: 490 / 556 loss -0.8346562 trainloss: -0.68453944 validloss: -0.60822713 trainloss2: 0.1303125 validloss2: 0.28372005\n",
            "time: 119.12434959411621 Epoch: 491 / 556 loss -0.8053713 trainloss: -0.6850452 validloss: -0.60748094 trainloss2: 0.1300394 validloss2: 0.28362063\n",
            "time: 119.02261519432068 Epoch: 492 / 556 loss -0.82660574 trainloss: -0.6845555 validloss: -0.60741425 trainloss2: 0.12913303 validloss2: 0.2855009\n",
            "time: 119.08758115768433 Epoch: 493 / 556 loss -0.817984 trainloss: -0.68412393 validloss: -0.6112076 trainloss2: 0.12993695 validloss2: 0.2825473\n",
            "time: 119.20130848884583 Epoch: 494 / 556 loss -0.8106428 trainloss: -0.6861539 validloss: -0.59834176 trainloss2: 0.12756567 validloss2: 0.2840271\n",
            "time: 119.14827084541321 Epoch: 495 / 556 loss -0.81851745 trainloss: -0.6855128 validloss: -0.60502684 trainloss2: 0.12948951 validloss2: 0.28246883\n",
            "time: 119.19075870513916 Epoch: 496 / 556 loss -0.80529654 trainloss: -0.68373746 validloss: -0.6049545 trainloss2: 0.13048624 validloss2: 0.28709552\n",
            "time: 119.1649980545044 Epoch: 497 / 556 loss -0.82708937 trainloss: -0.68615687 validloss: -0.60680974 trainloss2: 0.13213281 validloss2: 0.28946778\n",
            "time: 119.1649284362793 Epoch: 498 / 556 loss -0.7951766 trainloss: -0.6812351 validloss: -0.6115203 trainloss2: 0.13104129 validloss2: 0.29047352\n",
            "time: 119.20581364631653 Epoch: 499 / 556 loss -0.8311079 trainloss: -0.6873774 validloss: -0.6030775 trainloss2: 0.13065124 validloss2: 0.28201786\n",
            "time: 119.09519338607788 Epoch: 500 / 556 loss -0.822537 trainloss: -0.680041 validloss: -0.61080366 trainloss2: 0.13242897 validloss2: 0.2921288\n",
            "time: 119.1432876586914 Epoch: 501 / 556 loss -0.83892214 trainloss: -0.68768156 validloss: -0.59693927 trainloss2: 0.1299464 validloss2: 0.28961244\n",
            "time: 119.23982405662537 Epoch: 502 / 556 loss -0.845538 trainloss: -0.6868875 validloss: -0.6081912 trainloss2: 0.13299017 validloss2: 0.2889979\n",
            "time: 119.1620500087738 Epoch: 503 / 556 loss -0.82249373 trainloss: -0.6867549 validloss: -0.61128926 trainloss2: 0.12935705 validloss2: 0.28413007\n",
            "time: 119.19255304336548 Epoch: 504 / 556 loss -0.8181934 trainloss: -0.6834374 validloss: -0.60980695 trainloss2: 0.12986629 validloss2: 0.28458285\n",
            "time: 119.17986679077148 Epoch: 505 / 556 loss -0.8440394 trainloss: -0.68582356 validloss: -0.6023611 trainloss2: 0.13342609 validloss2: 0.2848622\n",
            "time: 119.20242071151733 Epoch: 506 / 556 loss -0.83180773 trainloss: -0.6850961 validloss: -0.60359627 trainloss2: 0.12862827 validloss2: 0.2878436\n",
            "time: 119.1251151561737 Epoch: 507 / 556 loss -0.8302395 trainloss: -0.686117 validloss: -0.60963947 trainloss2: 0.13081363 validloss2: 0.2908835\n",
            "time: 119.12685966491699 Epoch: 508 / 556 loss -0.82978165 trainloss: -0.68462896 validloss: -0.60910565 trainloss2: 0.13412929 validloss2: 0.28755197\n",
            "time: 119.2539963722229 Epoch: 509 / 556 loss -0.8428779 trainloss: -0.6871675 validloss: -0.60736865 trainloss2: 0.1320023 validloss2: 0.28363076\n",
            "time: 119.1384801864624 Epoch: 510 / 556 loss -0.7893169 trainloss: -0.6880804 validloss: -0.6119437 trainloss2: 0.1307825 validloss2: 0.27923793\n",
            "time: 119.19668650627136 Epoch: 511 / 556 loss -0.8132238 trainloss: -0.6855861 validloss: -0.61262757 trainloss2: 0.12937957 validloss2: 0.2768742\n",
            "time: 119.10299134254456 Epoch: 512 / 556 loss -0.8464082 trainloss: -0.6832389 validloss: -0.61020464 trainloss2: 0.12997141 validloss2: 0.2786309\n",
            "time: 119.16739749908447 Epoch: 513 / 556 loss -0.8257625 trainloss: -0.68762314 validloss: -0.60157603 trainloss2: 0.13049848 validloss2: 0.2853678\n",
            "time: 119.19955444335938 Epoch: 514 / 556 loss -0.79526573 trainloss: -0.68613875 validloss: -0.60469264 trainloss2: 0.12796934 validloss2: 0.28824666\n",
            "time: 119.17383575439453 Epoch: 515 / 556 loss -0.8336383 trainloss: -0.6845528 validloss: -0.6029537 trainloss2: 0.13111413 validloss2: 0.28815776\n",
            "time: 119.10716485977173 Epoch: 516 / 556 loss -0.78260833 trainloss: -0.68379 validloss: -0.6076064 trainloss2: 0.13104343 validloss2: 0.288213\n",
            "time: 119.25092482566833 Epoch: 517 / 556 loss -0.8315218 trainloss: -0.6844077 validloss: -0.6071482 trainloss2: 0.12961987 validloss2: 0.28481063\n",
            "time: 119.08031964302063 Epoch: 518 / 556 loss -0.84047896 trainloss: -0.6831476 validloss: -0.6048713 trainloss2: 0.12674335 validloss2: 0.2837976\n",
            "time: 119.24213576316833 Epoch: 519 / 556 loss -0.8449447 trainloss: -0.68776923 validloss: -0.60813856 trainloss2: 0.13038018 validloss2: 0.27985412\n",
            "time: 119.07181763648987 Epoch: 520 / 556 loss -0.83386064 trainloss: -0.687975 validloss: -0.6028171 trainloss2: 0.1282731 validloss2: 0.28618088\n",
            "time: 119.26816630363464 Epoch: 521 / 556 loss -0.79863036 trainloss: -0.6866518 validloss: -0.61379266 trainloss2: 0.12827629 validloss2: 0.27302697\n",
            "time: 119.38136506080627 Epoch: 522 / 556 loss -0.8393158 trainloss: -0.6850087 validloss: -0.60472697 trainloss2: 0.12912393 validloss2: 0.2851806\n",
            "time: 119.1477472782135 Epoch: 523 / 556 loss -0.7703549 trainloss: -0.6882896 validloss: -0.60510874 trainloss2: 0.13140608 validloss2: 0.27945346\n"
          ],
          "name": "stdout"
        }
      ]
    },
    {
      "metadata": {
        "colab_type": "code",
        "id": "I91j6ggRGbRL",
        "colab": {}
      },
      "cell_type": "code",
      "source": [
        "err_validold"
      ],
      "execution_count": 0,
      "outputs": []
    },
    {
      "metadata": {
        "id": "ecbUuVKF-63b",
        "colab_type": "code",
        "outputId": "50fdbc4f-7171-404c-d343-3d966f5ca334",
        "colab": {
          "base_uri": "https://localhost:8080/",
          "height": 206
        }
      },
      "cell_type": "code",
      "source": [
        "df = pd.read_csv(logfile, index_col=0)\n",
        "df.head()"
      ],
      "execution_count": 0,
      "outputs": [
        {
          "output_type": "execute_result",
          "data": {
            "text/html": [
              "<div>\n",
              "<style scoped>\n",
              "    .dataframe tbody tr th:only-of-type {\n",
              "        vertical-align: middle;\n",
              "    }\n",
              "\n",
              "    .dataframe tbody tr th {\n",
              "        vertical-align: top;\n",
              "    }\n",
              "\n",
              "    .dataframe thead th {\n",
              "        text-align: right;\n",
              "    }\n",
              "</style>\n",
              "<table border=\"1\" class=\"dataframe\">\n",
              "  <thead>\n",
              "    <tr style=\"text-align: right;\">\n",
              "      <th></th>\n",
              "      <th>epoch</th>\n",
              "      <th>lr</th>\n",
              "      <th>loss</th>\n",
              "      <th>E1train</th>\n",
              "      <th>E1valid</th>\n",
              "      <th>E2train</th>\n",
              "      <th>E2valid</th>\n",
              "    </tr>\n",
              "  </thead>\n",
              "  <tbody>\n",
              "    <tr>\n",
              "      <th>0</th>\n",
              "      <td>1</td>\n",
              "      <td>0.02</td>\n",
              "      <td>-0.826918</td>\n",
              "      <td>-0.675099</td>\n",
              "      <td>-0.599859</td>\n",
              "      <td>0.135192</td>\n",
              "      <td>0.258439</td>\n",
              "    </tr>\n",
              "    <tr>\n",
              "      <th>0</th>\n",
              "      <td>2</td>\n",
              "      <td>0.02</td>\n",
              "      <td>-0.805080</td>\n",
              "      <td>-0.666980</td>\n",
              "      <td>-0.598860</td>\n",
              "      <td>0.135607</td>\n",
              "      <td>0.264365</td>\n",
              "    </tr>\n",
              "    <tr>\n",
              "      <th>0</th>\n",
              "      <td>3</td>\n",
              "      <td>0.02</td>\n",
              "      <td>-0.828745</td>\n",
              "      <td>-0.664764</td>\n",
              "      <td>-0.595688</td>\n",
              "      <td>0.139914</td>\n",
              "      <td>0.273182</td>\n",
              "    </tr>\n",
              "    <tr>\n",
              "      <th>0</th>\n",
              "      <td>4</td>\n",
              "      <td>0.02</td>\n",
              "      <td>-0.786168</td>\n",
              "      <td>-0.662371</td>\n",
              "      <td>-0.597828</td>\n",
              "      <td>0.141871</td>\n",
              "      <td>0.272680</td>\n",
              "    </tr>\n",
              "    <tr>\n",
              "      <th>0</th>\n",
              "      <td>5</td>\n",
              "      <td>0.02</td>\n",
              "      <td>-0.788752</td>\n",
              "      <td>-0.664622</td>\n",
              "      <td>-0.596941</td>\n",
              "      <td>0.139785</td>\n",
              "      <td>0.272957</td>\n",
              "    </tr>\n",
              "  </tbody>\n",
              "</table>\n",
              "</div>"
            ],
            "text/plain": [
              "   epoch    lr      loss   E1train   E1valid   E2train   E2valid\n",
              "0      1  0.02 -0.826918 -0.675099 -0.599859  0.135192  0.258439\n",
              "0      2  0.02 -0.805080 -0.666980 -0.598860  0.135607  0.264365\n",
              "0      3  0.02 -0.828745 -0.664764 -0.595688  0.139914  0.273182\n",
              "0      4  0.02 -0.786168 -0.662371 -0.597828  0.141871  0.272680\n",
              "0      5  0.02 -0.788752 -0.664622 -0.596941  0.139785  0.272957"
            ]
          },
          "metadata": {
            "tags": []
          },
          "execution_count": 103
        }
      ]
    },
    {
      "metadata": {
        "id": "rXWCkemn-63s",
        "colab_type": "code",
        "outputId": "82fe6599-5e9e-4b2c-d4ff-0f03ab46197d",
        "colab": {
          "base_uri": "https://localhost:8080/",
          "height": 379
        }
      },
      "cell_type": "code",
      "source": [
        "plt.figure()\n",
        "plt.plot(df['epoch'],df['E1train'])\n",
        "plt.plot(df['epoch'],df['E1valid'],'r')\n",
        "plt.title('E1')"
      ],
      "execution_count": 0,
      "outputs": [
        {
          "output_type": "execute_result",
          "data": {
            "text/plain": [
              "Text(0.5, 1.0, 'E1')"
            ]
          },
          "metadata": {
            "tags": []
          },
          "execution_count": 104
        },
        {
          "output_type": "display_data",
          "data": {
            "image/png": "[encoded data removed]",
            "text/plain": [
              "<Figure size 576x396 with 1 Axes>"
            ]
          },
          "metadata": {
            "tags": []
          }
        }
      ]
    }
  ]
}