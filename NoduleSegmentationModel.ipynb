{
 "cells": [
  {
   "cell_type": "markdown",
   "metadata": {},
   "source": [
    "# Nodule Segmentation: Model"
   ]
  },
  {
   "cell_type": "markdown",
   "metadata": {
    "toc": true
   },
   "source": [
    "<h1>Table of Contents<span class=\"tocSkip\"></span></h1>\n",
    "<div class=\"toc\"><ul class=\"toc-item\"><li><span><a href=\"#Configuration\" data-toc-modified-id=\"Configuration-1\"><span class=\"toc-item-num\">1&nbsp;&nbsp;</span>Configuration</a></span></li><li><span><a href=\"#Preprocessing\" data-toc-modified-id=\"Preprocessing-2\"><span class=\"toc-item-num\">2&nbsp;&nbsp;</span>Preprocessing</a></span><ul class=\"toc-item\"><li><span><a href=\"#Find-mean-of-images\" data-toc-modified-id=\"Find-mean-of-images-2.1\"><span class=\"toc-item-num\">2.1&nbsp;&nbsp;</span>Find mean of images</a></span></li><li><span><a href=\"#Find-variance-of-images\" data-toc-modified-id=\"Find-variance-of-images-2.2\"><span class=\"toc-item-num\">2.2&nbsp;&nbsp;</span>Find variance of images</a></span></li></ul></li><li><span><a href=\"#Data-Iterator\" data-toc-modified-id=\"Data-Iterator-3\"><span class=\"toc-item-num\">3&nbsp;&nbsp;</span>Data Iterator</a></span></li><li><span><a href=\"#Evaluation-Metric\" data-toc-modified-id=\"Evaluation-Metric-4\"><span class=\"toc-item-num\">4&nbsp;&nbsp;</span>Evaluation Metric</a></span></li><li><span><a href=\"#Model-Architecture\" data-toc-modified-id=\"Model-Architecture-5\"><span class=\"toc-item-num\">5&nbsp;&nbsp;</span>Model Architecture</a></span></li><li><span><a href=\"#Optimizer\" data-toc-modified-id=\"Optimizer-6\"><span class=\"toc-item-num\">6&nbsp;&nbsp;</span>Optimizer</a></span><ul class=\"toc-item\"><li><span><a href=\"#Find--learning-rate\" data-toc-modified-id=\"Find--learning-rate-6.1\"><span class=\"toc-item-num\">6.1&nbsp;&nbsp;</span>Find  learning rate</a></span></li><li><span><a href=\"#Optimizer-Parameters\" data-toc-modified-id=\"Optimizer-Parameters-6.2\"><span class=\"toc-item-num\">6.2&nbsp;&nbsp;</span>Optimizer Parameters</a></span></li></ul></li><li><span><a href=\"#Train-Model\" data-toc-modified-id=\"Train-Model-7\"><span class=\"toc-item-num\">7&nbsp;&nbsp;</span>Train Model</a></span></li><li><span><a href=\"#Evaluate-Model\" data-toc-modified-id=\"Evaluate-Model-8\"><span class=\"toc-item-num\">8&nbsp;&nbsp;</span>Evaluate Model</a></span></li></ul></div>"
   ]
  },
  {
   "cell_type": "code",
   "execution_count": 1,
   "metadata": {},
   "outputs": [],
   "source": [
    "%reload_ext autoreload\n",
    "%autoreload 2\n",
    "%matplotlib inline"
   ]
  },
  {
   "cell_type": "code",
   "execution_count": 2,
   "metadata": {},
   "outputs": [],
   "source": [
    "import sys\n",
    "sys.path.insert(0,\"./src\")"
   ]
  },
  {
   "cell_type": "code",
   "execution_count": 3,
   "metadata": {},
   "outputs": [],
   "source": [
    "import mynnet7 as nn\n",
    "import pickle\n",
    "import mxnet as mx\n",
    "from imports import *"
   ]
  },
  {
   "cell_type": "markdown",
   "metadata": {},
   "source": [
    "## Configuration"
   ]
  },
  {
   "cell_type": "code",
   "execution_count": 4,
   "metadata": {},
   "outputs": [],
   "source": [
    "interm_dir4='/home/mas/x110/Datasets/Dataset0/' \n",
    "s = \"2018_10_31\"\n",
    "train_data_path=interm_dir4+'processed/train'+s+'.rec'\n",
    "train_idx_path=interm_dir4+'processed/train'+s+'.idx'\n",
    "valid_data_path=interm_dir4+'processed/valid'+s+'.rec'\n",
    "valid_idx_path=interm_dir4+'processed/valid'+s+'.idx'\n",
    "test_data_path=interm_dir4+'processed/test'+s+'.rec'\n",
    "test_idx_path=interm_dir4+'processed/test'+s+'.idx'"
   ]
  },
  {
   "cell_type": "code",
   "execution_count": 5,
   "metadata": {},
   "outputs": [],
   "source": [
    "find_stats = True\n",
    "bs = 32\n",
    "load_model = False\n",
    "model_path = \"/home/mas/x110/model/oct22\"\n",
    "model_epoch=499\n",
    "prefix = \"/home/mas/x110/model/oct31\"\n",
    "epochs = 500"
   ]
  },
  {
   "cell_type": "markdown",
   "metadata": {},
   "source": [
    "## Preprocessing"
   ]
  },
  {
   "cell_type": "markdown",
   "metadata": {},
   "source": [
    "### Find mean of images"
   ]
  },
  {
   "cell_type": "code",
   "execution_count": 6,
   "metadata": {},
   "outputs": [
    {
     "data": {
      "text/plain": [
       "0.29570130862457866"
      ]
     },
     "execution_count": 6,
     "metadata": {},
     "output_type": "execute_result"
    }
   ],
   "source": [
    "if find_stats:\n",
    "    BATCH_SIZE=1\n",
    "    train_iter=nn.FileIter(train_data_path,train_idx_path,batch_size=BATCH_SIZE,do_augment=True,mean_image=0,std_image=1)\n",
    "    train_iter.reset()\n",
    "    x_mean = np.zeros((32,32,32))\n",
    "    for i,batch in enumerate(train_iter):\n",
    "        X =  batch.data[0][0][0].asnumpy()\n",
    "        x_mean+=X\n",
    "    x_mean=np.mean(x_mean/i)\n",
    "    # Saving the objects:\n",
    "    with open(interm_dir4+'processed/x_mean.pkl', 'wb') as f:  # Python 3: open(..., 'wb')\n",
    "        pickle.dump([x_mean], f)\n",
    "\n",
    "else:\n",
    "    with open(interm_dir4+'processed/x_mean.pkl','rb') as f:  # Python 3: open(..., 'rb')\n",
    "        x_mean = pickle.load(f)\n",
    "x_mean#x_mean=.2815"
   ]
  },
  {
   "cell_type": "code",
   "execution_count": 7,
   "metadata": {},
   "outputs": [],
   "source": [
    "#x_mean=.2815"
   ]
  },
  {
   "cell_type": "markdown",
   "metadata": {},
   "source": [
    "### Find variance of images"
   ]
  },
  {
   "cell_type": "code",
   "execution_count": 8,
   "metadata": {},
   "outputs": [
    {
     "data": {
      "text/plain": [
       "0.2876859371452098"
      ]
     },
     "execution_count": 8,
     "metadata": {},
     "output_type": "execute_result"
    }
   ],
   "source": [
    "if find_stats: \n",
    "    BATCH_SIZE=1\n",
    "    train_iter=nn.FileIter(train_data_path,train_idx_path,batch_size=BATCH_SIZE,do_augment=True,mean_image=0,std_image = 1)\n",
    "    train_iter.reset()\n",
    "    x_var = np.zeros((32,32,32))\n",
    "    for i,batch in enumerate(train_iter):\n",
    "        X =  (batch.data[0][0][0].asnumpy()-x_mean)**2\n",
    "        x_var+=X\n",
    "    #x_var=x_var/(i-1)\n",
    "    #x_var#x_mean=.2815\n",
    "    N = i*32*32*32\n",
    "    x_var = np.sum(x_var)/(N-1)\n",
    "    x_var#x_var = .07877\n",
    "    x_std = np.sqrt(x_var)#x_std=.2807\n",
    "    with open(interm_dir4+'processed/x_std.pkl', 'wb') as f:  # Python 3: open(..., 'wb')\n",
    "        pickle.dump([x_std], f)\n",
    "else:\n",
    "    with open(interm_dir4+'processed/x_std.pkl','rb') as f:  # Python 3: open(..., 'rb')\n",
    "        x_std = pickle.load(f)\n",
    "x_std#x_std=.2807"
   ]
  },
  {
   "cell_type": "markdown",
   "metadata": {},
   "source": [
    "## Data Iterator"
   ]
  },
  {
   "cell_type": "code",
   "execution_count": 9,
   "metadata": {},
   "outputs": [
    {
     "name": "stdout",
     "output_type": "stream",
     "text": [
      "{'softmax_label': (32, 32768), 'data': (32, 1, 32, 32, 32)}\n"
     ]
    }
   ],
   "source": [
    "BATCH_SIZE=bs\n",
    "train_iter=nn.FileIter(train_data_path,train_idx_path,batch_size=BATCH_SIZE,do_augment=False,mean_image=x_mean,std_image = x_std)\n",
    "input_shapes = dict(train_iter.provide_data+train_iter.provide_label)\n",
    "print(input_shapes)"
   ]
  },
  {
   "cell_type": "code",
   "execution_count": 10,
   "metadata": {},
   "outputs": [
    {
     "name": "stdout",
     "output_type": "stream",
     "text": [
      "{'softmax_label': (32, 32768), 'data': (32, 1, 32, 32, 32)}\n"
     ]
    }
   ],
   "source": [
    "print(input_shapes)"
   ]
  },
  {
   "cell_type": "code",
   "execution_count": 11,
   "metadata": {},
   "outputs": [],
   "source": [
    "BATCH_SIZE=bs\n",
    "valid_iter=nn.FileIter(valid_data_path,valid_idx_path,batch_size=BATCH_SIZE,do_augment=False,mean_image=x_mean,std_image = x_std)"
   ]
  },
  {
   "cell_type": "code",
   "execution_count": 12,
   "metadata": {},
   "outputs": [],
   "source": [
    "train_iter.reset()\n",
    "valid_iter.reset()"
   ]
  },
  {
   "cell_type": "markdown",
   "metadata": {},
   "source": [
    "## Evaluation Metric"
   ]
  },
  {
   "cell_type": "code",
   "execution_count": 13,
   "metadata": {},
   "outputs": [],
   "source": [
    "# ===============Evaluation metric(s)================= \n",
    "metric = mx.metric.CustomMetric(feval=nn.dice_coef2)"
   ]
  },
  {
   "cell_type": "markdown",
   "metadata": {},
   "source": [
    "## Model Architecture"
   ]
  },
  {
   "cell_type": "code",
   "execution_count": 14,
   "metadata": {},
   "outputs": [],
   "source": [
    "if load_model:\n",
    "    network, arg_params, aux_params = mx.model.load_checkpoint(model_path , model_epoch)\n",
    "\n",
    "    # Binding\n",
    "    exe = network.simple_bind(ctx=mx.gpu(0), **input_shapes)\n",
    "\n",
    "\n",
    "    exe.copy_params_from(arg_params, aux_params)\n",
    "else:\n",
    "\n",
    "    network = nn.get_net_317()\n",
    "    init = mx.init.Normal(0.01) #note biases and gamma/beta are not affected\n",
    "\n",
    "    # Binding\n",
    "    exe = network.simple_bind(ctx=mx.gpu(), **input_shapes)\n",
    "    # get handle to input arrays\n",
    "    arg_arrays = dict(zip(network.list_arguments(), exe.arg_arrays))\n",
    "    data = arg_arrays[train_iter.provide_data[0][0]]\n",
    "    label = arg_arrays[train_iter.provide_label[0][0]]\n",
    "\n",
    "    # Binding\n",
    "    exe = network.simple_bind(ctx=mx.gpu(), **input_shapes)\n",
    "# get handle to input arrays\n",
    "arg_arrays = dict(zip(network.list_arguments(), exe.arg_arrays))\n",
    "data = arg_arrays[train_iter.provide_data[0][0]]\n",
    "label = arg_arrays[train_iter.provide_label[0][0]]"
   ]
  },
  {
   "cell_type": "markdown",
   "metadata": {},
   "source": [
    "## Optimizer"
   ]
  },
  {
   "cell_type": "markdown",
   "metadata": {},
   "source": [
    "### Find  learning rate"
   ]
  },
  {
   "cell_type": "code",
   "execution_count": 15,
   "metadata": {},
   "outputs": [],
   "source": [
    "nb=train_iter.num_data//train_iter.batch_size"
   ]
  },
  {
   "cell_type": "code",
   "execution_count": 16,
   "metadata": {},
   "outputs": [],
   "source": [
    "sched=nn.lr_find(1e-4,nb,end_lr=1)"
   ]
  },
  {
   "cell_type": "code",
   "execution_count": 17,
   "metadata": {},
   "outputs": [],
   "source": [
    "# We also need to create an optimizer for updating weights\n",
    "opt = mx.optimizer.SGD(\n",
    "    learning_rate=.01,\n",
    "    momentum=0.9,\n",
    "    wd=0.00001,\n",
    "    lr_scheduler=sched)\n",
    "\n",
    "updater = mx.optimizer.get_updater(opt)"
   ]
  },
  {
   "cell_type": "code",
   "execution_count": 18,
   "metadata": {},
   "outputs": [
    {
     "name": "stdout",
     "output_type": "stream",
     "text": [
      "time: 8.499866724014282 Epoch: 0 trainloss: -0.035012063 validloss: -0.04423285\n"
     ]
    }
   ],
   "source": [
    "for epoch in range(0,1):\n",
    "\n",
    "    start = time.time()\n",
    "\n",
    "    metric.reset()\n",
    "\n",
    "    train_iter.reset()\n",
    "    \n",
    "    valid_iter.reset()\n",
    "    \n",
    "    sched.reset()\n",
    "        \n",
    "    sched.on_train_begin()\n",
    "    \n",
    "\n",
    "    for batch in train_iter:\n",
    "        # Copy data to executor input. Note the [:].\n",
    "        data[:] = batch.data[0]\n",
    "        label[:] = batch.label[0]\n",
    "\n",
    "        # Forward\n",
    "        outputs=exe.forward(is_train=True)\n",
    "        # Backward\n",
    "        exe.backward()\n",
    "\n",
    "        # Update\n",
    "        for i, pair in enumerate(zip(exe.arg_arrays, exe.grad_arrays)):\n",
    "            weight, grad = pair\n",
    "            updater(i, grad, weight)   \n",
    "        metric.update(batch.label[0], exe.outputs[0])#metric.update(label,p)\n",
    "        \n",
    "        e=metric.get()\n",
    "        err_train=-e[1].asnumpy()[0]\n",
    "        sched.on_batch_end(err_train)\n",
    "    \n",
    "    if epoch % 100== 0:       \n",
    "        #print(\"do_checkpoint\")\n",
    "        arg={k:v for k, v in arg_arrays.items() if k not in input_shapes}\n",
    "        aux = dict(zip(network.list_auxiliary_states(), exe.aux_arrays))\n",
    "        mx.model.save_checkpoint(prefix, epoch, network, arg, aux)\n",
    "        \n",
    "        \n",
    "    #compute valid loss per epoch    \n",
    "    metric.reset()\n",
    "    for batch in valid_iter:        \n",
    "        data[:] = batch.data[0]       \n",
    "        label[:] = batch.label[0]\n",
    "        # predict\n",
    "        outputs = exe.forward(is_train=False)\n",
    "        metric.update(batch.label[0], exe.outputs[0])\n",
    "    e=metric.get()\n",
    "    err_valid=-e[1].asnumpy()[0]\n",
    "    end = time.time()\n",
    "    print('time:',end-start,'Epoch:',epoch,'trainloss:',err_train,'validloss:',err_valid)"
   ]
  },
  {
   "cell_type": "code",
   "execution_count": 19,
   "metadata": {},
   "outputs": [
    {
     "data": {
      "text/plain": [
       "[<matplotlib.lines.Line2D at 0x7fca5380aeb8>]"
      ]
     },
     "execution_count": 19,
     "metadata": {},
     "output_type": "execute_result"
    },
    {
     "data": {
      "image/png": "[encoded data removed]",
      "text/plain": [
       "<Figure size 432x288 with 1 Axes>"
      ]
     },
     "metadata": {},
     "output_type": "display_data"
    }
   ],
   "source": [
    "plt.plot(sched.lrs, sched.losses)"
   ]
  },
  {
   "cell_type": "markdown",
   "metadata": {},
   "source": [
    "### Optimizer Parameters"
   ]
  },
  {
   "cell_type": "code",
   "execution_count": 30,
   "metadata": {},
   "outputs": [],
   "source": [
    "# We also need to create an optimizer for updating weights\n",
    "# ===============Optimizer=================                        \n",
    "opt = mx.optimizer.SGD(\n",
    "    learning_rate=.1,momentum=0.99,wd=0.000001)"
   ]
  },
  {
   "cell_type": "code",
   "execution_count": 31,
   "metadata": {},
   "outputs": [],
   "source": [
    "updater.optimizer.lr_scheduler=None"
   ]
  },
  {
   "cell_type": "code",
   "execution_count": 32,
   "metadata": {},
   "outputs": [],
   "source": [
    "updater = mx.optimizer.get_updater(opt)"
   ]
  },
  {
   "cell_type": "markdown",
   "metadata": {},
   "source": [
    "## Train Model"
   ]
  },
  {
   "cell_type": "code",
   "execution_count": 34,
   "metadata": {
    "scrolled": false
   },
   "outputs": [
    {
     "name": "stdout",
     "output_type": "stream",
     "text": [
      "time: 2.8861985206604004 Epoch: 0 trainloss: -0.035242498 validloss: -0.04459971\n",
      "time: 2.875284433364868 Epoch: 1 trainloss: -0.03519571 validloss: -0.044599984\n",
      "time: 2.9444684982299805 Epoch: 2 trainloss: -0.035210036 validloss: -0.044600334\n",
      "time: 2.91548490524292 Epoch: 3 trainloss: -0.035240326 validloss: -0.04460079\n",
      "time: 2.948451519012451 Epoch: 4 trainloss: -0.03523682 validloss: -0.04460133\n",
      "time: 2.9097959995269775 Epoch: 5 trainloss: -0.035221487 validloss: -0.044601943\n",
      "time: 2.885143280029297 Epoch: 6 trainloss: -0.03523396 validloss: -0.044602647\n",
      "time: 3.013814926147461 Epoch: 7 trainloss: -0.035244685 validloss: -0.044603437\n",
      "time: 2.946488618850708 Epoch: 8 trainloss: -0.035228767 validloss: -0.044604298\n",
      "time: 3.0086567401885986 Epoch: 9 trainloss: -0.03513771 validloss: -0.044605266\n",
      "time: 3.048368453979492 Epoch: 10 trainloss: -0.03523555 validloss: -0.044606287\n",
      "time: 2.8409059047698975 Epoch: 11 trainloss: -0.03524836 validloss: -0.04460739\n",
      "time: 2.8395092487335205 Epoch: 12 trainloss: -0.035229933 validloss: -0.04460856\n",
      "time: 2.837076187133789 Epoch: 13 trainloss: -0.0351353 validloss: -0.044609796\n",
      "time: 2.8311374187469482 Epoch: 14 trainloss: -0.035239957 validloss: -0.044611108\n",
      "time: 2.8362207412719727 Epoch: 15 trainloss: -0.03525141 validloss: -0.04461249\n",
      "time: 2.8382630348205566 Epoch: 16 trainloss: -0.03524118 validloss: -0.04461393\n",
      "time: 2.837836265563965 Epoch: 17 trainloss: -0.03521192 validloss: -0.04461545\n",
      "time: 2.8360683917999268 Epoch: 18 trainloss: -0.03524527 validloss: -0.044617016\n",
      "time: 2.8351221084594727 Epoch: 19 trainloss: -0.035213783 validloss: -0.04461865\n",
      "time: 2.8374276161193848 Epoch: 20 trainloss: -0.035182565 validloss: -0.04462035\n",
      "time: 2.83678936958313 Epoch: 21 trainloss: -0.035253517 validloss: -0.04462209\n",
      "time: 2.844935894012451 Epoch: 22 trainloss: -0.03525827 validloss: -0.044623878\n",
      "time: 2.843855857849121 Epoch: 23 trainloss: -0.035237823 validloss: -0.044625726\n",
      "time: 2.843737840652466 Epoch: 24 trainloss: -0.03525752 validloss: -0.04462761\n",
      "time: 2.842907190322876 Epoch: 25 trainloss: -0.03525214 validloss: -0.044629548\n",
      "time: 2.843413829803467 Epoch: 26 trainloss: -0.03526085 validloss: -0.04463153\n",
      "time: 2.8464953899383545 Epoch: 27 trainloss: -0.035262104 validloss: -0.044633545\n",
      "time: 2.864995002746582 Epoch: 28 trainloss: -0.035246573 validloss: -0.04463561\n",
      "time: 2.9523634910583496 Epoch: 29 trainloss: -0.03526681 validloss: -0.044637706\n",
      "time: 2.8531041145324707 Epoch: 30 trainloss: -0.03525948 validloss: -0.044639844\n",
      "time: 2.8715660572052 Epoch: 31 trainloss: -0.035254195 validloss: -0.044642016\n",
      "time: 2.8832004070281982 Epoch: 32 trainloss: -0.035269804 validloss: -0.04464422\n",
      "time: 2.868196725845337 Epoch: 33 trainloss: -0.035271417 validloss: -0.044646457\n",
      "time: 2.8851616382598877 Epoch: 34 trainloss: -0.03526978 validloss: -0.04464872\n",
      "time: 2.888585090637207 Epoch: 35 trainloss: -0.035274837 validloss: -0.044651013\n",
      "time: 2.875760316848755 Epoch: 36 trainloss: -0.03525522 validloss: -0.044653337\n",
      "time: 2.8766446113586426 Epoch: 37 trainloss: -0.03523692 validloss: -0.0446557\n",
      "time: 2.8657121658325195 Epoch: 38 trainloss: -0.035279 validloss: -0.044658072\n",
      "time: 2.862936019897461 Epoch: 39 trainloss: -0.035275903 validloss: -0.044660468\n",
      "time: 2.8566737174987793 Epoch: 40 trainloss: -0.03528186 validloss: -0.044662885\n",
      "time: 2.8603169918060303 Epoch: 41 trainloss: -0.03524943 validloss: -0.044665337\n",
      "time: 2.850870132446289 Epoch: 42 trainloss: -0.03527716 validloss: -0.044667795\n",
      "time: 2.852572441101074 Epoch: 43 trainloss: -0.035226062 validloss: -0.044670265\n",
      "time: 2.8634047508239746 Epoch: 44 trainloss: -0.03528161 validloss: -0.04467277\n",
      "time: 2.858503580093384 Epoch: 45 trainloss: -0.035239022 validloss: -0.044675294\n",
      "time: 2.8608570098876953 Epoch: 46 trainloss: -0.03525573 validloss: -0.044677835\n",
      "time: 2.849153995513916 Epoch: 47 trainloss: -0.035293143 validloss: -0.044680383\n",
      "time: 2.8661088943481445 Epoch: 48 trainloss: -0.035277367 validloss: -0.044682946\n",
      "time: 2.8704516887664795 Epoch: 49 trainloss: -0.035296395 validloss: -0.044685517\n",
      "time: 2.8799731731414795 Epoch: 50 trainloss: -0.035272285 validloss: -0.04468809\n",
      "time: 2.8645687103271484 Epoch: 51 trainloss: -0.035276435 validloss: -0.044690683\n",
      "time: 2.8723347187042236 Epoch: 52 trainloss: -0.035255987 validloss: -0.044693276\n",
      "time: 2.963081121444702 Epoch: 53 trainloss: -0.03521507 validloss: -0.044695877\n",
      "time: 2.8728187084198 Epoch: 54 trainloss: -0.03522817 validloss: -0.04469851\n",
      "time: 2.8974196910858154 Epoch: 55 trainloss: -0.03530479 validloss: -0.044701137\n",
      "time: 2.8608129024505615 Epoch: 56 trainloss: -0.035298027 validloss: -0.044703767\n",
      "time: 2.8535711765289307 Epoch: 57 trainloss: -0.03530933 validloss: -0.0447064\n",
      "time: 2.9428160190582275 Epoch: 58 trainloss: -0.035294108 validloss: -0.04470904\n",
      "time: 2.8692262172698975 Epoch: 59 trainloss: -0.03529368 validloss: -0.044711683\n",
      "time: 2.865668535232544 Epoch: 60 trainloss: -0.035290256 validloss: -0.044714328\n",
      "time: 2.863517999649048 Epoch: 61 trainloss: -0.03531391 validloss: -0.044716965\n",
      "time: 2.858506441116333 Epoch: 62 trainloss: -0.035298605 validloss: -0.0447196\n",
      "time: 2.841395139694214 Epoch: 63 trainloss: -0.035296228 validloss: -0.044722233\n",
      "time: 2.848228931427002 Epoch: 64 trainloss: -0.03526577 validloss: -0.044724863\n",
      "time: 2.86167049407959 Epoch: 65 trainloss: -0.03531742 validloss: -0.0447275\n",
      "time: 2.867936134338379 Epoch: 66 trainloss: -0.035245348 validloss: -0.04473013\n",
      "time: 2.8674447536468506 Epoch: 67 trainloss: -0.035303578 validloss: -0.04473276\n",
      "time: 2.8626060485839844 Epoch: 68 trainloss: -0.03529511 validloss: -0.04473539\n",
      "time: 2.8416597843170166 Epoch: 69 trainloss: -0.035296768 validloss: -0.04473802\n",
      "time: 3.066648483276367 Epoch: 70 trainloss: -0.035330355 validloss: -0.044740643\n",
      "time: 2.87174916267395 Epoch: 71 trainloss: -0.03530969 validloss: -0.04474326\n",
      "time: 2.8855581283569336 Epoch: 72 trainloss: -0.03533406 validloss: -0.044745862\n",
      "time: 2.8731770515441895 Epoch: 73 trainloss: -0.035331048 validloss: -0.04474846\n",
      "time: 2.8720762729644775 Epoch: 74 trainloss: -0.035291485 validloss: -0.04475106\n",
      "time: 2.882948398590088 Epoch: 75 trainloss: -0.03532172 validloss: -0.044753633\n",
      "time: 2.8602302074432373 Epoch: 76 trainloss: -0.03533867 validloss: -0.044756204\n",
      "time: 2.871880531311035 Epoch: 77 trainloss: -0.03533471 validloss: -0.044758774\n",
      "time: 2.8590991497039795 Epoch: 78 trainloss: -0.03527833 validloss: -0.044761337\n",
      "time: 2.8542752265930176 Epoch: 79 trainloss: -0.035344865 validloss: -0.04476388\n",
      "time: 2.8511226177215576 Epoch: 80 trainloss: -0.035344422 validloss: -0.04476642\n",
      "time: 2.8540422916412354 Epoch: 81 trainloss: -0.035315845 validloss: -0.044768948\n",
      "time: 2.849473237991333 Epoch: 82 trainloss: -0.035326976 validloss: -0.044771463\n",
      "time: 2.8471789360046387 Epoch: 83 trainloss: -0.03534488 validloss: -0.044773966\n",
      "time: 2.851400375366211 Epoch: 84 trainloss: -0.035346024 validloss: -0.044776455\n",
      "time: 2.849273443222046 Epoch: 85 trainloss: -0.03534797 validloss: -0.04477894\n",
      "time: 2.8550643920898438 Epoch: 86 trainloss: -0.03535591 validloss: -0.0447814\n",
      "time: 2.8528647422790527 Epoch: 87 trainloss: -0.035356697 validloss: -0.04478386\n",
      "time: 2.8403396606445312 Epoch: 88 trainloss: -0.035359055 validloss: -0.0447863\n",
      "time: 2.841230869293213 Epoch: 89 trainloss: -0.035337716 validloss: -0.04478873\n",
      "time: 2.8447585105895996 Epoch: 90 trainloss: -0.03536237 validloss: -0.044791147\n",
      "time: 2.8420515060424805 Epoch: 91 trainloss: -0.035294324 validloss: -0.044793557\n",
      "time: 2.842007637023926 Epoch: 92 trainloss: -0.035360307 validloss: -0.04479595\n",
      "time: 2.8407676219940186 Epoch: 93 trainloss: -0.035366025 validloss: -0.044798326\n",
      "time: 2.8470969200134277 Epoch: 94 trainloss: -0.035342835 validloss: -0.04480069\n",
      "time: 2.8417410850524902 Epoch: 95 trainloss: -0.035365194 validloss: -0.04480304\n",
      "time: 2.84519100189209 Epoch: 96 trainloss: -0.035342358 validloss: -0.044805378\n",
      "time: 2.846658945083618 Epoch: 97 trainloss: -0.035309657 validloss: -0.044807706\n",
      "time: 2.8779830932617188 Epoch: 98 trainloss: -0.035368297 validloss: -0.04481002\n",
      "time: 2.8696916103363037 Epoch: 99 trainloss: -0.03533893 validloss: -0.04481231\n",
      "time: 2.8561179637908936 Epoch: 100 trainloss: -0.035372965 validloss: -0.044814594\n"
     ]
    },
    {
     "name": "stdout",
     "output_type": "stream",
     "text": [
      "time: 2.8441755771636963 Epoch: 101 trainloss: -0.035352696 validloss: -0.044816863\n",
      "time: 2.9736204147338867 Epoch: 102 trainloss: -0.035369456 validloss: -0.044819113\n",
      "time: 2.849853515625 Epoch: 103 trainloss: -0.03536984 validloss: -0.04482135\n",
      "time: 2.8428947925567627 Epoch: 104 trainloss: -0.03538218 validloss: -0.044823576\n",
      "time: 2.8458056449890137 Epoch: 105 trainloss: -0.035383873 validloss: -0.04482578\n",
      "time: 2.8433220386505127 Epoch: 106 trainloss: -0.03538549 validloss: -0.044827964\n",
      "time: 2.8448429107666016 Epoch: 107 trainloss: -0.03538002 validloss: -0.044830143\n",
      "time: 2.850235939025879 Epoch: 108 trainloss: -0.035338145 validloss: -0.04483231\n",
      "time: 2.842726230621338 Epoch: 109 trainloss: -0.035376314 validloss: -0.044834465\n",
      "time: 2.844866991043091 Epoch: 110 trainloss: -0.035387233 validloss: -0.044836596\n",
      "time: 2.8442697525024414 Epoch: 111 trainloss: -0.035392135 validloss: -0.044838708\n",
      "time: 2.8420913219451904 Epoch: 112 trainloss: -0.03538212 validloss: -0.04484081\n",
      "time: 2.859065055847168 Epoch: 113 trainloss: -0.035385482 validloss: -0.04484289\n",
      "time: 2.8770792484283447 Epoch: 114 trainloss: -0.035370514 validloss: -0.044844955\n",
      "time: 2.847170114517212 Epoch: 115 trainloss: -0.03535854 validloss: -0.04484702\n",
      "time: 2.844608783721924 Epoch: 116 trainloss: -0.035389945 validloss: -0.04484906\n",
      "time: 2.843535900115967 Epoch: 117 trainloss: -0.035384495 validloss: -0.04485108\n",
      "time: 2.969526767730713 Epoch: 118 trainloss: -0.03539384 validloss: -0.044853088\n",
      "time: 2.8610119819641113 Epoch: 119 trainloss: -0.035397906 validloss: -0.044855084\n",
      "time: 2.860639810562134 Epoch: 120 trainloss: -0.035348356 validloss: -0.04485707\n",
      "time: 2.8508238792419434 Epoch: 121 trainloss: -0.035388514 validloss: -0.04485904\n",
      "time: 2.848353147506714 Epoch: 122 trainloss: -0.035378408 validloss: -0.044860993\n",
      "time: 2.842447280883789 Epoch: 123 trainloss: -0.03533077 validloss: -0.04486293\n",
      "time: 2.843817949295044 Epoch: 124 trainloss: -0.035408538 validloss: -0.04486485\n",
      "time: 2.8417751789093018 Epoch: 125 trainloss: -0.035408303 validloss: -0.04486676\n",
      "time: 2.8438258171081543 Epoch: 126 trainloss: -0.035393335 validloss: -0.04486866\n",
      "time: 2.8596999645233154 Epoch: 127 trainloss: -0.035408575 validloss: -0.04487054\n",
      "time: 2.867863178253174 Epoch: 128 trainloss: -0.035394102 validloss: -0.044872403\n",
      "time: 2.858264207839966 Epoch: 129 trainloss: -0.035407823 validloss: -0.044874255\n",
      "time: 2.8484139442443848 Epoch: 130 trainloss: -0.035412557 validloss: -0.044876087\n",
      "time: 2.8519136905670166 Epoch: 131 trainloss: -0.035416484 validloss: -0.044877905\n",
      "time: 2.8572170734405518 Epoch: 132 trainloss: -0.035417933 validloss: -0.044879716\n",
      "time: 2.840846061706543 Epoch: 133 trainloss: -0.03541761 validloss: -0.044881508\n",
      "time: 2.8511159420013428 Epoch: 134 trainloss: -0.035414055 validloss: -0.044883285\n",
      "time: 2.8512344360351562 Epoch: 135 trainloss: -0.035409864 validloss: -0.04488505\n",
      "time: 2.8399927616119385 Epoch: 136 trainloss: -0.035415825 validloss: -0.0448868\n",
      "time: 2.856999635696411 Epoch: 137 trainloss: -0.035420448 validloss: -0.04488853\n",
      "time: 2.852694272994995 Epoch: 138 trainloss: -0.035423126 validloss: -0.04489025\n",
      "time: 2.849926471710205 Epoch: 139 trainloss: -0.03542391 validloss: -0.044891957\n",
      "time: 2.850566864013672 Epoch: 140 trainloss: -0.03541006 validloss: -0.04489365\n",
      "time: 2.849231481552124 Epoch: 141 trainloss: -0.03540227 validloss: -0.04489532\n",
      "time: 2.864171028137207 Epoch: 142 trainloss: -0.03542874 validloss: -0.044896983\n",
      "time: 2.8793063163757324 Epoch: 143 trainloss: -0.03540298 validloss: -0.044898637\n",
      "time: 2.868145704269409 Epoch: 144 trainloss: -0.03534321 validloss: -0.044900283\n",
      "time: 2.851388454437256 Epoch: 145 trainloss: -0.035414625 validloss: -0.044901907\n",
      "time: 2.839265823364258 Epoch: 146 trainloss: -0.035426874 validloss: -0.04490352\n",
      "time: 2.840644121170044 Epoch: 147 trainloss: -0.035424918 validloss: -0.044905122\n",
      "time: 2.84218692779541 Epoch: 148 trainloss: -0.035430618 validloss: -0.04490671\n",
      "time: 2.8576693534851074 Epoch: 149 trainloss: -0.035403352 validloss: -0.04490828\n",
      "time: 2.8753952980041504 Epoch: 150 trainloss: -0.035435434 validloss: -0.044909846\n",
      "time: 2.867943525314331 Epoch: 151 trainloss: -0.035436563 validloss: -0.044911392\n",
      "time: 2.8545150756835938 Epoch: 152 trainloss: -0.0354363 validloss: -0.04491293\n",
      "time: 2.8461177349090576 Epoch: 153 trainloss: -0.03542452 validloss: -0.044914454\n",
      "time: 2.8489878177642822 Epoch: 154 trainloss: -0.035417866 validloss: -0.044915963\n",
      "time: 2.849550485610962 Epoch: 155 trainloss: -0.035437614 validloss: -0.044917464\n",
      "time: 2.8442912101745605 Epoch: 156 trainloss: -0.03542644 validloss: -0.04491895\n",
      "time: 2.8479578495025635 Epoch: 157 trainloss: -0.035369925 validloss: -0.044920426\n",
      "time: 2.846341848373413 Epoch: 158 trainloss: -0.035441577 validloss: -0.044921886\n",
      "time: 2.846292734146118 Epoch: 159 trainloss: -0.035429746 validloss: -0.044923335\n",
      "time: 2.8472883701324463 Epoch: 160 trainloss: -0.035369113 validloss: -0.044924777\n",
      "time: 2.8453381061553955 Epoch: 161 trainloss: -0.035404548 validloss: -0.044926204\n",
      "time: 2.870871067047119 Epoch: 162 trainloss: -0.035415202 validloss: -0.044927623\n",
      "time: 2.868248701095581 Epoch: 163 trainloss: -0.03542753 validloss: -0.044929024\n",
      "time: 2.860537528991699 Epoch: 164 trainloss: -0.035398558 validloss: -0.044930425\n",
      "time: 2.8516244888305664 Epoch: 165 trainloss: -0.035448395 validloss: -0.044931807\n",
      "time: 2.845144033432007 Epoch: 166 trainloss: -0.03545139 validloss: -0.04493318\n",
      "time: 2.855578660964966 Epoch: 167 trainloss: -0.03544636 validloss: -0.044934537\n",
      "time: 2.839214324951172 Epoch: 168 trainloss: -0.035449892 validloss: -0.044935882\n",
      "time: 2.859833240509033 Epoch: 169 trainloss: -0.035453543 validloss: -0.04493722\n",
      "time: 2.8698532581329346 Epoch: 170 trainloss: -0.035440285 validloss: -0.044938542\n",
      "time: 2.857811689376831 Epoch: 171 trainloss: -0.035436325 validloss: -0.04493986\n",
      "time: 2.8489091396331787 Epoch: 172 trainloss: -0.03541079 validloss: -0.04494116\n",
      "time: 2.8487675189971924 Epoch: 173 trainloss: -0.03545688 validloss: -0.044942457\n",
      "time: 2.858330488204956 Epoch: 174 trainloss: -0.035446867 validloss: -0.044943742\n",
      "time: 2.8482728004455566 Epoch: 175 trainloss: -0.035458736 validloss: -0.044945013\n",
      "time: 2.8456218242645264 Epoch: 176 trainloss: -0.03545449 validloss: -0.044946276\n",
      "time: 2.844156265258789 Epoch: 177 trainloss: -0.0354601 validloss: -0.044947527\n",
      "time: 2.8448331356048584 Epoch: 178 trainloss: -0.03545744 validloss: -0.044948764\n",
      "time: 2.8494489192962646 Epoch: 179 trainloss: -0.035450853 validloss: -0.044949997\n",
      "time: 2.874617576599121 Epoch: 180 trainloss: -0.03543184 validloss: -0.044951215\n",
      "time: 2.910032272338867 Epoch: 181 trainloss: -0.03539949 validloss: -0.04495243\n",
      "time: 2.902935743331909 Epoch: 182 trainloss: -0.035448723 validloss: -0.044953637\n",
      "time: 3.005443811416626 Epoch: 183 trainloss: -0.03536681 validloss: -0.04495482\n",
      "time: 2.916165590286255 Epoch: 184 trainloss: -0.035446297 validloss: -0.044956006\n",
      "time: 3.128741979598999 Epoch: 185 trainloss: -0.035449766 validloss: -0.04495718\n",
      "time: 2.880378246307373 Epoch: 186 trainloss: -0.035439633 validloss: -0.044958342\n",
      "time: 2.890770435333252 Epoch: 187 trainloss: -0.03544771 validloss: -0.044959497\n",
      "time: 2.984605550765991 Epoch: 188 trainloss: -0.03545068 validloss: -0.044960648\n",
      "time: 3.092048406600952 Epoch: 189 trainloss: -0.035465743 validloss: -0.044961788\n",
      "time: 2.9456024169921875 Epoch: 190 trainloss: -0.035444774 validloss: -0.044962913\n",
      "time: 3.0987541675567627 Epoch: 191 trainloss: -0.035464518 validloss: -0.04496403\n",
      "time: 2.8755528926849365 Epoch: 192 trainloss: -0.035471037 validloss: -0.044965144\n",
      "time: 2.8664650917053223 Epoch: 193 trainloss: -0.035472054 validloss: -0.04496624\n",
      "time: 2.8758020401000977 Epoch: 194 trainloss: -0.035467807 validloss: -0.04496733\n",
      "time: 2.873945474624634 Epoch: 195 trainloss: -0.03547074 validloss: -0.044968408\n",
      "time: 2.8683693408966064 Epoch: 196 trainloss: -0.03547342 validloss: -0.044969484\n",
      "time: 2.889685869216919 Epoch: 197 trainloss: -0.035471775 validloss: -0.044970546\n",
      "time: 2.86286997795105 Epoch: 198 trainloss: -0.035474896 validloss: -0.044971608\n",
      "time: 2.865429639816284 Epoch: 199 trainloss: -0.035447862 validloss: -0.04497265\n",
      "time: 2.8714871406555176 Epoch: 200 trainloss: -0.035427697 validloss: -0.04497369\n"
     ]
    },
    {
     "name": "stdout",
     "output_type": "stream",
     "text": [
      "time: 2.863316059112549 Epoch: 201 trainloss: -0.03545399 validloss: -0.044974722\n",
      "time: 2.8764166831970215 Epoch: 202 trainloss: -0.035469785 validloss: -0.044975743\n",
      "time: 2.8956260681152344 Epoch: 203 trainloss: -0.035473805 validloss: -0.04497676\n",
      "time: 2.8805270195007324 Epoch: 204 trainloss: -0.03547927 validloss: -0.044977766\n",
      "time: 2.8785324096679688 Epoch: 205 trainloss: -0.035479628 validloss: -0.044978764\n",
      "time: 2.85897159576416 Epoch: 206 trainloss: -0.035477743 validloss: -0.044979755\n",
      "time: 2.8703091144561768 Epoch: 207 trainloss: -0.0354715 validloss: -0.04498074\n",
      "time: 2.870919942855835 Epoch: 208 trainloss: -0.03543519 validloss: -0.044981714\n",
      "time: 2.858908176422119 Epoch: 209 trainloss: -0.035405066 validloss: -0.04498268\n",
      "time: 2.857144355773926 Epoch: 210 trainloss: -0.035431743 validloss: -0.04498364\n",
      "time: 2.858804225921631 Epoch: 211 trainloss: -0.035464957 validloss: -0.044984594\n",
      "time: 2.857579469680786 Epoch: 212 trainloss: -0.035483625 validloss: -0.044985544\n",
      "time: 2.8580870628356934 Epoch: 213 trainloss: -0.035484552 validloss: -0.04498648\n",
      "time: 2.8609213829040527 Epoch: 214 trainloss: -0.035475813 validloss: -0.044987418\n",
      "time: 2.85740327835083 Epoch: 215 trainloss: -0.03548571 validloss: -0.044988338\n",
      "time: 2.860639810562134 Epoch: 216 trainloss: -0.03548421 validloss: -0.044989254\n",
      "time: 2.8602774143218994 Epoch: 217 trainloss: -0.035480395 validloss: -0.044990167\n",
      "time: 2.8615360260009766 Epoch: 218 trainloss: -0.035444774 validloss: -0.04499107\n",
      "time: 2.8650405406951904 Epoch: 219 trainloss: -0.035417676 validloss: -0.044991966\n",
      "time: 2.860213279724121 Epoch: 220 trainloss: -0.035473194 validloss: -0.044992853\n",
      "time: 2.8583264350891113 Epoch: 221 trainloss: -0.035473213 validloss: -0.044993736\n",
      "time: 2.862725257873535 Epoch: 222 trainloss: -0.035476185 validloss: -0.044994615\n",
      "time: 2.8562910556793213 Epoch: 223 trainloss: -0.035479195 validloss: -0.044995483\n",
      "time: 2.869377374649048 Epoch: 224 trainloss: -0.03548983 validloss: -0.044996347\n",
      "time: 2.89372181892395 Epoch: 225 trainloss: -0.035490304 validloss: -0.044997204\n",
      "time: 2.884035110473633 Epoch: 226 trainloss: -0.03548946 validloss: -0.044998057\n",
      "time: 2.8659605979919434 Epoch: 227 trainloss: -0.035492215 validloss: -0.0449989\n",
      "time: 2.8652992248535156 Epoch: 228 trainloss: -0.035493046 validloss: -0.044999734\n",
      "time: 2.865424156188965 Epoch: 229 trainloss: -0.035431445 validloss: -0.045000568\n",
      "time: 2.864666223526001 Epoch: 230 trainloss: -0.035458952 validloss: -0.045001395\n",
      "time: 2.865093469619751 Epoch: 231 trainloss: -0.035479598 validloss: -0.045002215\n",
      "time: 2.865659713745117 Epoch: 232 trainloss: -0.03548488 validloss: -0.045003027\n",
      "time: 2.8650729656219482 Epoch: 233 trainloss: -0.035495378 validloss: -0.045003835\n",
      "time: 2.8651857376098633 Epoch: 234 trainloss: -0.035477847 validloss: -0.045004636\n",
      "time: 2.8676376342773438 Epoch: 235 trainloss: -0.035496615 validloss: -0.04500543\n",
      "time: 2.8747200965881348 Epoch: 236 trainloss: -0.03548379 validloss: -0.04500622\n",
      "time: 2.87109637260437 Epoch: 237 trainloss: -0.035476193 validloss: -0.045007\n",
      "time: 2.870790719985962 Epoch: 238 trainloss: -0.035445433 validloss: -0.045007784\n",
      "time: 2.8712706565856934 Epoch: 239 trainloss: -0.03549236 validloss: -0.045008555\n",
      "time: 2.86704158782959 Epoch: 240 trainloss: -0.035494424 validloss: -0.045009315\n",
      "time: 2.870445966720581 Epoch: 241 trainloss: -0.035493813 validloss: -0.04501008\n",
      "time: 2.868069648742676 Epoch: 242 trainloss: -0.03549786 validloss: -0.045010835\n",
      "time: 2.8689990043640137 Epoch: 243 trainloss: -0.035491176 validloss: -0.045011584\n",
      "time: 2.8693974018096924 Epoch: 244 trainloss: -0.035500553 validloss: -0.045012325\n",
      "time: 2.8704490661621094 Epoch: 245 trainloss: -0.035478212 validloss: -0.045013066\n",
      "time: 2.8947739601135254 Epoch: 246 trainloss: -0.035484433 validloss: -0.0450138\n",
      "time: 2.870276689529419 Epoch: 247 trainloss: -0.03550226 validloss: -0.045014527\n",
      "time: 2.8798980712890625 Epoch: 248 trainloss: -0.035482787 validloss: -0.045015253\n",
      "time: 2.896355152130127 Epoch: 249 trainloss: -0.03550288 validloss: -0.04501597\n",
      "time: 2.876283645629883 Epoch: 250 trainloss: -0.035484277 validloss: -0.04501668\n",
      "time: 2.867236614227295 Epoch: 251 trainloss: -0.035501882 validloss: -0.045017388\n",
      "time: 2.8668065071105957 Epoch: 252 trainloss: -0.03548841 validloss: -0.04501809\n",
      "time: 2.874643564224243 Epoch: 253 trainloss: -0.03550341 validloss: -0.04501879\n",
      "time: 2.9021573066711426 Epoch: 254 trainloss: -0.035504926 validloss: -0.04501948\n",
      "time: 2.890958070755005 Epoch: 255 trainloss: -0.035492696 validloss: -0.045020167\n",
      "time: 2.8621373176574707 Epoch: 256 trainloss: -0.035489723 validloss: -0.045020852\n",
      "time: 2.8671743869781494 Epoch: 257 trainloss: -0.0354772 validloss: -0.04502153\n",
      "time: 2.8673808574676514 Epoch: 258 trainloss: -0.035492238 validloss: -0.045022205\n",
      "time: 2.86712646484375 Epoch: 259 trainloss: -0.035504475 validloss: -0.045022875\n",
      "time: 2.869108200073242 Epoch: 260 trainloss: -0.03549069 validloss: -0.045023534\n",
      "time: 2.8710575103759766 Epoch: 261 trainloss: -0.035507765 validloss: -0.045024194\n",
      "time: 2.8636488914489746 Epoch: 262 trainloss: -0.035492364 validloss: -0.04502485\n",
      "time: 2.863379716873169 Epoch: 263 trainloss: -0.035498857 validloss: -0.0450255\n",
      "time: 2.8621015548706055 Epoch: 264 trainloss: -0.035446778 validloss: -0.04502615\n",
      "time: 2.8586888313293457 Epoch: 265 trainloss: -0.035494883 validloss: -0.04502679\n",
      "time: 2.87459135055542 Epoch: 266 trainloss: -0.035444662 validloss: -0.045027435\n",
      "time: 2.8922510147094727 Epoch: 267 trainloss: -0.03548999 validloss: -0.045028064\n",
      "time: 2.8888893127441406 Epoch: 268 trainloss: -0.035476852 validloss: -0.045028694\n",
      "time: 2.867051839828491 Epoch: 269 trainloss: -0.03549755 validloss: -0.045029316\n",
      "time: 2.8598177433013916 Epoch: 270 trainloss: -0.03551006 validloss: -0.04502994\n",
      "time: 2.8610990047454834 Epoch: 271 trainloss: -0.03549125 validloss: -0.04503056\n",
      "time: 2.861424207687378 Epoch: 272 trainloss: -0.03550946 validloss: -0.04503117\n",
      "time: 2.8615903854370117 Epoch: 273 trainloss: -0.03548468 validloss: -0.045031782\n",
      "time: 2.864718198776245 Epoch: 274 trainloss: -0.03551118 validloss: -0.045032386\n",
      "time: 2.8643946647644043 Epoch: 275 trainloss: -0.035439532 validloss: -0.04503299\n",
      "time: 2.8653175830841064 Epoch: 276 trainloss: -0.035499424 validloss: -0.04503358\n",
      "time: 2.8665294647216797 Epoch: 277 trainloss: -0.035510775 validloss: -0.045034178\n",
      "time: 2.86700177192688 Epoch: 278 trainloss: -0.03550729 validloss: -0.045034766\n",
      "time: 2.869727849960327 Epoch: 279 trainloss: -0.035511695 validloss: -0.045035355\n",
      "time: 2.863999366760254 Epoch: 280 trainloss: -0.035493255 validloss: -0.04503594\n",
      "time: 2.866713285446167 Epoch: 281 trainloss: -0.035413977 validloss: -0.045036517\n",
      "time: 2.867356300354004 Epoch: 282 trainloss: -0.035487063 validloss: -0.045037095\n",
      "time: 2.8658289909362793 Epoch: 283 trainloss: -0.035503812 validloss: -0.04503767\n",
      "time: 2.8676090240478516 Epoch: 284 trainloss: -0.035504144 validloss: -0.045038234\n",
      "time: 2.8645153045654297 Epoch: 285 trainloss: -0.035490688 validloss: -0.045038804\n",
      "time: 2.8796932697296143 Epoch: 286 trainloss: -0.03551112 validloss: -0.045039363\n",
      "time: 2.883176326751709 Epoch: 287 trainloss: -0.03547652 validloss: -0.045039922\n",
      "time: 2.882999897003174 Epoch: 288 trainloss: -0.03551177 validloss: -0.045040473\n",
      "time: 2.8663997650146484 Epoch: 289 trainloss: -0.035507955 validloss: -0.045041025\n",
      "time: 2.867971658706665 Epoch: 290 trainloss: -0.035513375 validloss: -0.045041576\n",
      "time: 2.8708901405334473 Epoch: 291 trainloss: -0.03551814 validloss: -0.04504212\n",
      "time: 2.8772029876708984 Epoch: 292 trainloss: -0.03551804 validloss: -0.045042656\n",
      "time: 2.880948543548584 Epoch: 293 trainloss: -0.035520084 validloss: -0.045043193\n",
      "time: 2.880465507507324 Epoch: 294 trainloss: -0.03551856 validloss: -0.045043726\n",
      "time: 2.8665711879730225 Epoch: 295 trainloss: -0.035476938 validloss: -0.045044255\n",
      "time: 2.862839698791504 Epoch: 296 trainloss: -0.035506815 validloss: -0.045044784\n",
      "time: 2.87064266204834 Epoch: 297 trainloss: -0.035519786 validloss: -0.045045305\n",
      "time: 2.861217737197876 Epoch: 298 trainloss: -0.035518862 validloss: -0.045045827\n",
      "time: 2.858957052230835 Epoch: 299 trainloss: -0.035522074 validloss: -0.045046344\n",
      "time: 2.8674185276031494 Epoch: 300 trainloss: -0.035497762 validloss: -0.04504686\n"
     ]
    },
    {
     "name": "stdout",
     "output_type": "stream",
     "text": [
      "time: 2.859771728515625 Epoch: 301 trainloss: -0.035522707 validloss: -0.04504737\n",
      "time: 2.8596394062042236 Epoch: 302 trainloss: -0.035504162 validloss: -0.04504787\n",
      "time: 2.8978569507598877 Epoch: 303 trainloss: -0.035517644 validloss: -0.04504838\n",
      "time: 2.8781373500823975 Epoch: 304 trainloss: -0.035522345 validloss: -0.045048878\n",
      "time: 2.863086700439453 Epoch: 305 trainloss: -0.035491 validloss: -0.045049373\n",
      "time: 2.8651938438415527 Epoch: 306 trainloss: -0.03550429 validloss: -0.045049872\n",
      "time: 2.866264820098877 Epoch: 307 trainloss: -0.035466254 validloss: -0.04505036\n",
      "time: 2.8642263412475586 Epoch: 308 trainloss: -0.035465863 validloss: -0.045050852\n",
      "time: 2.8655402660369873 Epoch: 309 trainloss: -0.03551236 validloss: -0.045051336\n",
      "time: 2.8684449195861816 Epoch: 310 trainloss: -0.035496414 validloss: -0.045051824\n",
      "time: 2.866743803024292 Epoch: 311 trainloss: -0.03551289 validloss: -0.045052305\n",
      "time: 2.864281415939331 Epoch: 312 trainloss: -0.035481136 validloss: -0.045052778\n",
      "time: 2.8606481552124023 Epoch: 313 trainloss: -0.035524458 validloss: -0.04505326\n",
      "time: 2.880502223968506 Epoch: 314 trainloss: -0.035506785 validloss: -0.04505373\n",
      "time: 2.884159564971924 Epoch: 315 trainloss: -0.035502095 validloss: -0.045054205\n",
      "time: 2.873605489730835 Epoch: 316 trainloss: -0.03552412 validloss: -0.04505467\n",
      "time: 2.859537124633789 Epoch: 317 trainloss: -0.03550803 validloss: -0.045055132\n",
      "time: 2.861982822418213 Epoch: 318 trainloss: -0.035518676 validloss: -0.045055594\n",
      "time: 2.8587608337402344 Epoch: 319 trainloss: -0.035528142 validloss: -0.045056056\n",
      "time: 2.860327959060669 Epoch: 320 trainloss: -0.035517618 validloss: -0.04505651\n",
      "time: 2.877995729446411 Epoch: 321 trainloss: -0.0354899 validloss: -0.04505696\n",
      "time: 2.884474992752075 Epoch: 322 trainloss: -0.035489652 validloss: -0.045057416\n",
      "time: 2.8751769065856934 Epoch: 323 trainloss: -0.035409003 validloss: -0.045057867\n",
      "time: 2.8613088130950928 Epoch: 324 trainloss: -0.035465054 validloss: -0.045058314\n",
      "time: 2.864166259765625 Epoch: 325 trainloss: -0.035528384 validloss: -0.04505876\n",
      "time: 2.8676133155822754 Epoch: 326 trainloss: -0.035525195 validloss: -0.045059204\n",
      "time: 2.8626179695129395 Epoch: 327 trainloss: -0.035529725 validloss: -0.045059644\n",
      "time: 2.8640329837799072 Epoch: 328 trainloss: -0.035528056 validloss: -0.045060083\n",
      "time: 2.8825430870056152 Epoch: 329 trainloss: -0.03549784 validloss: -0.04506051\n",
      "time: 2.8769588470458984 Epoch: 330 trainloss: -0.035518184 validloss: -0.045060948\n",
      "time: 2.8958802223205566 Epoch: 331 trainloss: -0.035529792 validloss: -0.045061376\n",
      "time: 2.8834314346313477 Epoch: 332 trainloss: -0.035512522 validloss: -0.045061804\n",
      "time: 2.869206666946411 Epoch: 333 trainloss: -0.035511352 validloss: -0.045062233\n",
      "time: 2.873845100402832 Epoch: 334 trainloss: -0.03553034 validloss: -0.04506265\n",
      "time: 2.867074728012085 Epoch: 335 trainloss: -0.035528436 validloss: -0.04506307\n",
      "time: 2.864750623703003 Epoch: 336 trainloss: -0.035520665 validloss: -0.04506349\n",
      "time: 2.857485294342041 Epoch: 337 trainloss: -0.035532895 validloss: -0.0450639\n",
      "time: 2.859461545944214 Epoch: 338 trainloss: -0.03546088 validloss: -0.04506432\n",
      "time: 2.8580100536346436 Epoch: 339 trainloss: -0.03551819 validloss: -0.045064732\n",
      "time: 2.859208345413208 Epoch: 340 trainloss: -0.035531525 validloss: -0.04506514\n",
      "time: 2.854327917098999 Epoch: 341 trainloss: -0.035491705 validloss: -0.045065545\n",
      "time: 2.856278657913208 Epoch: 342 trainloss: -0.035495177 validloss: -0.045065947\n",
      "time: 2.8583779335021973 Epoch: 343 trainloss: -0.035522033 validloss: -0.04506635\n",
      "time: 2.8601512908935547 Epoch: 344 trainloss: -0.035521176 validloss: -0.045066755\n",
      "time: 2.859236717224121 Epoch: 345 trainloss: -0.035524294 validloss: -0.045067146\n",
      "time: 2.85878586769104 Epoch: 346 trainloss: -0.03553535 validloss: -0.04506754\n",
      "time: 2.8774733543395996 Epoch: 347 trainloss: -0.03553561 validloss: -0.04506794\n",
      "time: 2.8782753944396973 Epoch: 348 trainloss: -0.035533205 validloss: -0.04506833\n",
      "time: 2.872955560684204 Epoch: 349 trainloss: -0.03553563 validloss: -0.04506872\n",
      "time: 2.864239454269409 Epoch: 350 trainloss: -0.035518065 validloss: -0.045069102\n",
      "time: 2.8669261932373047 Epoch: 351 trainloss: -0.035534583 validloss: -0.04506949\n",
      "time: 2.8660645484924316 Epoch: 352 trainloss: -0.03553628 validloss: -0.045069873\n",
      "time: 2.858388900756836 Epoch: 353 trainloss: -0.03552772 validloss: -0.045070257\n",
      "time: 2.8585004806518555 Epoch: 354 trainloss: -0.03553491 validloss: -0.045070633\n",
      "time: 2.86664080619812 Epoch: 355 trainloss: -0.035530202 validloss: -0.045071006\n",
      "time: 2.86855149269104 Epoch: 356 trainloss: -0.035536192 validloss: -0.045071382\n",
      "time: 2.871701717376709 Epoch: 357 trainloss: -0.035498153 validloss: -0.04507176\n",
      "time: 2.871180295944214 Epoch: 358 trainloss: -0.03553725 validloss: -0.045072127\n",
      "time: 2.8655645847320557 Epoch: 359 trainloss: -0.03551086 validloss: -0.045072496\n",
      "time: 2.8691554069519043 Epoch: 360 trainloss: -0.035515703 validloss: -0.04507286\n",
      "time: 2.870415687561035 Epoch: 361 trainloss: -0.035538685 validloss: -0.04507323\n",
      "time: 2.8731071949005127 Epoch: 362 trainloss: -0.035523973 validloss: -0.04507359\n",
      "time: 2.86673641204834 Epoch: 363 trainloss: -0.035533845 validloss: -0.045073953\n",
      "time: 2.8653388023376465 Epoch: 364 trainloss: -0.03551667 validloss: -0.045074306\n",
      "time: 2.8607726097106934 Epoch: 365 trainloss: -0.035525125 validloss: -0.045074668\n",
      "time: 2.860713005065918 Epoch: 366 trainloss: -0.03551817 validloss: -0.04507502\n",
      "time: 2.8621766567230225 Epoch: 367 trainloss: -0.035537645 validloss: -0.04507538\n",
      "time: 2.8778388500213623 Epoch: 368 trainloss: -0.0354594 validloss: -0.04507573\n",
      "time: 2.8940534591674805 Epoch: 369 trainloss: -0.035535626 validloss: -0.04507608\n",
      "time: 2.8757638931274414 Epoch: 370 trainloss: -0.03554047 validloss: -0.04507643\n",
      "time: 2.890435218811035 Epoch: 371 trainloss: -0.03554102 validloss: -0.045076773\n",
      "time: 2.893148899078369 Epoch: 372 trainloss: -0.035538454 validloss: -0.045077123\n",
      "time: 2.877681016921997 Epoch: 373 trainloss: -0.03554125 validloss: -0.045077465\n",
      "time: 2.865910768508911 Epoch: 374 trainloss: -0.03552657 validloss: -0.04507781\n",
      "time: 2.858203172683716 Epoch: 375 trainloss: -0.03554202 validloss: -0.045078147\n",
      "time: 2.8567333221435547 Epoch: 376 trainloss: -0.03554126 validloss: -0.045078486\n",
      "time: 2.8559787273406982 Epoch: 377 trainloss: -0.035502303 validloss: -0.045078818\n",
      "time: 2.875239849090576 Epoch: 378 trainloss: -0.035504617 validloss: -0.045079157\n",
      "time: 2.885011911392212 Epoch: 379 trainloss: -0.035542343 validloss: -0.045079492\n",
      "time: 2.874755859375 Epoch: 380 trainloss: -0.03554292 validloss: -0.04507982\n",
      "time: 2.8658604621887207 Epoch: 381 trainloss: -0.03553787 validloss: -0.045080155\n",
      "time: 2.865482807159424 Epoch: 382 trainloss: -0.035534285 validloss: -0.04508048\n",
      "time: 2.8740005493164062 Epoch: 383 trainloss: -0.03554015 validloss: -0.045080807\n",
      "time: 2.8657233715057373 Epoch: 384 trainloss: -0.035522502 validloss: -0.045081135\n",
      "time: 2.8669350147247314 Epoch: 385 trainloss: -0.035497725 validloss: -0.04508146\n",
      "time: 2.863129138946533 Epoch: 386 trainloss: -0.035525713 validloss: -0.04508178\n",
      "time: 2.862083673477173 Epoch: 387 trainloss: -0.035544485 validloss: -0.0450821\n",
      "time: 2.860795736312866 Epoch: 388 trainloss: -0.035542227 validloss: -0.045082416\n",
      "time: 2.8602347373962402 Epoch: 389 trainloss: -0.035540976 validloss: -0.045082737\n",
      "time: 2.8576910495758057 Epoch: 390 trainloss: -0.035483073 validloss: -0.045083057\n",
      "time: 2.8567910194396973 Epoch: 391 trainloss: -0.035539765 validloss: -0.045083366\n",
      "time: 2.8562960624694824 Epoch: 392 trainloss: -0.035510905 validloss: -0.04508368\n",
      "time: 2.856755495071411 Epoch: 393 trainloss: -0.03554371 validloss: -0.045083992\n",
      "time: 2.856572389602661 Epoch: 394 trainloss: -0.03554046 validloss: -0.04508431\n",
      "time: 2.8561880588531494 Epoch: 395 trainloss: -0.035539385 validloss: -0.045084614\n",
      "time: 2.8651089668273926 Epoch: 396 trainloss: -0.035541423 validloss: -0.04508492\n",
      "time: 2.874154567718506 Epoch: 397 trainloss: -0.035533123 validloss: -0.04508523\n",
      "time: 2.8751087188720703 Epoch: 398 trainloss: -0.035482604 validloss: -0.045085534\n",
      "time: 2.862915515899658 Epoch: 399 trainloss: -0.035485126 validloss: -0.045085836\n",
      "time: 2.864393711090088 Epoch: 400 trainloss: -0.035546 validloss: -0.045086138\n"
     ]
    },
    {
     "name": "stdout",
     "output_type": "stream",
     "text": [
      "time: 2.858048677444458 Epoch: 401 trainloss: -0.035546772 validloss: -0.04508644\n",
      "time: 2.855037212371826 Epoch: 402 trainloss: -0.035544503 validloss: -0.04508674\n",
      "time: 2.8563156127929688 Epoch: 403 trainloss: -0.035547428 validloss: -0.045087036\n",
      "time: 2.8563437461853027 Epoch: 404 trainloss: -0.03554427 validloss: -0.045087337\n",
      "time: 2.8591148853302 Epoch: 405 trainloss: -0.035546944 validloss: -0.045087628\n",
      "time: 2.858712673187256 Epoch: 406 trainloss: -0.035474785 validloss: -0.045087922\n",
      "time: 2.8588125705718994 Epoch: 407 trainloss: -0.035546362 validloss: -0.045088217\n",
      "time: 2.8607866764068604 Epoch: 408 trainloss: -0.035508506 validloss: -0.045088507\n",
      "time: 2.8572981357574463 Epoch: 409 trainloss: -0.035548598 validloss: -0.045088794\n",
      "time: 2.875377893447876 Epoch: 410 trainloss: -0.035535675 validloss: -0.045089085\n",
      "time: 2.8912103176116943 Epoch: 411 trainloss: -0.03554809 validloss: -0.045089375\n",
      "time: 2.8760669231414795 Epoch: 412 trainloss: -0.035536487 validloss: -0.04508966\n",
      "time: 2.882343053817749 Epoch: 413 trainloss: -0.035532095 validloss: -0.045089945\n",
      "time: 2.8677725791931152 Epoch: 414 trainloss: -0.035548635 validloss: -0.04509023\n",
      "time: 2.860872507095337 Epoch: 415 trainloss: -0.03553541 validloss: -0.04509051\n",
      "time: 2.8590149879455566 Epoch: 416 trainloss: -0.035549067 validloss: -0.04509079\n",
      "time: 2.8602473735809326 Epoch: 417 trainloss: -0.035531502 validloss: -0.04509107\n",
      "time: 2.8614633083343506 Epoch: 418 trainloss: -0.035520144 validloss: -0.04509135\n",
      "time: 2.8606667518615723 Epoch: 419 trainloss: -0.035550404 validloss: -0.04509163\n",
      "time: 2.8596503734588623 Epoch: 420 trainloss: -0.035518352 validloss: -0.0450919\n",
      "time: 2.861072063446045 Epoch: 421 trainloss: -0.03554453 validloss: -0.045092177\n",
      "time: 2.8610594272613525 Epoch: 422 trainloss: -0.03553323 validloss: -0.04509245\n",
      "time: 2.8605685234069824 Epoch: 423 trainloss: -0.03553662 validloss: -0.045092724\n",
      "time: 2.8610570430755615 Epoch: 424 trainloss: -0.035546705 validloss: -0.045092992\n",
      "time: 2.8573455810546875 Epoch: 425 trainloss: -0.035547987 validloss: -0.04509326\n",
      "time: 2.8585927486419678 Epoch: 426 trainloss: -0.035546195 validloss: -0.045093536\n",
      "time: 2.8587377071380615 Epoch: 427 trainloss: -0.035481427 validloss: -0.045093805\n",
      "time: 2.856564998626709 Epoch: 428 trainloss: -0.03548041 validloss: -0.04509407\n",
      "time: 2.859177827835083 Epoch: 429 trainloss: -0.03555 validloss: -0.045094334\n",
      "time: 2.8578193187713623 Epoch: 430 trainloss: -0.03555161 validloss: -0.045094598\n",
      "time: 2.858410120010376 Epoch: 431 trainloss: -0.035546612 validloss: -0.045094863\n",
      "time: 2.874563217163086 Epoch: 432 trainloss: -0.035544734 validloss: -0.045095123\n",
      "time: 3.010341167449951 Epoch: 433 trainloss: -0.035545345 validloss: -0.045095388\n",
      "time: 2.9040677547454834 Epoch: 434 trainloss: -0.03554086 validloss: -0.045095645\n",
      "time: 2.8796308040618896 Epoch: 435 trainloss: -0.035540562 validloss: -0.045095902\n",
      "time: 2.9091434478759766 Epoch: 436 trainloss: -0.035450004 validloss: -0.045096163\n",
      "time: 2.8783490657806396 Epoch: 437 trainloss: -0.035547543 validloss: -0.04509642\n",
      "time: 3.0092720985412598 Epoch: 438 trainloss: -0.035529833 validloss: -0.045096677\n",
      "time: 2.878967523574829 Epoch: 439 trainloss: -0.035551637 validloss: -0.04509693\n",
      "time: 2.8627076148986816 Epoch: 440 trainloss: -0.035498094 validloss: -0.045097187\n",
      "time: 2.880244255065918 Epoch: 441 trainloss: -0.035476632 validloss: -0.04509744\n",
      "time: 2.909884214401245 Epoch: 442 trainloss: -0.03551828 validloss: -0.045097694\n",
      "time: 2.9774580001831055 Epoch: 443 trainloss: -0.035540253 validloss: -0.045097943\n",
      "time: 3.120684862136841 Epoch: 444 trainloss: -0.035402875 validloss: -0.045098193\n",
      "time: 3.1427013874053955 Epoch: 445 trainloss: -0.035553604 validloss: -0.045098446\n",
      "time: 3.1152901649475098 Epoch: 446 trainloss: -0.035549007 validloss: -0.045098696\n",
      "time: 2.9786062240600586 Epoch: 447 trainloss: -0.035549648 validloss: -0.045098945\n",
      "time: 2.94592547416687 Epoch: 448 trainloss: -0.03554582 validloss: -0.045099188\n",
      "time: 2.865084171295166 Epoch: 449 trainloss: -0.0355428 validloss: -0.045099437\n",
      "time: 2.8507986068725586 Epoch: 450 trainloss: -0.035525933 validloss: -0.04509968\n",
      "time: 2.9149022102355957 Epoch: 451 trainloss: -0.0355286 validloss: -0.04509992\n",
      "time: 2.8956573009490967 Epoch: 452 trainloss: -0.035545513 validloss: -0.045100164\n",
      "time: 2.8670594692230225 Epoch: 453 trainloss: -0.035524406 validloss: -0.04510041\n",
      "time: 2.948702096939087 Epoch: 454 trainloss: -0.035555705 validloss: -0.04510065\n",
      "time: 2.9423534870147705 Epoch: 455 trainloss: -0.035555936 validloss: -0.04510089\n",
      "time: 3.086852788925171 Epoch: 456 trainloss: -0.035552144 validloss: -0.04510113\n",
      "time: 3.0549938678741455 Epoch: 457 trainloss: -0.035555787 validloss: -0.045101367\n",
      "time: 3.06331729888916 Epoch: 458 trainloss: -0.035551824 validloss: -0.045101605\n",
      "time: 3.061591148376465 Epoch: 459 trainloss: -0.035555646 validloss: -0.04510184\n",
      "time: 3.055173873901367 Epoch: 460 trainloss: -0.035540327 validloss: -0.04510207\n",
      "time: 3.0605640411376953 Epoch: 461 trainloss: -0.035556927 validloss: -0.045102306\n",
      "time: 3.0545902252197266 Epoch: 462 trainloss: -0.03555621 validloss: -0.04510254\n",
      "time: 2.936875820159912 Epoch: 463 trainloss: -0.0355542 validloss: -0.04510277\n",
      "time: 2.91302752494812 Epoch: 464 trainloss: -0.035525322 validloss: -0.045103006\n",
      "time: 3.0028512477874756 Epoch: 465 trainloss: -0.03555763 validloss: -0.045103233\n",
      "time: 2.945385217666626 Epoch: 466 trainloss: -0.035557453 validloss: -0.04510346\n",
      "time: 3.0041344165802 Epoch: 467 trainloss: -0.035546288 validloss: -0.045103688\n",
      "time: 2.994983196258545 Epoch: 468 trainloss: -0.035526216 validloss: -0.045103915\n",
      "time: 2.886418104171753 Epoch: 469 trainloss: -0.035520244 validloss: -0.045104142\n",
      "time: 3.015632390975952 Epoch: 470 trainloss: -0.035558064 validloss: -0.045104366\n",
      "time: 2.8788232803344727 Epoch: 471 trainloss: -0.035556704 validloss: -0.045104593\n",
      "time: 2.8595659732818604 Epoch: 472 trainloss: -0.035516508 validloss: -0.045104817\n",
      "time: 2.8943049907684326 Epoch: 473 trainloss: -0.035556212 validloss: -0.04510504\n",
      "time: 2.952430486679077 Epoch: 474 trainloss: -0.03553827 validloss: -0.045105264\n",
      "time: 2.8590054512023926 Epoch: 475 trainloss: -0.035534948 validloss: -0.04510548\n",
      "time: 2.859842300415039 Epoch: 476 trainloss: -0.035515122 validloss: -0.045105703\n",
      "time: 2.857752799987793 Epoch: 477 trainloss: -0.035549566 validloss: -0.045105923\n",
      "time: 2.8600683212280273 Epoch: 478 trainloss: -0.035513986 validloss: -0.04510614\n",
      "time: 2.8466074466705322 Epoch: 479 trainloss: -0.03555954 validloss: -0.04510636\n",
      "time: 2.8479349613189697 Epoch: 480 trainloss: -0.035552103 validloss: -0.04510658\n",
      "time: 2.846633195877075 Epoch: 481 trainloss: -0.035557896 validloss: -0.045106795\n",
      "time: 2.852141857147217 Epoch: 482 trainloss: -0.035523124 validloss: -0.045107007\n",
      "time: 2.8583812713623047 Epoch: 483 trainloss: -0.035514638 validloss: -0.045107227\n",
      "time: 2.855870246887207 Epoch: 484 trainloss: -0.035544455 validloss: -0.045107435\n",
      "time: 2.8538248538970947 Epoch: 485 trainloss: -0.03554582 validloss: -0.04510765\n",
      "time: 2.8571014404296875 Epoch: 486 trainloss: -0.035560112 validloss: -0.04510786\n",
      "time: 2.8481547832489014 Epoch: 487 trainloss: -0.03555561 validloss: -0.045108072\n",
      "time: 2.848337173461914 Epoch: 488 trainloss: -0.03556019 validloss: -0.045108285\n",
      "time: 2.951690435409546 Epoch: 489 trainloss: -0.03555578 validloss: -0.045108497\n",
      "time: 2.8581016063690186 Epoch: 490 trainloss: -0.03555981 validloss: -0.045108706\n",
      "time: 2.851900100708008 Epoch: 491 trainloss: -0.035547327 validloss: -0.04510891\n",
      "time: 2.8603007793426514 Epoch: 492 trainloss: -0.035561256 validloss: -0.04510912\n",
      "time: 2.851515293121338 Epoch: 493 trainloss: -0.035540786 validloss: -0.045109328\n",
      "time: 2.8507585525512695 Epoch: 494 trainloss: -0.035559546 validloss: -0.04510953\n",
      "time: 2.856743097305298 Epoch: 495 trainloss: -0.03553077 validloss: -0.045109738\n",
      "time: 2.859499454498291 Epoch: 496 trainloss: -0.035525594 validloss: -0.045109943\n",
      "time: 2.8574655055999756 Epoch: 497 trainloss: -0.035544384 validloss: -0.04511015\n",
      "time: 2.8435275554656982 Epoch: 498 trainloss: -0.035562072 validloss: -0.04511035\n",
      "time: 2.845107078552246 Epoch: 499 trainloss: -0.035561956 validloss: -0.045110554\n"
     ]
    },
    {
     "name": "stdout",
     "output_type": "stream",
     "text": [
      "time: 2.8661670684814453 Epoch: 500 trainloss: -0.035556555 validloss: -0.04511076\n"
     ]
    }
   ],
   "source": [
    "Es_train=[]\n",
    "for epoch in range(0,epochs+1):\n",
    "\n",
    "    start = time.time()\n",
    "\n",
    "    metric.reset()\n",
    "\n",
    "    train_iter.reset()\n",
    "    \n",
    "    valid_iter.reset()\n",
    "    \n",
    "\n",
    "    for batch in train_iter:\n",
    "        # Copy data to executor input. Note the [:].\n",
    "        data[:] = batch.data[0]\n",
    "        label[:] = batch.label[0]\n",
    "\n",
    "        # Forward\n",
    "        outputs=exe.forward(is_train=True)\n",
    "        Es_train.append(outputs[1].asnumpy()[0])\n",
    "        # Backward\n",
    "        exe.backward()\n",
    "\n",
    "        # Update\n",
    "        for i, pair in enumerate(zip(exe.arg_arrays, exe.grad_arrays)):\n",
    "            weight, grad = pair\n",
    "            updater(i, grad, weight)   \n",
    "        metric.update(batch.label[0], exe.outputs[0])#metric.update(label,p)\n",
    "        \n",
    "    e=metric.get()\n",
    "    err_train=-e[1].asnumpy()[0]\n",
    "    \n",
    "    if epoch % 100== 0:       \n",
    "        #print(\"do_checkpoint\")\n",
    "        arg={k:v for k, v in arg_arrays.items() if k not in input_shapes}\n",
    "        aux = dict(zip(network.list_auxiliary_states(), exe.aux_arrays))\n",
    "        mx.model.save_checkpoint(prefix, epoch, network, arg, aux)\n",
    "        \n",
    "        \n",
    "    #compute valid loss per epoch    \n",
    "    metric.reset()\n",
    "    for batch in valid_iter:        \n",
    "        data[:] = batch.data[0]       \n",
    "        label[:] = batch.label[0]\n",
    "        # predict\n",
    "        outputs = exe.forward(is_train=False)\n",
    "        metric.update(batch.label[0], exe.outputs[0])\n",
    "    e=metric.get()\n",
    "    err_valid=-e[1].asnumpy()[0]\n",
    "    end = time.time()\n",
    "    print('time:',end-start,'Epoch:',epoch,'trainloss:',err_train,'validloss:',err_valid)"
   ]
  },
  {
   "cell_type": "code",
   "execution_count": 24,
   "metadata": {},
   "outputs": [
    {
     "data": {
      "text/plain": [
       "[-0.03210952, -0.0256772, -0.044658914, -0.034622647, -0.035864435]"
      ]
     },
     "execution_count": 24,
     "metadata": {},
     "output_type": "execute_result"
    }
   ],
   "source": [
    "Es_train[-5:]"
   ]
  },
  {
   "cell_type": "code",
   "execution_count": 29,
   "metadata": {},
   "outputs": [
    {
     "data": {
      "text/plain": [
       "[<matplotlib.lines.Line2D at 0x7fc9fa234b70>]"
      ]
     },
     "execution_count": 29,
     "metadata": {},
     "output_type": "execute_result"
    },
    {
     "data": {
      "image/png": "[encoded data removed]",
      "text/plain": [
       "<Figure size 432x288 with 1 Axes>"
      ]
     },
     "metadata": {},
     "output_type": "display_data"
    }
   ],
   "source": [
    "plt.plot(Es_train,'.-')"
   ]
  },
  {
   "cell_type": "markdown",
   "metadata": {},
   "source": [
    "## Evaluate Model"
   ]
  },
  {
   "cell_type": "code",
   "execution_count": 26,
   "metadata": {},
   "outputs": [],
   "source": [
    "BATCH_SIZE=1\n",
    "test_iter=nn.FileIter(test_data_path,test_idx_path,batch_size=BATCH_SIZE,do_shuffle=False,mean_image=x_mean,std_image = x_std)"
   ]
  },
  {
   "cell_type": "code",
   "execution_count": 27,
   "metadata": {},
   "outputs": [],
   "source": [
    "def get_sample_at(valid_iter,n):\n",
    "    valid_iter.ind2=[n]\n",
    "    return valid_iter.next()"
   ]
  },
  {
   "cell_type": "code",
   "execution_count": 28,
   "metadata": {},
   "outputs": [
    {
     "name": "stdout",
     "output_type": "stream",
     "text": [
      "index = 36\n"
     ]
    },
    {
     "ename": "StopIteration",
     "evalue": "",
     "output_type": "error",
     "traceback": [
      "\u001b[0;31m---------------------------------------------------------------------------\u001b[0m",
      "\u001b[0;31mStopIteration\u001b[0m                             Traceback (most recent call last)",
      "\u001b[0;32m<ipython-input-28-9be83b975c8f>\u001b[0m in \u001b[0;36m<module>\u001b[0;34m()\u001b[0m\n\u001b[1;32m      2\u001b[0m \u001b[0mn\u001b[0m \u001b[0;34m=\u001b[0m \u001b[0mrandom\u001b[0m\u001b[0;34m.\u001b[0m\u001b[0mrandint\u001b[0m\u001b[0;34m(\u001b[0m\u001b[0;36m0\u001b[0m\u001b[0;34m,\u001b[0m\u001b[0mK\u001b[0m\u001b[0;34m)\u001b[0m\u001b[0;34m\u001b[0m\u001b[0m\n\u001b[1;32m      3\u001b[0m \u001b[0mprint\u001b[0m\u001b[0;34m(\u001b[0m\u001b[0;34m'index = '\u001b[0m\u001b[0;34m+\u001b[0m \u001b[0mstr\u001b[0m\u001b[0;34m(\u001b[0m\u001b[0mn\u001b[0m\u001b[0;34m)\u001b[0m\u001b[0;34m)\u001b[0m\u001b[0;34m\u001b[0m\u001b[0m\n\u001b[0;32m----> 4\u001b[0;31m \u001b[0mbatch\u001b[0m \u001b[0;34m=\u001b[0m \u001b[0mget_sample_at\u001b[0m\u001b[0;34m(\u001b[0m\u001b[0mvalid_iter\u001b[0m\u001b[0;34m,\u001b[0m\u001b[0mn\u001b[0m\u001b[0;34m)\u001b[0m\u001b[0;34m\u001b[0m\u001b[0m\n\u001b[0m\u001b[1;32m      5\u001b[0m \u001b[0;34m\u001b[0m\u001b[0m\n\u001b[1;32m      6\u001b[0m \u001b[0;34m\u001b[0m\u001b[0m\n",
      "\u001b[0;32m<ipython-input-27-4ff349c0ef19>\u001b[0m in \u001b[0;36mget_sample_at\u001b[0;34m(valid_iter, n)\u001b[0m\n\u001b[1;32m      1\u001b[0m \u001b[0;32mdef\u001b[0m \u001b[0mget_sample_at\u001b[0m\u001b[0;34m(\u001b[0m\u001b[0mvalid_iter\u001b[0m\u001b[0;34m,\u001b[0m\u001b[0mn\u001b[0m\u001b[0;34m)\u001b[0m\u001b[0;34m:\u001b[0m\u001b[0;34m\u001b[0m\u001b[0m\n\u001b[1;32m      2\u001b[0m     \u001b[0mvalid_iter\u001b[0m\u001b[0;34m.\u001b[0m\u001b[0mind2\u001b[0m\u001b[0;34m=\u001b[0m\u001b[0;34m[\u001b[0m\u001b[0mn\u001b[0m\u001b[0;34m]\u001b[0m\u001b[0;34m\u001b[0m\u001b[0m\n\u001b[0;32m----> 3\u001b[0;31m     \u001b[0;32mreturn\u001b[0m \u001b[0mvalid_iter\u001b[0m\u001b[0;34m.\u001b[0m\u001b[0mnext\u001b[0m\u001b[0;34m(\u001b[0m\u001b[0;34m)\u001b[0m\u001b[0;34m\u001b[0m\u001b[0m\n\u001b[0m",
      "\u001b[0;32m~/x110/DLToolboxImg/src/mynnet7.py\u001b[0m in \u001b[0;36mnext\u001b[0;34m(self)\u001b[0m\n\u001b[1;32m   1824\u001b[0m             \u001b[0;32mreturn\u001b[0m \u001b[0mres\u001b[0m\u001b[0;34m\u001b[0m\u001b[0m\n\u001b[1;32m   1825\u001b[0m         \u001b[0;32melse\u001b[0m\u001b[0;34m:\u001b[0m\u001b[0;34m\u001b[0m\u001b[0m\n\u001b[0;32m-> 1826\u001b[0;31m             \u001b[0;32mraise\u001b[0m \u001b[0mStopIteration\u001b[0m\u001b[0;34m\u001b[0m\u001b[0m\n\u001b[0m\u001b[1;32m   1827\u001b[0m \u001b[0;34m\u001b[0m\u001b[0m\n\u001b[1;32m   1828\u001b[0m \u001b[0;32mclass\u001b[0m \u001b[0mLRScheduler\u001b[0m\u001b[0;34m(\u001b[0m\u001b[0mobject\u001b[0m\u001b[0;34m)\u001b[0m\u001b[0;34m:\u001b[0m\u001b[0;34m\u001b[0m\u001b[0m\n",
      "\u001b[0;31mStopIteration\u001b[0m: "
     ]
    }
   ],
   "source": [
    "K = valid_iter.num_data\n",
    "n = random.randint(0,K)\n",
    "print('index = '+ str(n))\n",
    "batch = get_sample_at(valid_iter,n)\n",
    "\n",
    "\n",
    "data[:] = batch.data[0]       \n",
    "label[:] = batch.label[0]\n",
    "# predict\n",
    "outputs = exe.forward(is_train=False)\n",
    "\n",
    "\n",
    "p = outputs[0][0].asnumpy().reshape(32,32,32)\n",
    "\n",
    "\n",
    "\n",
    "X = batch.data[0][0][0].asnumpy()\n",
    "Y = batch.label[0][0].asnumpy().reshape((32,32,32))\n",
    "                              \n",
    "img = X*x_std+x_mean\n",
    "msk1 = Y\n",
    "msk2 = p>.5#.001\n",
    "msk2=msk2*1\n",
    "msk1= np.ma.masked_where(msk1 == 0, msk1)\n",
    "msk2= np.ma.masked_where(msk2 == 0, msk2)\n",
    "\n",
    "zs=32\n",
    "num_rows=np.ceil(zs/8).astype(int)\n",
    "f, plots = plt.subplots(num_rows, 8, sharex='col', sharey='row', figsize=(10, 8))\n",
    "for i in range(zs):\n",
    "    plots[i // 8, i % 8].axis('off')\n",
    "    plots[i // 8, i % 8].imshow(img[i], 'gray',vmin=0,vmax=1)\n",
    "    plots[i // 8, i % 8].imshow(msk1[i],interpolation='none', cmap=plt.cm.Reds, alpha=.7, vmin=0, vmax=1)\n",
    "    plots[i // 8, i % 8].imshow(msk2[i],interpolation='none',  alpha=0.4, vmin=0, vmax=1)\n",
    "\n",
    "\n",
    "      \n",
    "plt.tight_layout()"
   ]
  },
  {
   "cell_type": "code",
   "execution_count": null,
   "metadata": {},
   "outputs": [],
   "source": []
  }
 ],
 "metadata": {
  "kernelspec": {
   "display_name": "Python 3",
   "language": "python",
   "name": "python3"
  },
  "language_info": {
   "codemirror_mode": {
    "name": "ipython",
    "version": 3
   },
   "file_extension": ".py",
   "mimetype": "text/x-python",
   "name": "python",
   "nbconvert_exporter": "python",
   "pygments_lexer": "ipython3",
   "version": "3.5.2"
  },
  "toc": {
   "base_numbering": "1",
   "nav_menu": {
    "height": "290px",
    "width": "353.333px"
   },
   "number_sections": true,
   "sideBar": true,
   "skip_h1_title": true,
   "title_cell": "Table of Contents",
   "title_sidebar": "Contents",
   "toc_cell": true,
   "toc_position": {
    "height": "449.333px",
    "left": "92px",
    "top": "128px",
    "width": "204.533px"
   },
   "toc_section_display": true,
   "toc_window_display": true
  }
 },
 "nbformat": 4,
 "nbformat_minor": 2
}
