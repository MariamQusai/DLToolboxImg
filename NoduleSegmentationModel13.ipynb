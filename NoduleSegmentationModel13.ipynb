{
  "nbformat": 4,
  "nbformat_minor": 0,
  "metadata": {
    "colab": {
      "name": "NoduleSegmentationModel13.ipynb",
      "version": "0.3.2",
      "provenance": [],
      "collapsed_sections": [],
      "include_colab_link": true
    },
    "kernelspec": {
      "name": "python3",
      "display_name": "Python 3"
    },
    "accelerator": "GPU"
  },
  "cells": [
    {
      "cell_type": "markdown",
      "metadata": {
        "id": "view-in-github",
        "colab_type": "text"
      },
      "source": [
        "<a href=\"https://colab.research.google.com/github/x110/DLToolboxImg/blob/master/NoduleSegmentationModel13.ipynb\" target=\"_parent\"><img src=\"https://colab.research.google.com/assets/colab-badge.svg\" alt=\"Open In Colab\"/></a>"
      ]
    },
    {
      "metadata": {
        "id": "2nWGr82Ik3t_",
        "colab_type": "code",
        "colab": {}
      },
      "cell_type": "code",
      "source": [
        "from google.colab import drive\n",
        "drive.mount('/content/drive')"
      ],
      "execution_count": 0,
      "outputs": []
    },
    {
      "metadata": {
        "id": "W6ljz0jskI2x",
        "colab_type": "text"
      },
      "cell_type": "markdown",
      "source": [
        "#Configuration"
      ]
    },
    {
      "metadata": {
        "id": "NwpwrS4F_r15",
        "colab_type": "code",
        "colab": {}
      },
      "cell_type": "code",
      "source": [
        "!ls"
      ],
      "execution_count": 0,
      "outputs": []
    },
    {
      "metadata": {
        "id": "faJWgZ4m-OyT",
        "colab_type": "code",
        "colab": {}
      },
      "cell_type": "code",
      "source": [
        "# Remove CUDA 9 completely\n",
        "\n",
        "!apt-get --purge remove cuda nvidia* libnvidia-*\n",
        "!apt-get remove cuda-*\n",
        "!dpkg -l | grep cuda- | awk '{print $2}' | xargs -n1 dpkg --purge\n",
        "!apt autoremove\n",
        "!apt-get update"
      ],
      "execution_count": 0,
      "outputs": []
    },
    {
      "metadata": {
        "id": "xQt0wZRLkM62",
        "colab_type": "code",
        "colab": {}
      },
      "cell_type": "code",
      "source": [
        "# Install CUDA 8\n",
        "\n",
        "!wget https://developer.download.nvidia.com/compute/cuda/repos/ubuntu1604/x86_64/cuda-repo-ubuntu1604_8.0.61-1_amd64.deb\n",
        "!dpkg -i --force-overwrite cuda-repo-ubuntu1604_8.0.61-1_amd64.deb\n",
        "!apt-get update\n",
        "!apt-get install cuda-8-0\n",
        "\n",
        "# install will fail, need to force dpkg to overwrite the configuration file\n",
        "\n",
        "!wget http://archive.ubuntu.com/ubuntu/pool/main/m/mesa/libglx-mesa0_18.0.5-0ubuntu0~18.04.1_amd64.deb\n",
        "!dpkg -i --force-overwrite libglx-mesa0_18.0.5-0ubuntu0~18.04.1_amd64.deb\n",
        "\n",
        "!wget http://developer.download.nvidia.com/compute/cuda/repos/ubuntu1604/x86_64/nvidia-410_410.48-0ubuntu1_amd64.deb\n",
        "!dpkg -i --force-overwrite nvidia-410_410.48-0ubuntu1_amd64.deb\n",
        "\n",
        "!apt --fix-broken install\n",
        "!apt-get install cuda-8-0"
      ],
      "execution_count": 0,
      "outputs": []
    },
    {
      "metadata": {
        "id": "CFAXDR9Gvw8S",
        "colab_type": "code",
        "colab": {}
      },
      "cell_type": "code",
      "source": [
        "!pip uninstall -y numpy\n",
        "!pip uninstall -y scipy\n",
        "!pip install turicreate\n",
        "# The worng version of MXNET will be installed.\n",
        "!pip uninstall -y mxnet\n",
        "!pip install scipy\n",
        "# Instal CUDA8-compatible version of mxnet 1.1.0\n",
        "!pip install mxnet-cu80==1.1.0"
      ],
      "execution_count": 0,
      "outputs": []
    },
    {
      "metadata": {
        "id": "hreX2n06B5dg",
        "colab_type": "text"
      },
      "cell_type": "markdown",
      "source": [
        "#  Load Data"
      ]
    },
    {
      "metadata": {
        "id": "LS-j2uGt_h64",
        "colab_type": "code",
        "colab": {}
      },
      "cell_type": "code",
      "source": [
        "PATH = \"x110/\""
      ],
      "execution_count": 0,
      "outputs": []
    },
    {
      "metadata": {
        "id": "M7hmz4sRBd40",
        "colab_type": "code",
        "colab": {}
      },
      "cell_type": "code",
      "source": [
        "!mkdir {PATH}\n",
        "!mkdir {PATH+\"Datasets\"}\n",
        "!mkdir {PATH+\"Datasets/Dataset1/\"}\n",
        "!mkdir {PATH+\"Datasets/Dataset1/processed/\"}\n",
        "!mkdir {PATH+\"model\"}"
      ],
      "execution_count": 0,
      "outputs": []
    },
    {
      "metadata": {
        "id": "TWY_-L4qDQXY",
        "colab_type": "code",
        "colab": {}
      },
      "cell_type": "code",
      "source": [
        "dataset_path = '/content/drive/My Drive/Datasets/Dataset5/processed/.'\n",
        "model_path1 = \"drive/My Drive/x110/model/model12/\"\n",
        "#model details\n",
        "prefix1 = \"jan09\"\n",
        "model_epoch=47\n",
        "\n",
        "model_path2 = \"drive/My Drive/x110/model/model13/\"\n",
        "prefix2 = \"jan09\"\n"
      ],
      "execution_count": 0,
      "outputs": []
    },
    {
      "metadata": {
        "id": "7oArm9XTEWk-",
        "colab_type": "code",
        "colab": {}
      },
      "cell_type": "code",
      "source": [
        "epochs = 10\n",
        "load_model = True\n",
        "find_stats = False#True\n",
        "bs = 100#64#34"
      ],
      "execution_count": 0,
      "outputs": []
    },
    {
      "metadata": {
        "id": "ic0tSCrnFk9-",
        "colab_type": "code",
        "colab": {}
      },
      "cell_type": "code",
      "source": [
        "!cp -a \"{dataset_path}\" {PATH+\"Datasets/Dataset1/processed/\"}"
      ],
      "execution_count": 0,
      "outputs": []
    },
    {
      "metadata": {
        "id": "W5Ajv0yqyY9c",
        "colab_type": "code",
        "outputId": "5c4c7455-0efd-479f-ac3a-8cc7a6ffa103",
        "colab": {
          "base_uri": "https://localhost:8080/",
          "height": 139
        }
      },
      "cell_type": "code",
      "source": [
        "!mkdir x110/DLToolboxImg\n",
        "!git clone https://github.com/x110/DLToolboxImg.git x110/DLToolboxImg"
      ],
      "execution_count": 12,
      "outputs": [
        {
          "output_type": "stream",
          "text": [
            "Cloning into 'x110/DLToolboxImg'...\n",
            "remote: Enumerating objects: 27, done.\u001b[K\n",
            "remote: Counting objects: 100% (27/27), done.\u001b[K\n",
            "remote: Compressing objects: 100% (27/27), done.\u001b[K\n",
            "remote: Total 819 (delta 14), reused 0 (delta 0), pack-reused 792\u001b[K\n",
            "Receiving objects: 100% (819/819), 123.85 MiB | 28.22 MiB/s, done.\n",
            "Resolving deltas: 100% (465/465), done.\n"
          ],
          "name": "stdout"
        }
      ]
    },
    {
      "metadata": {
        "id": "-A_IctC4ABII",
        "colab_type": "text"
      },
      "cell_type": "markdown",
      "source": [
        "# Settings"
      ]
    },
    {
      "metadata": {
        "id": "HT3hdPbNk6zy",
        "colab_type": "code",
        "colab": {}
      },
      "cell_type": "code",
      "source": [
        "#Dataset Path \n",
        "interm_dir4 = PATH + \"Datasets/Dataset1/processed/\"\n",
        "s = \"2018_11_25\"\n",
        "train_data_path=interm_dir4+'train'+s+'pos.rec'\n",
        "train_idx_path=interm_dir4+'train'+s+'pos.idx'\n",
        "valid_data_path=interm_dir4+'valid'+s+'pos.rec'\n",
        "valid_idx_path=interm_dir4+'valid'+s+'pos.idx'\n",
        "test_data_path=interm_dir4+'test'+s+'pos.rec'\n",
        "test_idx_path=interm_dir4+'test'+s+'pos.idx'"
      ],
      "execution_count": 0,
      "outputs": []
    },
    {
      "metadata": {
        "id": "sh_5N-RvZJLP",
        "colab_type": "code",
        "colab": {
          "base_uri": "https://localhost:8080/",
          "height": 34
        },
        "outputId": "e59819ac-0ddc-4f40-c31f-e03179f629ba"
      },
      "cell_type": "code",
      "source": [
        "load_model"
      ],
      "execution_count": 14,
      "outputs": [
        {
          "output_type": "execute_result",
          "data": {
            "text/plain": [
              "True"
            ]
          },
          "metadata": {
            "tags": []
          },
          "execution_count": 14
        }
      ]
    },
    {
      "metadata": {
        "id": "ITGUgg7UB6BJ",
        "colab_type": "code",
        "colab": {}
      },
      "cell_type": "code",
      "source": [
        "if load_model:\n",
        "  drivefile = model_path1+prefix1+\"-\"+\"{:04d}\".format(model_epoch)+\".params\"\n",
        "  drivefile2 = model_path1+prefix1+\"-symbol.json\"\n",
        "  colabfile = PATH+\"model/\"+prefix1+\"-\"+\"{:04d}\".format(model_epoch)+\".params\"\n",
        "  colabfile2 = PATH+\"model/\"+prefix1+\"-symbol.json\"\n",
        "\n",
        "  !cp  \"{drivefile}\" {colabfile}\n",
        "  !cp  \"{drivefile2}\" {colabfile2}\n"
      ],
      "execution_count": 0,
      "outputs": []
    },
    {
      "metadata": {
        "toc": true,
        "id": "EIFzslyej3R8",
        "colab_type": "text"
      },
      "cell_type": "markdown",
      "source": [
        "<h1>Table of Contents<span class=\"tocSkip\"></span></h1>\n",
        "<div class=\"toc\"><ul class=\"toc-item\"><li><span><a href=\"#Configuration\" data-toc-modified-id=\"Configuration-1\"><span class=\"toc-item-num\">1&nbsp;&nbsp;</span>Configuration</a></span></li><li><span><a href=\"#Preprocessing\" data-toc-modified-id=\"Preprocessing-2\"><span class=\"toc-item-num\">2&nbsp;&nbsp;</span>Preprocessing</a></span><ul class=\"toc-item\"><li><span><a href=\"#Find-mean-of-images\" data-toc-modified-id=\"Find-mean-of-images-2.1\"><span class=\"toc-item-num\">2.1&nbsp;&nbsp;</span>Find mean of images</a></span></li><li><span><a href=\"#Find-variance-of-images\" data-toc-modified-id=\"Find-variance-of-images-2.2\"><span class=\"toc-item-num\">2.2&nbsp;&nbsp;</span>Find variance of images</a></span></li></ul></li><li><span><a href=\"#Data-Iterator\" data-toc-modified-id=\"Data-Iterator-3\"><span class=\"toc-item-num\">3&nbsp;&nbsp;</span>Data Iterator</a></span></li><li><span><a href=\"#Evaluation-Metric\" data-toc-modified-id=\"Evaluation-Metric-4\"><span class=\"toc-item-num\">4&nbsp;&nbsp;</span>Evaluation Metric</a></span></li><li><span><a href=\"#Model-Architecture\" data-toc-modified-id=\"Model-Architecture-5\"><span class=\"toc-item-num\">5&nbsp;&nbsp;</span>Model Architecture</a></span></li><li><span><a href=\"#Optimizer\" data-toc-modified-id=\"Optimizer-6\"><span class=\"toc-item-num\">6&nbsp;&nbsp;</span>Optimizer</a></span><ul class=\"toc-item\"><li><span><a href=\"#Find--learning-rate\" data-toc-modified-id=\"Find--learning-rate-6.1\"><span class=\"toc-item-num\">6.1&nbsp;&nbsp;</span>Find  learning rate</a></span></li><li><span><a href=\"#Optimizer-Parameters\" data-toc-modified-id=\"Optimizer-Parameters-6.2\"><span class=\"toc-item-num\">6.2&nbsp;&nbsp;</span>Optimizer Parameters</a></span></li></ul></li><li><span><a href=\"#Train-Model\" data-toc-modified-id=\"Train-Model-7\"><span class=\"toc-item-num\">7&nbsp;&nbsp;</span>Train Model</a></span></li><li><span><a href=\"#Evaluate-Model\" data-toc-modified-id=\"Evaluate-Model-8\"><span class=\"toc-item-num\">8&nbsp;&nbsp;</span>Evaluate Model</a></span></li></ul></div>"
      ]
    },
    {
      "metadata": {
        "id": "fRuO7y9fj3R3",
        "colab_type": "text"
      },
      "cell_type": "markdown",
      "source": [
        "# Model Code"
      ]
    },
    {
      "metadata": {
        "scrolled": true,
        "id": "F7JkqZ0mj3SM",
        "colab_type": "code",
        "colab": {}
      },
      "cell_type": "code",
      "source": [
        "import sys\n",
        "sys.path.insert(0,\"x110/DLToolboxImg/src/\")"
      ],
      "execution_count": 0,
      "outputs": []
    },
    {
      "metadata": {
        "scrolled": true,
        "id": "2yYRVHIdj3SU",
        "colab_type": "code",
        "colab": {}
      },
      "cell_type": "code",
      "source": [
        "import mynnet7 as nn\n",
        "import pickle\n",
        "import mxnet as mx\n",
        "import time\n",
        "import matplotlib.pyplot as plt\n",
        "import numpy as np\n",
        "import pandas as pd"
      ],
      "execution_count": 0,
      "outputs": []
    },
    {
      "metadata": {
        "id": "Vbr8CTJj4t8F",
        "colab_type": "code",
        "colab": {}
      },
      "cell_type": "code",
      "source": [
        "import mxnet as mx\n",
        "import sys, os\n",
        "import random\n",
        "import time\n",
        "import matplotlib.pyplot as plt\n",
        "import matplotlib.image as mpimg\n",
        "\n",
        "import numpy as np\n",
        "import cv2\n",
        "import pandas as pd\n",
        "import re\n",
        "from mxnet.io import DataIter\n",
        "from mxnet.io import DataBatch\n",
        "import pandas as pd\n",
        "from scipy.ndimage.filters import gaussian_filter\n",
        "from scipy.ndimage.interpolation import map_coordinates\n",
        "from collections import namedtuple\n",
        "import pickle\n",
        "\n",
        "Batch = namedtuple('Batch', ['data'])\n",
        "\n",
        "BATCH_SIZE,INPUT_SIZE_z,INPUT_SIZE_y, INPUT_SIZE_x = 8,32,32,32\n",
        "\n",
        "class FileIter(DataIter):\n",
        "    def __init__(self, path,path_idx,\n",
        "                 data_name=\"data\",\n",
        "                 label_name=\"softmax_label\",\n",
        "                 batch_size=1,\n",
        "                 do_augment=False,\n",
        "                 random_flip=False,\n",
        "                 random_rot=False,\n",
        "                 random_elastic=False, \n",
        "                 mean_image=.28,\n",
        "                 std_image = .28,\n",
        "                 do_shuffle = True):\n",
        "\n",
        "        \n",
        "        random.seed(313)\n",
        "        self.ind2=None\n",
        "        self.do_shuffle = do_shuffle\n",
        "        self.epoch = 0\n",
        "        self.mean_image = mean_image\n",
        "        self.std_image = std_image\n",
        "        \n",
        "        super(FileIter, self).__init__()\n",
        "        self.batch_size = batch_size\n",
        "        self.do_augment=do_augment\n",
        "        self.random_flip = random_flip\n",
        "        self.random_rot = random_rot\n",
        "        self.random_elastic = random_elastic\n",
        "\n",
        "        self.data_name = data_name\n",
        "        self.label_name = label_name\n",
        "\n",
        "        self.record = mx.recordio.MXIndexedRecordIO(path_idx, path, 'r')#mx.recordio.MXRecordIO(path, 'r')\n",
        "\n",
        "        \n",
        "        def readrecord(record):\n",
        "            record.reset()\n",
        "            num_data=0\n",
        "            while True:\n",
        "                item = record.read()\n",
        "                num_data+=1\n",
        "                if not item:\n",
        "                    break\n",
        "            return num_data-1\n",
        "        \n",
        "        \n",
        "        self.num_data = readrecord(self.record)#len(open(self.flist_name, 'r').readlines())\n",
        "        \n",
        "        \n",
        "        \n",
        "        self.idx = self.shuffle_idx()\n",
        "        self.cursor = -1\n",
        "        self.cursor2 = -1\n",
        "        self.ind = self.idx[0]\n",
        "        self.record.reset()\n",
        "\n",
        "        self.data, self.label = self._read()\n",
        "        self.reset()\n",
        "            \n",
        "    def shuffle_idx(self):\n",
        "        num_data = self.num_data//self.batch_size*self.batch_size\n",
        "        idx = [i for i in range(num_data)]\n",
        "        if self.do_shuffle:\n",
        "            random.shuffle(idx)\n",
        "        idx = np.array(idx)\n",
        "        idx = idx.reshape(-1,self.batch_size)\n",
        "        return idx\n",
        "    \n",
        "    def _read(self):\n",
        "        \"\"\"get two list, each list contains two elements: name and nd.array value\"\"\"\n",
        "                \n",
        "        data = {}\n",
        "        label = {}\n",
        "\n",
        "        dd = []\n",
        "        ll = []\n",
        "        \n",
        "        if self.ind2 is None:\n",
        "            ind = self.ind\n",
        "        else:\n",
        "            ind = self.ind2\n",
        "            self.ind2=None\n",
        "            \n",
        "        for i in range(0, self.batch_size):\n",
        "            \n",
        "            item = self.record.read_idx(ind[i])            \n",
        "            header, l = mx.recordio.unpack_img(item)\n",
        "            \n",
        "            d=header.label\n",
        "\n",
        "            d=d.reshape((32,32,32))- self.mean_image\n",
        "            d = d/self.std_image\n",
        "            \n",
        "            l=l.reshape((32,32,32))\n",
        "            data11=np.concatenate((d,l),axis=0)  \n",
        "            \n",
        "            if self.random_elastic:            \n",
        "              if random.randint(0, 100) > 50:\n",
        "                data11=np.array([elastic_transform(d, 128, 15) for d  in data11])\n",
        "\n",
        "            if self.random_rot:\n",
        "              if random.randint(0, 100) > 50:\n",
        "                n,rows,cols = data11.shape\n",
        "                rot =40* random.random()-20\n",
        "                M = cv2.getRotationMatrix2D((cols/2,rows/2),rot,1)\n",
        "                data11=np.array([cv2.warpAffine(d,M,(cols,rows))for d in data11])\n",
        "\n",
        "            d,l=np.vsplit(data11,2)\n",
        "\n",
        "            if self.random_flip:\n",
        "            \tl=l.reshape((32,32,32))\n",
        "            \td,l = random_flip_img(d,l, horizontal_chance=0.5, vertical_chance=0.5)\n",
        "\n",
        "            d = np.expand_dims(d, axis=0) \n",
        "            d = np.expand_dims(d, axis=0)\n",
        "            l=l.reshape((32*32*32))\n",
        "            l=l.astype(float)\n",
        "            l = np.expand_dims(l, axis=0)\n",
        "\n",
        "\n",
        "\n",
        "            dd.append(d)\n",
        "            ll.append(l)\n",
        "\n",
        "        d = np.vstack(dd)\n",
        "        l = np.vstack(ll)\n",
        "        data[self.data_name] = d\n",
        "        label[self.label_name] = l\n",
        "        res = list(data.items()), list(label.items())\n",
        "        return res\n",
        "\n",
        "    @property\n",
        "    def provide_data(self):\n",
        "        \"\"\"The name and shape of data provided by this iterator\"\"\"\n",
        "        res = [(k, tuple(list(v.shape[0:]))) for k, v in self.data]\n",
        "        # print \"data : \" + str(res)\n",
        "        return res\n",
        "\n",
        "    @property\n",
        "    def provide_label(self):\n",
        "        \"\"\"The name and shape of label provided by this iterator\"\"\"\n",
        "        res = [(k, tuple(list(v.shape[0:]))) for k, v in self.label]\n",
        "        return res\n",
        "    \n",
        "\n",
        "    def reset(self):\n",
        "        self.cursor = -1\n",
        "        self.cursor2 = -1\n",
        "        self.record.reset()\n",
        "        self.epoch += 1\n",
        "        self.idx = self.shuffle_idx()\n",
        "        \n",
        "\n",
        "\n",
        "    def getpad(self):\n",
        "        return 0\n",
        "\n",
        "    def iter_next(self):\n",
        "        self.cursor += self.batch_size\n",
        "        self.cursor2 += 1\n",
        "        num_data = self.num_data//self.batch_size*self.batch_size\n",
        "            \n",
        "\n",
        "        if self.cursor < self.num_data:\n",
        "            self.ind = self.idx[self.cursor2]\n",
        "            return True\n",
        "        else:\n",
        "            return False\n",
        "\n",
        "    def eof(self):\n",
        "        res = self.cursor >= self.num_data\n",
        "        return res\n",
        "\n",
        "    def next(self):\n",
        "        \"\"\"return one dict which contains \"data\" and \"label\" \"\"\"\n",
        "        if self.iter_next():\n",
        "            self.data, self.label = self._read()\n",
        " \n",
        "            res = DataBatch(data=[mx.nd.array(self.data[0][1])], label=[mx.nd.array(self.label[0][1])], pad=self.getpad(), index=None)\n",
        "\n",
        "            return res\n",
        "        else:\n",
        "            raise StopIteration\n",
        "\n",
        "\n"
      ],
      "execution_count": 0,
      "outputs": []
    },
    {
      "metadata": {
        "id": "9hXyEtQCQZpY",
        "colab_type": "code",
        "colab": {}
      },
      "cell_type": "code",
      "source": [
        "from scipy.ndimage.filters import gaussian_filter\n",
        "from scipy.ndimage.interpolation import map_coordinates\n",
        "ELASTIC_INDICES = None  # needed to make it faster to fix elastic deformation per epoch.\n",
        "def elastic_transform(image, alpha, sigma, random_state=None):\n",
        "  global ELASTIC_INDICES\n",
        "  shape = image.shape\n",
        "\n",
        "  if ELASTIC_INDICES == None:\n",
        "      if random_state is None:\n",
        "          random_state = np.random.RandomState(1301)\n",
        "\n",
        "      dx = gaussian_filter((random_state.rand(*shape) * 2 - 1), sigma, mode=\"constant\", cval=0) * alpha\n",
        "      dy = gaussian_filter((random_state.rand(*shape) * 2 - 1), sigma, mode=\"constant\", cval=0) * alpha\n",
        "      x, y = np.meshgrid(np.arange(shape[0]), np.arange(shape[1]))\n",
        "      ELASTIC_INDICES = np.reshape(y + dy, (-1, 1)), np.reshape(x + dx, (-1, 1))\n",
        "  return map_coordinates(image, ELASTIC_INDICES, order=1).reshape(shape)\n"
      ],
      "execution_count": 0,
      "outputs": []
    },
    {
      "metadata": {
        "id": "lc2EWJ_VQeoZ",
        "colab_type": "code",
        "colab": {}
      },
      "cell_type": "code",
      "source": [
        "def random_flip_img(X,Y, horizontal_chance=0.5, vertical_chance=0.5):\n",
        "    import cv2\n",
        "    flip_horizontal = False\n",
        "    if random.random() < horizontal_chance:\n",
        "        flip_horizontal = True\n",
        "\n",
        "    flip_vertical = False\n",
        "    if random.random() < vertical_chance:\n",
        "        flip_vertical = True\n",
        "\n",
        "    if not flip_horizontal and not flip_vertical:\n",
        "        return (X,Y)\n",
        "\n",
        "    flip_val = 1\n",
        "    if flip_vertical:\n",
        "        flip_val = -1 if flip_horizontal else 0\n",
        "\n",
        "    Xaug = np.array([cv2.flip(x, flip_val) for x in X])\n",
        "    Yaug = np.array([cv2.flip(x, flip_val) for x in Y])\n",
        "\n",
        "    return (Xaug,Yaug)"
      ],
      "execution_count": 0,
      "outputs": []
    },
    {
      "metadata": {
        "id": "r57gImHw6rX4",
        "colab_type": "code",
        "colab": {}
      },
      "cell_type": "code",
      "source": [
        "import os\n",
        "import math"
      ],
      "execution_count": 0,
      "outputs": []
    },
    {
      "metadata": {
        "id": "qEE6i_txGY1C",
        "colab_type": "code",
        "colab": {}
      },
      "cell_type": "code",
      "source": [
        "# Set seed for reproducibility\n",
        "mx.random.seed(42)"
      ],
      "execution_count": 0,
      "outputs": []
    },
    {
      "metadata": {
        "colab_type": "text",
        "id": "xe-Fv5N2a9Ra"
      },
      "cell_type": "markdown",
      "source": [
        "# Nodule Segmentation: Model"
      ]
    },
    {
      "metadata": {
        "id": "GWkyDSB2j3S_",
        "colab_type": "text"
      },
      "cell_type": "markdown",
      "source": [
        "## Preprocessing"
      ]
    },
    {
      "metadata": {
        "id": "T_OZbL4Mj3TC",
        "colab_type": "text"
      },
      "cell_type": "markdown",
      "source": [
        "### Find mean of images"
      ]
    },
    {
      "metadata": {
        "scrolled": true,
        "id": "To2ssEIvj3TG",
        "colab_type": "code",
        "outputId": "b3387953-a373-4aa9-b9c3-499729018d81",
        "colab": {
          "base_uri": "https://localhost:8080/",
          "height": 34
        }
      },
      "cell_type": "code",
      "source": [
        "if find_stats:\n",
        "    BATCH_SIZE=1\n",
        "    train_iter=nn.FileIter(train_data_path,train_idx_path,batch_size=BATCH_SIZE,do_augment=True,mean_image=0,std_image=1)\n",
        "    train_iter.reset()\n",
        "    x_mean = np.zeros((32,32,32))\n",
        "    for i,batch in enumerate(train_iter):\n",
        "        X =  batch.data[0][0][0].asnumpy()\n",
        "        x_mean+=X\n",
        "    x_mean=np.mean(x_mean/i)\n",
        "    # Saving the objects:\n",
        "    with open(interm_dir4+'x_mean.pkl', 'wb') as f:  # Python 3: open(..., 'wb')\n",
        "        pickle.dump([x_mean], f)\n",
        "\n",
        "else:\n",
        "    with open(interm_dir4+'x_mean.pkl','rb') as f:  # Python 3: open(..., 'rb')\n",
        "        x_mean = pickle.load(f)\n",
        "x_mean#x_mean=0.2826227159416579"
      ],
      "execution_count": 23,
      "outputs": [
        {
          "output_type": "execute_result",
          "data": {
            "text/plain": [
              "[0.2826227159416579]"
            ]
          },
          "metadata": {
            "tags": []
          },
          "execution_count": 23
        }
      ]
    },
    {
      "metadata": {
        "scrolled": true,
        "id": "eRUFk9Juj3TT",
        "colab_type": "code",
        "colab": {}
      },
      "cell_type": "code",
      "source": [
        "x_mean=0.28"
      ],
      "execution_count": 0,
      "outputs": []
    },
    {
      "metadata": {
        "id": "raNj5rVmj3Td",
        "colab_type": "text"
      },
      "cell_type": "markdown",
      "source": [
        "### Find variance of images"
      ]
    },
    {
      "metadata": {
        "scrolled": true,
        "id": "z7p4QBZKj3Tg",
        "colab_type": "code",
        "outputId": "679c9ae4-4154-49b5-f089-98ac50adb780",
        "colab": {
          "base_uri": "https://localhost:8080/",
          "height": 34
        }
      },
      "cell_type": "code",
      "source": [
        "if find_stats: \n",
        "    BATCH_SIZE=1\n",
        "    train_iter=nn.FileIter(train_data_path,train_idx_path,batch_size=BATCH_SIZE,do_augment=True,mean_image=0,std_image = 1)\n",
        "    train_iter.reset()\n",
        "    x_var = np.zeros((32,32,32))\n",
        "    for i,batch in enumerate(train_iter):\n",
        "        X =  (batch.data[0][0][0].asnumpy()-x_mean)**2\n",
        "        x_var+=X\n",
        "    #x_var=x_var/(i-1)\n",
        "    #x_var#x_mean=.2815\n",
        "    N = i*32*32*32\n",
        "    x_var = np.sum(x_var)/(N-1)\n",
        "    x_var#x_var = .07877\n",
        "    x_std = np.sqrt(x_var)#x_std=.2807\n",
        "    with open(interm_dir4+'x_std.pkl', 'wb') as f:  # Python 3: open(..., 'wb')\n",
        "        pickle.dump([x_std], f)\n",
        "else:\n",
        "    with open(interm_dir4+'x_std.pkl','rb') as f:  # Python 3: open(..., 'rb')\n",
        "        x_std = pickle.load(f)\n",
        "x_std#x_std=0.2817920662435274"
      ],
      "execution_count": 25,
      "outputs": [
        {
          "output_type": "execute_result",
          "data": {
            "text/plain": [
              "[0.2817920662435274]"
            ]
          },
          "metadata": {
            "tags": []
          },
          "execution_count": 25
        }
      ]
    },
    {
      "metadata": {
        "scrolled": true,
        "id": "yXzLyS3Lj3To",
        "colab_type": "code",
        "colab": {}
      },
      "cell_type": "code",
      "source": [
        "x_std = 0.28"
      ],
      "execution_count": 0,
      "outputs": []
    },
    {
      "metadata": {
        "id": "nIpXpHQxj3Tw",
        "colab_type": "text"
      },
      "cell_type": "markdown",
      "source": [
        "## Data Iterator"
      ]
    },
    {
      "metadata": {
        "id": "5meeOkLHTWFN",
        "colab_type": "code",
        "outputId": "5ec7c046-d603-4db6-a1e1-dafd5e60db30",
        "colab": {
          "base_uri": "https://localhost:8080/",
          "height": 89
        }
      },
      "cell_type": "code",
      "source": [
        "BATCH_SIZE=1\n",
        "train_iter=FileIter(train_data_path,\n",
        "                    train_idx_path,\n",
        "                    batch_size=BATCH_SIZE,\n",
        "                    mean_image=x_mean,\n",
        "                    std_image = x_std,\n",
        "                    do_shuffle=False)\n",
        "input_shapes = dict(train_iter.provide_data+train_iter.provide_label)\n",
        "print(input_shapes)"
      ],
      "execution_count": 27,
      "outputs": [
        {
          "output_type": "stream",
          "text": [
            "{'data': (1, 1, 32, 32, 32), 'softmax_label': (1, 32768)}\n"
          ],
          "name": "stdout"
        },
        {
          "output_type": "stream",
          "text": [
            "/usr/local/lib/python3.6/dist-packages/mxnet/recordio.py:370: DeprecationWarning: The binary mode of fromstring is deprecated, as it behaves surprisingly on unicode inputs. Use frombuffer instead\n",
            "  header = header._replace(label=np.fromstring(s, np.float32, header.flag))\n"
          ],
          "name": "stderr"
        }
      ]
    },
    {
      "metadata": {
        "id": "bAdVsuHZT39J",
        "colab_type": "code",
        "colab": {}
      },
      "cell_type": "code",
      "source": [
        "train_iter.reset()"
      ],
      "execution_count": 0,
      "outputs": []
    },
    {
      "metadata": {
        "id": "B-FjQB5HTb7s",
        "colab_type": "code",
        "outputId": "1d5ba81b-0456-4987-e8c0-27da71bec637",
        "colab": {
          "base_uri": "https://localhost:8080/",
          "height": 72
        }
      },
      "cell_type": "code",
      "source": [
        "batch = train_iter.next()"
      ],
      "execution_count": 29,
      "outputs": [
        {
          "output_type": "stream",
          "text": [
            "/usr/local/lib/python3.6/dist-packages/mxnet/recordio.py:370: DeprecationWarning: The binary mode of fromstring is deprecated, as it behaves surprisingly on unicode inputs. Use frombuffer instead\n",
            "  header = header._replace(label=np.fromstring(s, np.float32, header.flag))\n"
          ],
          "name": "stderr"
        }
      ]
    },
    {
      "metadata": {
        "id": "FH-Ugh9DTb5W",
        "colab_type": "code",
        "outputId": "192a0b13-53e6-42b4-a9c7-dd81e76b44bb",
        "colab": {
          "base_uri": "https://localhost:8080/",
          "height": 34
        }
      },
      "cell_type": "code",
      "source": [
        "batch.data[0].shape"
      ],
      "execution_count": 30,
      "outputs": [
        {
          "output_type": "execute_result",
          "data": {
            "text/plain": [
              "(1, 1, 32, 32, 32)"
            ]
          },
          "metadata": {
            "tags": []
          },
          "execution_count": 30
        }
      ]
    },
    {
      "metadata": {
        "id": "FV59XWLgVYjf",
        "colab_type": "code",
        "colab": {}
      },
      "cell_type": "code",
      "source": [
        "X = batch.data[0][0][0].asnumpy()\n",
        "Y = batch.label[0][0].asnumpy().reshape((32,32,32))\n",
        "           "
      ],
      "execution_count": 0,
      "outputs": []
    },
    {
      "metadata": {
        "id": "L-ZYPvkBaQ1u",
        "colab_type": "code",
        "outputId": "ab65faf2-dd9d-43cb-b975-471899b9c4e5",
        "colab": {
          "base_uri": "https://localhost:8080/",
          "height": 671
        }
      },
      "cell_type": "code",
      "source": [
        "img = X#*x_std+x_mean\n",
        "msk1 = Y\n",
        "\n",
        "msk1= np.ma.masked_where(msk1 == 0, msk1)\n",
        "\n",
        "zs=32\n",
        "num_rows=np.ceil(zs/8).astype(int)\n",
        "f, plots = plt.subplots(num_rows, 8, sharex='col', sharey='row', figsize=(10, 8))\n",
        "for i in range(zs):\n",
        "    plots[i // 8, i % 8].axis('off')\n",
        "    plots[i // 8, i % 8].imshow(img[i], 'gray')#,vmin=0,vmax=1)\n",
        "    plots[i // 8, i % 8].imshow(msk1[i],interpolation='none', cmap=plt.cm.Reds, alpha=.7)#, vmin=0, vmax=1)\n",
        "\n",
        "\n",
        "      \n",
        "plt.tight_layout()"
      ],
      "execution_count": 33,
      "outputs": [
        {
          "output_type": "stream",
          "text": [
            "/usr/local/lib/python3.6/dist-packages/matplotlib/colors.py:897: UserWarning: Warning: converting a masked element to nan.\n",
            "  dtype = np.min_scalar_type(value)\n",
            "/usr/local/lib/python3.6/dist-packages/numpy/ma/core.py:716: UserWarning: Warning: converting a masked element to nan.\n",
            "  \n"
          ],
          "name": "stderr"
        },
        {
          "output_type": "display_data",
          "data": {
            "image/png": "[encoded data removed]",
            "text/plain": [
              "<matplotlib.figure.Figure at 0x7fc1ff7e2908>"
            ]
          },
          "metadata": {
            "tags": []
          }
        }
      ]
    },
    {
      "metadata": {
        "id": "JW2tTf2leTJc",
        "colab_type": "code",
        "colab": {
          "base_uri": "https://localhost:8080/",
          "height": 364
        },
        "outputId": "df806620-1ab9-4729-f007-056df5ad87f3"
      },
      "cell_type": "code",
      "source": [
        "i=9\n",
        "plt.imshow(img[i],'gray')#,vmin=0, vmax=1)\n",
        "plt.imshow(msk1[i],interpolation='none', cmap=plt.cm.Reds, alpha=.7)#, vmin=0, vmax=1)\n"
      ],
      "execution_count": 42,
      "outputs": [
        {
          "output_type": "execute_result",
          "data": {
            "text/plain": [
              "<matplotlib.image.AxesImage at 0x7fc1fca5ebe0>"
            ]
          },
          "metadata": {
            "tags": []
          },
          "execution_count": 42
        },
        {
          "output_type": "display_data",
          "data": {
            "image/png": "[encoded data removed]",
            "text/plain": [
              "<matplotlib.figure.Figure at 0x7fc1f9a39cf8>"
            ]
          },
          "metadata": {
            "tags": []
          }
        }
      ]
    },
    {
      "metadata": {
        "id": "-yqqthe3vNG-",
        "colab_type": "code",
        "colab": {
          "base_uri": "https://localhost:8080/",
          "height": 34
        },
        "outputId": "59abb0ae-79f0-4ae5-c3b5-32549991a3be"
      },
      "cell_type": "code",
      "source": [
        "len(data11)"
      ],
      "execution_count": 46,
      "outputs": [
        {
          "output_type": "execute_result",
          "data": {
            "text/plain": [
              "64"
            ]
          },
          "metadata": {
            "tags": []
          },
          "execution_count": 46
        }
      ]
    },
    {
      "metadata": {
        "id": "CThma9Gc4gNb",
        "colab_type": "code",
        "colab": {
          "base_uri": "https://localhost:8080/",
          "height": 34
        },
        "outputId": "f32aaa9e-67cb-4255-9d3d-8d34db5ef265"
      },
      "cell_type": "code",
      "source": [
        "img[i].shape"
      ],
      "execution_count": 47,
      "outputs": [
        {
          "output_type": "execute_result",
          "data": {
            "text/plain": [
              "(32, 32)"
            ]
          },
          "metadata": {
            "tags": []
          },
          "execution_count": 47
        }
      ]
    },
    {
      "metadata": {
        "id": "CgwNqTL3410X",
        "colab_type": "code",
        "colab": {}
      },
      "cell_type": "code",
      "source": [
        "\n",
        "img_et = elastic_transform(X[i], 128, 15) \n",
        "msk1_et = elastic_transform(Y[i], 128, 15) "
      ],
      "execution_count": 0,
      "outputs": []
    },
    {
      "metadata": {
        "id": "QQ95kuNU5TvB",
        "colab_type": "code",
        "colab": {
          "base_uri": "https://localhost:8080/",
          "height": 366
        },
        "outputId": "d936d7ab-6be9-46b4-ea2d-f572ebcc774c"
      },
      "cell_type": "code",
      "source": [
        "plt.figure()\n",
        "f, plots = plt.subplots(2,2)\n",
        "plots[0,0].imshow(img[i], 'gray')#,vmin=0,vmax=1)\n",
        "plots[0,1].imshow(img_et,'gray')#,interpolation='none', cmap=plt.cm.Reds, alpha=.7)#, vmin=0, vmax=1)\n",
        "plots[1,0].imshow(msk1[i],interpolation='none', cmap=plt.cm.Greens, alpha=1, vmin=0, vmax=1)\n",
        "plots[1,1].imshow(msk1_et,interpolation='none', cmap=plt.cm.Reds, alpha=1, vmin=0, vmax=1)\n",
        "plt.show()"
      ],
      "execution_count": 69,
      "outputs": [
        {
          "output_type": "display_data",
          "data": {
            "text/plain": [
              "<matplotlib.figure.Figure at 0x7fc1fcee1278>"
            ]
          },
          "metadata": {
            "tags": []
          }
        },
        {
          "output_type": "display_data",
          "data": {
            "image/png": "[encoded data removed]",
            "text/plain": [
              "<matplotlib.figure.Figure at 0x7fc1fcee1588>"
            ]
          },
          "metadata": {
            "tags": []
          }
        }
      ]
    },
    {
      "metadata": {
        "id": "QTiwfqR25aqo",
        "colab_type": "code",
        "colab": {
          "base_uri": "https://localhost:8080/",
          "height": 196
        },
        "outputId": "c831af0a-7673-47bc-8f8a-5bc43e16a534"
      },
      "cell_type": "code",
      "source": [
        "f, plots = plt.subplots(1,9,figsize=(24,6))\n",
        "\n",
        "i=9\n",
        "img0 = X[i].copy()\n",
        "plots[0].imshow(img0, 'gray')\n",
        "plots[0].axis('off')\n",
        "\n",
        "alpha= 34\n",
        "sigma = .01\n",
        "ELASTIC_INDICES = None  # needed to make it faster to fix elastic deformation per epoch.\n",
        "\n",
        "img_et = elastic_transform(img0, alpha, sigma).copy() \n",
        "plots[1].imshow(img_et,'gray')\n",
        "plots[1].axis('off')\n",
        "\n",
        "alpha= 34\n",
        "sigma = .1\n",
        "ELASTIC_INDICES = None  # needed to make it faster to fix elastic deformation per epoch.\n",
        "\n",
        "img_et = elastic_transform(img0,alpha,sigma).copy() \n",
        "plots[2].imshow(img_et,'gray')\n",
        "plots[2].axis('off')\n",
        "\n",
        "alpha= 34\n",
        "sigma = 1\n",
        "ELASTIC_INDICES = None  # needed to make it faster to fix elastic deformation per epoch.\n",
        "\n",
        "img_et = elastic_transform(img0,alpha,sigma).copy() \n",
        "plots[3].imshow(img_et,'gray')\n",
        "plots[3].axis('off')\n",
        "\n",
        "alpha= 34\n",
        "sigma = 2\n",
        "ELASTIC_INDICES = None  # needed to make it faster to fix elastic deformation per epoch.\n",
        "\n",
        "img_et = elastic_transform(img0,alpha,sigma).copy() \n",
        "plots[4].imshow(img_et,'gray')\n",
        "plots[4].axis('off')\n",
        "\n",
        "alpha= 34\n",
        "sigma = 3\n",
        "ELASTIC_INDICES = None  # needed to make it faster to fix elastic deformation per epoch.\n",
        "\n",
        "img_et = elastic_transform(img0,alpha,sigma).copy() \n",
        "plots[5].imshow(img_et,'gray')\n",
        "plots[5].axis('off')\n",
        "\n",
        "alpha= 34\n",
        "sigma = 4\n",
        "ELASTIC_INDICES = None  # needed to make it faster to fix elastic deformation per epoch.\n",
        "\n",
        "img_et = elastic_transform(img0,alpha,sigma).copy() \n",
        "plots[6].imshow(img_et,'gray')\n",
        "plots[6].axis('off')\n",
        "\n",
        "alpha= 34\n",
        "sigma = 5\n",
        "ELASTIC_INDICES = None  # needed to make it faster to fix elastic deformation per epoch.\n",
        "\n",
        "img_et = elastic_transform(img0,alpha,sigma).copy() \n",
        "plots[7].imshow(img_et,'gray')\n",
        "plots[7].axis('off')\n",
        "\n",
        "alpha= 34\n",
        "sigma = 10\n",
        "ELASTIC_INDICES = None  # needed to make it faster to fix elastic deformation per epoch.\n",
        "img_et = elastic_transform(img0,alpha,sigma).copy() \n",
        "plots[8].imshow(img_et,'gray')\n",
        "plots[8].axis('off')\n",
        "\n",
        "plt.show()"
      ],
      "execution_count": 167,
      "outputs": [
        {
          "output_type": "display_data",
          "data": {
            "image/png": "[encoded data removed]",
            "text/plain": [
              "<matplotlib.figure.Figure at 0x7fc1f9a26c88>"
            ]
          },
          "metadata": {
            "tags": []
          }
        }
      ]
    },
    {
      "metadata": {
        "id": "Cuv56oHXPmoW",
        "colab_type": "code",
        "colab": {
          "base_uri": "https://localhost:8080/",
          "height": 196
        },
        "outputId": "13776e20-f886-40ce-eb56-03b0c0b812b3"
      },
      "cell_type": "code",
      "source": [
        "f, plots = plt.subplots(1,9,figsize=(24,6))\n",
        "\n",
        "i=9\n",
        "img0 = X[i].copy()\n",
        "plots[0].imshow(img0, 'gray')\n",
        "plots[0].axis('off')\n",
        "\n",
        "alpha= 128\n",
        "sigma = .01\n",
        "ELASTIC_INDICES = None  # needed to make it faster to fix elastic deformation per epoch.\n",
        "\n",
        "img_et = elastic_transform(img0, alpha, sigma).copy() \n",
        "plots[1].imshow(img_et,'gray')\n",
        "plots[1].axis('off')\n",
        "\n",
        "alpha= 128\n",
        "sigma = .1\n",
        "ELASTIC_INDICES = None  # needed to make it faster to fix elastic deformation per epoch.\n",
        "\n",
        "img_et = elastic_transform(img0,alpha,sigma).copy() \n",
        "plots[2].imshow(img_et,'gray')\n",
        "plots[2].axis('off')\n",
        "\n",
        "alpha= 128\n",
        "sigma = 1\n",
        "ELASTIC_INDICES = None  # needed to make it faster to fix elastic deformation per epoch.\n",
        "\n",
        "img_et = elastic_transform(img0,alpha,sigma).copy() \n",
        "plots[3].imshow(img_et,'gray')\n",
        "plots[3].axis('off')\n",
        "\n",
        "alpha= 128\n",
        "sigma = 2\n",
        "ELASTIC_INDICES = None  # needed to make it faster to fix elastic deformation per epoch.\n",
        "\n",
        "img_et = elastic_transform(img0,alpha,sigma).copy() \n",
        "plots[4].imshow(img_et,'gray')\n",
        "plots[4].axis('off')\n",
        "\n",
        "alpha= 128\n",
        "sigma = 3\n",
        "ELASTIC_INDICES = None  # needed to make it faster to fix elastic deformation per epoch.\n",
        "\n",
        "img_et = elastic_transform(img0,alpha,sigma).copy() \n",
        "plots[5].imshow(img_et,'gray')\n",
        "plots[5].axis('off')\n",
        "\n",
        "alpha= 128\n",
        "sigma = 4\n",
        "ELASTIC_INDICES = None  # needed to make it faster to fix elastic deformation per epoch.\n",
        "\n",
        "img_et = elastic_transform(img0,alpha,sigma).copy() \n",
        "plots[6].imshow(img_et,'gray')\n",
        "plots[6].axis('off')\n",
        "\n",
        "alpha= 128\n",
        "sigma = 5\n",
        "ELASTIC_INDICES = None  # needed to make it faster to fix elastic deformation per epoch.\n",
        "\n",
        "img_et = elastic_transform(img0,alpha,sigma).copy() \n",
        "plots[7].imshow(img_et,'gray')\n",
        "plots[7].axis('off')\n",
        "\n",
        "alpha= 128\n",
        "sigma = 10\n",
        "ELASTIC_INDICES = None  # needed to make it faster to fix elastic deformation per epoch.\n",
        "img_et = elastic_transform(img0,alpha,sigma).copy() \n",
        "plots[8].imshow(img_et,'gray')\n",
        "plots[8].axis('off')\n",
        "\n",
        "plt.show()"
      ],
      "execution_count": 168,
      "outputs": [
        {
          "output_type": "display_data",
          "data": {
            "image/png": "[encoded data removed]",
            "text/plain": [
              "<matplotlib.figure.Figure at 0x7fc1fca34278>"
            ]
          },
          "metadata": {
            "tags": []
          }
        }
      ]
    },
    {
      "metadata": {
        "id": "b5szmw3NAecL",
        "colab_type": "code",
        "colab": {
          "base_uri": "https://localhost:8080/",
          "height": 34
        },
        "outputId": "84cab8d3-5d89-439b-ce36-008437d08469"
      },
      "cell_type": "code",
      "source": [
        "\n",
        "img_et.shape"
      ],
      "execution_count": 86,
      "outputs": [
        {
          "output_type": "execute_result",
          "data": {
            "text/plain": [
              "(32, 32)"
            ]
          },
          "metadata": {
            "tags": []
          },
          "execution_count": 86
        }
      ]
    },
    {
      "metadata": {
        "id": "xNGksKSIB6FC",
        "colab_type": "code",
        "colab": {
          "base_uri": "https://localhost:8080/",
          "height": 34
        },
        "outputId": "b07c8194-d6db-4fcd-d06a-d7362ab004b2"
      },
      "cell_type": "code",
      "source": [
        "random_state = np.random.RandomState(1301)\n",
        "random_state"
      ],
      "execution_count": 87,
      "outputs": [
        {
          "output_type": "execute_result",
          "data": {
            "text/plain": [
              "<mtrand.RandomState at 0x7fc1f959b8b8>"
            ]
          },
          "metadata": {
            "tags": []
          },
          "execution_count": 87
        }
      ]
    },
    {
      "metadata": {
        "id": "eSVPEwtPB-zd",
        "colab_type": "code",
        "colab": {
          "base_uri": "https://localhost:8080/",
          "height": 34
        },
        "outputId": "62762373-9228-4292-f960-56dc528c26aa"
      },
      "cell_type": "code",
      "source": [
        "shape = img[i].shape\n",
        "shape"
      ],
      "execution_count": 89,
      "outputs": [
        {
          "output_type": "execute_result",
          "data": {
            "text/plain": [
              "(32, 32)"
            ]
          },
          "metadata": {
            "tags": []
          },
          "execution_count": 89
        }
      ]
    },
    {
      "metadata": {
        "id": "_LTRu6poFw2P",
        "colab_type": "code",
        "colab": {
          "base_uri": "https://localhost:8080/",
          "height": 243
        },
        "outputId": "0f6ce1f7-5418-4e2a-8832-4f4f31284ded"
      },
      "cell_type": "code",
      "source": [
        "(random_state.rand(*shape) * 2 - 1)"
      ],
      "execution_count": 90,
      "outputs": [
        {
          "output_type": "execute_result",
          "data": {
            "text/plain": [
              "array([[-0.25209872,  0.64316282,  0.13389047, ..., -0.7733972 ,\n",
              "        -0.75689257, -0.79259396],\n",
              "       [ 0.33865186, -0.28046689, -0.01009507, ..., -0.34811678,\n",
              "         0.65109949, -0.90972691],\n",
              "       [ 0.92984446,  0.55022427, -0.80857397, ...,  0.57744157,\n",
              "        -0.46239048, -0.22046662],\n",
              "       ...,\n",
              "       [-0.80559945,  0.49392447, -0.39487844, ...,  0.42161179,\n",
              "         0.42975587,  0.75486308],\n",
              "       [-0.18373578, -0.90781231, -0.21483018, ..., -0.19647049,\n",
              "        -0.38815745, -0.74623906],\n",
              "       [ 0.45278273, -0.14406155,  0.35949322, ...,  0.57136646,\n",
              "        -0.40808211, -0.50687979]])"
            ]
          },
          "metadata": {
            "tags": []
          },
          "execution_count": 90
        }
      ]
    },
    {
      "metadata": {
        "id": "H88w5RWjFyP_",
        "colab_type": "code",
        "colab": {
          "base_uri": "https://localhost:8080/",
          "height": 34
        },
        "outputId": "9905e0cd-e2c5-4d01-c754-8a8a7070b7d7"
      },
      "cell_type": "code",
      "source": [
        "(random_state.rand(*shape) * 2 - 1).shape,(random_state.rand(*shape) * 2 - 1).min(),(random_state.rand(*shape) * 2 - 1).max()"
      ],
      "execution_count": 92,
      "outputs": [
        {
          "output_type": "execute_result",
          "data": {
            "text/plain": [
              "((32, 32), -0.9999506354801213, 0.9960724845598807)"
            ]
          },
          "metadata": {
            "tags": []
          },
          "execution_count": 92
        }
      ]
    },
    {
      "metadata": {
        "id": "O0P1vIXSGoTs",
        "colab_type": "code",
        "colab": {}
      },
      "cell_type": "code",
      "source": [
        "alpha,sigma = 34,4"
      ],
      "execution_count": 0,
      "outputs": []
    },
    {
      "metadata": {
        "id": "nrC4WdkwF9tt",
        "colab_type": "code",
        "colab": {}
      },
      "cell_type": "code",
      "source": [
        "dx = gaussian_filter((random_state.rand(*shape) * 2 - 1), sigma, mode=\"constant\", cval=0)*alpha"
      ],
      "execution_count": 0,
      "outputs": []
    },
    {
      "metadata": {
        "id": "cEsmwiZtGPW2",
        "colab_type": "code",
        "colab": {
          "base_uri": "https://localhost:8080/",
          "height": 34
        },
        "outputId": "36122517-c036-46b9-8ccd-d4d450ee3b36"
      },
      "cell_type": "code",
      "source": [
        "dx.shape,dx.min(),dx.max()"
      ],
      "execution_count": 118,
      "outputs": [
        {
          "output_type": "execute_result",
          "data": {
            "text/plain": [
              "((32, 32), -2.2776169515940414, 4.145754027777405)"
            ]
          },
          "metadata": {
            "tags": []
          },
          "execution_count": 118
        }
      ]
    },
    {
      "metadata": {
        "id": "qmmOqomyGUG8",
        "colab_type": "code",
        "colab": {
          "base_uri": "https://localhost:8080/",
          "height": 34
        },
        "outputId": "4d7f553c-258c-4793-ec34-a19b744bcfa1"
      },
      "cell_type": "code",
      "source": [
        "dy = gaussian_filter((random_state.rand(*shape) * 2 - 1), sigma, mode=\"constant\", cval=0)*alpha\n",
        "dy.shape,dy.min(),dy.max()"
      ],
      "execution_count": 102,
      "outputs": [
        {
          "output_type": "execute_result",
          "data": {
            "text/plain": [
              "((32, 32), -1.0463799417462576, 3.178069328864515)"
            ]
          },
          "metadata": {
            "tags": []
          },
          "execution_count": 102
        }
      ]
    },
    {
      "metadata": {
        "id": "BSrPU79lCIZO",
        "colab_type": "code",
        "colab": {}
      },
      "cell_type": "code",
      "source": [
        "x, y = np.meshgrid(np.arange(shape[0]), np.arange(shape[1]))"
      ],
      "execution_count": 0,
      "outputs": []
    },
    {
      "metadata": {
        "id": "V-qyBbTAHQIm",
        "colab_type": "code",
        "colab": {
          "base_uri": "https://localhost:8080/",
          "height": 34
        },
        "outputId": "11016054-7df0-4aef-87ab-7c693c3125e8"
      },
      "cell_type": "code",
      "source": [
        "x.shape,y.shape"
      ],
      "execution_count": 106,
      "outputs": [
        {
          "output_type": "execute_result",
          "data": {
            "text/plain": [
              "((32, 32), (32, 32))"
            ]
          },
          "metadata": {
            "tags": []
          },
          "execution_count": 106
        }
      ]
    },
    {
      "metadata": {
        "id": "dLHLfsPWHXSN",
        "colab_type": "code",
        "colab": {
          "base_uri": "https://localhost:8080/",
          "height": 243
        },
        "outputId": "ddd0a219-e997-474e-ef1d-99256982c030"
      },
      "cell_type": "code",
      "source": [
        "x,y"
      ],
      "execution_count": 108,
      "outputs": [
        {
          "output_type": "execute_result",
          "data": {
            "text/plain": [
              "(array([[ 0,  1,  2, ..., 29, 30, 31],\n",
              "        [ 0,  1,  2, ..., 29, 30, 31],\n",
              "        [ 0,  1,  2, ..., 29, 30, 31],\n",
              "        ...,\n",
              "        [ 0,  1,  2, ..., 29, 30, 31],\n",
              "        [ 0,  1,  2, ..., 29, 30, 31],\n",
              "        [ 0,  1,  2, ..., 29, 30, 31]]), array([[ 0,  0,  0, ...,  0,  0,  0],\n",
              "        [ 1,  1,  1, ...,  1,  1,  1],\n",
              "        [ 2,  2,  2, ...,  2,  2,  2],\n",
              "        ...,\n",
              "        [29, 29, 29, ..., 29, 29, 29],\n",
              "        [30, 30, 30, ..., 30, 30, 30],\n",
              "        [31, 31, 31, ..., 31, 31, 31]]))"
            ]
          },
          "metadata": {
            "tags": []
          },
          "execution_count": 108
        }
      ]
    },
    {
      "metadata": {
        "id": "0uT8R5M3HdNA",
        "colab_type": "code",
        "colab": {}
      },
      "cell_type": "code",
      "source": [
        "ELASTIC_INDICES = np.reshape(y + dy, (-1, 1)), np.reshape(x + dx, (-1, 1))"
      ],
      "execution_count": 0,
      "outputs": []
    },
    {
      "metadata": {
        "id": "GcpqRAKmHgN2",
        "colab_type": "code",
        "colab": {
          "base_uri": "https://localhost:8080/",
          "height": 243
        },
        "outputId": "8cae80c5-23ba-4efe-a8e8-83487c52caf7"
      },
      "cell_type": "code",
      "source": [
        "ELASTIC_INDICES "
      ],
      "execution_count": 110,
      "outputs": [
        {
          "output_type": "execute_result",
          "data": {
            "text/plain": [
              "(array([[ 0.9766372 ],\n",
              "        [ 1.16514326],\n",
              "        [ 1.32488523],\n",
              "        ...,\n",
              "        [31.3095294 ],\n",
              "        [31.12875173],\n",
              "        [30.9803437 ]]), array([[ 0.65433317],\n",
              "        [ 1.73607198],\n",
              "        [ 2.7939877 ],\n",
              "        ...,\n",
              "        [27.61050619],\n",
              "        [28.78993854],\n",
              "        [29.98587471]]))"
            ]
          },
          "metadata": {
            "tags": []
          },
          "execution_count": 110
        }
      ]
    },
    {
      "metadata": {
        "id": "KLYy6LDOHnso",
        "colab_type": "code",
        "colab": {
          "base_uri": "https://localhost:8080/",
          "height": 243
        },
        "outputId": "596ff68d-ca1c-4285-afd5-a18491f11528"
      },
      "cell_type": "code",
      "source": [
        "map_coordinates(img[9], ELASTIC_INDICES, order=1).reshape(shape) "
      ],
      "execution_count": 115,
      "outputs": [
        {
          "output_type": "execute_result",
          "data": {
            "text/plain": [
              "array([[ 1.6914544 ,  1.8972294 ,  1.982336  , ...,  0.        ,\n",
              "         0.        ,  0.        ],\n",
              "       [ 1.725787  ,  1.9265429 ,  2.0375695 , ..., -0.60946107,\n",
              "         0.        ,  0.        ],\n",
              "       [ 1.7546246 ,  1.9421835 ,  2.0723314 , ..., -0.6292427 ,\n",
              "         0.        ,  0.        ],\n",
              "       ...,\n",
              "       [ 1.6893389 ,  1.6499778 ,  1.6086771 , ..., -0.6292398 ,\n",
              "        -0.54788494, -0.562101  ],\n",
              "       [ 0.        ,  0.        ,  0.        , ..., -0.61431456,\n",
              "        -0.5381914 , -0.47369644],\n",
              "       [ 0.        ,  0.        ,  0.        , ...,  0.        ,\n",
              "         0.        , -0.37673962]], dtype=float32)"
            ]
          },
          "metadata": {
            "tags": []
          },
          "execution_count": 115
        }
      ]
    },
    {
      "metadata": {
        "id": "ezjC5ul-HtYb",
        "colab_type": "code",
        "colab": {
          "base_uri": "https://localhost:8080/",
          "height": 34
        },
        "outputId": "da4afe0a-cdf7-489b-b4f1-4e9f548bae18"
      },
      "cell_type": "code",
      "source": [
        "i"
      ],
      "execution_count": 114,
      "outputs": [
        {
          "output_type": "execute_result",
          "data": {
            "text/plain": [
              "31"
            ]
          },
          "metadata": {
            "tags": []
          },
          "execution_count": 114
        }
      ]
    },
    {
      "metadata": {
        "id": "65j5JNWnHdJR",
        "colab_type": "code",
        "colab": {}
      },
      "cell_type": "code",
      "source": [
        ""
      ],
      "execution_count": 0,
      "outputs": []
    },
    {
      "metadata": {
        "id": "eMZKezz_Tbx2",
        "colab_type": "code",
        "colab": {}
      },
      "cell_type": "code",
      "source": [
        "from scipy.ndimage.filters import gaussian_filter\n",
        "from scipy.ndimage.interpolation import map_coordinates\n",
        "ELASTIC_INDICES = None  # needed to make it faster to fix elastic deformation per epoch.\n",
        "def elastic_transform(image, alpha, sigma, random_state=None):\n",
        "  global ELASTIC_INDICES\n",
        "  shape = image.shape\n",
        "\n",
        "  if ELASTIC_INDICES == None:\n",
        "      if random_state is None:\n",
        "          random_state = np.random.RandomState(1301)\n",
        "\n",
        "      dx = gaussian_filter((random_state.rand(*shape) * 2 - 1), sigma, mode=\"constant\", cval=0) * alpha\n",
        "      dy = gaussian_filter((random_state.rand(*shape) * 2 - 1), sigma, mode=\"constant\", cval=0) * alpha\n",
        "      x, y = np.meshgrid(np.arange(shape[0]), np.arange(shape[1]))\n",
        "      ELASTIC_INDICES = np.reshape(y + dy, (-1, 1)), np.reshape(x + dx, (-1, 1))\n",
        "  return map_coordinates(image, ELASTIC_INDICES, order=1).reshape(shape)                            "
      ],
      "execution_count": 0,
      "outputs": []
    },
    {
      "metadata": {
        "id": "jbVfPcTPbgyO",
        "colab_type": "code",
        "colab": {}
      },
      "cell_type": "code",
      "source": [
        "img = d#*x_std+x_mean\n",
        "msk1 = l\n",
        "\n",
        "msk1= np.ma.masked_where(msk1 == 0, msk1)\n",
        "\n",
        "zs=32\n",
        "num_rows=np.ceil(zs/8).astype(int)\n",
        "f, plots = plt.subplots(num_rows, 8, sharex='col', sharey='row', figsize=(10, 8))\n",
        "for i in range(zs):\n",
        "    plots[i // 8, i % 8].axis('off')\n",
        "    plots[i // 8, i % 8].imshow(img[i], 'gray')#,vmin=0,vmax=1)\n",
        "    plots[i // 8, i % 8].imshow(msk1[i],interpolation='none', cmap=plt.cm.Reds, alpha=.7)#, vmin=0, vmax=1)\n",
        "\n",
        "\n",
        "      \n",
        "plt.tight_layout()"
      ],
      "execution_count": 0,
      "outputs": []
    },
    {
      "metadata": {
        "id": "3qJqZ0rVZZy_",
        "colab_type": "code",
        "outputId": "6e1213dc-ac81-4abf-936f-52bd8742fdd6",
        "colab": {
          "base_uri": "https://localhost:8080/",
          "height": 34
        }
      },
      "cell_type": "code",
      "source": [
        "new = []\n",
        "i=0\n",
        "for r1,r2 in zip(X,d):\n",
        "  new.append(r1)\n",
        "  new.append(r2)\n",
        "len(new)"
      ],
      "execution_count": 0,
      "outputs": [
        {
          "output_type": "execute_result",
          "data": {
            "text/plain": [
              "64"
            ]
          },
          "metadata": {
            "tags": []
          },
          "execution_count": 90
        }
      ]
    },
    {
      "metadata": {
        "id": "hBt92f8CacTs",
        "colab_type": "code",
        "outputId": "8a5800c7-9253-44bf-e917-526a710bc994",
        "colab": {
          "base_uri": "https://localhost:8080/",
          "height": 34
        }
      },
      "cell_type": "code",
      "source": [
        "new2 = []\n",
        "for r1,r2 in zip(Y,l):\n",
        "  new2.append(r1)\n",
        "  new2.append(r2)\n",
        "len(new2)"
      ],
      "execution_count": 0,
      "outputs": [
        {
          "output_type": "execute_result",
          "data": {
            "text/plain": [
              "64"
            ]
          },
          "metadata": {
            "tags": []
          },
          "execution_count": 91
        }
      ]
    },
    {
      "metadata": {
        "id": "AFLFAUHnbJaP",
        "colab_type": "code",
        "outputId": "207613ff-7a76-4f18-b8a6-10f5e6e5337e",
        "colab": {
          "base_uri": "https://localhost:8080/",
          "height": 581
        }
      },
      "cell_type": "code",
      "source": [
        "                    \n",
        "img = np.array(new)\n",
        "\n",
        "msk1= np.array(new2)\n",
        "\n",
        "zs=32*2\n",
        "num_rows=np.ceil(zs/8).astype(int)\n",
        "f, plots = plt.subplots(num_rows, 8, sharex='col', sharey='row', figsize=(10, 8))\n",
        "for i in range(zs):\n",
        "    plots[i // 8, i % 8].axis('off')\n",
        "    plots[i // 8, i % 8].imshow(img[i], 'gray')#,vmin=0,vmax=1)\n",
        "    plots[i // 8, i % 8].imshow(msk1[i],interpolation='none', cmap=plt.cm.Reds, alpha=.7)#, vmin=0, vmax=1)\n",
        "\n",
        "\n",
        "      \n",
        "plt.tight_layout()"
      ],
      "execution_count": 0,
      "outputs": [
        {
          "output_type": "display_data",
          "data": {
            "image/png": "[encoded data removed]",
            "text/plain": [
              "<matplotlib.figure.Figure at 0x7fb49c4abdd8>"
            ]
          },
          "metadata": {
            "tags": []
          }
        }
      ]
    },
    {
      "metadata": {
        "id": "ikp6jfgQY0mQ",
        "colab_type": "code",
        "outputId": "b5a52b3e-2acb-4c9c-d3ac-d66bd431ffc7",
        "colab": {
          "base_uri": "https://localhost:8080/",
          "height": 34
        }
      },
      "cell_type": "code",
      "source": [
        "d.max(),d.min(),X.max(),X.min()"
      ],
      "execution_count": 0,
      "outputs": [
        {
          "output_type": "execute_result",
          "data": {
            "text/plain": [
              "(2.443061, -0.8184225, 2.5714288, -0.8494898)"
            ]
          },
          "metadata": {
            "tags": []
          },
          "execution_count": 70
        }
      ]
    },
    {
      "metadata": {
        "scrolled": true,
        "id": "cb3ZRqqWj3Ty",
        "colab_type": "code",
        "outputId": "4c15bd1e-636d-45e2-8979-dc25c0db1aab",
        "colab": {
          "base_uri": "https://localhost:8080/",
          "height": 87
        }
      },
      "cell_type": "code",
      "source": [
        "BATCH_SIZE=bs\n",
        "train_iter=FileIter(train_data_path,train_idx_path,batch_size=BATCH_SIZE,random_flip=True,random_rot=True,do_augment=True,mean_image=x_mean,std_image = x_std,do_shuffle=True)\n",
        "input_shapes = dict(train_iter.provide_data+train_iter.provide_label)\n",
        "print(input_shapes)"
      ],
      "execution_count": 0,
      "outputs": [
        {
          "output_type": "stream",
          "text": [
            "/usr/local/lib/python3.6/dist-packages/mxnet/recordio.py:370: DeprecationWarning: The binary mode of fromstring is deprecated, as it behaves surprisingly on unicode inputs. Use frombuffer instead\n",
            "  header = header._replace(label=np.fromstring(s, np.float32, header.flag))\n"
          ],
          "name": "stderr"
        },
        {
          "output_type": "stream",
          "text": [
            "{'data': (100, 1, 32, 32, 32), 'softmax_label': (100, 32768)}\n"
          ],
          "name": "stdout"
        }
      ]
    },
    {
      "metadata": {
        "scrolled": true,
        "id": "39QY_Ip9j3T8",
        "colab_type": "code",
        "outputId": "7ce3b468-25af-4236-c7a6-6c824b6e41f6",
        "colab": {
          "base_uri": "https://localhost:8080/",
          "height": 70
        }
      },
      "cell_type": "code",
      "source": [
        "BATCH_SIZE=bs\n",
        "valid_iter=FileIter(valid_data_path,valid_idx_path,batch_size=BATCH_SIZE,do_augment=False,mean_image=x_mean,std_image = x_std,do_shuffle=False)"
      ],
      "execution_count": 0,
      "outputs": [
        {
          "output_type": "stream",
          "text": [
            "/usr/local/lib/python3.6/dist-packages/mxnet/recordio.py:370: DeprecationWarning: The binary mode of fromstring is deprecated, as it behaves surprisingly on unicode inputs. Use frombuffer instead\n",
            "  header = header._replace(label=np.fromstring(s, np.float32, header.flag))\n"
          ],
          "name": "stderr"
        }
      ]
    },
    {
      "metadata": {
        "scrolled": true,
        "id": "EO0l_t4Ej3UC",
        "colab_type": "code",
        "colab": {}
      },
      "cell_type": "code",
      "source": [
        "train_iter.reset()\n",
        "valid_iter.reset()"
      ],
      "execution_count": 0,
      "outputs": []
    },
    {
      "metadata": {
        "id": "MKxlY8J9j3UH",
        "colab_type": "text"
      },
      "cell_type": "markdown",
      "source": [
        "## Evaluation Metric"
      ]
    },
    {
      "metadata": {
        "scrolled": true,
        "id": "LIeANhbqj3UJ",
        "colab_type": "code",
        "colab": {}
      },
      "cell_type": "code",
      "source": [
        "def dice_coef2(label, y):\n",
        "    smooth = 1.\n",
        "    label=mx.nd.array(label).as_in_context(mx.gpu(0))\n",
        "    y=mx.nd.array(y).as_in_context(mx.gpu(0))\n",
        "    intersection = mx.nd.sum(label*y)\n",
        "    return ((2. * intersection + smooth) / (mx.nd.sum(label) +mx.nd.sum(mx.nd.abs(y)) + smooth))\n"
      ],
      "execution_count": 0,
      "outputs": []
    },
    {
      "metadata": {
        "id": "Z7Cb9A9_PP4f",
        "colab_type": "code",
        "colab": {}
      },
      "cell_type": "code",
      "source": [
        "def logloss2(label, y,w=[.9,.1]):\n",
        "    smooth = 1.\n",
        "    label=mx.nd.array(label).as_in_context(mx.gpu(0))\n",
        "    y=mx.nd.array(y).as_in_context(mx.gpu(0))\n",
        "    eps=1e-12\n",
        "    return mx.nd.mean(-(w[0]*label*mx.nd.log(y+eps)+w[1]*(1-label)*mx.nd.log(1-y+eps)))"
      ],
      "execution_count": 0,
      "outputs": []
    },
    {
      "metadata": {
        "id": "aVZdy14Zc8V2",
        "colab_type": "code",
        "colab": {}
      },
      "cell_type": "code",
      "source": [
        "# ===============Evaluation metric(s)================= \n",
        "eval_metrics_1 =  mx.metric.CustomMetric(feval=logloss2)\n",
        "eval_metrics_2 = mx.metric.CustomMetric(feval=nn.dice_coef2)\n",
        "metric= mx.metric.CompositeEvalMetric()\n",
        "for child_metric in [eval_metrics_1, eval_metrics_2]:\n",
        "  metric.add(child_metric)"
      ],
      "execution_count": 0,
      "outputs": []
    },
    {
      "metadata": {
        "id": "g9Lb-RuGj3Uc",
        "colab_type": "text"
      },
      "cell_type": "markdown",
      "source": [
        "## Model Architecture"
      ]
    },
    {
      "metadata": {
        "scrolled": true,
        "id": "pt98E9Faj3Uf",
        "colab_type": "code",
        "outputId": "41ade2bc-2cd9-47b1-b9da-f2a5c573bc1e",
        "colab": {
          "base_uri": "https://localhost:8080/",
          "height": 34
        }
      },
      "cell_type": "code",
      "source": [
        "load_model"
      ],
      "execution_count": 0,
      "outputs": [
        {
          "output_type": "execute_result",
          "data": {
            "text/plain": [
              "True"
            ]
          },
          "metadata": {
            "tags": []
          },
          "execution_count": 33
        }
      ]
    },
    {
      "metadata": {
        "scrolled": true,
        "id": "mTiJEEydj3Uy",
        "colab_type": "code",
        "colab": {}
      },
      "cell_type": "code",
      "source": [
        "if load_model:\n",
        "    network, arg_params, aux_params = mx.model.load_checkpoint(model_path1+prefix1 , model_epoch)\n",
        "\n",
        "    # Binding\n",
        "    exe = network.simple_bind(ctx=mx.gpu(0), **input_shapes)\n",
        "\n",
        "\n",
        "    exe.copy_params_from(arg_params, aux_params)\n",
        "    \n",
        "    # get handle to input arrays\n",
        "    arg_arrays = dict(zip(network.list_arguments(), exe.arg_arrays))\n",
        "    data = arg_arrays[train_iter.provide_data[0][0]]\n",
        "    label = arg_arrays[train_iter.provide_label[0][0]]\n",
        "else:\n",
        "\n",
        "    network = nn.get_net_319()\n",
        "    init = mx.init.Normal(0.01) #note biases and gamma/beta are not affected\n",
        "\n",
        "    # Binding\n",
        "    exe = network.simple_bind(ctx=mx.gpu(), **input_shapes)\n",
        "    # get handle to input arrays\n",
        "    arg_arrays = dict(zip(network.list_arguments(), exe.arg_arrays))\n",
        "    data = arg_arrays[train_iter.provide_data[0][0]]\n",
        "    label = arg_arrays[train_iter.provide_label[0][0]]\n",
        "    for name, arr in arg_arrays.items():\n",
        "        if name not in input_shapes:\n",
        "            init(name, arr)\n"
      ],
      "execution_count": 0,
      "outputs": []
    },
    {
      "metadata": {
        "id": "aiWYX4iBG4ZE",
        "colab_type": "code",
        "colab": {}
      },
      "cell_type": "code",
      "source": [
        "epoch=0\n",
        "arg={k:v for k, v in arg_arrays.items() if k not in input_shapes}\n",
        "aux = dict(zip(network.list_auxiliary_states(), exe.aux_arrays))\n",
        "mx.model.save_checkpoint(model_path2+prefix2, epoch, network, arg, aux)"
      ],
      "execution_count": 0,
      "outputs": []
    },
    {
      "metadata": {
        "colab_type": "text",
        "id": "p36aWzqzbH75"
      },
      "cell_type": "markdown",
      "source": [
        "# Nodule Segmentation: Model"
      ]
    },
    {
      "metadata": {
        "id": "_VAcRTIBj3VB",
        "colab_type": "text"
      },
      "cell_type": "markdown",
      "source": [
        "## Optimizer"
      ]
    },
    {
      "metadata": {
        "id": "aw1eUaNVj3VJ",
        "colab_type": "text"
      },
      "cell_type": "markdown",
      "source": [
        "### Find  learning rate"
      ]
    },
    {
      "metadata": {
        "id": "17MM3ZvwYbBV",
        "colab_type": "code",
        "outputId": "9be8efed-ea8b-4529-aaa9-ca513da6cd6c",
        "colab": {
          "base_uri": "https://localhost:8080/",
          "height": 104
        }
      },
      "cell_type": "code",
      "source": [
        "find_learning_rate = True\n",
        "b=.5\n",
        "a=.01\n",
        "\n",
        "nb=train_iter.num_data//train_iter.batch_size\n",
        "\n",
        "if find_learning_rate:\n",
        "\n",
        "  lrs = []\n",
        "  loss = []\n",
        "  \n",
        "  sched=nn.lr_find(a,nb,end_lr=b)\n",
        "  # We also need to create an optimizer for updating weights\n",
        "  opt = mx.optimizer.SGD(\n",
        "      learning_rate=a,\n",
        "      momentum=0.9,\n",
        "      wd=0.00001,\n",
        "      lr_scheduler=sched)\n",
        "\n",
        "  updater = mx.optimizer.get_updater(opt)\n",
        "  for epoch in range(0,1):\n",
        "\n",
        "      start = time.time()\n",
        "\n",
        "      metric.reset()\n",
        "\n",
        "      train_iter.reset()\n",
        "\n",
        "      valid_iter.reset()\n",
        "\n",
        "      sched.reset()\n",
        "\n",
        "      sched.on_train_begin()\n",
        "\n",
        "\n",
        "      for batch in train_iter:\n",
        "          # Copy data to executor input. Note the [:].\n",
        "          data[:] = batch.data[0]\n",
        "          label[:] = batch.label[0]\n",
        "\n",
        "          # Forward\n",
        "          outputs=exe.forward(is_train=True)\n",
        "          # Backward\n",
        "          exe.backward()\n",
        "\n",
        "          # Update\n",
        "          for i, pair in enumerate(zip(exe.arg_arrays, exe.grad_arrays)):\n",
        "              weight, grad = pair\n",
        "              updater(i, grad, weight)   \n",
        "          #metric.update(batch.label[0], exe.outputs[0])#\n",
        "          metric.update(batch.label[0], exe.outputs[0])\n",
        "\n",
        "          e=metric.get()\n",
        "          e = dict(zip(e[0], e[1]))\n",
        "  \n",
        "          err_train=-e['dice_coef2'].asnumpy()[0]\n",
        "          sched.on_batch_end(err_train)\n",
        "\n",
        "      if epoch % 100== 0:       \n",
        "          #print(\"do_checkpoint\")\n",
        "          arg={k:v for k, v in arg_arrays.items() if k not in input_shapes}\n",
        "          aux = dict(zip(network.list_auxiliary_states(), exe.aux_arrays))\n",
        "          #mx.model.save_checkpoint(prefix, epoch, network, arg, aux)\n",
        "\n",
        "\n",
        "      #compute valid loss per epoch    \n",
        "      metric.reset()\n",
        "      for batch in valid_iter:        \n",
        "          data[:] = batch.data[0]       \n",
        "          label[:] = batch.label[0]\n",
        "          # predict\n",
        "          outputs = exe.forward(is_train=False)\n",
        "          metric.update(batch.label[0], exe.outputs[0])\n",
        "      e0=metric.get()\n",
        "      e = dict(zip(e0[0], e0[1]))\n",
        "      err_valid=-e['dice_coef2'].asnumpy()[0]\n",
        "      end = time.time()\n",
        "      print('time:',end-start,'Epoch:',epoch,'trainloss:',err_train,'validloss:',err_valid,'CE',outputs[1].asnumpy())\n",
        "      for x,y in zip(e0[0],e0[1]):\n",
        "        print(x,y[0].asnumpy()[0], end=\", \", flush=True)\n",
        "  lrs.extend(sched.lrs)\n",
        "  loss.extend(sched.losses)\n",
        "\n"
      ],
      "execution_count": 0,
      "outputs": [
        {
          "output_type": "stream",
          "text": [
            "/usr/local/lib/python3.6/dist-packages/mxnet/recordio.py:370: DeprecationWarning: The binary mode of fromstring is deprecated, as it behaves surprisingly on unicode inputs. Use frombuffer instead\n",
            "  header = header._replace(label=np.fromstring(s, np.float32, header.flag))\n"
          ],
          "name": "stderr"
        },
        {
          "output_type": "stream",
          "text": [
            "time: 122.44821953773499 Epoch: 0 trainloss: -0.65759784 validloss: -0.5739465 CE [-0.6360259]\n",
            "logloss2 0.28630006, dice_coef2 0.5739465, "
          ],
          "name": "stdout"
        }
      ]
    },
    {
      "metadata": {
        "id": "G8PveIwFyrOs",
        "colab_type": "code",
        "outputId": "1b0683d8-92a1-4f7e-bad6-2a0c668d37da",
        "colab": {
          "base_uri": "https://localhost:8080/",
          "height": 364
        }
      },
      "cell_type": "code",
      "source": [
        "plt.figure()\n",
        "plt.plot(lrs, loss,'*-')"
      ],
      "execution_count": 0,
      "outputs": [
        {
          "output_type": "execute_result",
          "data": {
            "text/plain": [
              "[<matplotlib.lines.Line2D at 0x7f31ddf2f9b0>]"
            ]
          },
          "metadata": {
            "tags": []
          },
          "execution_count": 58
        },
        {
          "output_type": "display_data",
          "data": {
            "image/png": "[encoded data removed]",
            "text/plain": [
              "<matplotlib.figure.Figure at 0x7f31f0af3b38>"
            ]
          },
          "metadata": {
            "tags": []
          }
        }
      ]
    },
    {
      "metadata": {
        "id": "1-w5Z85n15Nz",
        "colab_type": "code",
        "colab": {}
      },
      "cell_type": "code",
      "source": [
        "network, arg_params, aux_params = mx.model.load_checkpoint(model_path2+prefix2 ,47)\n",
        "exe.copy_params_from(arg_params, aux_params)"
      ],
      "execution_count": 0,
      "outputs": []
    },
    {
      "metadata": {
        "id": "UbwF-vYiEBKJ",
        "colab_type": "code",
        "outputId": "133c7299-9de3-46c7-b25a-f11b3406c27c",
        "colab": {
          "base_uri": "https://localhost:8080/",
          "height": 185
        }
      },
      "cell_type": "code",
      "source": [
        "lrs[:10]"
      ],
      "execution_count": 0,
      "outputs": [
        {
          "output_type": "execute_result",
          "data": {
            "text/plain": [
              "[0.019230769230769232,\n",
              " 0.038461538461538464,\n",
              " 0.057692307692307696,\n",
              " 0.07692307692307693,\n",
              " 0.09615384615384615,\n",
              " 0.11538461538461539,\n",
              " 0.1346153846153846,\n",
              " 0.15384615384615385,\n",
              " 0.17307692307692307,\n",
              " 0.1923076923076923]"
            ]
          },
          "metadata": {
            "tags": []
          },
          "execution_count": 60
        }
      ]
    },
    {
      "metadata": {
        "id": "ScwvyY2Hj3WA",
        "colab_type": "text"
      },
      "cell_type": "markdown",
      "source": [
        "### Optimizer Parameters"
      ]
    },
    {
      "metadata": {
        "id": "QQMspdjFl1eQ",
        "colab_type": "code",
        "colab": {}
      },
      "cell_type": "code",
      "source": [
        "#logfile = model_path2+\"errorlogmodel8.csv\"\n",
        "logfile = \"errorlogmodel10.csv\""
      ],
      "execution_count": 0,
      "outputs": []
    },
    {
      "metadata": {
        "id": "5B2wpqFMzz-C",
        "colab_type": "code",
        "outputId": "ee005b1f-d543-419a-895f-2339d1a11e4b",
        "colab": {
          "base_uri": "https://localhost:8080/",
          "height": 34
        }
      },
      "cell_type": "code",
      "source": [
        "import os\n",
        "exists = os.path.isfile(logfile)\n",
        "exists"
      ],
      "execution_count": 0,
      "outputs": [
        {
          "output_type": "execute_result",
          "data": {
            "text/plain": [
              "False"
            ]
          },
          "metadata": {
            "tags": []
          },
          "execution_count": 37
        }
      ]
    },
    {
      "metadata": {
        "id": "YmQgF9RBteXo",
        "colab_type": "code",
        "colab": {}
      },
      "cell_type": "code",
      "source": [
        "#exists = False"
      ],
      "execution_count": 0,
      "outputs": []
    },
    {
      "metadata": {
        "id": "3KrV7AO1i62v",
        "colab_type": "code",
        "colab": {}
      },
      "cell_type": "code",
      "source": [
        "\n",
        "col_names = ['epoch',\n",
        "             'lr',\n",
        "             'loss',\n",
        "             'E1train',\n",
        "             'E1valid',\n",
        "             'E2train',\n",
        "             'E2valid']\n",
        "df = pd.DataFrame(columns=col_names)\n",
        "\n",
        "if not exists:\n",
        "  df.to_csv(logfile)"
      ],
      "execution_count": 0,
      "outputs": []
    },
    {
      "metadata": {
        "id": "eMbv0lVruIIK",
        "colab_type": "code",
        "outputId": "8a4d1883-d358-4b5c-8b75-55fad3139f79",
        "colab": {
          "base_uri": "https://localhost:8080/",
          "height": 47
        }
      },
      "cell_type": "code",
      "source": [
        "df = pd.read_csv(logfile, index_col=0)\n",
        "df.head()"
      ],
      "execution_count": 0,
      "outputs": [
        {
          "output_type": "execute_result",
          "data": {
            "text/html": [
              "<div>\n",
              "<style scoped>\n",
              "    .dataframe tbody tr th:only-of-type {\n",
              "        vertical-align: middle;\n",
              "    }\n",
              "\n",
              "    .dataframe tbody tr th {\n",
              "        vertical-align: top;\n",
              "    }\n",
              "\n",
              "    .dataframe thead th {\n",
              "        text-align: right;\n",
              "    }\n",
              "</style>\n",
              "<table border=\"1\" class=\"dataframe\">\n",
              "  <thead>\n",
              "    <tr style=\"text-align: right;\">\n",
              "      <th></th>\n",
              "      <th>epoch</th>\n",
              "      <th>lr</th>\n",
              "      <th>loss</th>\n",
              "      <th>E1train</th>\n",
              "      <th>E1valid</th>\n",
              "      <th>E2train</th>\n",
              "      <th>E2valid</th>\n",
              "    </tr>\n",
              "  </thead>\n",
              "  <tbody>\n",
              "  </tbody>\n",
              "</table>\n",
              "</div>"
            ],
            "text/plain": [
              "Empty DataFrame\n",
              "Columns: [epoch, lr, loss, E1train, E1valid, E2train, E2valid]\n",
              "Index: []"
            ]
          },
          "metadata": {
            "tags": []
          },
          "execution_count": 40
        }
      ]
    },
    {
      "metadata": {
        "id": "a8AWu5Ia0euI",
        "colab_type": "code",
        "colab": {}
      },
      "cell_type": "code",
      "source": [
        "import copy\n",
        "#import math\n",
        "\n",
        "\n",
        "def plot_schedule(schedule_fn, iterations=1500):\n",
        "    # Iteration count starting at 1\n",
        "    iterations = [i+1 for i in range(iterations)]\n",
        "    lrs = [schedule_fn(i) for i in iterations]\n",
        "    plt.scatter(iterations, lrs)\n",
        "    plt.xlabel(\"Iteration\")\n",
        "    plt.ylabel(\"Learning Rate\")\n",
        "    plt.show()\n",
        "\n",
        "class CosineAnnealingSchedule():\n",
        "    def __init__(self, min_lr, max_lr, cycle_length):\n",
        "        \"\"\"\n",
        "        min_lr: lower bound for learning rate (float)\n",
        "        max_lr: upper bound for learning rate (float)\n",
        "        cycle_length: iterations between start and finish (int)\n",
        "        \"\"\"\n",
        "        self.min_lr = min_lr\n",
        "        self.max_lr = max_lr\n",
        "        self.cycle_length = cycle_length\n",
        "        \n",
        "    def __call__(self, iteration):\n",
        "        if iteration <= self.cycle_length:\n",
        "            unit_cycle = (1 + math.cos(iteration * math.pi / self.cycle_length)) / 2\n",
        "            adjusted_cycle = (unit_cycle * (self.max_lr - self.min_lr)) + self.min_lr\n",
        "            return adjusted_cycle\n",
        "        else:\n",
        "            return self.min_lr\n",
        "          \n",
        "    \n",
        "    \n",
        "class TriangularSchedule():\n",
        "    def __init__(self, min_lr, max_lr, cycle_length, inc_fraction=0.5):     \n",
        "        \"\"\"\n",
        "        min_lr: lower bound for learning rate (float)\n",
        "        max_lr: upper bound for learning rate (float)\n",
        "        cycle_length: iterations between start and finish (int)\n",
        "        inc_fraction: fraction of iterations spent in increasing stage (float)\n",
        "        \"\"\"\n",
        "        self.min_lr = min_lr\n",
        "        self.max_lr = max_lr\n",
        "        self.cycle_length = cycle_length\n",
        "        self.inc_fraction = inc_fraction\n",
        "        \n",
        "    def __call__(self, iteration):\n",
        "        if iteration <= self.cycle_length*self.inc_fraction:\n",
        "            unit_cycle = iteration * 1 / (self.cycle_length * self.inc_fraction)\n",
        "        elif iteration <= self.cycle_length:\n",
        "            unit_cycle = (self.cycle_length - iteration) * 1 / (self.cycle_length * (1 - self.inc_fraction))\n",
        "        else:\n",
        "            unit_cycle = 0\n",
        "        adjusted_cycle = (unit_cycle * (self.max_lr - self.min_lr)) + self.min_lr\n",
        "        return adjusted_cycle\n",
        "\n",
        "class CyclicalSchedule():\n",
        "    def __init__(self, schedule_class, cycle_length, cycle_length_decay=1, cycle_magnitude_decay=1, **kwargs):\n",
        "        \"\"\"\n",
        "        schedule_class: class of schedule, expected to take `cycle_length` argument\n",
        "        cycle_length: iterations used for initial cycle (int)\n",
        "        cycle_length_decay: factor multiplied to cycle_length each cycle (float)\n",
        "        cycle_magnitude_decay: factor multiplied learning rate magnitudes each cycle (float)\n",
        "        kwargs: passed to the schedule_class\n",
        "        \"\"\"\n",
        "        self.schedule_class = schedule_class\n",
        "        self.length = cycle_length\n",
        "        self.length_decay = cycle_length_decay\n",
        "        self.magnitude_decay = cycle_magnitude_decay\n",
        "        self.kwargs = kwargs\n",
        "    \n",
        "    def __call__(self, iteration):\n",
        "        cycle_idx = 0\n",
        "        cycle_length = self.length\n",
        "        idx = self.length\n",
        "        while idx <= iteration:\n",
        "            cycle_length = math.ceil(cycle_length * self.length_decay)\n",
        "            cycle_idx += 1\n",
        "            idx += cycle_length\n",
        "        cycle_offset = iteration - idx + cycle_length\n",
        "        \n",
        "        schedule = self.schedule_class(cycle_length=cycle_length-6, **self.kwargs)\n",
        "        return schedule(cycle_offset) * self.magnitude_decay**cycle_idx"
      ],
      "execution_count": 0,
      "outputs": []
    },
    {
      "metadata": {
        "id": "HrdKZPyR6acE",
        "colab_type": "code",
        "colab": {}
      },
      "cell_type": "code",
      "source": [
        "epochs = 50\n",
        "lr =.13#0.075#.01#.3#.02#.15#.34#.2#.01#.002"
      ],
      "execution_count": 0,
      "outputs": []
    },
    {
      "metadata": {
        "id": "CZR4pWdZ0J7V",
        "colab_type": "code",
        "outputId": "c4c0fdcd-83a3-4f4c-af08-195b96c91995",
        "colab": {
          "base_uri": "https://localhost:8080/",
          "height": 361
        }
      },
      "cell_type": "code",
      "source": [
        "schedule = CyclicalSchedule(TriangularSchedule, min_lr=lr/10, max_lr=lr,\n",
        "                            cycle_length=27, cycle_length_decay=1, cycle_magnitude_decay=1)\n",
        "plot_schedule(schedule,iterations=200)"
      ],
      "execution_count": 0,
      "outputs": [
        {
          "output_type": "display_data",
          "data": {
            "image/png": "[encoded data removed]",
            "text/plain": [
              "<matplotlib.figure.Figure at 0x7f31f5c74198>"
            ]
          },
          "metadata": {
            "tags": []
          }
        }
      ]
    },
    {
      "metadata": {
        "id": "I2EXT_W9Wz3y",
        "colab_type": "code",
        "colab": {}
      },
      "cell_type": "code",
      "source": [
        "m1=.85\n",
        "m2=.95\n",
        "\n",
        "# We also need to create an optimizer for updating weights\n",
        "# ===============Optimizer=================                        \n",
        "opt = mx.optimizer.SGD(\n",
        "    learning_rate=lr,momentum=m1,wd=0.00001)\n",
        "\n",
        "updater = mx.optimizer.get_updater(opt)\n",
        "\n",
        "updater.optimizer.lr_scheduler=schedule"
      ],
      "execution_count": 0,
      "outputs": []
    },
    {
      "metadata": {
        "id": "4kTljGINPUpz",
        "colab_type": "code",
        "colab": {}
      },
      "cell_type": "code",
      "source": [
        "#now = 50\n",
        "#prefix = \"jan09\"\n",
        "#err_validold = -.619"
      ],
      "execution_count": 0,
      "outputs": []
    },
    {
      "metadata": {
        "id": "c7EogiUVnm1X",
        "colab_type": "code",
        "outputId": "af325f44-7c64-4c64-afe1-2d0c3d0735f9",
        "colab": {
          "base_uri": "https://localhost:8080/",
          "height": 171
        }
      },
      "cell_type": "code",
      "source": [
        "lrs=[]\n",
        "ms=[]\n",
        "lrold=-1\n",
        "epoch_r  =now\n",
        "epoch_r\n",
        "Es_train=[]\n",
        "Es_valid=[]\n",
        "for epoch in range(epoch_r+1,epoch_r+epochs):\n",
        "\n",
        "    start = time.time()\n",
        "\n",
        "    metric.reset()\n",
        "\n",
        "    train_iter.reset()\n",
        "    \n",
        "    valid_iter.reset()\n",
        "    \n",
        "\n",
        "    for batch in train_iter:\n",
        "        # Copy data to executor input. Note the [:].\n",
        "        data[:] = batch.data[0]\n",
        "        label[:] = batch.label[0]\n",
        "\n",
        "        # Forward\n",
        "        outputs=exe.forward(is_train=True)\n",
        "        Es_train.append(outputs[1].asnumpy()[0])\n",
        "        # Backward\n",
        "        exe.backward()\n",
        "\n",
        "        # Update\n",
        "        for i, pair in enumerate(zip(exe.arg_arrays, exe.grad_arrays)):\n",
        "            weight, grad = pair\n",
        "            updater(i, grad, weight)   \n",
        "        metric.update(batch.label[0], exe.outputs[0])#metric.update(label,p)\n",
        "        if (opt.learning_rate-lrold)<0:\n",
        "          opt.momentum=m2\n",
        "          lrold = opt.learning_rate\n",
        "        else: \n",
        "          opt.momentum=m1\n",
        "          lrold=opt.learning_rate\n",
        "        lrs.append(opt.learning_rate)\n",
        "        ms.append(opt.momentum)\n",
        "    e=metric.get()\n",
        "    ed={}\n",
        "    e_key,e_val = e\n",
        "    for k,v in zip(e_key,e_val):\n",
        "      ed[k]=v.asnumpy()[0]\n",
        "    err_train=-ed['dice_coef2']\n",
        "    err_train2=ed['logloss2']\n",
        "    \n",
        "    loss = outputs[1].asnumpy()[0] \n",
        "    \n",
        "    if epoch % 5== 0:       \n",
        "        #print(\"do_checkpoint\")\n",
        "        arg={k:v for k, v in arg_arrays.items() if k not in input_shapes}\n",
        "        aux = dict(zip(network.list_auxiliary_states(), exe.aux_arrays))\n",
        "        mx.model.save_checkpoint(model_path2+prefix2, epoch, network, arg, aux)\n",
        "        \n",
        "\n",
        "    #compute valid loss per epoch    \n",
        "    metric.reset()\n",
        "    for batch in valid_iter:        \n",
        "        data[:] = batch.data[0]       \n",
        "        label[:] = batch.label[0]\n",
        "        # predict\n",
        "        outputs = exe.forward(is_train=False)\n",
        "        Es_valid.append(outputs[1].asnumpy()[0])\n",
        "        metric.update(batch.label[0], exe.outputs[0])\n",
        "    e=metric.get()\n",
        "    ed={}\n",
        "    e_key,e_val = e\n",
        "    for k,v in zip(e_key,e_val):\n",
        "      ed[k]=v.asnumpy()[0]\n",
        "    err_valid=-ed['dice_coef2']\n",
        "    err_valid2=ed['logloss2']\n",
        "    \n",
        "    if err_valid<err_validold:       \n",
        "        #print(\"do_checkpoint\")\n",
        "        arg={k:v for k, v in arg_arrays.items() if k not in input_shapes}\n",
        "        aux = dict(zip(network.list_auxiliary_states(), exe.aux_arrays))\n",
        "        mx.model.save_checkpoint(model_path2+prefix2, epoch, network, arg, aux)\n",
        "        err_validold = err_valid\n",
        "    \n",
        "    \n",
        "    end = time.time()\n",
        "    print('time:',end-start,'Epoch:',epoch,\"/\",epochs,\"loss\",loss,'trainloss:',err_train,'validloss:',err_valid,'trainloss2:',err_train2,'validloss2:',err_valid2)\n",
        "    myCsvRow = [(epoch,opt.learning_rate,loss,err_train,err_valid,err_train2,err_valid2)]\n",
        "    df = pd.DataFrame.from_records(myCsvRow,columns = col_names)\n",
        "    df.to_csv(logfile, mode='a', header=False)\n",
        "now=epoch\n",
        "mx.model.save_checkpoint(model_path2+prefix2+'bst', epoch, network, arg, aux)\n"
      ],
      "execution_count": 0,
      "outputs": [
        {
          "output_type": "stream",
          "text": [
            "/usr/local/lib/python3.6/dist-packages/mxnet/recordio.py:370: DeprecationWarning: The binary mode of fromstring is deprecated, as it behaves surprisingly on unicode inputs. Use frombuffer instead\n",
            "  header = header._replace(label=np.fromstring(s, np.float32, header.flag))\n"
          ],
          "name": "stderr"
        },
        {
          "output_type": "stream",
          "text": [
            "time: 111.89050841331482 Epoch: 51 / 50 loss -0.806984 trainloss: -0.6803544 validloss: -0.6166816 trainloss2: 0.14662997 validloss2: 0.2603259\n",
            "time: 111.86700367927551 Epoch: 52 / 50 loss -0.78739023 trainloss: -0.6684842 validloss: -0.57369167 trainloss2: 0.15119386 validloss2: 0.29104808\n",
            "time: 111.90867328643799 Epoch: 53 / 50 loss -0.7455367 trainloss: -0.6680334 validloss: -0.62126166 trainloss2: 0.15370883 validloss2: 0.277402\n",
            "time: 111.9897289276123 Epoch: 54 / 50 loss -0.8008678 trainloss: -0.6785912 validloss: -0.6093576 trainloss2: 0.15199952 validloss2: 0.30178666\n",
            "time: 111.94427156448364 Epoch: 55 / 50 loss -0.79729944 trainloss: -0.67893815 validloss: -0.6191825 trainloss2: 0.15338641 validloss2: 0.27823314\n",
            "time: 111.84800314903259 Epoch: 56 / 50 loss -0.8039399 trainloss: -0.66647375 validloss: -0.60467535 trainloss2: 0.14790761 validloss2: 0.2595628\n"
          ],
          "name": "stdout"
        }
      ]
    },
    {
      "metadata": {
        "id": "nBw3WCXgU3zf",
        "colab_type": "code",
        "colab": {}
      },
      "cell_type": "code",
      "source": [
        "\n",
        "plt.figure()\n",
        "plt.plot(lrs)\n",
        "plt.figure()\n",
        "plt.plot(ms)\n"
      ],
      "execution_count": 0,
      "outputs": []
    },
    {
      "metadata": {
        "id": "I91j6ggRGbRL",
        "colab_type": "code",
        "outputId": "fca0d8be-c77f-48f8-8d30-ca0cd95a14ed",
        "colab": {
          "base_uri": "https://localhost:8080/",
          "height": 34
        }
      },
      "cell_type": "code",
      "source": [
        "err_validold"
      ],
      "execution_count": 0,
      "outputs": [
        {
          "output_type": "execute_result",
          "data": {
            "text/plain": [
              "-0.6310017"
            ]
          },
          "metadata": {
            "tags": []
          },
          "execution_count": 55
        }
      ]
    },
    {
      "metadata": {
        "id": "vJ3smP_DaEag",
        "colab_type": "code",
        "colab": {}
      },
      "cell_type": "code",
      "source": [
        ""
      ],
      "execution_count": 0,
      "outputs": []
    }
  ]
}