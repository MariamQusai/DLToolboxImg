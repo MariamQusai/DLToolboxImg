{
  "nbformat": 4,
  "nbformat_minor": 0,
  "metadata": {
    "colab": {
      "name": "NoduleSegmentationModel10.ipynb",
      "version": "0.3.2",
      "provenance": [],
      "collapsed_sections": [],
      "include_colab_link": true
    },
    "kernelspec": {
      "name": "python3",
      "display_name": "Python 3"
    },
    "accelerator": "GPU"
  },
  "cells": [
    {
      "cell_type": "markdown",
      "metadata": {
        "id": "view-in-github",
        "colab_type": "text"
      },
      "source": [
        "<a href=\"https://colab.research.google.com/github/x110/DLToolboxImg/blob/master/NoduleSegmentationModel10.ipynb\" target=\"_parent\"><img src=\"https://colab.research.google.com/assets/colab-badge.svg\" alt=\"Open In Colab\"/></a>"
      ]
    },
    {
      "metadata": {
        "id": "W6ljz0jskI2x",
        "colab_type": "text"
      },
      "cell_type": "markdown",
      "source": [
        "#Configuration"
      ]
    },
    {
      "metadata": {
        "id": "z5MS9CSfkCPt",
        "colab_type": "code",
        "colab": {}
      },
      "cell_type": "code",
      "source": [
        "# Remove CUDA 9 completely\n",
        "\n",
        "!apt-get --purge remove cuda nvidia* libnvidia-*\n",
        "!dpkg -l | grep cuda- | awk '{print $2}' | xargs -n1 dpkg --purge\n",
        "!apt-get remove cuda-*\n",
        "!apt autoremove\n",
        "\n",
        "!apt-get update"
      ],
      "execution_count": 0,
      "outputs": []
    },
    {
      "metadata": {
        "id": "xQt0wZRLkM62",
        "colab_type": "code",
        "colab": {}
      },
      "cell_type": "code",
      "source": [
        "# Install CUDA 8\n",
        "\n",
        "!wget https://developer.download.nvidia.com/compute/cuda/repos/ubuntu1604/x86_64/cuda-repo-ubuntu1604_8.0.61-1_amd64.deb\n",
        "!dpkg -i --force-overwrite cuda-repo-ubuntu1604_8.0.61-1_amd64.deb\n",
        "!apt-get update\n",
        "!apt-get install cuda-8-0\n",
        "\n",
        "# install will fail, need to force dpkg to overwrite the configuration file\n",
        "\n",
        "!wget http://archive.ubuntu.com/ubuntu/pool/main/m/mesa/libglx-mesa0_18.0.5-0ubuntu0~18.04.1_amd64.deb\n",
        "!dpkg -i --force-overwrite libglx-mesa0_18.0.5-0ubuntu0~18.04.1_amd64.deb\n",
        "\n",
        "!wget http://developer.download.nvidia.com/compute/cuda/repos/ubuntu1604/x86_64/nvidia-410_410.48-0ubuntu1_amd64.deb\n",
        "!dpkg -i --force-overwrite nvidia-410_410.48-0ubuntu1_amd64.deb\n",
        "\n",
        "!apt --fix-broken install\n",
        "!apt-get install cuda-8-0"
      ],
      "execution_count": 0,
      "outputs": []
    },
    {
      "metadata": {
        "id": "CFAXDR9Gvw8S",
        "colab_type": "code",
        "colab": {}
      },
      "cell_type": "code",
      "source": [
        "!pip uninstall -y numpy\n",
        "!pip uninstall -y scipy\n",
        "!pip install turicreate\n",
        "# The worng version of MXNET will be installed.\n",
        "!pip uninstall -y mxnet\n",
        "!pip install scipy\n",
        "# Instal CUDA8-compatible version of mxnet 1.1.0\n",
        "!pip install mxnet-cu80==1.1.0"
      ],
      "execution_count": 0,
      "outputs": []
    },
    {
      "metadata": {
        "id": "2nWGr82Ik3t_",
        "colab_type": "code",
        "colab": {
          "base_uri": "https://localhost:8080/",
          "height": 34
        },
        "outputId": "33349705-eec5-46df-dcde-21c178036cdc"
      },
      "cell_type": "code",
      "source": [
        "from google.colab import drive\n",
        "drive.mount('/content/drive')"
      ],
      "execution_count": 29,
      "outputs": [
        {
          "output_type": "stream",
          "text": [
            "Mounted at /content/drive\n"
          ],
          "name": "stdout"
        }
      ]
    },
    {
      "metadata": {
        "id": "hreX2n06B5dg",
        "colab_type": "text"
      },
      "cell_type": "markdown",
      "source": [
        "#  Load Data"
      ]
    },
    {
      "metadata": {
        "id": "LS-j2uGt_h64",
        "colab_type": "code",
        "colab": {}
      },
      "cell_type": "code",
      "source": [
        "PATH = \"x110/\""
      ],
      "execution_count": 0,
      "outputs": []
    },
    {
      "metadata": {
        "id": "M7hmz4sRBd40",
        "colab_type": "code",
        "colab": {}
      },
      "cell_type": "code",
      "source": [
        "!mkdir {PATH}\n",
        "!mkdir {PATH+\"Datasets\"}\n",
        "!mkdir {PATH+\"Datasets/Dataset1/\"}\n",
        "!mkdir {PATH+\"Datasets/Dataset1/processed/\"}\n",
        "!mkdir {PATH+\"model\"}"
      ],
      "execution_count": 0,
      "outputs": []
    },
    {
      "metadata": {
        "id": "ic0tSCrnFk9-",
        "colab_type": "code",
        "colab": {}
      },
      "cell_type": "code",
      "source": [
        "!cp -a \"{dataset_path}\" {PATH+\"Datasets/Dataset1/processed/\"}"
      ],
      "execution_count": 0,
      "outputs": []
    },
    {
      "metadata": {
        "id": "ITGUgg7UB6BJ",
        "colab_type": "code",
        "colab": {}
      },
      "cell_type": "code",
      "source": [
        "if load_model:\n",
        "  drivefile = model_path+prefix+\"-\"+\"{:04d}\".format(model_epoch)+\".params\"\n",
        "  drivefile2 = model_path+prefix+\"-symbol.json\"\n",
        "  colabfile = PATH+\"model/\"+prefix+\"-\"+\"{:04d}\".format(model_epoch)+\".params\"\n",
        "  colabfile2 = PATH+\"model/\"+prefix+\"-symbol.json\"\n",
        "\n",
        "  !cp  \"{drivefile}\" {colabfile}\n",
        "  !cp  \"{drivefile2}\" {colabfile2}\n"
      ],
      "execution_count": 0,
      "outputs": []
    },
    {
      "metadata": {
        "id": "W5Ajv0yqyY9c",
        "colab_type": "code",
        "outputId": "f7e38242-a216-4037-b8ea-c65dfcf9c74b",
        "colab": {
          "base_uri": "https://localhost:8080/",
          "height": 134
        }
      },
      "cell_type": "code",
      "source": [
        "!mkdir x110/DLToolboxImg\n",
        "!git clone https://github.com/x110/DLToolboxImg.git x110/DLToolboxImg"
      ],
      "execution_count": 14,
      "outputs": [
        {
          "output_type": "stream",
          "text": [
            "Cloning into 'x110/DLToolboxImg'...\n",
            "remote: Enumerating objects: 165, done.\u001b[K\n",
            "remote: Counting objects: 100% (165/165), done.\u001b[K\n",
            "remote: Compressing objects: 100% (122/122), done.\u001b[K\n",
            "remote: Total 752 (delta 90), reused 86 (delta 38), pack-reused 587\u001b[K\n",
            "Receiving objects: 100% (752/752), 123.78 MiB | 26.91 MiB/s, done.\n",
            "Resolving deltas: 100% (423/423), done.\n"
          ],
          "name": "stdout"
        }
      ]
    },
    {
      "metadata": {
        "id": "-A_IctC4ABII",
        "colab_type": "text"
      },
      "cell_type": "markdown",
      "source": [
        "# Settings"
      ]
    },
    {
      "metadata": {
        "id": "HT3hdPbNk6zy",
        "colab_type": "code",
        "colab": {}
      },
      "cell_type": "code",
      "source": [
        "#Dataset Path \n",
        "interm_dir4 = PATH + \"Datasets/Dataset1/processed/\"\n",
        "s = \"2018_11_25\"\n",
        "train_data_path=interm_dir4+'train'+s+'pos.rec'\n",
        "train_idx_path=interm_dir4+'train'+s+'pos.idx'\n",
        "valid_data_path=interm_dir4+'valid'+s+'pos.rec'\n",
        "valid_idx_path=interm_dir4+'valid'+s+'pos.idx'\n",
        "test_data_path=interm_dir4+'test'+s+'pos.rec'\n",
        "test_idx_path=interm_dir4+'test'+s+'pos.idx'"
      ],
      "execution_count": 0,
      "outputs": []
    },
    {
      "metadata": {
        "id": "TWY_-L4qDQXY",
        "colab_type": "code",
        "colab": {}
      },
      "cell_type": "code",
      "source": [
        "dataset_path = '/content/drive/My Drive/Datasets/Dataset5/processed/.'\n",
        "model_path = \"drive/My Drive/x110/model/model10/\"\n",
        "#model details\n",
        "prefix = \"dec30\"\n",
        "model_epoch=100"
      ],
      "execution_count": 0,
      "outputs": []
    },
    {
      "metadata": {
        "id": "7oArm9XTEWk-",
        "colab_type": "code",
        "colab": {}
      },
      "cell_type": "code",
      "source": [
        "epochs = 10\n",
        "load_model = False\n",
        "find_stats = False#True\n",
        "bs = 100#64#34"
      ],
      "execution_count": 0,
      "outputs": []
    },
    {
      "metadata": {
        "toc": true,
        "id": "EIFzslyej3R8",
        "colab_type": "text"
      },
      "cell_type": "markdown",
      "source": [
        "<h1>Table of Contents<span class=\"tocSkip\"></span></h1>\n",
        "<div class=\"toc\"><ul class=\"toc-item\"><li><span><a href=\"#Configuration\" data-toc-modified-id=\"Configuration-1\"><span class=\"toc-item-num\">1&nbsp;&nbsp;</span>Configuration</a></span></li><li><span><a href=\"#Preprocessing\" data-toc-modified-id=\"Preprocessing-2\"><span class=\"toc-item-num\">2&nbsp;&nbsp;</span>Preprocessing</a></span><ul class=\"toc-item\"><li><span><a href=\"#Find-mean-of-images\" data-toc-modified-id=\"Find-mean-of-images-2.1\"><span class=\"toc-item-num\">2.1&nbsp;&nbsp;</span>Find mean of images</a></span></li><li><span><a href=\"#Find-variance-of-images\" data-toc-modified-id=\"Find-variance-of-images-2.2\"><span class=\"toc-item-num\">2.2&nbsp;&nbsp;</span>Find variance of images</a></span></li></ul></li><li><span><a href=\"#Data-Iterator\" data-toc-modified-id=\"Data-Iterator-3\"><span class=\"toc-item-num\">3&nbsp;&nbsp;</span>Data Iterator</a></span></li><li><span><a href=\"#Evaluation-Metric\" data-toc-modified-id=\"Evaluation-Metric-4\"><span class=\"toc-item-num\">4&nbsp;&nbsp;</span>Evaluation Metric</a></span></li><li><span><a href=\"#Model-Architecture\" data-toc-modified-id=\"Model-Architecture-5\"><span class=\"toc-item-num\">5&nbsp;&nbsp;</span>Model Architecture</a></span></li><li><span><a href=\"#Optimizer\" data-toc-modified-id=\"Optimizer-6\"><span class=\"toc-item-num\">6&nbsp;&nbsp;</span>Optimizer</a></span><ul class=\"toc-item\"><li><span><a href=\"#Find--learning-rate\" data-toc-modified-id=\"Find--learning-rate-6.1\"><span class=\"toc-item-num\">6.1&nbsp;&nbsp;</span>Find  learning rate</a></span></li><li><span><a href=\"#Optimizer-Parameters\" data-toc-modified-id=\"Optimizer-Parameters-6.2\"><span class=\"toc-item-num\">6.2&nbsp;&nbsp;</span>Optimizer Parameters</a></span></li></ul></li><li><span><a href=\"#Train-Model\" data-toc-modified-id=\"Train-Model-7\"><span class=\"toc-item-num\">7&nbsp;&nbsp;</span>Train Model</a></span></li><li><span><a href=\"#Evaluate-Model\" data-toc-modified-id=\"Evaluate-Model-8\"><span class=\"toc-item-num\">8&nbsp;&nbsp;</span>Evaluate Model</a></span></li></ul></div>"
      ]
    },
    {
      "metadata": {
        "id": "fRuO7y9fj3R3",
        "colab_type": "text"
      },
      "cell_type": "markdown",
      "source": [
        "# Model Code"
      ]
    },
    {
      "metadata": {
        "scrolled": true,
        "id": "F7JkqZ0mj3SM",
        "colab_type": "code",
        "colab": {}
      },
      "cell_type": "code",
      "source": [
        "import sys\n",
        "sys.path.insert(0,\"x110/DLToolboxImg/src/\")"
      ],
      "execution_count": 0,
      "outputs": []
    },
    {
      "metadata": {
        "scrolled": true,
        "id": "2yYRVHIdj3SU",
        "colab_type": "code",
        "colab": {}
      },
      "cell_type": "code",
      "source": [
        "import mynnet7 as nn\n",
        "import pickle\n",
        "import mxnet as mx\n",
        "import time\n",
        "import matplotlib.pyplot as plt\n",
        "import numpy as np\n",
        "import pandas as pd"
      ],
      "execution_count": 0,
      "outputs": []
    },
    {
      "metadata": {
        "id": "r57gImHw6rX4",
        "colab_type": "code",
        "colab": {}
      },
      "cell_type": "code",
      "source": [
        "import os\n",
        "import math"
      ],
      "execution_count": 0,
      "outputs": []
    },
    {
      "metadata": {
        "id": "qEE6i_txGY1C",
        "colab_type": "code",
        "colab": {}
      },
      "cell_type": "code",
      "source": [
        "# Set seed for reproducibility\n",
        "mx.random.seed(42)"
      ],
      "execution_count": 0,
      "outputs": []
    },
    {
      "metadata": {
        "colab_type": "text",
        "id": "xe-Fv5N2a9Ra"
      },
      "cell_type": "markdown",
      "source": [
        "# Nodule Segmentation: Model"
      ]
    },
    {
      "metadata": {
        "id": "GWkyDSB2j3S_",
        "colab_type": "text"
      },
      "cell_type": "markdown",
      "source": [
        "## Preprocessing"
      ]
    },
    {
      "metadata": {
        "id": "T_OZbL4Mj3TC",
        "colab_type": "text"
      },
      "cell_type": "markdown",
      "source": [
        "### Find mean of images"
      ]
    },
    {
      "metadata": {
        "scrolled": true,
        "id": "To2ssEIvj3TG",
        "colab_type": "code",
        "outputId": "42b49fd3-198c-44fc-af85-1ce0ff839f9e",
        "colab": {
          "base_uri": "https://localhost:8080/",
          "height": 34
        }
      },
      "cell_type": "code",
      "source": [
        "if find_stats:\n",
        "    BATCH_SIZE=1\n",
        "    train_iter=nn.FileIter(train_data_path,train_idx_path,batch_size=BATCH_SIZE,do_augment=True,mean_image=0,std_image=1)\n",
        "    train_iter.reset()\n",
        "    x_mean = np.zeros((32,32,32))\n",
        "    for i,batch in enumerate(train_iter):\n",
        "        X =  batch.data[0][0][0].asnumpy()\n",
        "        x_mean+=X\n",
        "    x_mean=np.mean(x_mean/i)\n",
        "    # Saving the objects:\n",
        "    with open(interm_dir4+'x_mean.pkl', 'wb') as f:  # Python 3: open(..., 'wb')\n",
        "        pickle.dump([x_mean], f)\n",
        "\n",
        "else:\n",
        "    with open(interm_dir4+'x_mean.pkl','rb') as f:  # Python 3: open(..., 'rb')\n",
        "        x_mean = pickle.load(f)\n",
        "x_mean#x_mean=0.2826227159416579"
      ],
      "execution_count": 14,
      "outputs": [
        {
          "output_type": "execute_result",
          "data": {
            "text/plain": [
              "[0.28262271594165789]"
            ]
          },
          "metadata": {
            "tags": []
          },
          "execution_count": 14
        }
      ]
    },
    {
      "metadata": {
        "scrolled": true,
        "id": "eRUFk9Juj3TT",
        "colab_type": "code",
        "colab": {}
      },
      "cell_type": "code",
      "source": [
        "x_mean=0.28"
      ],
      "execution_count": 0,
      "outputs": []
    },
    {
      "metadata": {
        "id": "raNj5rVmj3Td",
        "colab_type": "text"
      },
      "cell_type": "markdown",
      "source": [
        "### Find variance of images"
      ]
    },
    {
      "metadata": {
        "scrolled": true,
        "id": "z7p4QBZKj3Tg",
        "colab_type": "code",
        "outputId": "7678bee8-5572-498d-cea1-cf3ac00ed2fa",
        "colab": {
          "base_uri": "https://localhost:8080/",
          "height": 34
        }
      },
      "cell_type": "code",
      "source": [
        "if find_stats: \n",
        "    BATCH_SIZE=1\n",
        "    train_iter=nn.FileIter(train_data_path,train_idx_path,batch_size=BATCH_SIZE,do_augment=True,mean_image=0,std_image = 1)\n",
        "    train_iter.reset()\n",
        "    x_var = np.zeros((32,32,32))\n",
        "    for i,batch in enumerate(train_iter):\n",
        "        X =  (batch.data[0][0][0].asnumpy()-x_mean)**2\n",
        "        x_var+=X\n",
        "    #x_var=x_var/(i-1)\n",
        "    #x_var#x_mean=.2815\n",
        "    N = i*32*32*32\n",
        "    x_var = np.sum(x_var)/(N-1)\n",
        "    x_var#x_var = .07877\n",
        "    x_std = np.sqrt(x_var)#x_std=.2807\n",
        "    with open(interm_dir4+'x_std.pkl', 'wb') as f:  # Python 3: open(..., 'wb')\n",
        "        pickle.dump([x_std], f)\n",
        "else:\n",
        "    with open(interm_dir4+'x_std.pkl','rb') as f:  # Python 3: open(..., 'rb')\n",
        "        x_std = pickle.load(f)\n",
        "x_std#x_std=0.2817920662435274"
      ],
      "execution_count": 16,
      "outputs": [
        {
          "output_type": "execute_result",
          "data": {
            "text/plain": [
              "[0.28179206624352737]"
            ]
          },
          "metadata": {
            "tags": []
          },
          "execution_count": 16
        }
      ]
    },
    {
      "metadata": {
        "scrolled": true,
        "id": "yXzLyS3Lj3To",
        "colab_type": "code",
        "colab": {}
      },
      "cell_type": "code",
      "source": [
        "x_std = 0.28"
      ],
      "execution_count": 0,
      "outputs": []
    },
    {
      "metadata": {
        "id": "nIpXpHQxj3Tw",
        "colab_type": "text"
      },
      "cell_type": "markdown",
      "source": [
        "## Data Iterator"
      ]
    },
    {
      "metadata": {
        "scrolled": true,
        "id": "cb3ZRqqWj3Ty",
        "colab_type": "code",
        "outputId": "9ca8b7fa-bf91-4953-db61-2f5e9d7f1ccd",
        "colab": {
          "base_uri": "https://localhost:8080/",
          "height": 34
        }
      },
      "cell_type": "code",
      "source": [
        "BATCH_SIZE=bs\n",
        "train_iter=nn.FileIter(train_data_path,train_idx_path,batch_size=BATCH_SIZE,random_flip=True,do_augment=False,mean_image=x_mean,std_image = x_std,do_shuffle=True)\n",
        "input_shapes = dict(train_iter.provide_data+train_iter.provide_label)\n",
        "print(input_shapes)"
      ],
      "execution_count": 18,
      "outputs": [
        {
          "output_type": "stream",
          "text": [
            "{'data': (100, 1, 32, 32, 32), 'softmax_label': (100, 32768)}\n"
          ],
          "name": "stdout"
        }
      ]
    },
    {
      "metadata": {
        "scrolled": true,
        "id": "39QY_Ip9j3T8",
        "colab_type": "code",
        "colab": {}
      },
      "cell_type": "code",
      "source": [
        "BATCH_SIZE=bs\n",
        "valid_iter=nn.FileIter(valid_data_path,valid_idx_path,batch_size=BATCH_SIZE,do_augment=False,mean_image=x_mean,std_image = x_std,do_shuffle=False)"
      ],
      "execution_count": 0,
      "outputs": []
    },
    {
      "metadata": {
        "scrolled": true,
        "id": "EO0l_t4Ej3UC",
        "colab_type": "code",
        "colab": {}
      },
      "cell_type": "code",
      "source": [
        "train_iter.reset()\n",
        "valid_iter.reset()"
      ],
      "execution_count": 0,
      "outputs": []
    },
    {
      "metadata": {
        "id": "MKxlY8J9j3UH",
        "colab_type": "text"
      },
      "cell_type": "markdown",
      "source": [
        "## Evaluation Metric"
      ]
    },
    {
      "metadata": {
        "scrolled": true,
        "id": "LIeANhbqj3UJ",
        "colab_type": "code",
        "colab": {}
      },
      "cell_type": "code",
      "source": [
        "def dice_coef2(label, y):\n",
        "    smooth = 1.\n",
        "    label=mx.nd.array(label).as_in_context(mx.gpu(0))\n",
        "    y=mx.nd.array(y).as_in_context(mx.gpu(0))\n",
        "    intersection = mx.nd.sum(label*y)\n",
        "    return ((2. * intersection + smooth) / (mx.nd.sum(label) +mx.nd.sum(mx.nd.abs(y)) + smooth))\n"
      ],
      "execution_count": 0,
      "outputs": []
    },
    {
      "metadata": {
        "id": "Z7Cb9A9_PP4f",
        "colab_type": "code",
        "colab": {}
      },
      "cell_type": "code",
      "source": [
        "def logloss2(label, y,w=[.9,.1]):\n",
        "    smooth = 1.\n",
        "    label=mx.nd.array(label).as_in_context(mx.gpu(0))\n",
        "    y=mx.nd.array(y).as_in_context(mx.gpu(0))\n",
        "    eps=1e-12\n",
        "    return mx.nd.mean(-(w[0]*label*mx.nd.log(y+eps)+w[1]*(1-label)*mx.nd.log(1-y+eps)))"
      ],
      "execution_count": 0,
      "outputs": []
    },
    {
      "metadata": {
        "id": "aVZdy14Zc8V2",
        "colab_type": "code",
        "colab": {}
      },
      "cell_type": "code",
      "source": [
        "# ===============Evaluation metric(s)================= \n",
        "eval_metrics_1 =  mx.metric.CustomMetric(feval=logloss2)\n",
        "eval_metrics_2 = mx.metric.CustomMetric(feval=nn.dice_coef2)\n",
        "metric= mx.metric.CompositeEvalMetric()\n",
        "for child_metric in [eval_metrics_1, eval_metrics_2]:\n",
        "  metric.add(child_metric)"
      ],
      "execution_count": 0,
      "outputs": []
    },
    {
      "metadata": {
        "id": "g9Lb-RuGj3Uc",
        "colab_type": "text"
      },
      "cell_type": "markdown",
      "source": [
        "## Model Architecture"
      ]
    },
    {
      "metadata": {
        "scrolled": true,
        "id": "pt98E9Faj3Uf",
        "colab_type": "code",
        "outputId": "80da010c-a753-4400-db7e-d5af480deeb4",
        "colab": {
          "base_uri": "https://localhost:8080/",
          "height": 34
        }
      },
      "cell_type": "code",
      "source": [
        "load_model"
      ],
      "execution_count": 27,
      "outputs": [
        {
          "output_type": "execute_result",
          "data": {
            "text/plain": [
              "False"
            ]
          },
          "metadata": {
            "tags": []
          },
          "execution_count": 27
        }
      ]
    },
    {
      "metadata": {
        "scrolled": true,
        "id": "mTiJEEydj3Uy",
        "colab_type": "code",
        "colab": {
          "base_uri": "https://localhost:8080/",
          "height": 54
        },
        "outputId": "59a818c1-5753-4f91-facc-a520e588c1ec"
      },
      "cell_type": "code",
      "source": [
        "if load_model:\n",
        "    network, arg_params, aux_params = mx.model.load_checkpoint(model_path+prefix , model_epoch)\n",
        "\n",
        "    # Binding\n",
        "    exe = network.simple_bind(ctx=mx.gpu(0), **input_shapes)\n",
        "\n",
        "\n",
        "    exe.copy_params_from(arg_params, aux_params)\n",
        "    \n",
        "    # get handle to input arrays\n",
        "    arg_arrays = dict(zip(network.list_arguments(), exe.arg_arrays))\n",
        "    data = arg_arrays[train_iter.provide_data[0][0]]\n",
        "    label = arg_arrays[train_iter.provide_label[0][0]]\n",
        "else:\n",
        "\n",
        "    network = nn.get_net_319()\n",
        "    init = mx.init.Normal(0.01) #note biases and gamma/beta are not affected\n",
        "\n",
        "    # Binding\n",
        "    exe = network.simple_bind(ctx=mx.gpu(), **input_shapes)\n",
        "    # get handle to input arrays\n",
        "    arg_arrays = dict(zip(network.list_arguments(), exe.arg_arrays))\n",
        "    data = arg_arrays[train_iter.provide_data[0][0]]\n",
        "    label = arg_arrays[train_iter.provide_label[0][0]]\n",
        "    for name, arr in arg_arrays.items():\n",
        "        if name not in input_shapes:\n",
        "            init(name, arr)\n"
      ],
      "execution_count": 25,
      "outputs": [
        {
          "output_type": "stream",
          "text": [
            "/usr/local/lib/python3.6/dist-packages/ipykernel_launcher.py:27: DeprecationWarning: \u001b[91mCalling initializer with init(str, NDArray) has been deprecated.please use init(mx.init.InitDesc(...), NDArray) instead.\u001b[0m\n"
          ],
          "name": "stderr"
        }
      ]
    },
    {
      "metadata": {
        "id": "aiWYX4iBG4ZE",
        "colab_type": "code",
        "colab": {}
      },
      "cell_type": "code",
      "source": [
        "epoch=0\n",
        "arg={k:v for k, v in arg_arrays.items() if k not in input_shapes}\n",
        "aux = dict(zip(network.list_auxiliary_states(), exe.aux_arrays))\n",
        "mx.model.save_checkpoint(model_path+prefix, epoch, network, arg, aux)\n",
        "epoch=1"
      ],
      "execution_count": 0,
      "outputs": []
    },
    {
      "metadata": {
        "colab_type": "text",
        "id": "p36aWzqzbH75"
      },
      "cell_type": "markdown",
      "source": [
        "# Nodule Segmentation: Model"
      ]
    },
    {
      "metadata": {
        "id": "_VAcRTIBj3VB",
        "colab_type": "text"
      },
      "cell_type": "markdown",
      "source": [
        "## Optimizer"
      ]
    },
    {
      "metadata": {
        "id": "aw1eUaNVj3VJ",
        "colab_type": "text"
      },
      "cell_type": "markdown",
      "source": [
        "### Find  learning rate"
      ]
    },
    {
      "metadata": {
        "id": "17MM3ZvwYbBV",
        "colab_type": "code",
        "outputId": "474f09de-9be5-4824-ad0f-9ffc29fb1477",
        "colab": {
          "base_uri": "https://localhost:8080/",
          "height": 50
        }
      },
      "cell_type": "code",
      "source": [
        "find_learning_rate = True\n",
        "b=1\n",
        "a=.001\n",
        "\n",
        "\n",
        "nb=train_iter.num_data//train_iter.batch_size\n",
        "\n",
        "if find_learning_rate:\n",
        "\n",
        "  lrs = []\n",
        "  loss = []\n",
        "  \n",
        "  sched=nn.lr_find(a,nb,end_lr=b)\n",
        "  # We also need to create an optimizer for updating weights\n",
        "  opt = mx.optimizer.SGD(\n",
        "      learning_rate=a,\n",
        "      momentum=0.9,\n",
        "      wd=0.00001,\n",
        "      lr_scheduler=sched)\n",
        "\n",
        "  updater = mx.optimizer.get_updater(opt)\n",
        "  for epoch in range(0,1):\n",
        "\n",
        "      start = time.time()\n",
        "\n",
        "      metric.reset()\n",
        "\n",
        "      train_iter.reset()\n",
        "\n",
        "      valid_iter.reset()\n",
        "\n",
        "      sched.reset()\n",
        "\n",
        "      sched.on_train_begin()\n",
        "\n",
        "\n",
        "      for batch in train_iter:\n",
        "          # Copy data to executor input. Note the [:].\n",
        "          data[:] = batch.data[0]\n",
        "          label[:] = batch.label[0]\n",
        "\n",
        "          # Forward\n",
        "          outputs=exe.forward(is_train=True)\n",
        "          # Backward\n",
        "          exe.backward()\n",
        "\n",
        "          # Update\n",
        "          for i, pair in enumerate(zip(exe.arg_arrays, exe.grad_arrays)):\n",
        "              weight, grad = pair\n",
        "              updater(i, grad, weight)   \n",
        "          #metric.update(batch.label[0], exe.outputs[0])#\n",
        "          metric.update(batch.label[0], exe.outputs[0])\n",
        "\n",
        "          e=metric.get()\n",
        "          e = dict(zip(e[0], e[1]))\n",
        "  \n",
        "          err_train=-e['dice_coef2'].asnumpy()[0]\n",
        "          sched.on_batch_end(err_train)\n",
        "\n",
        "      if epoch % 100== 0:       \n",
        "          #print(\"do_checkpoint\")\n",
        "          arg={k:v for k, v in arg_arrays.items() if k not in input_shapes}\n",
        "          aux = dict(zip(network.list_auxiliary_states(), exe.aux_arrays))\n",
        "          mx.model.save_checkpoint(prefix, epoch, network, arg, aux)\n",
        "\n",
        "\n",
        "      #compute valid loss per epoch    \n",
        "      metric.reset()\n",
        "      for batch in valid_iter:        \n",
        "          data[:] = batch.data[0]       \n",
        "          label[:] = batch.label[0]\n",
        "          # predict\n",
        "          outputs = exe.forward(is_train=False)\n",
        "          metric.update(batch.label[0], exe.outputs[0])\n",
        "      e0=metric.get()\n",
        "      e = dict(zip(e0[0], e0[1]))\n",
        "      err_valid=-e['dice_coef2'].asnumpy()[0]\n",
        "      end = time.time()\n",
        "      print('time:',end-start,'Epoch:',epoch,'trainloss:',err_train,'validloss:',err_valid,'CE',outputs[1].asnumpy())\n",
        "      for x,y in zip(e0[0],e0[1]):\n",
        "        print(x,y[0].asnumpy()[0], end=\", \", flush=True)\n",
        "  lrs.extend(sched.lrs)\n",
        "  loss.extend(sched.losses)\n",
        "\n"
      ],
      "execution_count": 238,
      "outputs": [
        {
          "output_type": "stream",
          "text": [
            "time: 122.35534572601318 Epoch: 0 trainloss: -0.614495 validloss: -0.525495 CE [-0.5687359]\n",
            "logloss2 0.28926, dice_coef2 0.525495, "
          ],
          "name": "stdout"
        }
      ]
    },
    {
      "metadata": {
        "id": "G8PveIwFyrOs",
        "colab_type": "code",
        "colab": {
          "base_uri": "https://localhost:8080/",
          "height": 366
        },
        "outputId": "c5e96aac-9c4d-480f-968a-1dae2218c94c"
      },
      "cell_type": "code",
      "source": [
        "plt.figure()\n",
        "plt.plot(lrs, loss,'*-')"
      ],
      "execution_count": 239,
      "outputs": [
        {
          "output_type": "execute_result",
          "data": {
            "text/plain": [
              "[<matplotlib.lines.Line2D at 0x7ff22c917358>]"
            ]
          },
          "metadata": {
            "tags": []
          },
          "execution_count": 239
        },
        {
          "output_type": "display_data",
          "data": {
            "image/png": "[encoded data removed]",
            "text/plain": [
              "<matplotlib.figure.Figure at 0x7ff22ca0cfd0>"
            ]
          },
          "metadata": {
            "tags": []
          }
        }
      ]
    },
    {
      "metadata": {
        "id": "1-w5Z85n15Nz",
        "colab_type": "code",
        "colab": {}
      },
      "cell_type": "code",
      "source": [
        "network, arg_params, aux_params = mx.model.load_checkpoint(model_path+prefix , 82)\n",
        "exe.copy_params_from(arg_params, aux_params)"
      ],
      "execution_count": 0,
      "outputs": []
    },
    {
      "metadata": {
        "id": "UbwF-vYiEBKJ",
        "colab_type": "code",
        "colab": {
          "base_uri": "https://localhost:8080/",
          "height": 34
        },
        "outputId": "14cc2565-1b6b-4e21-d2be-4e248b5467a0"
      },
      "cell_type": "code",
      "source": [
        "lrs[8]"
      ],
      "execution_count": 240,
      "outputs": [
        {
          "output_type": "execute_result",
          "data": {
            "text/plain": [
              "0.34615384615384615"
            ]
          },
          "metadata": {
            "tags": []
          },
          "execution_count": 240
        }
      ]
    },
    {
      "metadata": {
        "id": "JisYmQ2gM8rE",
        "colab_type": "code",
        "colab": {
          "base_uri": "https://localhost:8080/",
          "height": 34
        },
        "outputId": "797cbe3d-5bb4-4856-96af-8229f351c85c"
      },
      "cell_type": "code",
      "source": [
        "(.01-1)/26"
      ],
      "execution_count": 125,
      "outputs": [
        {
          "output_type": "execute_result",
          "data": {
            "text/plain": [
              "-0.03807692307692308"
            ]
          },
          "metadata": {
            "tags": []
          },
          "execution_count": 125
        }
      ]
    },
    {
      "metadata": {
        "id": "BIAAfsuo0aQz",
        "colab_type": "code",
        "colab": {
          "base_uri": "https://localhost:8080/",
          "height": 34
        },
        "outputId": "29aac72d-5245-440e-d21b-5867790a1a79"
      },
      "cell_type": "code",
      "source": [
        "lr"
      ],
      "execution_count": 167,
      "outputs": [
        {
          "output_type": "execute_result",
          "data": {
            "text/plain": [
              "0.01"
            ]
          },
          "metadata": {
            "tags": []
          },
          "execution_count": 167
        }
      ]
    },
    {
      "metadata": {
        "id": "ScwvyY2Hj3WA",
        "colab_type": "text"
      },
      "cell_type": "markdown",
      "source": [
        "### Optimizer Parameters"
      ]
    },
    {
      "metadata": {
        "id": "QQMspdjFl1eQ",
        "colab_type": "code",
        "colab": {}
      },
      "cell_type": "code",
      "source": [
        "#logfile = model_path+\"errorlogmodel8.csv\"\n",
        "logfile = \"errorlogmodel10.csv\""
      ],
      "execution_count": 0,
      "outputs": []
    },
    {
      "metadata": {
        "id": "5B2wpqFMzz-C",
        "colab_type": "code",
        "colab": {
          "base_uri": "https://localhost:8080/",
          "height": 34
        },
        "outputId": "3f180840-1136-4b3a-d581-591abcd65956"
      },
      "cell_type": "code",
      "source": [
        "import os\n",
        "exists = os.path.isfile(logfile)\n",
        "exists"
      ],
      "execution_count": 60,
      "outputs": [
        {
          "output_type": "execute_result",
          "data": {
            "text/plain": [
              "True"
            ]
          },
          "metadata": {
            "tags": []
          },
          "execution_count": 60
        }
      ]
    },
    {
      "metadata": {
        "id": "YmQgF9RBteXo",
        "colab_type": "code",
        "colab": {}
      },
      "cell_type": "code",
      "source": [
        "#exists = False"
      ],
      "execution_count": 0,
      "outputs": []
    },
    {
      "metadata": {
        "id": "3KrV7AO1i62v",
        "colab_type": "code",
        "colab": {}
      },
      "cell_type": "code",
      "source": [
        "\n",
        "col_names = ['epoch',\n",
        "             'lr',\n",
        "             'loss',\n",
        "             'E1train',\n",
        "             'E1valid',\n",
        "             'E2train',\n",
        "             'E2valid']\n",
        "df = pd.DataFrame(columns=col_names)\n",
        "\n",
        "if not exists:\n",
        "  df.to_csv(logfile)"
      ],
      "execution_count": 0,
      "outputs": []
    },
    {
      "metadata": {
        "id": "eMbv0lVruIIK",
        "colab_type": "code",
        "outputId": "64cf2dd2-c907-4bfb-e1f4-1b995b457680",
        "colab": {
          "base_uri": "https://localhost:8080/",
          "height": 47
        }
      },
      "cell_type": "code",
      "source": [
        "df = pd.read_csv(logfile, index_col=0)\n",
        "df.head()"
      ],
      "execution_count": 66,
      "outputs": [
        {
          "output_type": "execute_result",
          "data": {
            "text/html": [
              "<div>\n",
              "<style scoped>\n",
              "    .dataframe tbody tr th:only-of-type {\n",
              "        vertical-align: middle;\n",
              "    }\n",
              "\n",
              "    .dataframe tbody tr th {\n",
              "        vertical-align: top;\n",
              "    }\n",
              "\n",
              "    .dataframe thead th {\n",
              "        text-align: right;\n",
              "    }\n",
              "</style>\n",
              "<table border=\"1\" class=\"dataframe\">\n",
              "  <thead>\n",
              "    <tr style=\"text-align: right;\">\n",
              "      <th></th>\n",
              "      <th>epoch</th>\n",
              "      <th>lr</th>\n",
              "      <th>loss</th>\n",
              "      <th>E1train</th>\n",
              "      <th>E1valid</th>\n",
              "      <th>E2train</th>\n",
              "      <th>E2valid</th>\n",
              "    </tr>\n",
              "  </thead>\n",
              "  <tbody>\n",
              "  </tbody>\n",
              "</table>\n",
              "</div>"
            ],
            "text/plain": [
              "Empty DataFrame\n",
              "Columns: [epoch, lr, loss, E1train, E1valid, E2train, E2valid]\n",
              "Index: []"
            ]
          },
          "metadata": {
            "tags": []
          },
          "execution_count": 66
        }
      ]
    },
    {
      "metadata": {
        "id": "a8AWu5Ia0euI",
        "colab_type": "code",
        "colab": {}
      },
      "cell_type": "code",
      "source": [
        "import copy\n",
        "#import math\n",
        "\n",
        "\n",
        "def plot_schedule(schedule_fn, iterations=1500):\n",
        "    # Iteration count starting at 1\n",
        "    iterations = [i+1 for i in range(iterations)]\n",
        "    lrs = [schedule_fn(i) for i in iterations]\n",
        "    plt.scatter(iterations, lrs)\n",
        "    plt.xlabel(\"Iteration\")\n",
        "    plt.ylabel(\"Learning Rate\")\n",
        "    plt.show()\n",
        "\n",
        "class CosineAnnealingSchedule():\n",
        "    def __init__(self, min_lr, max_lr, cycle_length):\n",
        "        \"\"\"\n",
        "        min_lr: lower bound for learning rate (float)\n",
        "        max_lr: upper bound for learning rate (float)\n",
        "        cycle_length: iterations between start and finish (int)\n",
        "        \"\"\"\n",
        "        self.min_lr = min_lr\n",
        "        self.max_lr = max_lr\n",
        "        self.cycle_length = cycle_length\n",
        "        \n",
        "    def __call__(self, iteration):\n",
        "        if iteration <= self.cycle_length:\n",
        "            unit_cycle = (1 + math.cos(iteration * math.pi / self.cycle_length)) / 2\n",
        "            adjusted_cycle = (unit_cycle * (self.max_lr - self.min_lr)) + self.min_lr\n",
        "            return adjusted_cycle\n",
        "        else:\n",
        "            return self.min_lr\n",
        "          \n",
        "    \n",
        "    \n",
        "class TriangularSchedule():\n",
        "    def __init__(self, min_lr, max_lr, cycle_length, inc_fraction=0.5):     \n",
        "        \"\"\"\n",
        "        min_lr: lower bound for learning rate (float)\n",
        "        max_lr: upper bound for learning rate (float)\n",
        "        cycle_length: iterations between start and finish (int)\n",
        "        inc_fraction: fraction of iterations spent in increasing stage (float)\n",
        "        \"\"\"\n",
        "        self.min_lr = min_lr\n",
        "        self.max_lr = max_lr\n",
        "        self.cycle_length = cycle_length\n",
        "        self.inc_fraction = inc_fraction\n",
        "        \n",
        "    def __call__(self, iteration):\n",
        "        if iteration <= self.cycle_length*self.inc_fraction:\n",
        "            unit_cycle = iteration * 1 / (self.cycle_length * self.inc_fraction)\n",
        "        elif iteration <= self.cycle_length:\n",
        "            unit_cycle = (self.cycle_length - iteration) * 1 / (self.cycle_length * (1 - self.inc_fraction))\n",
        "        else:\n",
        "            unit_cycle = 0\n",
        "        adjusted_cycle = (unit_cycle * (self.max_lr - self.min_lr)) + self.min_lr\n",
        "        return adjusted_cycle\n",
        "\n",
        "class CyclicalSchedule():\n",
        "    def __init__(self, schedule_class, cycle_length, cycle_length_decay=1, cycle_magnitude_decay=1, **kwargs):\n",
        "        \"\"\"\n",
        "        schedule_class: class of schedule, expected to take `cycle_length` argument\n",
        "        cycle_length: iterations used for initial cycle (int)\n",
        "        cycle_length_decay: factor multiplied to cycle_length each cycle (float)\n",
        "        cycle_magnitude_decay: factor multiplied learning rate magnitudes each cycle (float)\n",
        "        kwargs: passed to the schedule_class\n",
        "        \"\"\"\n",
        "        self.schedule_class = schedule_class\n",
        "        self.length = cycle_length\n",
        "        self.length_decay = cycle_length_decay\n",
        "        self.magnitude_decay = cycle_magnitude_decay\n",
        "        self.kwargs = kwargs\n",
        "    \n",
        "    def __call__(self, iteration):\n",
        "        cycle_idx = 0\n",
        "        cycle_length = self.length\n",
        "        idx = self.length\n",
        "        while idx <= iteration:\n",
        "            cycle_length = math.ceil(cycle_length * self.length_decay)\n",
        "            cycle_idx += 1\n",
        "            idx += cycle_length\n",
        "        cycle_offset = iteration - idx + cycle_length\n",
        "        \n",
        "        schedule = self.schedule_class(cycle_length=cycle_length-6, **self.kwargs)\n",
        "        return schedule(cycle_offset) * self.magnitude_decay**cycle_idx"
      ],
      "execution_count": 0,
      "outputs": []
    },
    {
      "metadata": {
        "id": "HrdKZPyR6acE",
        "colab_type": "code",
        "colab": {}
      },
      "cell_type": "code",
      "source": [
        "epochs = 10\n",
        "lr =.34#.2#.01#.002"
      ],
      "execution_count": 0,
      "outputs": []
    },
    {
      "metadata": {
        "id": "Ogm1T_LbF47Y",
        "colab_type": "code",
        "colab": {
          "base_uri": "https://localhost:8080/",
          "height": 34
        },
        "outputId": "bee28bbc-07ba-44c9-95a6-8883744fede4"
      },
      "cell_type": "code",
      "source": [
        "train_iter.num_data/bs"
      ],
      "execution_count": 213,
      "outputs": [
        {
          "output_type": "execute_result",
          "data": {
            "text/plain": [
              "26.29"
            ]
          },
          "metadata": {
            "tags": []
          },
          "execution_count": 213
        }
      ]
    },
    {
      "metadata": {
        "id": "Shm3fmnz2zHQ",
        "colab_type": "code",
        "colab": {
          "base_uri": "https://localhost:8080/",
          "height": 34
        },
        "outputId": "63dcc543-d0ba-49ca-ed27-644376550130"
      },
      "cell_type": "code",
      "source": [
        "lr/100"
      ],
      "execution_count": 247,
      "outputs": [
        {
          "output_type": "execute_result",
          "data": {
            "text/plain": [
              "0.0034000000000000002"
            ]
          },
          "metadata": {
            "tags": []
          },
          "execution_count": 247
        }
      ]
    },
    {
      "metadata": {
        "id": "CZR4pWdZ0J7V",
        "colab_type": "code",
        "colab": {
          "base_uri": "https://localhost:8080/",
          "height": 362
        },
        "outputId": "48e18278-00ae-4a95-dce5-37403d95fccf"
      },
      "cell_type": "code",
      "source": [
        "schedule = CyclicalSchedule(TriangularSchedule, min_lr=lr/10, max_lr=lr,\n",
        "                            cycle_length=27, cycle_length_decay=1, cycle_magnitude_decay=1)\n",
        "plot_schedule(schedule,iterations=200)"
      ],
      "execution_count": 250,
      "outputs": [
        {
          "output_type": "display_data",
          "data": {
            "image/png": "[encoded data removed]",
            "text/plain": [
              "<matplotlib.figure.Figure at 0x7ff22c74a438>"
            ]
          },
          "metadata": {
            "tags": []
          }
        }
      ]
    },
    {
      "metadata": {
        "id": "I2EXT_W9Wz3y",
        "colab_type": "code",
        "colab": {}
      },
      "cell_type": "code",
      "source": [
        "m1=.85\n",
        "m2=.95\n",
        "\n",
        "# We also need to create an optimizer for updating weights\n",
        "# ===============Optimizer=================                        \n",
        "opt = mx.optimizer.SGD(\n",
        "    learning_rate=lr,momentum=m1,wd=0.00001)\n",
        "\n",
        "updater = mx.optimizer.get_updater(opt)\n",
        "\n",
        "updater.optimizer.lr_scheduler=schedule"
      ],
      "execution_count": 0,
      "outputs": []
    },
    {
      "metadata": {
        "id": "n2rXt_1i2RHk",
        "colab_type": "code",
        "colab": {}
      },
      "cell_type": "code",
      "source": [
        ""
      ],
      "execution_count": 0,
      "outputs": []
    },
    {
      "metadata": {
        "id": "c7EogiUVnm1X",
        "colab_type": "code",
        "outputId": "452baee0-9fc0-4414-d817-639d6aaf626c",
        "colab": {
          "base_uri": "https://localhost:8080/",
          "height": 70
        }
      },
      "cell_type": "code",
      "source": [
        "lrs=[]\n",
        "ms=[]\n",
        "lrold=-1\n",
        "epoch_r  =now\n",
        "epoch_r\n",
        "Es_train=[]\n",
        "Es_valid=[]\n",
        "for epoch in range(epoch_r+1,epoch_r+epochs):\n",
        "\n",
        "    start = time.time()\n",
        "\n",
        "    metric.reset()\n",
        "\n",
        "    train_iter.reset()\n",
        "    \n",
        "    valid_iter.reset()\n",
        "    \n",
        "\n",
        "    for batch in train_iter:\n",
        "        # Copy data to executor input. Note the [:].\n",
        "        data[:] = batch.data[0]\n",
        "        label[:] = batch.label[0]\n",
        "\n",
        "        # Forward\n",
        "        outputs=exe.forward(is_train=True)\n",
        "        Es_train.append(outputs[1].asnumpy()[0])\n",
        "        # Backward\n",
        "        exe.backward()\n",
        "\n",
        "        # Update\n",
        "        for i, pair in enumerate(zip(exe.arg_arrays, exe.grad_arrays)):\n",
        "            weight, grad = pair\n",
        "            updater(i, grad, weight)   \n",
        "        metric.update(batch.label[0], exe.outputs[0])#metric.update(label,p)\n",
        "        if (opt.learning_rate-lrold)<0:\n",
        "          opt.momentum=m2\n",
        "          lrold = opt.learning_rate\n",
        "        else: \n",
        "          opt.momentum=m1\n",
        "          lrold=opt.learning_rate\n",
        "        lrs.append(opt.learning_rate)\n",
        "        ms.append(opt.momentum)\n",
        "    e=metric.get()\n",
        "    ed={}\n",
        "    e_key,e_val = e\n",
        "    for k,v in zip(e_key,e_val):\n",
        "      ed[k]=v.asnumpy()[0]\n",
        "    err_train=-ed['dice_coef2']\n",
        "    err_train2=ed['logloss2']\n",
        "    \n",
        "    loss = outputs[1].asnumpy()[0] \n",
        "    \n",
        "    if epoch % 5== 0:       \n",
        "        #print(\"do_checkpoint\")\n",
        "        arg={k:v for k, v in arg_arrays.items() if k not in input_shapes}\n",
        "        aux = dict(zip(network.list_auxiliary_states(), exe.aux_arrays))\n",
        "        mx.model.save_checkpoint(model_path+prefix, epoch, network, arg, aux)\n",
        "        \n",
        "        \n",
        "    #compute valid loss per epoch    \n",
        "    metric.reset()\n",
        "    for batch in valid_iter:        \n",
        "        data[:] = batch.data[0]       \n",
        "        label[:] = batch.label[0]\n",
        "        # predict\n",
        "        outputs = exe.forward(is_train=False)\n",
        "        Es_valid.append(outputs[1].asnumpy()[0])\n",
        "        metric.update(batch.label[0], exe.outputs[0])\n",
        "    e=metric.get()\n",
        "    ed={}\n",
        "    e_key,e_val = e\n",
        "    for k,v in zip(e_key,e_val):\n",
        "      ed[k]=v.asnumpy()[0]\n",
        "    err_valid=-ed['dice_coef2']\n",
        "    err_valid2=ed['logloss2']\n",
        "    \n",
        "\n",
        "    end = time.time()\n",
        "    print('time:',end-start,'Epoch:',epoch,\"loss\",loss,'trainloss:',err_train,'validloss:',err_valid,'trainloss2:',err_train2,'validloss2:',err_valid2)\n",
        "    myCsvRow = [(epoch,opt.learning_rate,loss,err_train,err_valid,err_train2,err_valid2)]\n",
        "    df = pd.DataFrame.from_records(myCsvRow,columns = col_names)\n",
        "    df.to_csv(logfile, mode='a', header=False)"
      ],
      "execution_count": 0,
      "outputs": [
        {
          "output_type": "stream",
          "text": [
            "time: 112.89598846435547 Epoch: 83 loss -0.758918 trainloss: -0.615975 validloss: -0.58414 trainloss2: 0.163208 validloss2: 0.235037\n",
            "time: 113.16884303092957 Epoch: 84 loss -0.722334 trainloss: -0.611172 validloss: -0.571207 trainloss2: 0.162238 validloss2: 0.219246\n"
          ],
          "name": "stdout"
        }
      ]
    },
    {
      "metadata": {
        "id": "jj0C7Z4Pw9s5",
        "colab_type": "code",
        "colab": {}
      },
      "cell_type": "code",
      "source": [
        "mx.model.save_checkpoint(model_path+prefix, epoch, network, arg, aux)"
      ],
      "execution_count": 0,
      "outputs": []
    },
    {
      "metadata": {
        "id": "koxZJ6Qj2gde",
        "colab_type": "code",
        "colab": {}
      },
      "cell_type": "code",
      "source": [
        "now=epoch"
      ],
      "execution_count": 0,
      "outputs": []
    },
    {
      "metadata": {
        "id": "BhEmx7s-tqgS",
        "colab_type": "code",
        "colab": {}
      },
      "cell_type": "code",
      "source": [
        "now"
      ],
      "execution_count": 0,
      "outputs": []
    },
    {
      "metadata": {
        "id": "nBw3WCXgU3zf",
        "colab_type": "code",
        "colab": {}
      },
      "cell_type": "code",
      "source": [
        "\n",
        "plt.figure()\n",
        "plt.plot(lrs)\n",
        "plt.figure()\n",
        "plt.plot(ms)\n"
      ],
      "execution_count": 0,
      "outputs": []
    },
    {
      "metadata": {
        "id": "TKXEpND6q0Vw",
        "colab_type": "code",
        "colab": {}
      },
      "cell_type": "code",
      "source": [
        ""
      ],
      "execution_count": 0,
      "outputs": []
    }
  ]
}