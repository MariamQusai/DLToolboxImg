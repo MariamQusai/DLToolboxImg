{
  "nbformat": 4,
  "nbformat_minor": 0,
  "metadata": {
    "colab": {
      "name": "NoduleSegmentationModel10.ipynb",
      "version": "0.3.2",
      "provenance": [],
      "collapsed_sections": [],
      "include_colab_link": true
    },
    "kernelspec": {
      "name": "python3",
      "display_name": "Python 3"
    },
    "accelerator": "GPU"
  },
  "cells": [
    {
      "cell_type": "markdown",
      "metadata": {
        "id": "view-in-github",
        "colab_type": "text"
      },
      "source": [
        "<a href=\"https://colab.research.google.com/github/x110/DLToolboxImg/blob/master/NoduleSegmentationModel10.ipynb\" target=\"_parent\"><img src=\"https://colab.research.google.com/assets/colab-badge.svg\" alt=\"Open In Colab\"/></a>"
      ]
    },
    {
      "metadata": {
        "id": "W6ljz0jskI2x",
        "colab_type": "text"
      },
      "cell_type": "markdown",
      "source": [
        "#Configuration"
      ]
    },
    {
      "metadata": {
        "id": "NwpwrS4F_r15",
        "colab_type": "code",
        "outputId": "ecc8bbf3-c032-45a0-a8c4-6b999709c486",
        "colab": {
          "base_uri": "https://localhost:8080/",
          "height": 34
        }
      },
      "cell_type": "code",
      "source": [
        "!ls"
      ],
      "execution_count": 0,
      "outputs": [
        {
          "output_type": "stream",
          "text": [
            "sample_data\n"
          ],
          "name": "stdout"
        }
      ]
    },
    {
      "metadata": {
        "id": "faJWgZ4m-OyT",
        "colab_type": "code",
        "colab": {}
      },
      "cell_type": "code",
      "source": [
        "# Remove CUDA 9 completely\n",
        "\n",
        "!apt-get --purge remove cuda nvidia* libnvidia-*\n",
        "!apt-get remove cuda-*\n",
        "!dpkg -l | grep cuda- | awk '{print $2}' | xargs -n1 dpkg --purge\n",
        "!apt autoremove\n",
        "!apt-get update"
      ],
      "execution_count": 0,
      "outputs": []
    },
    {
      "metadata": {
        "id": "xQt0wZRLkM62",
        "colab_type": "code",
        "colab": {}
      },
      "cell_type": "code",
      "source": [
        "# Install CUDA 8\n",
        "\n",
        "!wget https://developer.download.nvidia.com/compute/cuda/repos/ubuntu1604/x86_64/cuda-repo-ubuntu1604_8.0.61-1_amd64.deb\n",
        "!dpkg -i --force-overwrite cuda-repo-ubuntu1604_8.0.61-1_amd64.deb\n",
        "!apt-get update\n",
        "!apt-get install cuda-8-0\n",
        "\n",
        "# install will fail, need to force dpkg to overwrite the configuration file\n",
        "\n",
        "!wget http://archive.ubuntu.com/ubuntu/pool/main/m/mesa/libglx-mesa0_18.0.5-0ubuntu0~18.04.1_amd64.deb\n",
        "!dpkg -i --force-overwrite libglx-mesa0_18.0.5-0ubuntu0~18.04.1_amd64.deb\n",
        "\n",
        "!wget http://developer.download.nvidia.com/compute/cuda/repos/ubuntu1604/x86_64/nvidia-410_410.48-0ubuntu1_amd64.deb\n",
        "!dpkg -i --force-overwrite nvidia-410_410.48-0ubuntu1_amd64.deb\n",
        "\n",
        "!apt --fix-broken install\n",
        "!apt-get install cuda-8-0"
      ],
      "execution_count": 0,
      "outputs": []
    },
    {
      "metadata": {
        "id": "CFAXDR9Gvw8S",
        "colab_type": "code",
        "colab": {}
      },
      "cell_type": "code",
      "source": [
        "!pip uninstall -y numpy\n",
        "!pip uninstall -y scipy\n",
        "!pip install turicreate\n",
        "# The worng version of MXNET will be installed.\n",
        "!pip uninstall -y mxnet\n",
        "!pip install scipy\n",
        "# Instal CUDA8-compatible version of mxnet 1.1.0\n",
        "!pip install mxnet-cu80==1.1.0"
      ],
      "execution_count": 0,
      "outputs": []
    },
    {
      "metadata": {
        "id": "2nWGr82Ik3t_",
        "colab_type": "code",
        "outputId": "26719ce9-2ceb-4eb7-8fec-d59b263ea4bf",
        "colab": {
          "base_uri": "https://localhost:8080/",
          "height": 34
        }
      },
      "cell_type": "code",
      "source": [
        "from google.colab import drive\n",
        "drive.mount('/content/drive')"
      ],
      "execution_count": 0,
      "outputs": [
        {
          "output_type": "stream",
          "text": [
            "Mounted at /content/drive\n"
          ],
          "name": "stdout"
        }
      ]
    },
    {
      "metadata": {
        "id": "hreX2n06B5dg",
        "colab_type": "text"
      },
      "cell_type": "markdown",
      "source": [
        "#  Load Data"
      ]
    },
    {
      "metadata": {
        "id": "czYv0frULX52",
        "colab_type": "code",
        "outputId": "3f9192fb-5f3b-4a3a-ed96-c0948acb6c3d",
        "colab": {
          "base_uri": "https://localhost:8080/",
          "height": 101
        }
      },
      "cell_type": "code",
      "source": [
        "!ls"
      ],
      "execution_count": 0,
      "outputs": [
        {
          "output_type": "stream",
          "text": [
            "cuda-repo-ubuntu1604_8.0.61-1_amd64.deb\n",
            "drive\n",
            "libglx-mesa0_18.0.5-0ubuntu0~18.04.1_amd64.deb\n",
            "nvidia-410_410.48-0ubuntu1_amd64.deb\n",
            "sample_data\n"
          ],
          "name": "stdout"
        }
      ]
    },
    {
      "metadata": {
        "id": "LS-j2uGt_h64",
        "colab_type": "code",
        "colab": {}
      },
      "cell_type": "code",
      "source": [
        "PATH = \"x110/\""
      ],
      "execution_count": 0,
      "outputs": []
    },
    {
      "metadata": {
        "id": "M7hmz4sRBd40",
        "colab_type": "code",
        "colab": {}
      },
      "cell_type": "code",
      "source": [
        "!mkdir {PATH}\n",
        "!mkdir {PATH+\"Datasets\"}\n",
        "!mkdir {PATH+\"Datasets/Dataset1/\"}\n",
        "!mkdir {PATH+\"Datasets/Dataset1/processed/\"}\n",
        "!mkdir {PATH+\"model\"}"
      ],
      "execution_count": 0,
      "outputs": []
    },
    {
      "metadata": {
        "id": "TWY_-L4qDQXY",
        "colab_type": "code",
        "colab": {}
      },
      "cell_type": "code",
      "source": [
        "dataset_path = '/content/drive/My Drive/Datasets/Dataset5/processed/.'\n",
        "model_path = \"drive/My Drive/x110/model/model10/\"\n",
        "#model details\n",
        "prefix = \"dec30\"\n",
        "model_epoch=365"
      ],
      "execution_count": 0,
      "outputs": []
    },
    {
      "metadata": {
        "id": "7oArm9XTEWk-",
        "colab_type": "code",
        "colab": {}
      },
      "cell_type": "code",
      "source": [
        "epochs = 10\n",
        "load_model = True\n",
        "find_stats = False#True\n",
        "bs = 100#64#34"
      ],
      "execution_count": 0,
      "outputs": []
    },
    {
      "metadata": {
        "id": "ic0tSCrnFk9-",
        "colab_type": "code",
        "colab": {}
      },
      "cell_type": "code",
      "source": [
        "!cp -a \"{dataset_path}\" {PATH+\"Datasets/Dataset1/processed/\"}"
      ],
      "execution_count": 0,
      "outputs": []
    },
    {
      "metadata": {
        "id": "W5Ajv0yqyY9c",
        "colab_type": "code",
        "outputId": "298970f2-871d-48a8-ff1a-85d3cfc9527d",
        "colab": {
          "base_uri": "https://localhost:8080/",
          "height": 101
        }
      },
      "cell_type": "code",
      "source": [
        "!mkdir x110/DLToolboxImg\n",
        "!git clone https://github.com/x110/DLToolboxImg.git x110/DLToolboxImg"
      ],
      "execution_count": 0,
      "outputs": [
        {
          "output_type": "stream",
          "text": [
            "Cloning into 'x110/DLToolboxImg'...\n",
            "remote: Enumerating objects: 792, done.\u001b[K\n",
            "remote: Total 792 (delta 0), reused 0 (delta 0), pack-reused 792\u001b[K\n",
            "Receiving objects: 100% (792/792), 123.59 MiB | 11.33 MiB/s, done.\n",
            "Resolving deltas: 100% (451/451), done.\n"
          ],
          "name": "stdout"
        }
      ]
    },
    {
      "metadata": {
        "id": "-A_IctC4ABII",
        "colab_type": "text"
      },
      "cell_type": "markdown",
      "source": [
        "# Settings"
      ]
    },
    {
      "metadata": {
        "id": "HT3hdPbNk6zy",
        "colab_type": "code",
        "colab": {}
      },
      "cell_type": "code",
      "source": [
        "#Dataset Path \n",
        "interm_dir4 = PATH + \"Datasets/Dataset1/processed/\"\n",
        "s = \"2018_11_25\"\n",
        "train_data_path=interm_dir4+'train'+s+'pos.rec'\n",
        "train_idx_path=interm_dir4+'train'+s+'pos.idx'\n",
        "valid_data_path=interm_dir4+'valid'+s+'pos.rec'\n",
        "valid_idx_path=interm_dir4+'valid'+s+'pos.idx'\n",
        "test_data_path=interm_dir4+'test'+s+'pos.rec'\n",
        "test_idx_path=interm_dir4+'test'+s+'pos.idx'"
      ],
      "execution_count": 0,
      "outputs": []
    },
    {
      "metadata": {
        "id": "ITGUgg7UB6BJ",
        "colab_type": "code",
        "colab": {}
      },
      "cell_type": "code",
      "source": [
        "if load_model:\n",
        "  drivefile = model_path+prefix+\"-\"+\"{:04d}\".format(model_epoch)+\".params\"\n",
        "  drivefile2 = model_path+prefix+\"-symbol.json\"\n",
        "  colabfile = PATH+\"model/\"+prefix+\"-\"+\"{:04d}\".format(model_epoch)+\".params\"\n",
        "  colabfile2 = PATH+\"model/\"+prefix+\"-symbol.json\"\n",
        "\n",
        "  !cp  \"{drivefile}\" {colabfile}\n",
        "  !cp  \"{drivefile2}\" {colabfile2}\n"
      ],
      "execution_count": 0,
      "outputs": []
    },
    {
      "metadata": {
        "toc": true,
        "id": "EIFzslyej3R8",
        "colab_type": "text"
      },
      "cell_type": "markdown",
      "source": [
        "<h1>Table of Contents<span class=\"tocSkip\"></span></h1>\n",
        "<div class=\"toc\"><ul class=\"toc-item\"><li><span><a href=\"#Configuration\" data-toc-modified-id=\"Configuration-1\"><span class=\"toc-item-num\">1&nbsp;&nbsp;</span>Configuration</a></span></li><li><span><a href=\"#Preprocessing\" data-toc-modified-id=\"Preprocessing-2\"><span class=\"toc-item-num\">2&nbsp;&nbsp;</span>Preprocessing</a></span><ul class=\"toc-item\"><li><span><a href=\"#Find-mean-of-images\" data-toc-modified-id=\"Find-mean-of-images-2.1\"><span class=\"toc-item-num\">2.1&nbsp;&nbsp;</span>Find mean of images</a></span></li><li><span><a href=\"#Find-variance-of-images\" data-toc-modified-id=\"Find-variance-of-images-2.2\"><span class=\"toc-item-num\">2.2&nbsp;&nbsp;</span>Find variance of images</a></span></li></ul></li><li><span><a href=\"#Data-Iterator\" data-toc-modified-id=\"Data-Iterator-3\"><span class=\"toc-item-num\">3&nbsp;&nbsp;</span>Data Iterator</a></span></li><li><span><a href=\"#Evaluation-Metric\" data-toc-modified-id=\"Evaluation-Metric-4\"><span class=\"toc-item-num\">4&nbsp;&nbsp;</span>Evaluation Metric</a></span></li><li><span><a href=\"#Model-Architecture\" data-toc-modified-id=\"Model-Architecture-5\"><span class=\"toc-item-num\">5&nbsp;&nbsp;</span>Model Architecture</a></span></li><li><span><a href=\"#Optimizer\" data-toc-modified-id=\"Optimizer-6\"><span class=\"toc-item-num\">6&nbsp;&nbsp;</span>Optimizer</a></span><ul class=\"toc-item\"><li><span><a href=\"#Find--learning-rate\" data-toc-modified-id=\"Find--learning-rate-6.1\"><span class=\"toc-item-num\">6.1&nbsp;&nbsp;</span>Find  learning rate</a></span></li><li><span><a href=\"#Optimizer-Parameters\" data-toc-modified-id=\"Optimizer-Parameters-6.2\"><span class=\"toc-item-num\">6.2&nbsp;&nbsp;</span>Optimizer Parameters</a></span></li></ul></li><li><span><a href=\"#Train-Model\" data-toc-modified-id=\"Train-Model-7\"><span class=\"toc-item-num\">7&nbsp;&nbsp;</span>Train Model</a></span></li><li><span><a href=\"#Evaluate-Model\" data-toc-modified-id=\"Evaluate-Model-8\"><span class=\"toc-item-num\">8&nbsp;&nbsp;</span>Evaluate Model</a></span></li></ul></div>"
      ]
    },
    {
      "metadata": {
        "id": "fRuO7y9fj3R3",
        "colab_type": "text"
      },
      "cell_type": "markdown",
      "source": [
        "# Model Code"
      ]
    },
    {
      "metadata": {
        "scrolled": true,
        "id": "F7JkqZ0mj3SM",
        "colab_type": "code",
        "colab": {}
      },
      "cell_type": "code",
      "source": [
        "import sys\n",
        "sys.path.insert(0,\"x110/DLToolboxImg/src/\")"
      ],
      "execution_count": 0,
      "outputs": []
    },
    {
      "metadata": {
        "scrolled": true,
        "id": "2yYRVHIdj3SU",
        "colab_type": "code",
        "colab": {}
      },
      "cell_type": "code",
      "source": [
        "import mynnet7 as nn\n",
        "import pickle\n",
        "import mxnet as mx\n",
        "import time\n",
        "import matplotlib.pyplot as plt\n",
        "import numpy as np\n",
        "import pandas as pd"
      ],
      "execution_count": 0,
      "outputs": []
    },
    {
      "metadata": {
        "id": "Vbr8CTJj4t8F",
        "colab_type": "code",
        "colab": {}
      },
      "cell_type": "code",
      "source": [
        "import mxnet as mx\n",
        "import sys, os\n",
        "import random\n",
        "import time\n",
        "import matplotlib.pyplot as plt\n",
        "import matplotlib.image as mpimg\n",
        "\n",
        "import numpy as np\n",
        "import cv2\n",
        "import pandas as pd\n",
        "import re\n",
        "from mxnet.io import DataIter\n",
        "from mxnet.io import DataBatch\n",
        "import pandas as pd\n",
        "from scipy.ndimage.filters import gaussian_filter\n",
        "from scipy.ndimage.interpolation import map_coordinates\n",
        "from collections import namedtuple\n",
        "import pickle\n",
        "\n",
        "Batch = namedtuple('Batch', ['data'])\n",
        "\n",
        "BATCH_SIZE,INPUT_SIZE_z,INPUT_SIZE_y, INPUT_SIZE_x = 8,32,32,32\n",
        "\n",
        "class FileIter(DataIter):\n",
        "    def __init__(self, path,path_idx,\n",
        "                 data_name=\"data\",\n",
        "                 label_name=\"softmax_label\",\n",
        "                 batch_size=1,\n",
        "                 do_augment=False,\n",
        "                 random_flip=False,\n",
        "                 random_rot=False,\n",
        "                 random_elastic=False, \n",
        "                 mean_image=.28,\n",
        "                 std_image = .28,\n",
        "                 do_shuffle = True):\n",
        "\n",
        "        \n",
        "        random.seed(313)\n",
        "        self.ind2=None\n",
        "        self.do_shuffle = do_shuffle\n",
        "        self.epoch = 0\n",
        "        self.mean_image = mean_image\n",
        "        self.std_image = std_image\n",
        "        \n",
        "        super(FileIter, self).__init__()\n",
        "        self.batch_size = batch_size\n",
        "        self.do_augment=do_augment\n",
        "        self.random_flip = random_flip\n",
        "        self.random_rot = random_rot\n",
        "        self.random_elastic = random_elastic\n",
        "\n",
        "        self.data_name = data_name\n",
        "        self.label_name = label_name\n",
        "\n",
        "        self.record = mx.recordio.MXIndexedRecordIO(path_idx, path, 'r')#mx.recordio.MXRecordIO(path, 'r')\n",
        "\n",
        "        \n",
        "        def readrecord(record):\n",
        "            record.reset()\n",
        "            num_data=0\n",
        "            while True:\n",
        "                item = record.read()\n",
        "                num_data+=1\n",
        "                if not item:\n",
        "                    break\n",
        "            return num_data-1\n",
        "        \n",
        "        \n",
        "        self.num_data = readrecord(self.record)#len(open(self.flist_name, 'r').readlines())\n",
        "        \n",
        "        \n",
        "        \n",
        "        self.idx = self.shuffle_idx()\n",
        "        self.cursor = -1\n",
        "        self.cursor2 = -1\n",
        "        self.ind = self.idx[0]\n",
        "        self.record.reset()\n",
        "\n",
        "        self.data, self.label = self._read()\n",
        "        self.reset()\n",
        "            \n",
        "    def shuffle_idx(self):\n",
        "        num_data = self.num_data//self.batch_size*self.batch_size\n",
        "        idx = [i for i in range(num_data)]\n",
        "        if self.do_shuffle:\n",
        "            random.shuffle(idx)\n",
        "        idx = np.array(idx)\n",
        "        idx = idx.reshape(-1,self.batch_size)\n",
        "        return idx\n",
        "    \n",
        "    def _read(self):\n",
        "        \"\"\"get two list, each list contains two elements: name and nd.array value\"\"\"\n",
        "                \n",
        "        data = {}\n",
        "        label = {}\n",
        "\n",
        "        dd = []\n",
        "        ll = []\n",
        "        \n",
        "        if self.ind2 is None:\n",
        "            ind = self.ind\n",
        "        else:\n",
        "            ind = self.ind2\n",
        "            self.ind2=None\n",
        "            \n",
        "        for i in range(0, self.batch_size):\n",
        "            \n",
        "            item = self.record.read_idx(ind[i])            \n",
        "            header, l = mx.recordio.unpack_img(item)\n",
        "            \n",
        "            d=header.label\n",
        "\n",
        "            d=d.reshape((32,32,32))- self.mean_image\n",
        "            d = d/self.std_image\n",
        "            \n",
        "            l=l.reshape((32,32,32))\n",
        "            data11=np.concatenate((d,l),axis=0)  \n",
        "            \n",
        "            if self.random_elastic:            \n",
        "              if random.randint(0, 100) > 50:\n",
        "                data11=np.array([elastic_transform(d, 128, 15) for d  in data11])\n",
        "\n",
        "            if self.random_rot:\n",
        "              if random.randint(0, 100) > 50:\n",
        "                n,rows,cols = data11.shape\n",
        "                rot =20* random.random()-10\n",
        "                M = cv2.getRotationMatrix2D((cols/2,rows/2),rot,1)\n",
        "                data11=np.array([cv2.warpAffine(d,M,(cols,rows))for d in data11])\n",
        "\n",
        "            d,l=np.vsplit(data11,2)\n",
        "\n",
        "            if self.random_flip:\n",
        "            \tl=l.reshape((32,32,32))\n",
        "            \td,l = random_flip_img(d,l, horizontal_chance=0.5, vertical_chance=0.5)\n",
        "\n",
        "            d = np.expand_dims(d, axis=0) \n",
        "            d = np.expand_dims(d, axis=0)\n",
        "            l=l.reshape((32*32*32))\n",
        "            l=l.astype(float)\n",
        "            l = np.expand_dims(l, axis=0)\n",
        "\n",
        "\n",
        "\n",
        "            dd.append(d)\n",
        "            ll.append(l)\n",
        "\n",
        "        d = np.vstack(dd)\n",
        "        l = np.vstack(ll)\n",
        "        data[self.data_name] = d\n",
        "        label[self.label_name] = l\n",
        "        res = list(data.items()), list(label.items())\n",
        "        return res\n",
        "\n",
        "    @property\n",
        "    def provide_data(self):\n",
        "        \"\"\"The name and shape of data provided by this iterator\"\"\"\n",
        "        res = [(k, tuple(list(v.shape[0:]))) for k, v in self.data]\n",
        "        # print \"data : \" + str(res)\n",
        "        return res\n",
        "\n",
        "    @property\n",
        "    def provide_label(self):\n",
        "        \"\"\"The name and shape of label provided by this iterator\"\"\"\n",
        "        res = [(k, tuple(list(v.shape[0:]))) for k, v in self.label]\n",
        "        return res\n",
        "    \n",
        "\n",
        "    def reset(self):\n",
        "        self.cursor = -1\n",
        "        self.cursor2 = -1\n",
        "        self.record.reset()\n",
        "        self.epoch += 1\n",
        "        self.idx = self.shuffle_idx()\n",
        "        \n",
        "\n",
        "\n",
        "    def getpad(self):\n",
        "        return 0\n",
        "\n",
        "    def iter_next(self):\n",
        "        self.cursor += self.batch_size\n",
        "        self.cursor2 += 1\n",
        "        num_data = self.num_data//self.batch_size*self.batch_size\n",
        "            \n",
        "\n",
        "        if self.cursor < self.num_data:\n",
        "            self.ind = self.idx[self.cursor2]\n",
        "            return True\n",
        "        else:\n",
        "            return False\n",
        "\n",
        "    def eof(self):\n",
        "        res = self.cursor >= self.num_data\n",
        "        return res\n",
        "\n",
        "    def next(self):\n",
        "        \"\"\"return one dict which contains \"data\" and \"label\" \"\"\"\n",
        "        if self.iter_next():\n",
        "            self.data, self.label = self._read()\n",
        " \n",
        "            res = DataBatch(data=[mx.nd.array(self.data[0][1])], label=[mx.nd.array(self.label[0][1])], pad=self.getpad(), index=None)\n",
        "\n",
        "            return res\n",
        "        else:\n",
        "            raise StopIteration\n",
        "from scipy.ndimage.filters import gaussian_filter\n",
        "from scipy.ndimage.interpolation import map_coordinates\n",
        "ELASTIC_INDICES = None  # needed to make it faster to fix elastic deformation per epoch.\n",
        "def elastic_transform(image, alpha, sigma, random_state=None):\n",
        "  global ELASTIC_INDICES\n",
        "  shape = image.shape\n",
        "\n",
        "  if ELASTIC_INDICES == None:\n",
        "      if random_state is None:\n",
        "          random_state = np.random.RandomState(1301)\n",
        "\n",
        "      dx = gaussian_filter((random_state.rand(*shape) * 2 - 1), sigma, mode=\"constant\", cval=0) * alpha\n",
        "      dy = gaussian_filter((random_state.rand(*shape) * 2 - 1), sigma, mode=\"constant\", cval=0) * alpha\n",
        "      x, y = np.meshgrid(np.arange(shape[0]), np.arange(shape[1]))\n",
        "      ELASTIC_INDICES = np.reshape(y + dy, (-1, 1)), np.reshape(x + dx, (-1, 1))\n",
        "  return map_coordinates(image, ELASTIC_INDICES, order=1).reshape(shape)\n",
        "\n",
        "\n",
        "\n",
        "def random_flip_img(X,Y, horizontal_chance=0.5, vertical_chance=0.5):\n",
        "    import cv2\n",
        "    flip_horizontal = False\n",
        "    if random.random() < horizontal_chance:\n",
        "        flip_horizontal = True\n",
        "\n",
        "    flip_vertical = False\n",
        "    if random.random() < vertical_chance:\n",
        "        flip_vertical = True\n",
        "\n",
        "    if not flip_horizontal and not flip_vertical:\n",
        "        return (X,Y)\n",
        "\n",
        "    flip_val = 1\n",
        "    if flip_vertical:\n",
        "        flip_val = -1 if flip_horizontal else 0\n",
        "\n",
        "    Xaug = np.array([cv2.flip(x, flip_val) for x in X])\n",
        "    Yaug = np.array([cv2.flip(x, flip_val) for x in Y])\n",
        "\n",
        "    return (Xaug,Yaug)"
      ],
      "execution_count": 0,
      "outputs": []
    },
    {
      "metadata": {
        "id": "r57gImHw6rX4",
        "colab_type": "code",
        "colab": {}
      },
      "cell_type": "code",
      "source": [
        "import os\n",
        "import math"
      ],
      "execution_count": 0,
      "outputs": []
    },
    {
      "metadata": {
        "id": "qEE6i_txGY1C",
        "colab_type": "code",
        "colab": {}
      },
      "cell_type": "code",
      "source": [
        "# Set seed for reproducibility\n",
        "mx.random.seed(42)"
      ],
      "execution_count": 0,
      "outputs": []
    },
    {
      "metadata": {
        "colab_type": "text",
        "id": "xe-Fv5N2a9Ra"
      },
      "cell_type": "markdown",
      "source": [
        "# Nodule Segmentation: Model"
      ]
    },
    {
      "metadata": {
        "id": "GWkyDSB2j3S_",
        "colab_type": "text"
      },
      "cell_type": "markdown",
      "source": [
        "## Preprocessing"
      ]
    },
    {
      "metadata": {
        "id": "T_OZbL4Mj3TC",
        "colab_type": "text"
      },
      "cell_type": "markdown",
      "source": [
        "### Find mean of images"
      ]
    },
    {
      "metadata": {
        "scrolled": true,
        "id": "To2ssEIvj3TG",
        "colab_type": "code",
        "outputId": "5552f8fd-4706-4199-c078-eb53753c89a6",
        "colab": {
          "base_uri": "https://localhost:8080/",
          "height": 34
        }
      },
      "cell_type": "code",
      "source": [
        "if find_stats:\n",
        "    BATCH_SIZE=1\n",
        "    train_iter=nn.FileIter(train_data_path,train_idx_path,batch_size=BATCH_SIZE,do_augment=True,mean_image=0,std_image=1)\n",
        "    train_iter.reset()\n",
        "    x_mean = np.zeros((32,32,32))\n",
        "    for i,batch in enumerate(train_iter):\n",
        "        X =  batch.data[0][0][0].asnumpy()\n",
        "        x_mean+=X\n",
        "    x_mean=np.mean(x_mean/i)\n",
        "    # Saving the objects:\n",
        "    with open(interm_dir4+'x_mean.pkl', 'wb') as f:  # Python 3: open(..., 'wb')\n",
        "        pickle.dump([x_mean], f)\n",
        "\n",
        "else:\n",
        "    with open(interm_dir4+'x_mean.pkl','rb') as f:  # Python 3: open(..., 'rb')\n",
        "        x_mean = pickle.load(f)\n",
        "x_mean#x_mean=0.2826227159416579"
      ],
      "execution_count": 0,
      "outputs": [
        {
          "output_type": "execute_result",
          "data": {
            "text/plain": [
              "[0.2826227159416579]"
            ]
          },
          "metadata": {
            "tags": []
          },
          "execution_count": 35
        }
      ]
    },
    {
      "metadata": {
        "scrolled": true,
        "id": "eRUFk9Juj3TT",
        "colab_type": "code",
        "colab": {}
      },
      "cell_type": "code",
      "source": [
        "x_mean=0.28"
      ],
      "execution_count": 0,
      "outputs": []
    },
    {
      "metadata": {
        "id": "raNj5rVmj3Td",
        "colab_type": "text"
      },
      "cell_type": "markdown",
      "source": [
        "### Find variance of images"
      ]
    },
    {
      "metadata": {
        "scrolled": true,
        "id": "z7p4QBZKj3Tg",
        "colab_type": "code",
        "outputId": "3958353a-27e1-469a-a27e-86643f2f7a8a",
        "colab": {
          "base_uri": "https://localhost:8080/",
          "height": 34
        }
      },
      "cell_type": "code",
      "source": [
        "if find_stats: \n",
        "    BATCH_SIZE=1\n",
        "    train_iter=nn.FileIter(train_data_path,train_idx_path,batch_size=BATCH_SIZE,do_augment=True,mean_image=0,std_image = 1)\n",
        "    train_iter.reset()\n",
        "    x_var = np.zeros((32,32,32))\n",
        "    for i,batch in enumerate(train_iter):\n",
        "        X =  (batch.data[0][0][0].asnumpy()-x_mean)**2\n",
        "        x_var+=X\n",
        "    #x_var=x_var/(i-1)\n",
        "    #x_var#x_mean=.2815\n",
        "    N = i*32*32*32\n",
        "    x_var = np.sum(x_var)/(N-1)\n",
        "    x_var#x_var = .07877\n",
        "    x_std = np.sqrt(x_var)#x_std=.2807\n",
        "    with open(interm_dir4+'x_std.pkl', 'wb') as f:  # Python 3: open(..., 'wb')\n",
        "        pickle.dump([x_std], f)\n",
        "else:\n",
        "    with open(interm_dir4+'x_std.pkl','rb') as f:  # Python 3: open(..., 'rb')\n",
        "        x_std = pickle.load(f)\n",
        "x_std#x_std=0.2817920662435274"
      ],
      "execution_count": 0,
      "outputs": [
        {
          "output_type": "execute_result",
          "data": {
            "text/plain": [
              "[0.2817920662435274]"
            ]
          },
          "metadata": {
            "tags": []
          },
          "execution_count": 37
        }
      ]
    },
    {
      "metadata": {
        "scrolled": true,
        "id": "yXzLyS3Lj3To",
        "colab_type": "code",
        "colab": {}
      },
      "cell_type": "code",
      "source": [
        "x_std = 0.28"
      ],
      "execution_count": 0,
      "outputs": []
    },
    {
      "metadata": {
        "id": "nIpXpHQxj3Tw",
        "colab_type": "text"
      },
      "cell_type": "markdown",
      "source": [
        "## Data Iterator"
      ]
    },
    {
      "metadata": {
        "scrolled": true,
        "id": "cb3ZRqqWj3Ty",
        "colab_type": "code",
        "outputId": "a6e5113b-26ca-4cae-9d3a-67b62e7decb1",
        "colab": {
          "base_uri": "https://localhost:8080/",
          "height": 87
        }
      },
      "cell_type": "code",
      "source": [
        "BATCH_SIZE=bs\n",
        "train_iter=FileIter(train_data_path,train_idx_path,batch_size=BATCH_SIZE,random_flip=True,random_rot=True,do_augment=True,mean_image=x_mean,std_image = x_std,do_shuffle=True)\n",
        "input_shapes = dict(train_iter.provide_data+train_iter.provide_label)\n",
        "print(input_shapes)"
      ],
      "execution_count": 0,
      "outputs": [
        {
          "output_type": "stream",
          "text": [
            "/usr/local/lib/python3.6/dist-packages/mxnet/recordio.py:370: DeprecationWarning: The binary mode of fromstring is deprecated, as it behaves surprisingly on unicode inputs. Use frombuffer instead\n",
            "  header = header._replace(label=np.fromstring(s, np.float32, header.flag))\n"
          ],
          "name": "stderr"
        },
        {
          "output_type": "stream",
          "text": [
            "{'data': (100, 1, 32, 32, 32), 'softmax_label': (100, 32768)}\n"
          ],
          "name": "stdout"
        }
      ]
    },
    {
      "metadata": {
        "scrolled": true,
        "id": "39QY_Ip9j3T8",
        "colab_type": "code",
        "outputId": "91b8bc56-ee77-49de-f048-cc45ad9ef56a",
        "colab": {
          "base_uri": "https://localhost:8080/",
          "height": 70
        }
      },
      "cell_type": "code",
      "source": [
        "BATCH_SIZE=bs\n",
        "valid_iter=FileIter(valid_data_path,valid_idx_path,batch_size=BATCH_SIZE,do_augment=False,mean_image=x_mean,std_image = x_std,do_shuffle=False)"
      ],
      "execution_count": 0,
      "outputs": [
        {
          "output_type": "stream",
          "text": [
            "/usr/local/lib/python3.6/dist-packages/mxnet/recordio.py:370: DeprecationWarning: The binary mode of fromstring is deprecated, as it behaves surprisingly on unicode inputs. Use frombuffer instead\n",
            "  header = header._replace(label=np.fromstring(s, np.float32, header.flag))\n"
          ],
          "name": "stderr"
        }
      ]
    },
    {
      "metadata": {
        "scrolled": true,
        "id": "EO0l_t4Ej3UC",
        "colab_type": "code",
        "colab": {}
      },
      "cell_type": "code",
      "source": [
        "train_iter.reset()\n",
        "valid_iter.reset()"
      ],
      "execution_count": 0,
      "outputs": []
    },
    {
      "metadata": {
        "id": "MKxlY8J9j3UH",
        "colab_type": "text"
      },
      "cell_type": "markdown",
      "source": [
        "## Evaluation Metric"
      ]
    },
    {
      "metadata": {
        "scrolled": true,
        "id": "LIeANhbqj3UJ",
        "colab_type": "code",
        "colab": {}
      },
      "cell_type": "code",
      "source": [
        "def dice_coef2(label, y):\n",
        "    smooth = 1.\n",
        "    label=mx.nd.array(label).as_in_context(mx.gpu(0))\n",
        "    y=mx.nd.array(y).as_in_context(mx.gpu(0))\n",
        "    intersection = mx.nd.sum(label*y)\n",
        "    return ((2. * intersection + smooth) / (mx.nd.sum(label) +mx.nd.sum(mx.nd.abs(y)) + smooth))\n"
      ],
      "execution_count": 0,
      "outputs": []
    },
    {
      "metadata": {
        "id": "Z7Cb9A9_PP4f",
        "colab_type": "code",
        "colab": {}
      },
      "cell_type": "code",
      "source": [
        "def logloss2(label, y,w=[.9,.1]):\n",
        "    smooth = 1.\n",
        "    label=mx.nd.array(label).as_in_context(mx.gpu(0))\n",
        "    y=mx.nd.array(y).as_in_context(mx.gpu(0))\n",
        "    eps=1e-12\n",
        "    return mx.nd.mean(-(w[0]*label*mx.nd.log(y+eps)+w[1]*(1-label)*mx.nd.log(1-y+eps)))"
      ],
      "execution_count": 0,
      "outputs": []
    },
    {
      "metadata": {
        "id": "aVZdy14Zc8V2",
        "colab_type": "code",
        "colab": {}
      },
      "cell_type": "code",
      "source": [
        "# ===============Evaluation metric(s)================= \n",
        "eval_metrics_1 =  mx.metric.CustomMetric(feval=logloss2)\n",
        "eval_metrics_2 = mx.metric.CustomMetric(feval=nn.dice_coef2)\n",
        "metric= mx.metric.CompositeEvalMetric()\n",
        "for child_metric in [eval_metrics_1, eval_metrics_2]:\n",
        "  metric.add(child_metric)"
      ],
      "execution_count": 0,
      "outputs": []
    },
    {
      "metadata": {
        "id": "g9Lb-RuGj3Uc",
        "colab_type": "text"
      },
      "cell_type": "markdown",
      "source": [
        "## Model Architecture"
      ]
    },
    {
      "metadata": {
        "scrolled": true,
        "id": "pt98E9Faj3Uf",
        "colab_type": "code",
        "outputId": "9eb93443-ba83-4de9-dd7d-90b1dd6e825a",
        "colab": {
          "base_uri": "https://localhost:8080/",
          "height": 34
        }
      },
      "cell_type": "code",
      "source": [
        "load_model"
      ],
      "execution_count": 0,
      "outputs": [
        {
          "output_type": "execute_result",
          "data": {
            "text/plain": [
              "True"
            ]
          },
          "metadata": {
            "tags": []
          },
          "execution_count": 45
        }
      ]
    },
    {
      "metadata": {
        "scrolled": true,
        "id": "mTiJEEydj3Uy",
        "colab_type": "code",
        "colab": {}
      },
      "cell_type": "code",
      "source": [
        "if load_model:\n",
        "    network, arg_params, aux_params = mx.model.load_checkpoint(model_path+prefix , model_epoch)\n",
        "\n",
        "    # Binding\n",
        "    exe = network.simple_bind(ctx=mx.gpu(0), **input_shapes)\n",
        "\n",
        "\n",
        "    exe.copy_params_from(arg_params, aux_params)\n",
        "    \n",
        "    # get handle to input arrays\n",
        "    arg_arrays = dict(zip(network.list_arguments(), exe.arg_arrays))\n",
        "    data = arg_arrays[train_iter.provide_data[0][0]]\n",
        "    label = arg_arrays[train_iter.provide_label[0][0]]\n",
        "else:\n",
        "\n",
        "    network = nn.get_net_319()\n",
        "    init = mx.init.Normal(0.01) #note biases and gamma/beta are not affected\n",
        "\n",
        "    # Binding\n",
        "    exe = network.simple_bind(ctx=mx.gpu(), **input_shapes)\n",
        "    # get handle to input arrays\n",
        "    arg_arrays = dict(zip(network.list_arguments(), exe.arg_arrays))\n",
        "    data = arg_arrays[train_iter.provide_data[0][0]]\n",
        "    label = arg_arrays[train_iter.provide_label[0][0]]\n",
        "    for name, arr in arg_arrays.items():\n",
        "        if name not in input_shapes:\n",
        "            init(name, arr)\n"
      ],
      "execution_count": 0,
      "outputs": []
    },
    {
      "metadata": {
        "id": "aiWYX4iBG4ZE",
        "colab_type": "code",
        "colab": {}
      },
      "cell_type": "code",
      "source": [
        "epoch=0\n",
        "arg={k:v for k, v in arg_arrays.items() if k not in input_shapes}\n",
        "aux = dict(zip(network.list_auxiliary_states(), exe.aux_arrays))\n",
        "mx.model.save_checkpoint(model_path+prefix, epoch, network, arg, aux)"
      ],
      "execution_count": 0,
      "outputs": []
    },
    {
      "metadata": {
        "colab_type": "text",
        "id": "p36aWzqzbH75"
      },
      "cell_type": "markdown",
      "source": [
        "# Nodule Segmentation: Model"
      ]
    },
    {
      "metadata": {
        "id": "_VAcRTIBj3VB",
        "colab_type": "text"
      },
      "cell_type": "markdown",
      "source": [
        "## Optimizer"
      ]
    },
    {
      "metadata": {
        "id": "aw1eUaNVj3VJ",
        "colab_type": "text"
      },
      "cell_type": "markdown",
      "source": [
        "### Find  learning rate"
      ]
    },
    {
      "metadata": {
        "id": "17MM3ZvwYbBV",
        "colab_type": "code",
        "outputId": "849dfaf3-5c68-4c18-abf2-34fc9526d6e3",
        "colab": {
          "base_uri": "https://localhost:8080/",
          "height": 104
        }
      },
      "cell_type": "code",
      "source": [
        "find_learning_rate = True\n",
        "b=.5\n",
        "a=.01\n",
        "\n",
        "nb=train_iter.num_data//train_iter.batch_size\n",
        "\n",
        "if find_learning_rate:\n",
        "\n",
        "  lrs = []\n",
        "  loss = []\n",
        "  \n",
        "  sched=nn.lr_find(a,nb,end_lr=b)\n",
        "  # We also need to create an optimizer for updating weights\n",
        "  opt = mx.optimizer.SGD(\n",
        "      learning_rate=a,\n",
        "      momentum=0.9,\n",
        "      wd=0.00001,\n",
        "      lr_scheduler=sched)\n",
        "\n",
        "  updater = mx.optimizer.get_updater(opt)\n",
        "  for epoch in range(0,1):\n",
        "\n",
        "      start = time.time()\n",
        "\n",
        "      metric.reset()\n",
        "\n",
        "      train_iter.reset()\n",
        "\n",
        "      valid_iter.reset()\n",
        "\n",
        "      sched.reset()\n",
        "\n",
        "      sched.on_train_begin()\n",
        "\n",
        "\n",
        "      for batch in train_iter:\n",
        "          # Copy data to executor input. Note the [:].\n",
        "          data[:] = batch.data[0]\n",
        "          label[:] = batch.label[0]\n",
        "\n",
        "          # Forward\n",
        "          outputs=exe.forward(is_train=True)\n",
        "          # Backward\n",
        "          exe.backward()\n",
        "\n",
        "          # Update\n",
        "          for i, pair in enumerate(zip(exe.arg_arrays, exe.grad_arrays)):\n",
        "              weight, grad = pair\n",
        "              updater(i, grad, weight)   \n",
        "          #metric.update(batch.label[0], exe.outputs[0])#\n",
        "          metric.update(batch.label[0], exe.outputs[0])\n",
        "\n",
        "          e=metric.get()\n",
        "          e = dict(zip(e[0], e[1]))\n",
        "  \n",
        "          err_train=-e['dice_coef2'].asnumpy()[0]\n",
        "          sched.on_batch_end(err_train)\n",
        "\n",
        "      if epoch % 100== 0:       \n",
        "          #print(\"do_checkpoint\")\n",
        "          arg={k:v for k, v in arg_arrays.items() if k not in input_shapes}\n",
        "          aux = dict(zip(network.list_auxiliary_states(), exe.aux_arrays))\n",
        "          mx.model.save_checkpoint(prefix, epoch, network, arg, aux)\n",
        "\n",
        "\n",
        "      #compute valid loss per epoch    \n",
        "      metric.reset()\n",
        "      for batch in valid_iter:        \n",
        "          data[:] = batch.data[0]       \n",
        "          label[:] = batch.label[0]\n",
        "          # predict\n",
        "          outputs = exe.forward(is_train=False)\n",
        "          metric.update(batch.label[0], exe.outputs[0])\n",
        "      e0=metric.get()\n",
        "      e = dict(zip(e0[0], e0[1]))\n",
        "      err_valid=-e['dice_coef2'].asnumpy()[0]\n",
        "      end = time.time()\n",
        "      print('time:',end-start,'Epoch:',epoch,'trainloss:',err_train,'validloss:',err_valid,'CE',outputs[1].asnumpy())\n",
        "      for x,y in zip(e0[0],e0[1]):\n",
        "        print(x,y[0].asnumpy()[0], end=\", \", flush=True)\n",
        "  lrs.extend(sched.lrs)\n",
        "  loss.extend(sched.losses)\n",
        "\n"
      ],
      "execution_count": 87,
      "outputs": [
        {
          "output_type": "stream",
          "text": [
            "/usr/local/lib/python3.6/dist-packages/mxnet/recordio.py:370: DeprecationWarning: The binary mode of fromstring is deprecated, as it behaves surprisingly on unicode inputs. Use frombuffer instead\n",
            "  header = header._replace(label=np.fromstring(s, np.float32, header.flag))\n"
          ],
          "name": "stderr"
        },
        {
          "output_type": "stream",
          "text": [
            "time: 124.92257809638977 Epoch: 0 trainloss: -0.6784825 validloss: -0.59483886 CE [-0.57638866]\n",
            "logloss2 0.3697827, dice_coef2 0.59483886, "
          ],
          "name": "stdout"
        }
      ]
    },
    {
      "metadata": {
        "id": "G8PveIwFyrOs",
        "colab_type": "code",
        "outputId": "ba527dda-7fcf-406e-b62e-61a8acd19d5d",
        "colab": {
          "base_uri": "https://localhost:8080/",
          "height": 364
        }
      },
      "cell_type": "code",
      "source": [
        "plt.figure()\n",
        "plt.plot(lrs, loss,'*-')"
      ],
      "execution_count": 88,
      "outputs": [
        {
          "output_type": "execute_result",
          "data": {
            "text/plain": [
              "[<matplotlib.lines.Line2D at 0x7ff45126e5f8>]"
            ]
          },
          "metadata": {
            "tags": []
          },
          "execution_count": 88
        },
        {
          "output_type": "display_data",
          "data": {
            "image/png": "[encoded data removed]",
            "text/plain": [
              "<matplotlib.figure.Figure at 0x7ff45124f898>"
            ]
          },
          "metadata": {
            "tags": []
          }
        }
      ]
    },
    {
      "metadata": {
        "id": "1-w5Z85n15Nz",
        "colab_type": "code",
        "colab": {}
      },
      "cell_type": "code",
      "source": [
        "network, arg_params, aux_params = mx.model.load_checkpoint(model_path+prefix , 31)\n",
        "exe.copy_params_from(arg_params, aux_params)"
      ],
      "execution_count": 0,
      "outputs": []
    },
    {
      "metadata": {
        "id": "UbwF-vYiEBKJ",
        "colab_type": "code",
        "outputId": "e30178cb-52cd-463a-ced5-7afb8c0d7866",
        "colab": {
          "base_uri": "https://localhost:8080/",
          "height": 185
        }
      },
      "cell_type": "code",
      "source": [
        "lrs[:10]"
      ],
      "execution_count": 80,
      "outputs": [
        {
          "output_type": "execute_result",
          "data": {
            "text/plain": [
              "[0.019230769230769232,\n",
              " 0.038461538461538464,\n",
              " 0.057692307692307696,\n",
              " 0.07692307692307693,\n",
              " 0.09615384615384615,\n",
              " 0.11538461538461539,\n",
              " 0.1346153846153846,\n",
              " 0.15384615384615385,\n",
              " 0.17307692307692307,\n",
              " 0.1923076923076923]"
            ]
          },
          "metadata": {
            "tags": []
          },
          "execution_count": 80
        }
      ]
    },
    {
      "metadata": {
        "id": "ScwvyY2Hj3WA",
        "colab_type": "text"
      },
      "cell_type": "markdown",
      "source": [
        "### Optimizer Parameters"
      ]
    },
    {
      "metadata": {
        "id": "QQMspdjFl1eQ",
        "colab_type": "code",
        "colab": {}
      },
      "cell_type": "code",
      "source": [
        "#logfile = model_path+\"errorlogmodel8.csv\"\n",
        "logfile = \"errorlogmodel10.csv\""
      ],
      "execution_count": 0,
      "outputs": []
    },
    {
      "metadata": {
        "id": "5B2wpqFMzz-C",
        "colab_type": "code",
        "outputId": "fbe95726-d4bc-486c-ed02-aadab70ae275",
        "colab": {
          "base_uri": "https://localhost:8080/",
          "height": 34
        }
      },
      "cell_type": "code",
      "source": [
        "import os\n",
        "exists = os.path.isfile(logfile)\n",
        "exists"
      ],
      "execution_count": 0,
      "outputs": [
        {
          "output_type": "execute_result",
          "data": {
            "text/plain": [
              "False"
            ]
          },
          "metadata": {
            "tags": []
          },
          "execution_count": 53
        }
      ]
    },
    {
      "metadata": {
        "id": "YmQgF9RBteXo",
        "colab_type": "code",
        "colab": {}
      },
      "cell_type": "code",
      "source": [
        "#exists = False"
      ],
      "execution_count": 0,
      "outputs": []
    },
    {
      "metadata": {
        "id": "3KrV7AO1i62v",
        "colab_type": "code",
        "colab": {}
      },
      "cell_type": "code",
      "source": [
        "\n",
        "col_names = ['epoch',\n",
        "             'lr',\n",
        "             'loss',\n",
        "             'E1train',\n",
        "             'E1valid',\n",
        "             'E2train',\n",
        "             'E2valid']\n",
        "df = pd.DataFrame(columns=col_names)\n",
        "\n",
        "if not exists:\n",
        "  df.to_csv(logfile)"
      ],
      "execution_count": 0,
      "outputs": []
    },
    {
      "metadata": {
        "id": "eMbv0lVruIIK",
        "colab_type": "code",
        "outputId": "99110baa-a7ad-42e4-a79b-0342ca2a8b67",
        "colab": {
          "base_uri": "https://localhost:8080/",
          "height": 47
        }
      },
      "cell_type": "code",
      "source": [
        "df = pd.read_csv(logfile, index_col=0)\n",
        "df.head()"
      ],
      "execution_count": 0,
      "outputs": [
        {
          "output_type": "execute_result",
          "data": {
            "text/html": [
              "<div>\n",
              "<style scoped>\n",
              "    .dataframe tbody tr th:only-of-type {\n",
              "        vertical-align: middle;\n",
              "    }\n",
              "\n",
              "    .dataframe tbody tr th {\n",
              "        vertical-align: top;\n",
              "    }\n",
              "\n",
              "    .dataframe thead th {\n",
              "        text-align: right;\n",
              "    }\n",
              "</style>\n",
              "<table border=\"1\" class=\"dataframe\">\n",
              "  <thead>\n",
              "    <tr style=\"text-align: right;\">\n",
              "      <th></th>\n",
              "      <th>epoch</th>\n",
              "      <th>lr</th>\n",
              "      <th>loss</th>\n",
              "      <th>E1train</th>\n",
              "      <th>E1valid</th>\n",
              "      <th>E2train</th>\n",
              "      <th>E2valid</th>\n",
              "    </tr>\n",
              "  </thead>\n",
              "  <tbody>\n",
              "  </tbody>\n",
              "</table>\n",
              "</div>"
            ],
            "text/plain": [
              "Empty DataFrame\n",
              "Columns: [epoch, lr, loss, E1train, E1valid, E2train, E2valid]\n",
              "Index: []"
            ]
          },
          "metadata": {
            "tags": []
          },
          "execution_count": 56
        }
      ]
    },
    {
      "metadata": {
        "id": "a8AWu5Ia0euI",
        "colab_type": "code",
        "colab": {}
      },
      "cell_type": "code",
      "source": [
        "import copy\n",
        "#import math\n",
        "\n",
        "\n",
        "def plot_schedule(schedule_fn, iterations=1500):\n",
        "    # Iteration count starting at 1\n",
        "    iterations = [i+1 for i in range(iterations)]\n",
        "    lrs = [schedule_fn(i) for i in iterations]\n",
        "    plt.scatter(iterations, lrs)\n",
        "    plt.xlabel(\"Iteration\")\n",
        "    plt.ylabel(\"Learning Rate\")\n",
        "    plt.show()\n",
        "\n",
        "class CosineAnnealingSchedule():\n",
        "    def __init__(self, min_lr, max_lr, cycle_length):\n",
        "        \"\"\"\n",
        "        min_lr: lower bound for learning rate (float)\n",
        "        max_lr: upper bound for learning rate (float)\n",
        "        cycle_length: iterations between start and finish (int)\n",
        "        \"\"\"\n",
        "        self.min_lr = min_lr\n",
        "        self.max_lr = max_lr\n",
        "        self.cycle_length = cycle_length\n",
        "        \n",
        "    def __call__(self, iteration):\n",
        "        if iteration <= self.cycle_length:\n",
        "            unit_cycle = (1 + math.cos(iteration * math.pi / self.cycle_length)) / 2\n",
        "            adjusted_cycle = (unit_cycle * (self.max_lr - self.min_lr)) + self.min_lr\n",
        "            return adjusted_cycle\n",
        "        else:\n",
        "            return self.min_lr\n",
        "          \n",
        "    \n",
        "    \n",
        "class TriangularSchedule():\n",
        "    def __init__(self, min_lr, max_lr, cycle_length, inc_fraction=0.5):     \n",
        "        \"\"\"\n",
        "        min_lr: lower bound for learning rate (float)\n",
        "        max_lr: upper bound for learning rate (float)\n",
        "        cycle_length: iterations between start and finish (int)\n",
        "        inc_fraction: fraction of iterations spent in increasing stage (float)\n",
        "        \"\"\"\n",
        "        self.min_lr = min_lr\n",
        "        self.max_lr = max_lr\n",
        "        self.cycle_length = cycle_length\n",
        "        self.inc_fraction = inc_fraction\n",
        "        \n",
        "    def __call__(self, iteration):\n",
        "        if iteration <= self.cycle_length*self.inc_fraction:\n",
        "            unit_cycle = iteration * 1 / (self.cycle_length * self.inc_fraction)\n",
        "        elif iteration <= self.cycle_length:\n",
        "            unit_cycle = (self.cycle_length - iteration) * 1 / (self.cycle_length * (1 - self.inc_fraction))\n",
        "        else:\n",
        "            unit_cycle = 0\n",
        "        adjusted_cycle = (unit_cycle * (self.max_lr - self.min_lr)) + self.min_lr\n",
        "        return adjusted_cycle\n",
        "\n",
        "class CyclicalSchedule():\n",
        "    def __init__(self, schedule_class, cycle_length, cycle_length_decay=1, cycle_magnitude_decay=1, **kwargs):\n",
        "        \"\"\"\n",
        "        schedule_class: class of schedule, expected to take `cycle_length` argument\n",
        "        cycle_length: iterations used for initial cycle (int)\n",
        "        cycle_length_decay: factor multiplied to cycle_length each cycle (float)\n",
        "        cycle_magnitude_decay: factor multiplied learning rate magnitudes each cycle (float)\n",
        "        kwargs: passed to the schedule_class\n",
        "        \"\"\"\n",
        "        self.schedule_class = schedule_class\n",
        "        self.length = cycle_length\n",
        "        self.length_decay = cycle_length_decay\n",
        "        self.magnitude_decay = cycle_magnitude_decay\n",
        "        self.kwargs = kwargs\n",
        "    \n",
        "    def __call__(self, iteration):\n",
        "        cycle_idx = 0\n",
        "        cycle_length = self.length\n",
        "        idx = self.length\n",
        "        while idx <= iteration:\n",
        "            cycle_length = math.ceil(cycle_length * self.length_decay)\n",
        "            cycle_idx += 1\n",
        "            idx += cycle_length\n",
        "        cycle_offset = iteration - idx + cycle_length\n",
        "        \n",
        "        schedule = self.schedule_class(cycle_length=cycle_length-6, **self.kwargs)\n",
        "        return schedule(cycle_offset) * self.magnitude_decay**cycle_idx"
      ],
      "execution_count": 0,
      "outputs": []
    },
    {
      "metadata": {
        "id": "HrdKZPyR6acE",
        "colab_type": "code",
        "colab": {}
      },
      "cell_type": "code",
      "source": [
        "epochs = 50\n",
        "lr =.1#0.075#.01#.3#.02#.15#.34#.2#.01#.002"
      ],
      "execution_count": 0,
      "outputs": []
    },
    {
      "metadata": {
        "id": "CZR4pWdZ0J7V",
        "colab_type": "code",
        "outputId": "28420f60-47b7-4399-95bd-9cfc256b1c96",
        "colab": {
          "base_uri": "https://localhost:8080/",
          "height": 361
        }
      },
      "cell_type": "code",
      "source": [
        "schedule = CyclicalSchedule(TriangularSchedule, min_lr=lr/10, max_lr=lr,\n",
        "                            cycle_length=27, cycle_length_decay=1, cycle_magnitude_decay=1)\n",
        "plot_schedule(schedule,iterations=200)"
      ],
      "execution_count": 82,
      "outputs": [
        {
          "output_type": "display_data",
          "data": {
            "image/png": "[encoded data removed]",
            "text/plain": [
              "<matplotlib.figure.Figure at 0x7ff43dbd0198>"
            ]
          },
          "metadata": {
            "tags": []
          }
        }
      ]
    },
    {
      "metadata": {
        "id": "I2EXT_W9Wz3y",
        "colab_type": "code",
        "colab": {}
      },
      "cell_type": "code",
      "source": [
        "m1=.85\n",
        "m2=.95\n",
        "\n",
        "# We also need to create an optimizer for updating weights\n",
        "# ===============Optimizer=================                        \n",
        "opt = mx.optimizer.SGD(\n",
        "    learning_rate=lr,momentum=m1,wd=0.00001)\n",
        "\n",
        "updater = mx.optimizer.get_updater(opt)\n",
        "\n",
        "updater.optimizer.lr_scheduler=schedule"
      ],
      "execution_count": 0,
      "outputs": []
    },
    {
      "metadata": {
        "id": "4kTljGINPUpz",
        "colab_type": "code",
        "colab": {}
      },
      "cell_type": "code",
      "source": [
        "#now = 0\n",
        "#prefix = \"jan09\"\n",
        "#err_validold = -.619"
      ],
      "execution_count": 0,
      "outputs": []
    },
    {
      "metadata": {
        "id": "c7EogiUVnm1X",
        "colab_type": "code",
        "outputId": "e938b0cc-97ac-4437-9da9-0f7bfbd435cc",
        "colab": {
          "base_uri": "https://localhost:8080/",
          "height": 894
        }
      },
      "cell_type": "code",
      "source": [
        "lrs=[]\n",
        "ms=[]\n",
        "lrold=-1\n",
        "epoch_r  =now\n",
        "epoch_r\n",
        "Es_train=[]\n",
        "Es_valid=[]\n",
        "for epoch in range(epoch_r+1,epoch_r+epochs):\n",
        "\n",
        "    start = time.time()\n",
        "\n",
        "    metric.reset()\n",
        "\n",
        "    train_iter.reset()\n",
        "    \n",
        "    valid_iter.reset()\n",
        "    \n",
        "\n",
        "    for batch in train_iter:\n",
        "        # Copy data to executor input. Note the [:].\n",
        "        data[:] = batch.data[0]\n",
        "        label[:] = batch.label[0]\n",
        "\n",
        "        # Forward\n",
        "        outputs=exe.forward(is_train=True)\n",
        "        Es_train.append(outputs[1].asnumpy()[0])\n",
        "        # Backward\n",
        "        exe.backward()\n",
        "\n",
        "        # Update\n",
        "        for i, pair in enumerate(zip(exe.arg_arrays, exe.grad_arrays)):\n",
        "            weight, grad = pair\n",
        "            updater(i, grad, weight)   \n",
        "        metric.update(batch.label[0], exe.outputs[0])#metric.update(label,p)\n",
        "        if (opt.learning_rate-lrold)<0:\n",
        "          opt.momentum=m2\n",
        "          lrold = opt.learning_rate\n",
        "        else: \n",
        "          opt.momentum=m1\n",
        "          lrold=opt.learning_rate\n",
        "        lrs.append(opt.learning_rate)\n",
        "        ms.append(opt.momentum)\n",
        "    e=metric.get()\n",
        "    ed={}\n",
        "    e_key,e_val = e\n",
        "    for k,v in zip(e_key,e_val):\n",
        "      ed[k]=v.asnumpy()[0]\n",
        "    err_train=-ed['dice_coef2']\n",
        "    err_train2=ed['logloss2']\n",
        "    \n",
        "    loss = outputs[1].asnumpy()[0] \n",
        "    \n",
        "    if epoch % 5== 0:       \n",
        "        #print(\"do_checkpoint\")\n",
        "        arg={k:v for k, v in arg_arrays.items() if k not in input_shapes}\n",
        "        aux = dict(zip(network.list_auxiliary_states(), exe.aux_arrays))\n",
        "        mx.model.save_checkpoint(model_path+prefix, epoch, network, arg, aux)\n",
        "        \n",
        "        \n",
        "    #compute valid loss per epoch    \n",
        "    metric.reset()\n",
        "    for batch in valid_iter:        \n",
        "        data[:] = batch.data[0]       \n",
        "        label[:] = batch.label[0]\n",
        "        # predict\n",
        "        outputs = exe.forward(is_train=False)\n",
        "        Es_valid.append(outputs[1].asnumpy()[0])\n",
        "        metric.update(batch.label[0], exe.outputs[0])\n",
        "    e=metric.get()\n",
        "    ed={}\n",
        "    e_key,e_val = e\n",
        "    for k,v in zip(e_key,e_val):\n",
        "      ed[k]=v.asnumpy()[0]\n",
        "    err_valid=-ed['dice_coef2']\n",
        "    err_valid2=ed['logloss2']\n",
        "    \n",
        "    if err_valid<err_validold:       \n",
        "      #print(\"do_checkpoint\")\n",
        "      arg={k:v for k, v in arg_arrays.items() if k not in input_shapes}\n",
        "      aux = dict(zip(network.list_auxiliary_states(), exe.aux_arrays))\n",
        "      mx.model.save_checkpoint(model_path+prefix+'bst'+str(err_validold), epoch, network, arg, aux)\n",
        "      err_validold = err_valid\n",
        "\n",
        "    end = time.time()\n",
        "    print('time:',end-start,'Epoch:',epoch,\"loss\",loss,'trainloss:',err_train,'validloss:',err_valid,'trainloss2:',err_train2,'validloss2:',err_valid2)\n",
        "    myCsvRow = [(epoch,opt.learning_rate,loss,err_train,err_valid,err_train2,err_valid2)]\n",
        "    df = pd.DataFrame.from_records(myCsvRow,columns = col_names)\n",
        "    df.to_csv(logfile, mode='a', header=False)\n",
        "now=epoch\n",
        "mx.model.save_checkpoint(model_path+prefix, epoch, network, arg, aux)\n"
      ],
      "execution_count": 85,
      "outputs": [
        {
          "output_type": "stream",
          "text": [
            "/usr/local/lib/python3.6/dist-packages/mxnet/recordio.py:370: DeprecationWarning: The binary mode of fromstring is deprecated, as it behaves surprisingly on unicode inputs. Use frombuffer instead\n",
            "  header = header._replace(label=np.fromstring(s, np.float32, header.flag))\n"
          ],
          "name": "stderr"
        },
        {
          "output_type": "stream",
          "text": [
            "time: 114.07166814804077 Epoch: 50 loss -0.7679307 trainloss: -0.67804986 validloss: -0.598286 trainloss2: 0.14769593 validloss2: 0.28157413\n",
            "time: 114.09514570236206 Epoch: 51 loss -0.8112228 trainloss: -0.67538273 validloss: -0.59607595 trainloss2: 0.14861445 validloss2: 0.25621057\n",
            "time: 114.1238055229187 Epoch: 52 loss -0.8035236 trainloss: -0.673876 validloss: -0.6077249 trainloss2: 0.14826542 validloss2: 0.26836187\n",
            "time: 114.12525200843811 Epoch: 53 loss -0.7819026 trainloss: -0.67456365 validloss: -0.58420676 trainloss2: 0.14416733 validloss2: 0.26492414\n",
            "time: 114.15850305557251 Epoch: 54 loss -0.780983 trainloss: -0.668331 validloss: -0.61250865 trainloss2: 0.146452 validloss2: 0.26215968\n",
            "time: 114.21950650215149 Epoch: 55 loss -0.788181 trainloss: -0.6753125 validloss: -0.6150227 trainloss2: 0.1516778 validloss2: 0.2846659\n",
            "time: 114.09491419792175 Epoch: 56 loss -0.798975 trainloss: -0.6738577 validloss: -0.61408454 trainloss2: 0.15691169 validloss2: 0.287129\n",
            "time: 114.10410737991333 Epoch: 57 loss -0.80134106 trainloss: -0.68090004 validloss: -0.6260275 trainloss2: 0.15243313 validloss2: 0.2667545\n",
            "time: 114.15862822532654 Epoch: 58 loss -0.82457715 trainloss: -0.68032986 validloss: -0.61286443 trainloss2: 0.14863971 validloss2: 0.30319753\n",
            "time: 114.14822721481323 Epoch: 59 loss -0.8082946 trainloss: -0.679329 validloss: -0.62018913 trainloss2: 0.1482418 validloss2: 0.27315256\n",
            "time: 114.27387309074402 Epoch: 60 loss -0.7826849 trainloss: -0.6770644 validloss: -0.62029195 trainloss2: 0.15434882 validloss2: 0.26872638\n",
            "time: 114.15343236923218 Epoch: 61 loss -0.8202494 trainloss: -0.67824316 validloss: -0.61449736 trainloss2: 0.14258009 validloss2: 0.2758686\n",
            "time: 114.19538617134094 Epoch: 62 loss -0.78626263 trainloss: -0.67795146 validloss: -0.6149256 trainloss2: 0.1471633 validloss2: 0.27080074\n",
            "time: 114.19361162185669 Epoch: 63 loss -0.80911916 trainloss: -0.66854763 validloss: -0.59730935 trainloss2: 0.14842238 validloss2: 0.28746527\n",
            "time: 114.08464550971985 Epoch: 64 loss -0.8054222 trainloss: -0.67218035 validloss: -0.6071302 trainloss2: 0.14711665 validloss2: 0.28386396\n",
            "time: 114.29054498672485 Epoch: 65 loss -0.7616618 trainloss: -0.6811507 validloss: -0.62348825 trainloss2: 0.14226687 validloss2: 0.25725457\n",
            "time: 114.12086343765259 Epoch: 66 loss -0.79983723 trainloss: -0.66622233 validloss: -0.61362976 trainloss2: 0.13771857 validloss2: 0.27134395\n",
            "time: 114.10695719718933 Epoch: 67 loss -0.8040923 trainloss: -0.67466223 validloss: -0.61865205 trainloss2: 0.14858867 validloss2: 0.28166535\n",
            "time: 114.00102615356445 Epoch: 68 loss -0.8010536 trainloss: -0.6816666 validloss: -0.61160773 trainloss2: 0.14330171 validloss2: 0.27084756\n",
            "time: 114.09542036056519 Epoch: 69 loss -0.8271377 trainloss: -0.6699202 validloss: -0.6096422 trainloss2: 0.15649307 validloss2: 0.2686101\n",
            "time: 114.17187404632568 Epoch: 70 loss -0.8088255 trainloss: -0.67870945 validloss: -0.62443405 trainloss2: 0.14289726 validloss2: 0.27748334\n",
            "time: 114.07220363616943 Epoch: 71 loss -0.79404354 trainloss: -0.67780703 validloss: -0.620352 trainloss2: 0.15285134 validloss2: 0.26810342\n",
            "time: 114.12237906455994 Epoch: 72 loss -0.81677896 trainloss: -0.6760538 validloss: -0.60684973 trainloss2: 0.15357894 validloss2: 0.2695576\n",
            "time: 114.08358526229858 Epoch: 73 loss -0.8126241 trainloss: -0.6806812 validloss: -0.61478406 trainloss2: 0.14830697 validloss2: 0.28953105\n",
            "time: 114.27685141563416 Epoch: 74 loss -0.7925669 trainloss: -0.67785615 validloss: -0.61158365 trainloss2: 0.15244672 validloss2: 0.27339402\n",
            "time: 114.63137650489807 Epoch: 75 loss -0.79619294 trainloss: -0.6802068 validloss: -0.6130104 trainloss2: 0.15830489 validloss2: 0.31310204\n",
            "time: 115.41911101341248 Epoch: 76 loss -0.77723014 trainloss: -0.66977566 validloss: -0.60239446 trainloss2: 0.1596231 validloss2: 0.29236877\n",
            "time: 114.90970396995544 Epoch: 77 loss -0.80306906 trainloss: -0.6801358 validloss: -0.62509805 trainloss2: 0.15678267 validloss2: 0.2635262\n",
            "time: 115.39775228500366 Epoch: 78 loss -0.77818763 trainloss: -0.6739811 validloss: -0.61488676 trainloss2: 0.15012097 validloss2: 0.25987443\n",
            "time: 115.27241945266724 Epoch: 79 loss -0.7626835 trainloss: -0.6682578 validloss: -0.560061 trainloss2: 0.14883833 validloss2: 0.26405087\n",
            "time: 114.59249496459961 Epoch: 80 loss -0.77549404 trainloss: -0.66257334 validloss: -0.61839575 trainloss2: 0.14714901 validloss2: 0.27596968\n",
            "time: 114.20374345779419 Epoch: 81 loss -0.7883439 trainloss: -0.68116623 validloss: -0.5714042 trainloss2: 0.15139492 validloss2: 0.3129065\n",
            "time: 114.21826481819153 Epoch: 82 loss -0.7952177 trainloss: -0.6717804 validloss: -0.6063209 trainloss2: 0.15309964 validloss2: 0.28641662\n",
            "time: 114.11669301986694 Epoch: 83 loss -0.8182246 trainloss: -0.6772341 validloss: -0.62013596 trainloss2: 0.14832565 validloss2: 0.2600199\n",
            "time: 114.26161050796509 Epoch: 84 loss -0.7827726 trainloss: -0.6783886 validloss: -0.6052977 trainloss2: 0.1566235 validloss2: 0.30415967\n",
            "time: 114.42678689956665 Epoch: 85 loss -0.811342 trainloss: -0.6788166 validloss: -0.62053525 trainloss2: 0.15397422 validloss2: 0.25539815\n",
            "time: 114.36413502693176 Epoch: 86 loss -0.8100727 trainloss: -0.6759998 validloss: -0.6193569 trainloss2: 0.14402649 validloss2: 0.2859511\n",
            "time: 114.46368312835693 Epoch: 87 loss -0.7969847 trainloss: -0.67547154 validloss: -0.6133323 trainloss2: 0.15549569 validloss2: 0.2757353\n",
            "time: 114.29384350776672 Epoch: 88 loss -0.7838511 trainloss: -0.6791363 validloss: -0.6258973 trainloss2: 0.14463621 validloss2: 0.26472\n",
            "time: 114.27744722366333 Epoch: 89 loss -0.7932447 trainloss: -0.67876464 validloss: -0.59775835 trainloss2: 0.15213968 validloss2: 0.29665437\n",
            "time: 114.09304237365723 Epoch: 90 loss -0.8173638 trainloss: -0.6796686 validloss: -0.61764014 trainloss2: 0.14902729 validloss2: 0.28891152\n",
            "time: 114.26600885391235 Epoch: 91 loss -0.7709388 trainloss: -0.67806906 validloss: -0.6200889 trainloss2: 0.1480132 validloss2: 0.26492125\n",
            "time: 114.0485110282898 Epoch: 92 loss -0.82384545 trainloss: -0.6741599 validloss: -0.61532474 trainloss2: 0.14586842 validloss2: 0.27714953\n",
            "time: 114.21316862106323 Epoch: 93 loss -0.77892214 trainloss: -0.6777848 validloss: -0.61442745 trainloss2: 0.14091258 validloss2: 0.27678838\n",
            "time: 114.27234673500061 Epoch: 94 loss -0.8134944 trainloss: -0.6733844 validloss: -0.6085864 trainloss2: 0.1393915 validloss2: 0.28888133\n",
            "time: 114.23786187171936 Epoch: 95 loss -0.8347533 trainloss: -0.68290776 validloss: -0.6128264 trainloss2: 0.14430831 validloss2: 0.28912276\n",
            "time: 114.33352756500244 Epoch: 96 loss -0.82130873 trainloss: -0.6857518 validloss: -0.6150193 trainloss2: 0.14369498 validloss2: 0.26804113\n",
            "time: 114.16154456138611 Epoch: 97 loss -0.80756575 trainloss: -0.6802071 validloss: -0.6088856 trainloss2: 0.15318085 validloss2: 0.27693126\n",
            "time: 114.37270426750183 Epoch: 98 loss -0.7470837 trainloss: -0.67878187 validloss: -0.6102805 trainloss2: 0.14457628 validloss2: 0.26080278\n"
          ],
          "name": "stdout"
        }
      ]
    },
    {
      "metadata": {
        "id": "nBw3WCXgU3zf",
        "colab_type": "code",
        "colab": {}
      },
      "cell_type": "code",
      "source": [
        "\n",
        "plt.figure()\n",
        "plt.plot(lrs)\n",
        "plt.figure()\n",
        "plt.plot(ms)\n"
      ],
      "execution_count": 0,
      "outputs": []
    },
    {
      "metadata": {
        "id": "I91j6ggRGbRL",
        "colab_type": "code",
        "colab": {
          "base_uri": "https://localhost:8080/",
          "height": 34
        },
        "outputId": "68351c5c-87a7-41df-830c-c107ed8c3693"
      },
      "cell_type": "code",
      "source": [
        "err_validold"
      ],
      "execution_count": 86,
      "outputs": [
        {
          "output_type": "execute_result",
          "data": {
            "text/plain": [
              "-0.63084304"
            ]
          },
          "metadata": {
            "tags": []
          },
          "execution_count": 86
        }
      ]
    },
    {
      "metadata": {
        "id": "vJ3smP_DaEag",
        "colab_type": "code",
        "colab": {}
      },
      "cell_type": "code",
      "source": [
        ""
      ],
      "execution_count": 0,
      "outputs": []
    }
  ]
}