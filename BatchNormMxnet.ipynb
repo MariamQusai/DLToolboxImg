{
  "nbformat": 4,
  "nbformat_minor": 0,
  "metadata": {
    "colab": {
      "name": "BatchNormMxnet.ipynb",
      "version": "0.3.2",
      "provenance": [],
      "include_colab_link": true
    },
    "kernelspec": {
      "name": "python3",
      "display_name": "Python 3"
    }
  },
  "cells": [
    {
      "cell_type": "markdown",
      "metadata": {
        "id": "view-in-github",
        "colab_type": "text"
      },
      "source": [
        "[View in Colaboratory](https://colab.research.google.com/github/x110/DLToolboxImg/blob/master/BatchNormMxnet.ipynb)"
      ]
    },
    {
      "metadata": {
        "id": "hWTf7v3brH0n",
        "colab_type": "text"
      },
      "cell_type": "markdown",
      "source": [
        "# BatchNorm Layer in Mxnet"
      ]
    },
    {
      "metadata": {
        "id": "0udOR3aos0Gc",
        "colab_type": "code",
        "outputId": "000ddad9-6880-4694-8857-47bae83c390d",
        "colab": {
          "base_uri": "https://localhost:8080/",
          "height": 245
        }
      },
      "cell_type": "code",
      "source": [
        "!pip install mxnet"
      ],
      "execution_count": 0,
      "outputs": [
        {
          "output_type": "stream",
          "text": [
            "Collecting mxnet\n",
            "\u001b[?25l  Downloading https://files.pythonhosted.org/packages/71/64/49c5125befd5e0f0e17f115d55cb78080adacbead9d19f253afd0157656a/mxnet-1.3.0.post0-py2.py3-none-manylinux1_x86_64.whl (27.7MB)\n",
            "\u001b[K    100% |████████████████████████████████| 27.8MB 1.2MB/s \n",
            "\u001b[?25hRequirement already satisfied: graphviz<0.9.0,>=0.8.1 in /usr/local/lib/python3.6/dist-packages (from mxnet) (0.8.4)\n",
            "Requirement already satisfied: requests<2.19.0,>=2.18.4 in /usr/local/lib/python3.6/dist-packages (from mxnet) (2.18.4)\n",
            "Requirement already satisfied: numpy<1.15.0,>=1.8.2 in /usr/local/lib/python3.6/dist-packages (from mxnet) (1.14.6)\n",
            "Requirement already satisfied: certifi>=2017.4.17 in /usr/local/lib/python3.6/dist-packages (from requests<2.19.0,>=2.18.4->mxnet) (2018.10.15)\n",
            "Requirement already satisfied: urllib3<1.23,>=1.21.1 in /usr/local/lib/python3.6/dist-packages (from requests<2.19.0,>=2.18.4->mxnet) (1.22)\n",
            "Requirement already satisfied: chardet<3.1.0,>=3.0.2 in /usr/local/lib/python3.6/dist-packages (from requests<2.19.0,>=2.18.4->mxnet) (3.0.4)\n",
            "Requirement already satisfied: idna<2.7,>=2.5 in /usr/local/lib/python3.6/dist-packages (from requests<2.19.0,>=2.18.4->mxnet) (2.6)\n",
            "Installing collected packages: mxnet\n",
            "Successfully installed mxnet-1.3.0.post0\n"
          ],
          "name": "stdout"
        }
      ]
    },
    {
      "metadata": {
        "id": "4ynK74jsrF61",
        "colab_type": "code",
        "colab": {}
      },
      "cell_type": "code",
      "source": [
        "import mxnet as mx\n",
        "import numpy as np\n",
        "np.random.seed(313)"
      ],
      "execution_count": 0,
      "outputs": []
    },
    {
      "metadata": {
        "id": "UFCeXRZmrM8U",
        "colab_type": "code",
        "colab": {}
      },
      "cell_type": "code",
      "source": [
        "#generatedata\n",
        "N=10\n",
        "x = np.random.randn(N,1)\n",
        "noise = .25*np.random.randn(N,1)\n",
        "y=3*x+2+noise"
      ],
      "execution_count": 0,
      "outputs": []
    },
    {
      "metadata": {
        "id": "geLR2BmsrLTR",
        "colab_type": "code",
        "outputId": "bb3e2251-c49e-4d15-dc03-96a868cef0bf",
        "colab": {
          "base_uri": "https://localhost:8080/",
          "height": 34
        }
      },
      "cell_type": "code",
      "source": [
        "#define Iterator\n",
        "train_iter = mx.io.NDArrayIter(x, y,batch_size=2)\n",
        "input_shapes = dict(train_iter.provide_data+train_iter.provide_label)\n",
        "print(input_shapes)"
      ],
      "execution_count": 0,
      "outputs": [
        {
          "output_type": "stream",
          "text": [
            "{'data': (2, 1), 'softmax_label': (2, 1)}\n"
          ],
          "name": "stdout"
        }
      ]
    },
    {
      "metadata": {
        "id": "QQ-652Hruuar",
        "colab_type": "code",
        "colab": {}
      },
      "cell_type": "code",
      "source": [
        "#define network\n",
        "source = mx.sym.Variable(\"data\")\n",
        "label = mx.sym.Variable(\"softmax_label\")\n",
        "network = mx.sym.BatchNorm(source)\n",
        "network=mx.sym.LinearRegressionOutput(network,label)"
      ],
      "execution_count": 0,
      "outputs": []
    },
    {
      "metadata": {
        "id": "KUSFeSjkuyVT",
        "colab_type": "code",
        "colab": {}
      },
      "cell_type": "code",
      "source": [
        "exe = network.simple_bind(ctx=mx.cpu(), **input_shapes)"
      ],
      "execution_count": 0,
      "outputs": []
    },
    {
      "metadata": {
        "id": "nMUvpxkEvR6u",
        "colab_type": "code",
        "colab": {}
      },
      "cell_type": "code",
      "source": [
        "arg_arrays = dict(zip(network.list_arguments(), exe.arg_arrays))\n",
        "data = arg_arrays[train_iter.provide_data[0][0]]\n",
        "label = arg_arrays[train_iter.provide_label[0][0]]"
      ],
      "execution_count": 0,
      "outputs": []
    },
    {
      "metadata": {
        "id": "WE9Tctf7vT99",
        "colab_type": "code",
        "outputId": "5ada1b20-3524-4750-c19f-1ba4282092c7",
        "colab": {
          "base_uri": "https://localhost:8080/",
          "height": 86
        }
      },
      "cell_type": "code",
      "source": [
        "#forward pass\n",
        "train_iter.reset()\n",
        "batch = train_iter.next()\n",
        "data[:] = batch.data[0]\n",
        "label[:] = batch.label[0]\n",
        "y = exe.forward(is_train=True)\n",
        "y"
      ],
      "execution_count": 0,
      "outputs": [
        {
          "output_type": "execute_result",
          "data": {
            "text/plain": [
              "[\n",
              " [[-0.9871021]\n",
              "  [ 0.9871021]]\n",
              " <NDArray 2x1 @cpu(0)>]"
            ]
          },
          "metadata": {
            "tags": []
          },
          "execution_count": 18
        }
      ]
    },
    {
      "metadata": {
        "id": "qIyrOa0KvbPx",
        "colab_type": "code",
        "outputId": "cde175b0-c02d-4a3b-e9cb-15692ab6dc4c",
        "colab": {
          "base_uri": "https://localhost:8080/",
          "height": 52
        }
      },
      "cell_type": "code",
      "source": [
        "#forwardpass manually\n",
        "xi = data.asnumpy()\n",
        "a = np.mean(xi)\n",
        "b = np.var(xi)\n",
        "xnorm = (xi-a)/np.sqrt(b+1e-5)\n",
        "beta, alpha = exe.arg_dict['batchnorm0_beta'].asnumpy(),exe.arg_dict['batchnorm0_gamma'].asnumpy()\n",
        "ynorm = alpha * xnorm+beta\n",
        "ynorm"
      ],
      "execution_count": 0,
      "outputs": [
        {
          "output_type": "execute_result",
          "data": {
            "text/plain": [
              "array([[-0.9998685],\n",
              "       [ 0.9998685]], dtype=float32)"
            ]
          },
          "metadata": {
            "tags": []
          },
          "execution_count": 19
        }
      ]
    },
    {
      "metadata": {
        "id": "VBCRIpqRvejR",
        "colab_type": "code",
        "outputId": "e24f1590-74bd-4bdd-9240-270b6a3ca883",
        "colab": {
          "base_uri": "https://localhost:8080/",
          "height": 208
        }
      },
      "cell_type": "code",
      "source": [
        "exe.arg_dict"
      ],
      "execution_count": 0,
      "outputs": [
        {
          "output_type": "execute_result",
          "data": {
            "text/plain": [
              "{'batchnorm0_beta': \n",
              " [0.]\n",
              " <NDArray 1 @cpu(0)>, 'batchnorm0_gamma': \n",
              " [1.]\n",
              " <NDArray 1 @cpu(0)>, 'data': \n",
              " [[-0.1593055]\n",
              "  [ 0.2306561]]\n",
              " <NDArray 2x1 @cpu(0)>, 'softmax_label': \n",
              " [[1.3864261]\n",
              "  [2.8935425]]\n",
              " <NDArray 2x1 @cpu(0)>}"
            ]
          },
          "metadata": {
            "tags": []
          },
          "execution_count": 20
        }
      ]
    },
    {
      "metadata": {
        "id": "zEMkWxvkvjpo",
        "colab_type": "code",
        "colab": {}
      },
      "cell_type": "code",
      "source": [
        "#backwardpass\n",
        "exe.backward()"
      ],
      "execution_count": 0,
      "outputs": []
    },
    {
      "metadata": {
        "id": "u7nWF7-Zvl99",
        "colab_type": "code",
        "outputId": "e5ec690f-33d9-48ee-a403-fa0c6d7a1ec7",
        "colab": {
          "base_uri": "https://localhost:8080/",
          "height": 208
        }
      },
      "cell_type": "code",
      "source": [
        "exe.grad_dict"
      ],
      "execution_count": 0,
      "outputs": [
        {
          "output_type": "execute_result",
          "data": {
            "text/plain": [
              "{'batchnorm0_beta': \n",
              " [-4.2799687]\n",
              " <NDArray 1 @cpu(0)>, 'batchnorm0_gamma': \n",
              " [0.]\n",
              " <NDArray 1 @cpu(0)>, 'data': \n",
              " [[-0.0303027]\n",
              "  [ 0.0303027]]\n",
              " <NDArray 2x1 @cpu(0)>, 'softmax_label': \n",
              " [[0.]\n",
              "  [0.]]\n",
              " <NDArray 2x1 @cpu(0)>}"
            ]
          },
          "metadata": {
            "tags": []
          },
          "execution_count": 22
        }
      ]
    },
    {
      "metadata": {
        "id": "1gOHnyuxvnte",
        "colab_type": "code",
        "outputId": "87bed737-9bf7-42c2-8a09-a14d89361be9",
        "colab": {
          "base_uri": "https://localhost:8080/",
          "height": 34
        }
      },
      "cell_type": "code",
      "source": [
        "#backwardpass manually\n",
        "2*np.mean((ynorm-label.asnumpy())),2*np.mean((ynorm-label.asnumpy())*xnorm)\n",
        "#the first gradient is correct but the second is not"
      ],
      "execution_count": 0,
      "outputs": [
        {
          "output_type": "execute_result",
          "data": {
            "text/plain": [
              "(-4.279968738555908, 0.4925558567047119)"
            ]
          },
          "metadata": {
            "tags": []
          },
          "execution_count": 23
        }
      ]
    },
    {
      "metadata": {
        "id": "Iz9H5OtHvtze",
        "colab_type": "text"
      },
      "cell_type": "markdown",
      "source": [
        "I computed the gradients as:\n",
        "$$E=\\frac{1}{N}\\sum(ynorm_n-label_n)^2$$\n",
        "$$\\frac{\\partial E}{\\partial \\gamma} = \\frac{2}{N}\\sum((ynorm_n-label_n)*xnorm)$$\n",
        "$$ ynorm_n = \\gamma  (xnorm_n) + \\beta$$"
      ]
    },
    {
      "metadata": {
        "id": "aqe1KHyxvsAA",
        "colab_type": "code",
        "colab": {}
      },
      "cell_type": "code",
      "source": [
        ""
      ],
      "execution_count": 0,
      "outputs": []
    }
  ]
}