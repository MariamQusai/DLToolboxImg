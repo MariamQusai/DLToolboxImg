{
 "cells": [
  {
   "cell_type": "markdown",
   "metadata": {},
   "source": [
    "# Nodule Segmentation in Lung Ct-scans"
   ]
  },
  {
   "cell_type": "markdown",
   "metadata": {
    "toc": true
   },
   "source": [
    "<h1>Table of Contents<span class=\"tocSkip\"></span></h1>\n",
    "<div class=\"toc\"><ul class=\"toc-item\"><li><span><a href=\"#Configuration\" data-toc-modified-id=\"Configuration-1\"><span class=\"toc-item-num\">1&nbsp;&nbsp;</span>Configuration</a></span></li><li><span><a href=\"#LIDC-Dataset\" data-toc-modified-id=\"LIDC-Dataset-2\"><span class=\"toc-item-num\">2&nbsp;&nbsp;</span>LIDC Dataset</a></span><ul class=\"toc-item\"><li><span><a href=\"#Description\" data-toc-modified-id=\"Description-2.1\"><span class=\"toc-item-num\">2.1&nbsp;&nbsp;</span>Description</a></span></li><li><span><a href=\"#Load-Dataset\" data-toc-modified-id=\"Load-Dataset-2.2\"><span class=\"toc-item-num\">2.2&nbsp;&nbsp;</span>Load Dataset</a></span></li><li><span><a href=\"#Split-scans-to-train,-validate,-and-test\" data-toc-modified-id=\"Split-scans-to-train,-validate,-and-test-2.3\"><span class=\"toc-item-num\">2.3&nbsp;&nbsp;</span>Split scans to train, validate, and test</a></span></li><li><span><a href=\"#Filter-annotation-according-to-nodule-diameter\" data-toc-modified-id=\"Filter-annotation-according-to-nodule-diameter-2.4\"><span class=\"toc-item-num\">2.4&nbsp;&nbsp;</span>Filter annotation according to nodule diameter</a></span></li><li><span><a href=\"#Plot-distribution-of-nodule-diameter\" data-toc-modified-id=\"Plot-distribution-of-nodule-diameter-2.5\"><span class=\"toc-item-num\">2.5&nbsp;&nbsp;</span>Plot distribution of nodule diameter</a></span></li><li><span><a href=\"#Save-train,-validate,-and-test-scan-indices-in-a-file\" data-toc-modified-id=\"Save-train,-validate,-and-test-scan-indices-in-a-file-2.6\"><span class=\"toc-item-num\">2.6&nbsp;&nbsp;</span>Save train, validate, and test scan indices in a file</a></span></li></ul></li><li><span><a href=\"#Nodule-Dataset\" data-toc-modified-id=\"Nodule-Dataset-3\"><span class=\"toc-item-num\">3&nbsp;&nbsp;</span>Nodule Dataset</a></span><ul class=\"toc-item\"><li><ul class=\"toc-item\"><li><span><a href=\"#Description\" data-toc-modified-id=\"Description-3.0.1\"><span class=\"toc-item-num\">3.0.1&nbsp;&nbsp;</span>Description</a></span></li><li><span><a href=\"#Generate-Negative-Examples\" data-toc-modified-id=\"Generate-Negative-Examples-3.0.2\"><span class=\"toc-item-num\">3.0.2&nbsp;&nbsp;</span>Generate Negative Examples</a></span></li><li><span><a href=\"#Read-Negative-Examples\" data-toc-modified-id=\"Read-Negative-Examples-3.0.3\"><span class=\"toc-item-num\">3.0.3&nbsp;&nbsp;</span>Read Negative Examples</a></span></li><li><span><a href=\"#Generate-Positive-Examples\" data-toc-modified-id=\"Generate-Positive-Examples-3.0.4\"><span class=\"toc-item-num\">3.0.4&nbsp;&nbsp;</span>Generate Positive Examples</a></span></li><li><span><a href=\"#Read-Positive-Examples\" data-toc-modified-id=\"Read-Positive-Examples-3.0.5\"><span class=\"toc-item-num\">3.0.5&nbsp;&nbsp;</span>Read Positive Examples</a></span></li><li><span><a href=\"#Combine-both-into-a-distribution-of-n:m-(pos:neg)\" data-toc-modified-id=\"Combine-both-into-a-distribution-of-n:m-(pos:neg)-3.0.6\"><span class=\"toc-item-num\">3.0.6&nbsp;&nbsp;</span>Combine both into a distribution of n:m (pos:neg)</a></span></li><li><span><a href=\"#Data-Augmentation\" data-toc-modified-id=\"Data-Augmentation-3.0.7\"><span class=\"toc-item-num\">3.0.7&nbsp;&nbsp;</span>Data Augmentation</a></span></li><li><span><a href=\"#Convert-into-rec-file\" data-toc-modified-id=\"Convert-into-rec-file-3.0.8\"><span class=\"toc-item-num\">3.0.8&nbsp;&nbsp;</span>Convert into rec file</a></span></li><li><span><a href=\"#Repeat-for-validate\" data-toc-modified-id=\"Repeat-for-validate-3.0.9\"><span class=\"toc-item-num\">3.0.9&nbsp;&nbsp;</span>Repeat for validate</a></span></li><li><span><a href=\"#Repeat-for-test\" data-toc-modified-id=\"Repeat-for-test-3.0.10\"><span class=\"toc-item-num\">3.0.10&nbsp;&nbsp;</span>Repeat for test</a></span></li></ul></li></ul></li><li><span><a href=\"#Model\" data-toc-modified-id=\"Model-4\"><span class=\"toc-item-num\">4&nbsp;&nbsp;</span>Model</a></span><ul class=\"toc-item\"><li><span><a href=\"#Configuration\" data-toc-modified-id=\"Configuration-4.1\"><span class=\"toc-item-num\">4.1&nbsp;&nbsp;</span>Configuration</a></span></li><li><span><a href=\"#Compute-Dataset-Statistics\" data-toc-modified-id=\"Compute-Dataset-Statistics-4.2\"><span class=\"toc-item-num\">4.2&nbsp;&nbsp;</span>Compute Dataset Statistics</a></span><ul class=\"toc-item\"><li><span><a href=\"#Find-Mean\" data-toc-modified-id=\"Find-Mean-4.2.1\"><span class=\"toc-item-num\">4.2.1&nbsp;&nbsp;</span>Find Mean</a></span></li><li><span><a href=\"#Find-Variance\" data-toc-modified-id=\"Find-Variance-4.2.2\"><span class=\"toc-item-num\">4.2.2&nbsp;&nbsp;</span>Find Variance</a></span></li></ul></li><li><span><a href=\"#Define-Data-Iterator\" data-toc-modified-id=\"Define-Data-Iterator-4.3\"><span class=\"toc-item-num\">4.3&nbsp;&nbsp;</span>Define Data Iterator</a></span></li><li><span><a href=\"#Define-Optimizer\" data-toc-modified-id=\"Define-Optimizer-4.4\"><span class=\"toc-item-num\">4.4&nbsp;&nbsp;</span>Define Optimizer</a></span></li><li><span><a href=\"#Define-Metric\" data-toc-modified-id=\"Define-Metric-4.5\"><span class=\"toc-item-num\">4.5&nbsp;&nbsp;</span>Define Metric</a></span></li><li><span><a href=\"#Define-Model-Architecture\" data-toc-modified-id=\"Define-Model-Architecture-4.6\"><span class=\"toc-item-num\">4.6&nbsp;&nbsp;</span>Define Model Architecture</a></span></li><li><span><a href=\"#Initialize-Network-Weights\" data-toc-modified-id=\"Initialize-Network-Weights-4.7\"><span class=\"toc-item-num\">4.7&nbsp;&nbsp;</span>Initialize Network Weights</a></span><ul class=\"toc-item\"><li><span><a href=\"#Load-Pretrained-Neural-Network\" data-toc-modified-id=\"Load-Pretrained-Neural-Network-4.7.1\"><span class=\"toc-item-num\">4.7.1&nbsp;&nbsp;</span>Load Pretrained Neural Network</a></span></li><li><span><a href=\"#Initialize-network-to-random-Weights\" data-toc-modified-id=\"Initialize-network-to-random-Weights-4.7.2\"><span class=\"toc-item-num\">4.7.2&nbsp;&nbsp;</span>Initialize network to random Weights</a></span></li></ul></li><li><span><a href=\"#Train-Network\" data-toc-modified-id=\"Train-Network-4.8\"><span class=\"toc-item-num\">4.8&nbsp;&nbsp;</span>Train Network</a></span><ul class=\"toc-item\"><li><span><a href=\"#Find-a-good-learning-rate\" data-toc-modified-id=\"Find-a-good-learning-rate-4.8.1\"><span class=\"toc-item-num\">4.8.1&nbsp;&nbsp;</span>Find a good learning rate</a></span></li><li><span><a href=\"#Start-Training\" data-toc-modified-id=\"Start-Training-4.8.2\"><span class=\"toc-item-num\">4.8.2&nbsp;&nbsp;</span>Start Training</a></span></li></ul></li></ul></li><li><span><a href=\"#Evaluate-Model\" data-toc-modified-id=\"Evaluate-Model-5\"><span class=\"toc-item-num\">5&nbsp;&nbsp;</span>Evaluate Model</a></span></li><li><span><a href=\"#Book-Keeping\" data-toc-modified-id=\"Book-Keeping-6\"><span class=\"toc-item-num\">6&nbsp;&nbsp;</span>Book Keeping</a></span></li></ul></div>"
   ]
  },
  {
   "cell_type": "markdown",
   "metadata": {},
   "source": [
    "## Configuration"
   ]
  },
  {
   "cell_type": "code",
   "execution_count": 1,
   "metadata": {},
   "outputs": [],
   "source": [
    "%reload_ext autoreload\n",
    "%autoreload 2\n",
    "%matplotlib nbagg"
   ]
  },
  {
   "cell_type": "code",
   "execution_count": 2,
   "metadata": {},
   "outputs": [],
   "source": [
    "%matplotlib inline"
   ]
  },
  {
   "cell_type": "code",
   "execution_count": 3,
   "metadata": {},
   "outputs": [],
   "source": [
    "import pylidc as pl #pip install -Iv scikit-image==0.13\n",
    "from random import random\n",
    "import pandas as pd\n",
    "import numpy as np\n",
    "import matplotlib.pyplot as plt\n",
    "import pickle\n",
    "import scipy\n",
    "import random\n",
    "import os\n",
    "from imports import *"
   ]
  },
  {
   "cell_type": "markdown",
   "metadata": {},
   "source": [
    "## LIDC Dataset"
   ]
  },
  {
   "cell_type": "code",
   "execution_count": 4,
   "metadata": {},
   "outputs": [],
   "source": [
    "#!rm -r {root_path}"
   ]
  },
  {
   "cell_type": "code",
   "execution_count": 5,
   "metadata": {},
   "outputs": [],
   "source": [
    "use_all_data = False\n",
    "\n",
    "dataset_path = '/media/mas/Untitled/LIDC/DOI/'\n",
    "\n",
    "root_path = '/home/mas/x110/Datasets/Dataset2/'\n",
    "tmp_path = root_path + \"tmp/\"\n",
    "processed_path = root_path +\"processed/\" "
   ]
  },
  {
   "cell_type": "code",
   "execution_count": 6,
   "metadata": {},
   "outputs": [],
   "source": [
    "!mkdir {root_path}\n",
    "!mkdir {tmp_path}\n",
    "!mkdir {tmp_path+\"train/\"}\n",
    "!mkdir {tmp_path+\"valid/\"}\n",
    "!mkdir {tmp_path+\"test/\"}\n",
    "!mkdir {tmp_path+\"train/pos/\"}\n",
    "!mkdir {tmp_path+\"train/neg/\"}\n",
    "!mkdir {tmp_path+\"valid/pos/\"}\n",
    "!mkdir {tmp_path+\"valid/neg/\"}\n",
    "!mkdir {tmp_path+\"test/pos/\"}\n",
    "!mkdir {tmp_path+\"test/neg/\"}\n",
    "!mkdir {processed_path}"
   ]
  },
  {
   "cell_type": "code",
   "execution_count": 7,
   "metadata": {},
   "outputs": [],
   "source": [
    "train_test_split_path =   tmp_path + \"scan_id_split.idx\"#save the scan ids that will be considered\n",
    "\n",
    "dftrain_path =  tmp_path + \"dftrain.csv\"\n",
    "dfvalid_path =  tmp_path + \"dfvalid.csv\"\n",
    "dftest_path  =  tmp_path + \"dftest.csv\"\n",
    "\n",
    "ds_train = 'train'\n",
    "ds_test = 'test'\n",
    "ds_valid = 'valid'"
   ]
  },
  {
   "cell_type": "markdown",
   "metadata": {},
   "source": [
    "### Description"
   ]
  },
  {
   "cell_type": "markdown",
   "metadata": {},
   "source": [
    "\"The Lung Image Database Consortium image collection (LIDC-IDRI) consists of diagnostic and lung cancer screening thoracic computed tomography (CT) scans with marked-up annotated lesions. It is a web-accessible international resource for development, training, and evaluation of computer-assisted diagnostic (CAD) methods for lung cancer detection and diagnosis. Initiated by the National Cancer Institute (NCI), further advanced by the Foundation for the National Institutes of Health (FNIH), and accompanied by the Food and Drug Administration (FDA) through active participation, this public-private partnership demonstrates the success of a consortium founded on a consensus-based process.\n",
    "\n",
    "Seven academic centers and eight medical imaging companies collaborated to create this data set which contains **1018 cases**.  Each subject includes images from a clinical thoracic CT scan and an associated XML file that records the results of a two-phase image annotation process performed by four experienced thoracic radiologists. In the initial blinded-read phase, each radiologist independently reviewed each CT scan and marked lesions belonging to one of three categories (\"nodule > or =3 mm,\" \"nodule <3 mm,\" and \"non-nodule > or =3 mm\"). In the subsequent unblinded-read phase, each radiologist independently reviewed their own marks along with the anonymized marks of the three other radiologists to render a final opinion. The goal of this process was to identify as completely as possible all lung nodules in each CT scan without requiring forced consensus.\" [[1]](https://wiki.cancerimagingarchive.net/display/Public/LIDC-IDRI)\n",
    "\n",
    " [Download dataset here](https://wiki.cancerimagingarchive.net/display/Public/LIDC-IDRI)"
   ]
  },
  {
   "cell_type": "code",
   "execution_count": 8,
   "metadata": {},
   "outputs": [],
   "source": [
    "#uncomment to download the data\n",
    "#!apt-get install icedtea-netx\n",
    "#!javaws TCIA_LIDC-IDRI_06-22-2015.jnlp"
   ]
  },
  {
   "cell_type": "markdown",
   "metadata": {},
   "source": [
    "### Load Dataset"
   ]
  },
  {
   "cell_type": "code",
   "execution_count": 9,
   "metadata": {},
   "outputs": [],
   "source": [
    "files = !ls {dataset_path}\n",
    "files = [f for f in files if not f.endswith(\".zip\")]"
   ]
  },
  {
   "cell_type": "code",
   "execution_count": 10,
   "metadata": {},
   "outputs": [],
   "source": [
    "if not use_all_data:\n",
    "    files = ['LIDC-IDRI-'+str(i+1).zfill(4) for i in range(12)]\n",
    "#files"
   ]
  },
  {
   "cell_type": "code",
   "execution_count": 11,
   "metadata": {},
   "outputs": [],
   "source": [
    "qu = pl.query(pl.Scan)"
   ]
  },
  {
   "cell_type": "code",
   "execution_count": 12,
   "metadata": {},
   "outputs": [
    {
     "data": {
      "text/plain": [
       "[Scan(id=1,patient_id=LIDC-IDRI-0078),\n",
       " Scan(id=2,patient_id=LIDC-IDRI-0069),\n",
       " Scan(id=3,patient_id=LIDC-IDRI-0079),\n",
       " Scan(id=4,patient_id=LIDC-IDRI-0101),\n",
       " Scan(id=5,patient_id=LIDC-IDRI-0110)]"
      ]
     },
     "execution_count": 12,
     "metadata": {},
     "output_type": "execute_result"
    }
   ],
   "source": [
    "scans=qu.all() #all scans in the original LIDC dataset\n",
    "scans[0:5]"
   ]
  },
  {
   "cell_type": "code",
   "execution_count": 13,
   "metadata": {},
   "outputs": [],
   "source": [
    "ind = [i for i,s in enumerate(scans) if s.patient_id in files]\n",
    "#ind"
   ]
  },
  {
   "cell_type": "code",
   "execution_count": 14,
   "metadata": {},
   "outputs": [],
   "source": [
    "mini_scans=[scans[i] for i in ind];  #mini_scans"
   ]
  },
  {
   "cell_type": "code",
   "execution_count": 15,
   "metadata": {},
   "outputs": [],
   "source": [
    "#scan=mini_scans[0]\n",
    "#scan.annotations\n",
    "#scan.visualize()"
   ]
  },
  {
   "cell_type": "code",
   "execution_count": 16,
   "metadata": {},
   "outputs": [
    {
     "name": "stdout",
     "output_type": "stream",
     "text": [
      "12 0 12\n"
     ]
    }
   ],
   "source": [
    "#check all scans are ok to read\n",
    "scans_ok=[]\n",
    "scans_error=[]\n",
    "\n",
    "for q in mini_scans:\n",
    "    try:\n",
    "        q.get_path_to_dicom_files()\n",
    "        scans_ok.append(q)\n",
    "    except:\n",
    "        scans_error.append(q)\n",
    "\n",
    "print(len(scans_ok),len(scans_error),len(mini_scans))"
   ]
  },
  {
   "cell_type": "markdown",
   "metadata": {},
   "source": [
    "### Split scans to train, validate, and test"
   ]
  },
  {
   "cell_type": "markdown",
   "metadata": {},
   "source": [
    "split scans into 60% for training, 20% for validation, and 20% for testing"
   ]
  },
  {
   "cell_type": "code",
   "execution_count": 17,
   "metadata": {},
   "outputs": [
    {
     "name": "stdout",
     "output_type": "stream",
     "text": [
      "7 2 3\n"
     ]
    }
   ],
   "source": [
    "#shuffle data, then split to train, valid, test\n",
    "random.seed(313)\n",
    "random.shuffle(scans_ok)\n",
    "L=len(scans_ok)\n",
    "j=np.int(.6*L)\n",
    "jj=np.int(.2*L)\n",
    "scans_train=scans_ok[0:j]\n",
    "scans_valid=scans_ok[j:j+jj]\n",
    "scans_test=scans_ok[j+jj:]\n",
    "print(len(scans_train),len(scans_valid),len(scans_test))"
   ]
  },
  {
   "cell_type": "code",
   "execution_count": 18,
   "metadata": {},
   "outputs": [],
   "source": [
    "#scans_train,scans_valid,scans_test"
   ]
  },
  {
   "cell_type": "markdown",
   "metadata": {},
   "source": [
    "### Filter annotation according to nodule diameter"
   ]
  },
  {
   "cell_type": "markdown",
   "metadata": {},
   "source": [
    "We will consider only annonations of diameter < 30mm  and greater than 6mm "
   ]
  },
  {
   "cell_type": "code",
   "execution_count": 19,
   "metadata": {},
   "outputs": [
    {
     "name": "stdout",
     "output_type": "stream",
     "text": [
      "63\n"
     ]
    },
    {
     "data": {
      "text/html": [
       "<div>\n",
       "<style scoped>\n",
       "    .dataframe tbody tr th:only-of-type {\n",
       "        vertical-align: middle;\n",
       "    }\n",
       "\n",
       "    .dataframe tbody tr th {\n",
       "        vertical-align: top;\n",
       "    }\n",
       "\n",
       "    .dataframe thead th {\n",
       "        text-align: right;\n",
       "    }\n",
       "</style>\n",
       "<table border=\"1\" class=\"dataframe\">\n",
       "  <thead>\n",
       "    <tr style=\"text-align: right;\">\n",
       "      <th></th>\n",
       "      <th>ann_id</th>\n",
       "      <th>scan_id</th>\n",
       "      <th>nodule_diameter</th>\n",
       "    </tr>\n",
       "  </thead>\n",
       "  <tbody>\n",
       "    <tr>\n",
       "      <th>0</th>\n",
       "      <td>103</td>\n",
       "      <td>15</td>\n",
       "      <td>6.262191</td>\n",
       "    </tr>\n",
       "    <tr>\n",
       "      <th>1</th>\n",
       "      <td>105</td>\n",
       "      <td>15</td>\n",
       "      <td>7.025444</td>\n",
       "    </tr>\n",
       "    <tr>\n",
       "      <th>2</th>\n",
       "      <td>106</td>\n",
       "      <td>15</td>\n",
       "      <td>8.465747</td>\n",
       "    </tr>\n",
       "    <tr>\n",
       "      <th>3</th>\n",
       "      <td>107</td>\n",
       "      <td>16</td>\n",
       "      <td>6.264748</td>\n",
       "    </tr>\n",
       "    <tr>\n",
       "      <th>4</th>\n",
       "      <td>108</td>\n",
       "      <td>16</td>\n",
       "      <td>8.658309</td>\n",
       "    </tr>\n",
       "  </tbody>\n",
       "</table>\n",
       "</div>"
      ],
      "text/plain": [
       "   ann_id  scan_id  nodule_diameter\n",
       "0     103       15         6.262191\n",
       "1     105       15         7.025444\n",
       "2     106       15         8.465747\n",
       "3     107       16         6.264748\n",
       "4     108       16         8.658309"
      ]
     },
     "execution_count": 19,
     "metadata": {},
     "output_type": "execute_result"
    }
   ],
   "source": [
    "scans0=scans_train\n",
    "filename = dftrain_path\n",
    "\n",
    "#consider only annonations of diameter < 30mm  and greater than 6mm \n",
    "\n",
    "if True:\n",
    "\n",
    "    l=[q.annotations for q in scans0]\n",
    "    anns = [item for sublist in l for item in sublist]\n",
    "\n",
    "    columns=['ann_id','scan_id','nodule_diameter']\n",
    "\n",
    "    df=[]\n",
    "    for scan in scans0:\n",
    "        for a in scan.annotations:\n",
    "            row = [a.id,a.scan_id,a.diameter]\n",
    "            df.append(row)\n",
    "\n",
    "    df1=pd.DataFrame(df,columns=columns)\n",
    "    #keep nodules between 6mm and 30 mm\n",
    "    df2=df1[(df1.nodule_diameter<=30) & (df1.nodule_diameter>=6)]\n",
    "    df2.reset_index(inplace=True,drop=True)\n",
    "    df2.to_csv(filename)\n",
    "    df_train=df2\n",
    "else: \n",
    "    df_train=pd.read_csv(filename,index_col=0)\n",
    "print(df_train.shape[0])\n",
    "df_train.head()"
   ]
  },
  {
   "cell_type": "code",
   "execution_count": 20,
   "metadata": {},
   "outputs": [
    {
     "name": "stdout",
     "output_type": "stream",
     "text": [
      "7\n"
     ]
    },
    {
     "data": {
      "text/html": [
       "<div>\n",
       "<style scoped>\n",
       "    .dataframe tbody tr th:only-of-type {\n",
       "        vertical-align: middle;\n",
       "    }\n",
       "\n",
       "    .dataframe tbody tr th {\n",
       "        vertical-align: top;\n",
       "    }\n",
       "\n",
       "    .dataframe thead th {\n",
       "        text-align: right;\n",
       "    }\n",
       "</style>\n",
       "<table border=\"1\" class=\"dataframe\">\n",
       "  <thead>\n",
       "    <tr style=\"text-align: right;\">\n",
       "      <th></th>\n",
       "      <th>ann_id</th>\n",
       "      <th>scan_id</th>\n",
       "      <th>nodule_diameter</th>\n",
       "    </tr>\n",
       "  </thead>\n",
       "  <tbody>\n",
       "    <tr>\n",
       "      <th>0</th>\n",
       "      <td>129</td>\n",
       "      <td>19</td>\n",
       "      <td>8.156489</td>\n",
       "    </tr>\n",
       "    <tr>\n",
       "      <th>1</th>\n",
       "      <td>130</td>\n",
       "      <td>19</td>\n",
       "      <td>6.987712</td>\n",
       "    </tr>\n",
       "    <tr>\n",
       "      <th>2</th>\n",
       "      <td>131</td>\n",
       "      <td>19</td>\n",
       "      <td>11.718750</td>\n",
       "    </tr>\n",
       "    <tr>\n",
       "      <th>3</th>\n",
       "      <td>132</td>\n",
       "      <td>19</td>\n",
       "      <td>8.907621</td>\n",
       "    </tr>\n",
       "    <tr>\n",
       "      <th>4</th>\n",
       "      <td>133</td>\n",
       "      <td>19</td>\n",
       "      <td>8.156489</td>\n",
       "    </tr>\n",
       "  </tbody>\n",
       "</table>\n",
       "</div>"
      ],
      "text/plain": [
       "   ann_id  scan_id  nodule_diameter\n",
       "0     129       19         8.156489\n",
       "1     130       19         6.987712\n",
       "2     131       19        11.718750\n",
       "3     132       19         8.907621\n",
       "4     133       19         8.156489"
      ]
     },
     "execution_count": 20,
     "metadata": {},
     "output_type": "execute_result"
    }
   ],
   "source": [
    "#Repeat for validation set\n",
    "scans0=scans_valid\n",
    "filename = dfvalid_path\n",
    "#consider only annonations of diameter < 30mm  and greater than 6mm \n",
    "\n",
    "if True:\n",
    "\n",
    "    l=[q.annotations for q in scans0]\n",
    "    anns = [item for sublist in l for item in sublist]\n",
    "\n",
    "    columns=['ann_id','scan_id','nodule_diameter']\n",
    "\n",
    "    df=[]\n",
    "    for scan in scans0:\n",
    "        for a in scan.annotations:\n",
    "            row = [a.id,a.scan_id,a.diameter]\n",
    "            df.append(row)\n",
    "\n",
    "    df1=pd.DataFrame(df,columns=columns)\n",
    "    #keep nodules between 6mm and 30 mm\n",
    "    df2=df1[(df1.nodule_diameter<=30) & (df1.nodule_diameter>=6)]\n",
    "    df2.reset_index(inplace=True,drop=True)\n",
    "    df2.to_csv(filename)\n",
    "    df_valid=df2\n",
    "    #print(f\"df1.shape[0],df2.shape[0]:{df1.shape[0]},{df2.shape[0]}\")\n",
    "else: \n",
    "    df_valid=pd.read_csv(filename,index_col=0)\n",
    "print(df_valid.shape[0])\n",
    "df_valid.head()"
   ]
  },
  {
   "cell_type": "code",
   "execution_count": 21,
   "metadata": {},
   "outputs": [
    {
     "name": "stdout",
     "output_type": "stream",
     "text": [
      "16\n"
     ]
    },
    {
     "data": {
      "text/html": [
       "<div>\n",
       "<style scoped>\n",
       "    .dataframe tbody tr th:only-of-type {\n",
       "        vertical-align: middle;\n",
       "    }\n",
       "\n",
       "    .dataframe tbody tr th {\n",
       "        vertical-align: top;\n",
       "    }\n",
       "\n",
       "    .dataframe thead th {\n",
       "        text-align: right;\n",
       "    }\n",
       "</style>\n",
       "<table border=\"1\" class=\"dataframe\">\n",
       "  <thead>\n",
       "    <tr style=\"text-align: right;\">\n",
       "      <th></th>\n",
       "      <th>ann_id</th>\n",
       "      <th>scan_id</th>\n",
       "      <th>nodule_diameter</th>\n",
       "    </tr>\n",
       "  </thead>\n",
       "  <tbody>\n",
       "    <tr>\n",
       "      <th>0</th>\n",
       "      <td>125</td>\n",
       "      <td>18</td>\n",
       "      <td>20.684691</td>\n",
       "    </tr>\n",
       "    <tr>\n",
       "      <th>1</th>\n",
       "      <td>91</td>\n",
       "      <td>14</td>\n",
       "      <td>13.353712</td>\n",
       "    </tr>\n",
       "    <tr>\n",
       "      <th>2</th>\n",
       "      <td>92</td>\n",
       "      <td>14</td>\n",
       "      <td>14.674187</td>\n",
       "    </tr>\n",
       "    <tr>\n",
       "      <th>3</th>\n",
       "      <td>94</td>\n",
       "      <td>14</td>\n",
       "      <td>14.326133</td>\n",
       "    </tr>\n",
       "    <tr>\n",
       "      <th>4</th>\n",
       "      <td>95</td>\n",
       "      <td>14</td>\n",
       "      <td>11.943923</td>\n",
       "    </tr>\n",
       "  </tbody>\n",
       "</table>\n",
       "</div>"
      ],
      "text/plain": [
       "   ann_id  scan_id  nodule_diameter\n",
       "0     125       18        20.684691\n",
       "1      91       14        13.353712\n",
       "2      92       14        14.674187\n",
       "3      94       14        14.326133\n",
       "4      95       14        11.943923"
      ]
     },
     "execution_count": 21,
     "metadata": {},
     "output_type": "execute_result"
    }
   ],
   "source": [
    "#Repeat for Testing set\n",
    "scans0=scans_test\n",
    "filename = dftest_path\n",
    "#consider only annonations of diameter < 30mm  and greater than 6mm \n",
    "\n",
    "if True:\n",
    "\n",
    "    l=[q.annotations for q in scans0]\n",
    "    anns = [item for sublist in l for item in sublist]\n",
    "\n",
    "    columns=['ann_id','scan_id','nodule_diameter']\n",
    "\n",
    "    df=[]\n",
    "    for scan in scans0:\n",
    "        for a in scan.annotations:\n",
    "            row = [a.id,a.scan_id,a.diameter]\n",
    "            df.append(row)\n",
    "\n",
    "    df1=pd.DataFrame(df,columns=columns)\n",
    "    #keep nodules between 6mm and 30 mm\n",
    "    df2=df1[(df1.nodule_diameter<=30) & (df1.nodule_diameter>=6)]\n",
    "    df2.reset_index(inplace=True,drop=True)\n",
    "    df2.to_csv(filename)\n",
    "    df_test=df2\n",
    "    #print(f\"df1.shape[0],df2.shape[0]:{df1.shape[0]},{df2.shape[0]}\")\n",
    "else: \n",
    "    df_test=pd.read_csv(filename,index_col=0)\n",
    "print(df_test.shape[0])\n",
    "df_test.head()"
   ]
  },
  {
   "cell_type": "markdown",
   "metadata": {},
   "source": [
    "### Plot distribution of nodule diameter"
   ]
  },
  {
   "cell_type": "code",
   "execution_count": 22,
   "metadata": {},
   "outputs": [
    {
     "data": {
      "image/png": "[encoded data removed]",
      "text/plain": [
       "<Figure size 432x288 with 1 Axes>"
      ]
     },
     "metadata": {},
     "output_type": "display_data"
    }
   ],
   "source": [
    "df_train.hist(column='nodule_diameter')\n",
    "plt.show()"
   ]
  },
  {
   "cell_type": "code",
   "execution_count": 23,
   "metadata": {},
   "outputs": [
    {
     "data": {
      "image/png": "[encoded data removed]",
      "text/plain": [
       "<Figure size 432x288 with 1 Axes>"
      ]
     },
     "metadata": {},
     "output_type": "display_data"
    }
   ],
   "source": [
    "#look at  the distribution of nodules after filtering\n",
    "df_valid.hist(column='nodule_diameter')\n",
    "plt.show()"
   ]
  },
  {
   "cell_type": "code",
   "execution_count": 24,
   "metadata": {},
   "outputs": [
    {
     "data": {
      "image/png": "[encoded data removed]",
      "text/plain": [
       "<Figure size 432x288 with 1 Axes>"
      ]
     },
     "metadata": {},
     "output_type": "display_data"
    }
   ],
   "source": [
    "#look at  the distribution of nodules after filtering\n",
    "df_test.hist(column='nodule_diameter')\n",
    "plt.show()"
   ]
  },
  {
   "cell_type": "markdown",
   "metadata": {},
   "source": [
    "The distribution of the nodule diameter is higly unbalanced. The number of small nodules is greater than the number of large nodules. Hence,  if uniform sampling is used, the network will be biased towards small nodules."
   ]
  },
  {
   "cell_type": "markdown",
   "metadata": {},
   "source": [
    "### Save train, validate, and test scan indices in a file"
   ]
  },
  {
   "cell_type": "code",
   "execution_count": 25,
   "metadata": {},
   "outputs": [],
   "source": [
    "if True:\n",
    "    scan_id_train=list(set(df_train[\"scan_id\"]))\n",
    "    scan_id_valid=list(set(df_valid[\"scan_id\"]))\n",
    "    scan_id_test=list(set(df_test[\"scan_id\"]))\n",
    "    filename = train_test_split_path\n",
    "    with open(filename, 'wb') as f:\n",
    "        pickle.dump([scan_id_train,scan_id_valid,scan_id_test], f)\n",
    "else:\n",
    "    filename=train_test_split_path\n",
    "    with open(filename, 'rb') as f:\n",
    "        scan_id_train,scan_id_valid,scan_id_test=pickle.load(f)"
   ]
  },
  {
   "cell_type": "code",
   "execution_count": 26,
   "metadata": {},
   "outputs": [],
   "source": [
    "#scan_id_train,scan_id_valid,scan_id_test"
   ]
  },
  {
   "cell_type": "code",
   "execution_count": 27,
   "metadata": {},
   "outputs": [],
   "source": [
    "scan_id_set = {ds_train: scan_id_train,\n",
    "               ds_valid: scan_id_valid,\n",
    "               ds_test: scan_id_test}"
   ]
  },
  {
   "cell_type": "markdown",
   "metadata": {},
   "source": [
    "## Nodule Dataset "
   ]
  },
  {
   "cell_type": "markdown",
   "metadata": {},
   "source": [
    "#### Description"
   ]
  },
  {
   "cell_type": "markdown",
   "metadata": {},
   "source": [
    "I will be taking small cubes from the ctscan volume. The size of this small cube is 52x52x52. I can serially decompose the say 512x512x300 ctscan volume into 52x52x52 cubes. But the problem with this approach is that I will have many \"unintresting\" cubes. like cubes that are all black. As an alternative, I will first create a lung mask. pick random points that resides inside the lung mask, and extract the 52x52x52 cube where the random point is the center of that cube. As a final check, I will make make sure that there does not exist a nodule in that cube, because remember we ar now generating negative examples. A summary of what I just described is:\n",
    "\n",
    "1. get a scan\n",
    "2. Apply the lung mask \n",
    "3. Find the range of zs where the lung occupies >2% of the total area. \n",
    "4. Select a random zc location.\n",
    "5. On that z slice, apply the lung mask.\n",
    "6. Select a random xc,yc point that resides inside the lung mask.\n",
    "7. extract a cube where xc,yc,zc is its center and its side is N=52.\n",
    "8. sum the mask of the newly generated cube to ensure that it does not include a nodule. \n",
    "9. The naming convention would be neg_scan_id_cx_xy_cz"
   ]
  },
  {
   "cell_type": "markdown",
   "metadata": {},
   "source": [
    "#### Generate Negative Examples"
   ]
  },
  {
   "cell_type": "code",
   "execution_count": 28,
   "metadata": {},
   "outputs": [],
   "source": [
    "ds_type = ds_train\n",
    "interm_dir3 = tmp_path+ds_type+'/neg/'\n",
    "interm_dir2 = tmp_path+ds_type+'/pos/'\n",
    "fname_df = 'df_'+ds_type+'.csv'\n",
    "epochs = 10"
   ]
  },
  {
   "cell_type": "code",
   "execution_count": 29,
   "metadata": {},
   "outputs": [
    {
     "name": "stdout",
     "output_type": "stream",
     "text": [
      "Loading dicom files ... This may take a moment.\n",
      "Loading dicom files ... This may take a moment.\n",
      "Loading dicom files ... This may take a moment.\n",
      "Loading dicom files ... This may take a moment.\n",
      "Loading dicom files ... This may take a moment.\n",
      "Loading dicom files ... This may take a moment.\n"
     ]
    },
    {
     "ename": "KeyboardInterrupt",
     "evalue": "",
     "output_type": "error",
     "traceback": [
      "\u001b[0;31m---------------------------------------------------------------------------\u001b[0m",
      "\u001b[0;31mKeyboardInterrupt\u001b[0m                         Traceback (most recent call last)",
      "\u001b[0;32m<ipython-input-29-7181fb964a60>\u001b[0m in \u001b[0;36m<module>\u001b[0;34m()\u001b[0m\n\u001b[1;32m      1\u001b[0m \u001b[0mrandom\u001b[0m\u001b[0;34m.\u001b[0m\u001b[0mseed\u001b[0m\u001b[0;34m(\u001b[0m\u001b[0;36m313\u001b[0m\u001b[0;34m)\u001b[0m\u001b[0;34m\u001b[0m\u001b[0m\n\u001b[1;32m      2\u001b[0m \u001b[0;32mfor\u001b[0m \u001b[0mscan_id\u001b[0m \u001b[0;32min\u001b[0m \u001b[0mscan_id_set\u001b[0m\u001b[0;34m[\u001b[0m\u001b[0mds_type\u001b[0m\u001b[0;34m]\u001b[0m\u001b[0;34m:\u001b[0m\u001b[0;31m#[xx+1:]:\u001b[0m\u001b[0;34m\u001b[0m\u001b[0m\n\u001b[0;32m----> 3\u001b[0;31m     \u001b[0mscan_1\u001b[0m \u001b[0;34m=\u001b[0m \u001b[0mctscan\u001b[0m\u001b[0;34m(\u001b[0m\u001b[0mscan_id\u001b[0m\u001b[0;34m)\u001b[0m\u001b[0;34m\u001b[0m\u001b[0m\n\u001b[0m\u001b[1;32m      4\u001b[0m     \u001b[0mS\u001b[0m\u001b[0;34m,\u001b[0m\u001b[0mB\u001b[0m\u001b[0;34m=\u001b[0m\u001b[0mget_segmented_lungs2\u001b[0m\u001b[0;34m(\u001b[0m\u001b[0mscan_1\u001b[0m\u001b[0;34m.\u001b[0m\u001b[0mimage_resampled\u001b[0m\u001b[0;34m,\u001b[0m \u001b[0mplot\u001b[0m\u001b[0;34m=\u001b[0m\u001b[0;32mFalse\u001b[0m\u001b[0;34m)\u001b[0m\u001b[0;34m\u001b[0m\u001b[0m\n\u001b[1;32m      5\u001b[0m \u001b[0;34m\u001b[0m\u001b[0m\n",
      "\u001b[0;32m~/x110/DLToolboxImg/ctscan.py\u001b[0m in \u001b[0;36m__init__\u001b[0;34m(self, scan_id)\u001b[0m\n\u001b[1;32m     32\u001b[0m             \u001b[0mself\u001b[0m\u001b[0;34m.\u001b[0m\u001b[0mdesired_spacing\u001b[0m \u001b[0;34m=\u001b[0m \u001b[0mnp\u001b[0m\u001b[0;34m.\u001b[0m\u001b[0marray\u001b[0m\u001b[0;34m(\u001b[0m\u001b[0;34m[\u001b[0m\u001b[0;36m1\u001b[0m\u001b[0;34m,\u001b[0m\u001b[0;36m1\u001b[0m\u001b[0;34m,\u001b[0m\u001b[0;36m1\u001b[0m\u001b[0;34m]\u001b[0m\u001b[0;34m)\u001b[0m\u001b[0;34m\u001b[0m\u001b[0m\n\u001b[1;32m     33\u001b[0m \u001b[0;34m\u001b[0m\u001b[0m\n\u001b[0;32m---> 34\u001b[0;31m             \u001b[0mself\u001b[0m\u001b[0;34m.\u001b[0m\u001b[0mimage_resampled\u001b[0m\u001b[0;34m,\u001b[0m\u001b[0mself\u001b[0m\u001b[0;34m.\u001b[0m\u001b[0mnew_spacing\u001b[0m\u001b[0;34m=\u001b[0m\u001b[0mself\u001b[0m\u001b[0;34m.\u001b[0m\u001b[0mresample\u001b[0m\u001b[0;34m(\u001b[0m\u001b[0;34m)\u001b[0m\u001b[0;34m\u001b[0m\u001b[0m\n\u001b[0m\u001b[1;32m     35\u001b[0m             \u001b[0mself\u001b[0m\u001b[0;34m.\u001b[0m\u001b[0mimage_normalized\u001b[0m \u001b[0;34m=\u001b[0m \u001b[0mself\u001b[0m\u001b[0;34m.\u001b[0m\u001b[0mnormalize\u001b[0m\u001b[0;34m(\u001b[0m\u001b[0mself\u001b[0m\u001b[0;34m.\u001b[0m\u001b[0mimage_resampled\u001b[0m\u001b[0;34m)\u001b[0m\u001b[0;34m\u001b[0m\u001b[0m\n\u001b[1;32m     36\u001b[0m \u001b[0;34m\u001b[0m\u001b[0m\n",
      "\u001b[0;32m~/x110/DLToolboxImg/ctscan.py\u001b[0m in \u001b[0;36mresample\u001b[0;34m(self)\u001b[0m\n\u001b[1;32m     79\u001b[0m         \u001b[0mnew_spacing\u001b[0m \u001b[0;34m=\u001b[0m \u001b[0mself\u001b[0m\u001b[0;34m.\u001b[0m\u001b[0moriginal_spacing\u001b[0m\u001b[0;34m/\u001b[0m\u001b[0mreal_resize_factor\u001b[0m\u001b[0;34m\u001b[0m\u001b[0m\n\u001b[1;32m     80\u001b[0m \u001b[0;34m\u001b[0m\u001b[0m\n\u001b[0;32m---> 81\u001b[0;31m         \u001b[0mimage\u001b[0m \u001b[0;34m=\u001b[0m \u001b[0mscipy\u001b[0m\u001b[0;34m.\u001b[0m\u001b[0mndimage\u001b[0m\u001b[0;34m.\u001b[0m\u001b[0minterpolation\u001b[0m\u001b[0;34m.\u001b[0m\u001b[0mzoom\u001b[0m\u001b[0;34m(\u001b[0m\u001b[0mimage\u001b[0m\u001b[0;34m,\u001b[0m \u001b[0mreal_resize_factor\u001b[0m\u001b[0;34m,\u001b[0m \u001b[0mmode\u001b[0m\u001b[0;34m=\u001b[0m\u001b[0;34m'nearest'\u001b[0m\u001b[0;34m)\u001b[0m\u001b[0;34m\u001b[0m\u001b[0m\n\u001b[0m\u001b[1;32m     82\u001b[0m \u001b[0;34m\u001b[0m\u001b[0m\n\u001b[1;32m     83\u001b[0m         \u001b[0mimage\u001b[0m\u001b[0;34m=\u001b[0m\u001b[0mimage\u001b[0m\u001b[0;34m.\u001b[0m\u001b[0mswapaxes\u001b[0m\u001b[0;34m(\u001b[0m\u001b[0;36m0\u001b[0m\u001b[0;34m,\u001b[0m\u001b[0;36m2\u001b[0m\u001b[0;34m)\u001b[0m \u001b[0;31m#zyx\u001b[0m\u001b[0;34m\u001b[0m\u001b[0m\n",
      "\u001b[0;32m~/.virtualenvs/colab/lib/python3.5/site-packages/scipy/ndimage/interpolation.py\u001b[0m in \u001b[0;36mzoom\u001b[0;34m(input, zoom, output, order, mode, cval, prefilter)\u001b[0m\n\u001b[1;32m    593\u001b[0m                                                    shape=output_shape)\n\u001b[1;32m    594\u001b[0m     \u001b[0mzoom\u001b[0m \u001b[0;34m=\u001b[0m \u001b[0mnumpy\u001b[0m\u001b[0;34m.\u001b[0m\u001b[0mascontiguousarray\u001b[0m\u001b[0;34m(\u001b[0m\u001b[0mzoom\u001b[0m\u001b[0;34m)\u001b[0m\u001b[0;34m\u001b[0m\u001b[0m\n\u001b[0;32m--> 595\u001b[0;31m     \u001b[0m_nd_image\u001b[0m\u001b[0;34m.\u001b[0m\u001b[0mzoom_shift\u001b[0m\u001b[0;34m(\u001b[0m\u001b[0mfiltered\u001b[0m\u001b[0;34m,\u001b[0m \u001b[0mzoom\u001b[0m\u001b[0;34m,\u001b[0m \u001b[0;32mNone\u001b[0m\u001b[0;34m,\u001b[0m \u001b[0moutput\u001b[0m\u001b[0;34m,\u001b[0m \u001b[0morder\u001b[0m\u001b[0;34m,\u001b[0m \u001b[0mmode\u001b[0m\u001b[0;34m,\u001b[0m \u001b[0mcval\u001b[0m\u001b[0;34m)\u001b[0m\u001b[0;34m\u001b[0m\u001b[0m\n\u001b[0m\u001b[1;32m    596\u001b[0m     \u001b[0;32mreturn\u001b[0m \u001b[0moutput\u001b[0m\u001b[0;34m\u001b[0m\u001b[0m\n\u001b[1;32m    597\u001b[0m \u001b[0;34m\u001b[0m\u001b[0m\n",
      "\u001b[0;31mKeyboardInterrupt\u001b[0m: "
     ]
    }
   ],
   "source": [
    "random.seed(313)\n",
    "for scan_id in scan_id_set[ds_type]:#[xx+1:]:\n",
    "    scan_1 = ctscan(scan_id) \n",
    "    S,B=get_segmented_lungs2(scan_1.image_resampled, plot=False)\n",
    "\n",
    "    T = B.shape[1]**2\n",
    "    Areas=[np.sum(b)/T for b in B]\n",
    "    ind2=[i for i,a in enumerate(Areas) if a>.02]\n",
    "    z1,z2=ind2[0],ind2[-1]\n",
    "\n",
    "    for k in range(epochs):\n",
    "        zz=np.random.randint(z1,z2)\n",
    "\n",
    "        Bf=B[zz].flatten()\n",
    "        #In that slice, find the elements that are true\n",
    "        Cs=[i for i,e in enumerate(Bf) if e]\n",
    "        #randomly select an element from Cs\n",
    "        i = random.choice(Cs)\n",
    "        #from i get the original row and column of that element in B\n",
    "        a=B.shape[1];a\n",
    "        r = i//a\n",
    "        c=i-a*r\n",
    "\n",
    "        #Thus, we have succssfully selected a random point that resides inside the lung area\n",
    "        #we would like to extract a 52x52x52 patch from the ctscan volume.\n",
    "        #The patch is centered at the conditioned random point we have generated\n",
    "        m = 52\n",
    "        cz,cy,cx =[zz,r,c]\n",
    "        #grap the volume\n",
    "        image=scan_1.image_normalized #zxy\n",
    "        cube_img,corner0 = get_cube_from_img(image, cx, cy, cz, m)\n",
    "        cube_label,corner1 = get_cube_from_img(scan_1.Z2, cx, cy, cz, m)\n",
    "        if np.sum(cube_label)==0:\n",
    "            #save file\n",
    "            filename=interm_dir3+'data_N_'+str(scan_id)+\"_\"+str(cx)+\"_\"+str(cy)+\"_\"+str(cz)+\".pkl\"\n",
    "            with open(filename, 'wb') as f:  # Python 3: open(..., 'wb')\n",
    "                pickle.dump([cube_img,cube_label.astype(np.bool)], f)\n",
    "        else:\n",
    "            k=k-1\n",
    "\n",
    "#x=[i for i,j in enumerate(scan_id_train) if j==scan_id]\n",
    "#xx=x[0]"
   ]
  },
  {
   "cell_type": "markdown",
   "metadata": {},
   "source": [
    "#### Read Negative Examples\n",
    "it is handy to create a csv file that contains a list of the file names and its class and some other features"
   ]
  },
  {
   "cell_type": "code",
   "execution_count": null,
   "metadata": {},
   "outputs": [],
   "source": [
    "if True:\n",
    "    temp=!ls {interm_dir3} -irlat #>> myfiles2.csv\n",
    "    #keep string that satisfy a condition\n",
    "    temp1=[t for t in temp if \"data\" in t]\n",
    "    temp1[0:5]\n",
    "\n",
    "    temp2=[t.split(\" \")[-1] for t in temp1]\n",
    "\n",
    "    df=pd.DataFrame([t.split(\".\")[0].split(\"_\")[-4:] for t in temp2],columns=['scan_id','x','y','z'])\n",
    "\n",
    "    df['label']=0\n",
    "    df['filename']=temp2\n",
    "    df.to_csv(tmp_path+ds_type+\"df_neg_scanid_centroid.csv\")\n",
    "else:\n",
    "    df=pd.read_csv(tmp_path+ds_type+\"_df_neg_scanid_centroid.csv\",index_col=0)\n",
    "print(df.shape)\n",
    "df.head(20)"
   ]
  },
  {
   "cell_type": "markdown",
   "metadata": {},
   "source": [
    "#### Generate Positive Examples"
   ]
  },
  {
   "cell_type": "markdown",
   "metadata": {},
   "source": [
    "Our Strategy is to:\n",
    "- pick a nodule at random (repition not allowed)\n",
    "- extract the 52x52x52 cube\n",
    "- The naming convention would be pos_scan_id_cx_xy_cz"
   ]
  },
  {
   "cell_type": "code",
   "execution_count": null,
   "metadata": {},
   "outputs": [],
   "source": [
    "m = 52\n",
    "for scan_id in scan_id_train:\n",
    "    #grap the volume\n",
    "    scan_1 = ctscan(scan_id)\n",
    "    image=scan_1.image_normalized #zxy\n",
    "    for c2 in scan_1.centroids2:\n",
    "        cx,cy,cz =c2\n",
    "        cube_img,corner0 = get_cube_from_img(image, cx, cy, cz, m)\n",
    "        cube_label,corner1 = get_cube_from_img(scan_1.Z2, cx, cy, cz, m)\n",
    "        filename=interm_dir2+'data_P_'+str(scan_id)+\"_\"+str(cx)+\"_\"+str(cy)+\"_\"+str(cz)+\".pkl\"\n",
    "        with open(filename, 'wb') as f:  # Python 3: open(..., 'wb')\n",
    "            pickle.dump([cube_img,cube_label.astype(np.bool)], f)"
   ]
  },
  {
   "cell_type": "markdown",
   "metadata": {},
   "source": [
    "#### Read Positive Examples"
   ]
  },
  {
   "cell_type": "code",
   "execution_count": null,
   "metadata": {},
   "outputs": [],
   "source": [
    "if True:\n",
    "    temp=!ls {interm_dir2} -irlat #>> myfiles2.csv\n",
    "    #keep string that satisfy a condition\n",
    "    temp1=[t for t in temp if \"data\" in t]\n",
    "    temp1[0:5]\n",
    "\n",
    "    temp2=[t.split(\" \")[-1] for t in temp1]\n",
    "\n",
    "    df=pd.DataFrame([t.split(\".\")[0].split(\"_\")[-4:] for t in temp2],columns=['scan_id','x','y','z'])\n",
    "    df['label']=1\n",
    "    df['filename']=temp2\n",
    "    #let us compute some analytics\n",
    "    Area=[]\n",
    "    for file in df.filename:\n",
    "        filename=interm_dir2+'/'+file\n",
    "        with open(filename, 'rb') as f:  # Python 3: open(..., 'wb')\n",
    "            X,Y = pickle.load(f)\n",
    "        Area.append(np.sum(Y)/52./52./52.*100)\n",
    "    df[\"Area_percentage\"] = Area\n",
    "    \n",
    "    df.to_csv(tmp_path+ds_type+\"df_pos_scanid_centroid.csv\")\n",
    "else:\n",
    "    df=pd.read_csv(tmp_path+ds_type+\"df_pos_scanid_centroid.csv\",index_col=0)\n",
    "print(df.shape)\n",
    "df.head(20)"
   ]
  },
  {
   "cell_type": "markdown",
   "metadata": {},
   "source": [
    "Let us double check"
   ]
  },
  {
   "cell_type": "code",
   "execution_count": null,
   "metadata": {},
   "outputs": [],
   "source": [
    "filename=interm_dir2+'/'+df.filename[0]\n",
    "print(filename)\n",
    "with open(filename, 'rb') as f:  # Python 3: open(..., 'wb')\n",
    "    X,Y = pickle.load(f)"
   ]
  },
  {
   "cell_type": "code",
   "execution_count": null,
   "metadata": {},
   "outputs": [],
   "source": [
    "zs=52\n",
    "\n",
    "X2 = X.copy()\n",
    "Z2=Y.copy()\n",
    "Z2 = np.ma.masked_where(Z2 ==0 , Z2)\n",
    "\n",
    "num_rows=7\n",
    "num_cols=8\n",
    "\n",
    "f, plots = plt.subplots(num_rows, num_cols, sharex='col', sharey='row', figsize=(5,5))\n",
    "\n",
    "ind=np.arange(0,52)\n",
    "for i in range(zs):\n",
    "    ii=ind[i]\n",
    "    plots[i // num_cols, i % num_cols].axis('off')\n",
    "    plots[i // num_cols, i % num_cols].imshow(X2[ii],'gray',vmin=0,vmax=1)\n",
    "\n",
    "    plots[i // num_cols, i % num_cols].imshow(Z2[ii],alpha=0.7,vmin=0,vmax=1)\n",
    "    plots[i // num_cols, i % num_cols].set_title(str(ii))\n",
    "      \n",
    "plt.tight_layout()"
   ]
  },
  {
   "cell_type": "markdown",
   "metadata": {},
   "source": [
    "#### Combine both into a distribution of n:m (pos:neg)"
   ]
  },
  {
   "cell_type": "code",
   "execution_count": null,
   "metadata": {},
   "outputs": [],
   "source": [
    "dfp=pd.read_csv(tmp_path+ds_type+\"df_pos_scanid_centroid.csv\",index_col=0)\n",
    "del dfp[\"Area_percentage\"]\n",
    "dfp.head()"
   ]
  },
  {
   "cell_type": "code",
   "execution_count": null,
   "metadata": {},
   "outputs": [],
   "source": [
    "dfn=pd.read_csv(tmp_path+ds_type+\"df_neg_scanid_centroid.csv\",index_col=0)\n",
    "dfn.head()"
   ]
  },
  {
   "cell_type": "code",
   "execution_count": null,
   "metadata": {},
   "outputs": [],
   "source": [
    "dfp.shape[0],dfn.shape[0]"
   ]
  },
  {
   "cell_type": "code",
   "execution_count": null,
   "metadata": {},
   "outputs": [],
   "source": [
    "n=np.int(dfp.shape[0]*.2)\n",
    "n"
   ]
  },
  {
   "cell_type": "code",
   "execution_count": null,
   "metadata": {},
   "outputs": [],
   "source": [
    "df2= dfn.sample(n=n,random_state=313).reset_index(drop=True)\n",
    "print(dfn.shape)\n",
    "print(df2.shape)\n",
    "df2.head()"
   ]
  },
  {
   "cell_type": "code",
   "execution_count": null,
   "metadata": {},
   "outputs": [],
   "source": [
    "df=dfp.append(df2)"
   ]
  },
  {
   "cell_type": "code",
   "execution_count": null,
   "metadata": {},
   "outputs": [],
   "source": [
    "df= df.sample(frac=1,random_state=313).reset_index(drop=True)\n",
    "print(df.shape)\n",
    "df.head()"
   ]
  },
  {
   "cell_type": "code",
   "execution_count": null,
   "metadata": {},
   "outputs": [],
   "source": [
    "df.to_csv(processed_path+fname_df)"
   ]
  },
  {
   "cell_type": "markdown",
   "metadata": {},
   "source": [
    "#### Data Augmentation"
   ]
  },
  {
   "cell_type": "markdown",
   "metadata": {},
   "source": [
    "When I generated positive examples, I extracted the mini cube around the nodule. Hence, the nodule will always be at the center. Now, we need to change this by introducing some offset in all directions x,y,z.\n",
    "\n",
    "The strategy is to get a random portion of this mini cube with the condition that the center should belong to the new \"mini mini cube\". The center of the original cube must contain a nodule (by design). Hence, this way we gurantee than the new cube will contain a nodule. \n",
    "\n",
    "By visually looking at the different scenarios of extracting a 32x32x32 cube from a 52x52x52 cube, I can say that all will contain the center.\n"
   ]
  },
  {
   "cell_type": "code",
   "execution_count": null,
   "metadata": {},
   "outputs": [],
   "source": [
    "random.seed(313)\n",
    "def random_crop(img,label):\n",
    "    #compute the upper left corner of the new cube\n",
    "    x = random.randint(0, 20) #Assume input is 52x52x52\n",
    "    y = random.randint(0, 20) #Assume input is 52x52x52\n",
    "    z = random.randint(0, 20) #Assume input is 52x52x52\n",
    "    img2 = img[x:x+32,y:y+32,z:z+32]\n",
    "    label2 = label[x:x+32,y:y+32,z:z+32]\n",
    "\n",
    "    return img2,label2"
   ]
  },
  {
   "cell_type": "code",
   "execution_count": null,
   "metadata": {},
   "outputs": [],
   "source": [
    "filename=interm_dir2+df.filename[12]\n",
    "print(filename)\n",
    "with open(filename, 'rb') as f:  # Python 3: open(..., 'wb')\n",
    "    X,Y = pickle.load(f)"
   ]
  },
  {
   "cell_type": "code",
   "execution_count": null,
   "metadata": {},
   "outputs": [],
   "source": [
    "zs=32\n",
    "\n",
    "X2,Z2 = random_crop(X,Y)\n",
    "Z2 = np.ma.masked_where(Z2 ==0 , Z2)\n",
    "\n",
    "num_rows=6\n",
    "num_cols=6\n",
    "\n",
    "f, plots = plt.subplots(num_rows, num_cols, sharex='col', sharey='row', figsize=(5,5))\n",
    "\n",
    "ind=np.arange(0,32)\n",
    "for i in range(zs):\n",
    "    ii=ind[i]\n",
    "    plots[i // num_cols, i % num_cols].axis('off')\n",
    "    plots[i // num_cols, i % num_cols].imshow(X2[ii],'gray',vmin=0,vmax=1)\n",
    "\n",
    "    plots[i // num_cols, i % num_cols].imshow(Z2[ii],alpha=0.7,vmin=0,vmax=1)\n",
    "    plots[i // num_cols, i % num_cols].set_title(str(ii))\n",
    "      \n",
    "plt.tight_layout()"
   ]
  },
  {
   "cell_type": "markdown",
   "metadata": {},
   "source": [
    "#### Convert into rec file"
   ]
  },
  {
   "cell_type": "code",
   "execution_count": null,
   "metadata": {},
   "outputs": [],
   "source": [
    "import datetime \n",
    "\n",
    "now = datetime.datetime.now()\n",
    "today = now.strftime('%Y-%m-%d')"
   ]
  },
  {
   "cell_type": "code",
   "execution_count": null,
   "metadata": {},
   "outputs": [],
   "source": [
    "today = today.replace('-','_')"
   ]
  },
  {
   "cell_type": "code",
   "execution_count": null,
   "metadata": {
    "code_folding": [
     2,
     19
    ]
   },
   "outputs": [],
   "source": [
    "import mxnet as mx #pip install mxnet-cu80\n",
    "#write to .rec file\n",
    "if False:#No longer used\n",
    "    fname==processed_path+ds_type+today+'.rec'\n",
    "\n",
    "    record = mx.recordio.MXRecordIO(fname, 'w')\n",
    "\n",
    "    counter=0\n",
    "    sum_img=np.zeros((32,32,32))\n",
    "\n",
    "\n",
    "    for index, row in df.iterrows():\n",
    "        if row['label']==1:\n",
    "            path=interm_dir2\n",
    "        else:\n",
    "            path=interm_dir3\n",
    "\n",
    "        filename=path+'/'+row.filename\n",
    "\n",
    "        with open(filename, 'rb') as f:  # Python 3: open(..., 'wb')\n",
    "            x,t=pickle.load(f)\n",
    "            x,t = random_crop(x,t)\n",
    "\n",
    "\n",
    "\n",
    "        sum_img+=x\n",
    "\n",
    "        t=1*t.flatten()#(255*t.flatten()).astype(np.uint8)\n",
    "        x=x.flatten()#(255*x.flatten()).astype(np.uint8)\n",
    "        header = mx.recordio.IRHeader(flag=0, label=x, id=int(counter), id2=0)\n",
    "        s = mx.recordio.pack_img(header, t, quality=100,img_fmt='.png')\n",
    "        record.write(s)\n",
    "        counter +=1\n",
    "    record.close()"
   ]
  },
  {
   "cell_type": "markdown",
   "metadata": {},
   "source": [
    "With the above method, I can read data sequentially. However, I need to create a .rec file that supports random access. "
   ]
  },
  {
   "cell_type": "code",
   "execution_count": null,
   "metadata": {},
   "outputs": [],
   "source": [
    "import mxnet as mx #pip install mxnet-cu80\n",
    "#write to .rec file\n",
    "if True:    \n",
    "    fname=processed_path+ds_type+today+'.rec'\n",
    "    idx=processed_path+ds_type+today+'.idx'\n",
    "\n",
    "    record = mx.recordio.MXIndexedRecordIO(idx, fname, 'w')\n",
    "\n",
    "    counter=0\n",
    "    sum_img=np.zeros((32,32,32))\n",
    "\n",
    "\n",
    "    for index, row in df.iterrows():\n",
    "        if row['label']==1:\n",
    "            path=interm_dir2\n",
    "        else:\n",
    "            path=interm_dir3\n",
    "\n",
    "        filename=path+'/'+row.filename\n",
    "\n",
    "        with open(filename, 'rb') as f:  # Python 3: open(..., 'wb')\n",
    "            x,t=pickle.load(f)\n",
    "            x,t = random_crop(x,t)\n",
    "\n",
    "\n",
    "\n",
    "        sum_img+=x\n",
    "\n",
    "        t=1*t.flatten()#(255*t.flatten()).astype(np.uint8)\n",
    "        x=x.flatten()#(255*x.flatten()).astype(np.uint8)\n",
    "        header = mx.recordio.IRHeader(flag=0, label=x, id=int(counter), id2=0)\n",
    "        s = mx.recordio.pack_img(header, t, quality=100,img_fmt='.png')\n",
    "        record.write_idx(counter,s)\n",
    "        counter +=1\n",
    "    record.close()"
   ]
  },
  {
   "cell_type": "markdown",
   "metadata": {},
   "source": [
    "#### Repeat for validate"
   ]
  },
  {
   "cell_type": "code",
   "execution_count": null,
   "metadata": {},
   "outputs": [],
   "source": [
    "ds_type = ds_valid\n",
    "interm_dir3 = tmp_path+ds_type+'/neg/'\n",
    "interm_dir2 = tmp_path+ds_type+'/pos/'\n",
    "fname_df = 'df_'+ds_type+'.csv'"
   ]
  },
  {
   "cell_type": "code",
   "execution_count": null,
   "metadata": {},
   "outputs": [],
   "source": [
    "\n",
    "random.seed(313)\n",
    "for scan_id in scan_id_set[ds_type]:#[xx+1:]:\n",
    "    scan_1 = ctscan(scan_id) \n",
    "    S,B=get_segmented_lungs2(scan_1.image_resampled, plot=False)\n",
    "\n",
    "    T = B.shape[1]**2\n",
    "    Areas=[np.sum(b)/T for b in B]\n",
    "    ind2=[i for i,a in enumerate(Areas) if a>.02]\n",
    "    z1,z2=ind2[0],ind2[-1]\n",
    "\n",
    "    for k in range(10):\n",
    "        zz=np.random.randint(z1,z2)\n",
    "\n",
    "        Bf=B[zz].flatten()\n",
    "        #In that slice, find the elements that are true\n",
    "        Cs=[i for i,e in enumerate(Bf) if e]\n",
    "        #randomly select an element from Cs\n",
    "        i = random.choice(Cs)\n",
    "        #from i get the original row and column of that element in B\n",
    "        a=B.shape[1];a\n",
    "        r = i//a\n",
    "        c=i-a*r\n",
    "\n",
    "        #Thus, we have succssfully selected a random point that resides inside the lung area\n",
    "        #we would like to extract a 52x52x52 patch from the ctscan volume.\n",
    "        #The patch is centered at the conditioned random point we have generated\n",
    "        m = 52\n",
    "        cz,cy,cx =[zz,r,c]\n",
    "        #grap the volume\n",
    "        image=scan_1.image_normalized #zxy\n",
    "        cube_img,corner0 = get_cube_from_img(image, cx, cy, cz, m)\n",
    "        cube_label,corner1 = get_cube_from_img(scan_1.Z2, cx, cy, cz, m)\n",
    "        if np.sum(cube_label)==0:\n",
    "            #save file\n",
    "            filename=interm_dir3+'data_N_'+str(scan_id)+\"_\"+str(cx)+\"_\"+str(cy)+\"_\"+str(cz)+\".pkl\"\n",
    "            with open(filename, 'wb') as f:  # Python 3: open(..., 'wb')\n",
    "                pickle.dump([cube_img,cube_label.astype(np.bool)], f)\n",
    "        else:\n",
    "            k=k-1\n",
    "\n",
    "#x=[i for i,j in enumerate(scan_id_train) if j==scan_id]\n",
    "#xx=x[0]\n",
    "\n",
    "if True:\n",
    "    temp=!ls {interm_dir3} -irlat #>> myfiles2.csv\n",
    "    #keep string that satisfy a condition\n",
    "    temp1=[t for t in temp if \"data\" in t]\n",
    "    temp1[0:5]\n",
    "\n",
    "    temp2=[t.split(\" \")[-1] for t in temp1]\n",
    "\n",
    "    df=pd.DataFrame([t.split(\".\")[0].split(\"_\")[-4:] for t in temp2],columns=['scan_id','x','y','z'])\n",
    "\n",
    "    df['label']=0\n",
    "    df['filename']=temp2\n",
    "    df.to_csv(tmp_path+ds_type+\"df_neg_scanid_centroid.csv\")\n",
    "else:\n",
    "    df=pd.read_csv(tmp_path+ds_type+\"_df_neg_scanid_centroid.csv\",index_col=0)\n",
    "print(df.shape)\n",
    "df.head(20)\n",
    "\n",
    "m = 52\n",
    "for scan_id in scan_id_train:\n",
    "    #grap the volume\n",
    "    scan_1 = ctscan(scan_id)\n",
    "    image=scan_1.image_normalized #zxy\n",
    "    for c2 in scan_1.centroids2:\n",
    "        cx,cy,cz =c2\n",
    "        cube_img,corner0 = get_cube_from_img(image, cx, cy, cz, m)\n",
    "        cube_label,corner1 = get_cube_from_img(scan_1.Z2, cx, cy, cz, m)\n",
    "        filename=interm_dir2+'data_P_'+str(scan_id)+\"_\"+str(cx)+\"_\"+str(cy)+\"_\"+str(cz)+\".pkl\"\n",
    "        with open(filename, 'wb') as f:  # Python 3: open(..., 'wb')\n",
    "            pickle.dump([cube_img,cube_label.astype(np.bool)], f)\n",
    "\n",
    "if True:\n",
    "    temp=!ls {interm_dir2} -irlat #>> myfiles2.csv\n",
    "    #keep string that satisfy a condition\n",
    "    temp1=[t for t in temp if \"data\" in t]\n",
    "    temp1[0:5]\n",
    "\n",
    "    temp2=[t.split(\" \")[-1] for t in temp1]\n",
    "\n",
    "    df=pd.DataFrame([t.split(\".\")[0].split(\"_\")[-4:] for t in temp2],columns=['scan_id','x','y','z'])\n",
    "    df['label']=1\n",
    "    df['filename']=temp2\n",
    "    #let us compute some analytics\n",
    "    Area=[]\n",
    "    for file in df.filename:\n",
    "        filename=interm_dir2+'/'+file\n",
    "        with open(filename, 'rb') as f:  # Python 3: open(..., 'wb')\n",
    "            X,Y = pickle.load(f)\n",
    "        Area.append(np.sum(Y)/52./52./52.*100)\n",
    "    df[\"Area_percentage\"] = Area\n",
    "    \n",
    "    df.to_csv(tmp_path+ds_type+\"df_pos_scanid_centroid.csv\")\n",
    "else:\n",
    "    df=pd.read_csv(tmp_path+ds_type+\"df_pos_scanid_centroid.csv\",index_col=0)\n",
    "print(df.shape)\n",
    "df.head(20)\n",
    "\n",
    "dfp=pd.read_csv(tmp_path+ds_type+\"df_pos_scanid_centroid.csv\",index_col=0)\n",
    "del dfp[\"Area_percentage\"]\n",
    "dfp.head()\n",
    "\n",
    "dfn=pd.read_csv(tmp_path+ds_type+\"df_neg_scanid_centroid.csv\",index_col=0)\n",
    "dfn.head()\n",
    "\n",
    "df2= dfn.sample(frac=.08,random_state=313).reset_index(drop=True)\n",
    "print(dfn.shape)\n",
    "print(df2.shape)\n",
    "df2.head()\n",
    "\n",
    "df=dfp.append(df2)\n",
    "\n",
    "df= df.sample(frac=1,random_state=313).reset_index(drop=True)\n",
    "print(df.shape)\n",
    "df.head()\n",
    "\n",
    "df.to_csv(processed_path+fname_df)\n",
    "\n",
    "now = datetime.datetime.now()\n",
    "today = now.strftime('%Y-%m-%d')\n",
    "\n",
    "today = today.replace('-','_')\n",
    "\n",
    "#write to .rec file\n",
    "if True:    \n",
    "    fname=processed_path+ds_type+today+'.rec'\n",
    "    idx=processed_path+ds_type+today+'.idx'\n",
    "\n",
    "    record = mx.recordio.MXIndexedRecordIO(idx, fname, 'w')\n",
    "\n",
    "    counter=0\n",
    "    sum_img=np.zeros((32,32,32))\n",
    "\n",
    "\n",
    "    for index, row in df.iterrows():\n",
    "        if row['label']==1:\n",
    "            path=interm_dir2\n",
    "        else:\n",
    "            path=interm_dir3\n",
    "\n",
    "        filename=path+'/'+row.filename\n",
    "\n",
    "        with open(filename, 'rb') as f:  # Python 3: open(..., 'wb')\n",
    "            x,t=pickle.load(f)\n",
    "            x,t = random_crop(x,t)\n",
    "\n",
    "\n",
    "\n",
    "        sum_img+=x\n",
    "\n",
    "        t=1*t.flatten()#(255*t.flatten()).astype(np.uint8)\n",
    "        x=x.flatten()#(255*x.flatten()).astype(np.uint8)\n",
    "        header = mx.recordio.IRHeader(flag=0, label=x, id=int(counter), id2=0)\n",
    "        s = mx.recordio.pack_img(header, t, quality=100,img_fmt='.png')\n",
    "        record.write_idx(counter,s)\n",
    "        counter +=1\n",
    "    record.close()"
   ]
  },
  {
   "cell_type": "markdown",
   "metadata": {},
   "source": [
    "#### Repeat for test"
   ]
  },
  {
   "cell_type": "code",
   "execution_count": null,
   "metadata": {},
   "outputs": [],
   "source": [
    "ds_type = ds_test\n",
    "interm_dir3 = tmp_path+ds_type+'/neg/'\n",
    "interm_dir2 = tmp_path+ds_type+'/pos/'\n",
    "fname_df = 'df_'+ds_type+'.csv'"
   ]
  },
  {
   "cell_type": "code",
   "execution_count": null,
   "metadata": {},
   "outputs": [],
   "source": [
    "random.seed(313)\n",
    "for scan_id in scan_id_set[ds_type]:#[xx+1:]:\n",
    "    scan_1 = ctscan(scan_id) \n",
    "    S,B=get_segmented_lungs2(scan_1.image_resampled, plot=False)\n",
    "\n",
    "    T = B.shape[1]**2\n",
    "    Areas=[np.sum(b)/T for b in B]\n",
    "    ind2=[i for i,a in enumerate(Areas) if a>.02]\n",
    "    z1,z2=ind2[0],ind2[-1]\n",
    "\n",
    "    for k in range(10):\n",
    "        zz=np.random.randint(z1,z2)\n",
    "\n",
    "        Bf=B[zz].flatten()\n",
    "        #In that slice, find the elements that are true\n",
    "        Cs=[i for i,e in enumerate(Bf) if e]\n",
    "        #randomly select an element from Cs\n",
    "        i = random.choice(Cs)\n",
    "        #from i get the original row and column of that element in B\n",
    "        a=B.shape[1];a\n",
    "        r = i//a\n",
    "        c=i-a*r\n",
    "\n",
    "        #Thus, we have succssfully selected a random point that resides inside the lung area\n",
    "        #we would like to extract a 52x52x52 patch from the ctscan volume.\n",
    "        #The patch is centered at the conditioned random point we have generated\n",
    "        m = 52\n",
    "        cz,cy,cx =[zz,r,c]\n",
    "        #grap the volume\n",
    "        image=scan_1.image_normalized #zxy\n",
    "        cube_img,corner0 = get_cube_from_img(image, cx, cy, cz, m)\n",
    "        cube_label,corner1 = get_cube_from_img(scan_1.Z2, cx, cy, cz, m)\n",
    "        if np.sum(cube_label)==0:\n",
    "            #save file\n",
    "            filename=interm_dir3+'data_N_'+str(scan_id)+\"_\"+str(cx)+\"_\"+str(cy)+\"_\"+str(cz)+\".pkl\"\n",
    "            with open(filename, 'wb') as f:  # Python 3: open(..., 'wb')\n",
    "                pickle.dump([cube_img,cube_label.astype(np.bool)], f)\n",
    "        else:\n",
    "            k=k-1\n",
    "\n",
    "#x=[i for i,j in enumerate(scan_id_train) if j==scan_id]\n",
    "#xx=x[0]\n",
    "\n",
    "if True:\n",
    "    temp=!ls {interm_dir3} -irlat #>> myfiles2.csv\n",
    "    #keep string that satisfy a condition\n",
    "    temp1=[t for t in temp if \"data\" in t]\n",
    "    temp1[0:5]\n",
    "\n",
    "    temp2=[t.split(\" \")[-1] for t in temp1]\n",
    "\n",
    "    df=pd.DataFrame([t.split(\".\")[0].split(\"_\")[-4:] for t in temp2],columns=['scan_id','x','y','z'])\n",
    "\n",
    "    df['label']=0\n",
    "    df['filename']=temp2\n",
    "    df.to_csv(tmp_path+ds_type+\"df_neg_scanid_centroid.csv\")\n",
    "else:\n",
    "    df=pd.read_csv(tmp_path+ds_type+\"_df_neg_scanid_centroid.csv\",index_col=0)\n",
    "print(df.shape)\n",
    "df.head(20)\n",
    "\n",
    "m = 52\n",
    "for scan_id in scan_id_train:\n",
    "    #grap the volume\n",
    "    scan_1 = ctscan(scan_id)\n",
    "    image=scan_1.image_normalized #zxy\n",
    "    for c2 in scan_1.centroids2:\n",
    "        cx,cy,cz =c2\n",
    "        cube_img,corner0 = get_cube_from_img(image, cx, cy, cz, m)\n",
    "        cube_label,corner1 = get_cube_from_img(scan_1.Z2, cx, cy, cz, m)\n",
    "        filename=interm_dir2+'data_P_'+str(scan_id)+\"_\"+str(cx)+\"_\"+str(cy)+\"_\"+str(cz)+\".pkl\"\n",
    "        with open(filename, 'wb') as f:  # Python 3: open(..., 'wb')\n",
    "            pickle.dump([cube_img,cube_label.astype(np.bool)], f)\n",
    "\n",
    "if True:\n",
    "    temp=!ls {interm_dir2} -irlat #>> myfiles2.csv\n",
    "    #keep string that satisfy a condition\n",
    "    temp1=[t for t in temp if \"data\" in t]\n",
    "    temp1[0:5]\n",
    "\n",
    "    temp2=[t.split(\" \")[-1] for t in temp1]\n",
    "\n",
    "    df=pd.DataFrame([t.split(\".\")[0].split(\"_\")[-4:] for t in temp2],columns=['scan_id','x','y','z'])\n",
    "    df['label']=1\n",
    "    df['filename']=temp2\n",
    "    #let us compute some analytics\n",
    "    Area=[]\n",
    "    for file in df.filename:\n",
    "        filename=interm_dir2+'/'+file\n",
    "        with open(filename, 'rb') as f:  # Python 3: open(..., 'wb')\n",
    "            X,Y = pickle.load(f)\n",
    "        Area.append(np.sum(Y)/52./52./52.*100)\n",
    "    df[\"Area_percentage\"] = Area\n",
    "    \n",
    "    df.to_csv(tmp_path+ds_type+\"df_pos_scanid_centroid.csv\")\n",
    "else:\n",
    "    df=pd.read_csv(tmp_path+ds_type+\"df_pos_scanid_centroid.csv\",index_col=0)\n",
    "print(df.shape)\n",
    "df.head(20)\n",
    "\n",
    "dfp=pd.read_csv(tmp_path+ds_type+\"df_pos_scanid_centroid.csv\",index_col=0)\n",
    "del dfp[\"Area_percentage\"]\n",
    "dfp.head()\n",
    "\n",
    "dfn=pd.read_csv(tmp_path+ds_type+\"df_neg_scanid_centroid.csv\",index_col=0)\n",
    "dfn.head()\n",
    "\n",
    "df2= dfn.sample(frac=.08,random_state=313).reset_index(drop=True)\n",
    "print(dfn.shape)\n",
    "print(df2.shape)\n",
    "df2.head()\n",
    "\n",
    "df=dfp.append(df2)\n",
    "\n",
    "df= df.sample(frac=1,random_state=313).reset_index(drop=True)\n",
    "print(df.shape)\n",
    "df.head()\n",
    "\n",
    "df.to_csv(processed_path+fname_df)\n",
    "\n",
    "now = datetime.datetime.now()\n",
    "today = now.strftime('%Y-%m-%d')\n",
    "\n",
    "today = today.replace('-','_')\n",
    "\n",
    "#write to .rec file\n",
    "if True:    \n",
    "    fname=processed_path+ds_type+today+'.rec'\n",
    "    idx=processed_path+ds_type+today+'.idx'\n",
    "\n",
    "    record = mx.recordio.MXIndexedRecordIO(idx, fname, 'w')\n",
    "\n",
    "    counter=0\n",
    "    sum_img=np.zeros((32,32,32))\n",
    "\n",
    "\n",
    "    for index, row in df.iterrows():\n",
    "        if row['label']==1:\n",
    "            path=interm_dir2\n",
    "        else:\n",
    "            path=interm_dir3\n",
    "\n",
    "        filename=path+'/'+row.filename\n",
    "\n",
    "        with open(filename, 'rb') as f:  # Python 3: open(..., 'wb')\n",
    "            x,t=pickle.load(f)\n",
    "            x,t = random_crop(x,t)\n",
    "\n",
    "\n",
    "\n",
    "        sum_img+=x\n",
    "\n",
    "        t=1*t.flatten()#(255*t.flatten()).astype(np.uint8)\n",
    "        x=x.flatten()#(255*x.flatten()).astype(np.uint8)\n",
    "        header = mx.recordio.IRHeader(flag=0, label=x, id=int(counter), id2=0)\n",
    "        s = mx.recordio.pack_img(header, t, quality=100,img_fmt='.png')\n",
    "        record.write_idx(counter,s)\n",
    "        counter +=1\n",
    "    record.close()"
   ]
  },
  {
   "cell_type": "markdown",
   "metadata": {},
   "source": [
    "## Model"
   ]
  },
  {
   "cell_type": "markdown",
   "metadata": {},
   "source": [
    "### Configuration"
   ]
  },
  {
   "cell_type": "code",
   "execution_count": null,
   "metadata": {},
   "outputs": [],
   "source": [
    "%reload_ext autoreload\n",
    "%autoreload 2\n",
    "%matplotlib inline"
   ]
  },
  {
   "cell_type": "code",
   "execution_count": null,
   "metadata": {},
   "outputs": [],
   "source": [
    "import sys\n",
    "sys.path.insert(0,\"./src\")\n",
    "import mynnet7 as nn\n",
    "import mxnet as mx"
   ]
  },
  {
   "cell_type": "code",
   "execution_count": null,
   "metadata": {},
   "outputs": [],
   "source": [
    "interm_dir4='/home/mas/x110/data'\n",
    "train_data_path=interm_dir4+'/Train23Oct2018augment.rec'\n",
    "train_idx_path=interm_dir4+'/idx_Train23Oct2018augment.idx'"
   ]
  },
  {
   "cell_type": "code",
   "execution_count": null,
   "metadata": {},
   "outputs": [],
   "source": [
    "!mkdir /home/mas/x110/model"
   ]
  },
  {
   "cell_type": "code",
   "execution_count": null,
   "metadata": {},
   "outputs": [],
   "source": [
    "prefix = \"/home/mas/x110/model/oct26\""
   ]
  },
  {
   "cell_type": "markdown",
   "metadata": {},
   "source": [
    "### Compute Dataset Statistics"
   ]
  },
  {
   "cell_type": "markdown",
   "metadata": {},
   "source": [
    "#### Find Mean"
   ]
  },
  {
   "cell_type": "code",
   "execution_count": null,
   "metadata": {},
   "outputs": [],
   "source": [
    "BATCH_SIZE=1\n",
    "train_iter= nn.FileIter(train_data_path,train_idx_path,batch_size=BATCH_SIZE,do_augment=True,mean_image=0,std_image=1)\n",
    "train_iter.reset()\n",
    "x_mean = np.zeros((32,32,32))\n",
    "for i,batch in enumerate(train_iter):\n",
    "    X =  batch.data[0][0][0].asnumpy()\n",
    "    x_mean+=X\n",
    "x_mean=np.mean(x_mean/i)\n",
    "x_mean#x_mean=.2815"
   ]
  },
  {
   "cell_type": "markdown",
   "metadata": {},
   "source": [
    "#### Find Variance"
   ]
  },
  {
   "cell_type": "code",
   "execution_count": null,
   "metadata": {},
   "outputs": [],
   "source": [
    "BATCH_SIZE=1\n",
    "train_iter=nn.FileIter(train_data_path,train_idx_path,batch_size=BATCH_SIZE,do_augment=True,mean_image=0,std_image = 1)\n",
    "train_iter.reset()\n",
    "x_var = np.zeros((32,32,32))\n",
    "for i,batch in enumerate(train_iter):\n",
    "    X =  (batch.data[0][0][0].asnumpy()-x_mean)**2\n",
    "    x_var+=X\n",
    "#x_var=x_var/(i-1)\n",
    "#x_var#x_mean=.2815\n",
    "N = i*32*32*32\n",
    "x_var = np.sum(x_var)/(N-1)\n",
    "x_var#x_var = .07877\n",
    "x_std = np.sqrt(x_var)#x_std=.2807\n",
    "x_std"
   ]
  },
  {
   "cell_type": "markdown",
   "metadata": {},
   "source": [
    "### Define Data Iterator"
   ]
  },
  {
   "cell_type": "code",
   "execution_count": null,
   "metadata": {},
   "outputs": [],
   "source": [
    "BATCH_SIZE=5\n",
    "train_iter=nn.FileIter(train_data_path,train_idx_path,batch_size=BATCH_SIZE,do_augment=False,mean_image=x_mean,std_image = x_std)\n",
    "input_shapes = dict(train_iter.provide_data+train_iter.provide_label)\n",
    "print(input_shapes)"
   ]
  },
  {
   "cell_type": "code",
   "execution_count": null,
   "metadata": {},
   "outputs": [],
   "source": [
    "print(input_shapes)"
   ]
  },
  {
   "cell_type": "code",
   "execution_count": null,
   "metadata": {},
   "outputs": [],
   "source": [
    "BATCH_SIZE=5\n",
    "valid_iter=nn.FileIter(train_data_path,train_idx_path,batch_size=BATCH_SIZE,do_augment=False,mean_image=x_mean,std_image = x_std)"
   ]
  },
  {
   "cell_type": "code",
   "execution_count": null,
   "metadata": {},
   "outputs": [],
   "source": [
    "train_iter.reset()\n",
    "valid_iter.reset()"
   ]
  },
  {
   "cell_type": "markdown",
   "metadata": {},
   "source": [
    "### Define Optimizer"
   ]
  },
  {
   "cell_type": "code",
   "execution_count": 17,
   "metadata": {},
   "outputs": [],
   "source": [
    "# ===============Optimizer=================                        \n",
    "# We also need to create an optimizer for updating weights\n",
    "opt = mx.optimizer.SGD(\n",
    "    learning_rate=.01,momentum=0.99,wd=0.000001)\n",
    "    \n",
    "updater = mx.optimizer.get_updater(opt)"
   ]
  },
  {
   "cell_type": "markdown",
   "metadata": {},
   "source": [
    "### Define Metric"
   ]
  },
  {
   "cell_type": "code",
   "execution_count": 20,
   "metadata": {},
   "outputs": [],
   "source": [
    "metric = mx.metric.CustomMetric(feval=nn.dice_coef2)"
   ]
  },
  {
   "cell_type": "markdown",
   "metadata": {},
   "source": [
    "### Define Model Architecture"
   ]
  },
  {
   "cell_type": "code",
   "execution_count": 21,
   "metadata": {},
   "outputs": [],
   "source": []
  },
  {
   "cell_type": "markdown",
   "metadata": {},
   "source": [
    "### Initialize Network Weights"
   ]
  },
  {
   "cell_type": "markdown",
   "metadata": {},
   "source": [
    "#### Load Pretrained Neural Network"
   ]
  },
  {
   "cell_type": "code",
   "execution_count": null,
   "metadata": {},
   "outputs": [],
   "source": [
    "if True:\n",
    "    model_path = \"/home/mas/x110/model/oct22\"\n",
    "    model_epoch=499\n",
    "    network, arg_params, aux_params = mx.model.load_checkpoint(model_path , model_epoch)\n",
    "\n",
    "    # Binding\n",
    "    exe = network.simple_bind(ctx=mx.gpu(0), **input_shapes)\n",
    "    # get handle to input arrays\n",
    "    arg_arrays = dict(zip(network.list_arguments(), exe.arg_arrays))\n",
    "    data = arg_arrays[train_iter.provide_data[0][0]]\n",
    "    label = arg_arrays[train_iter.provide_label[0][0]]\n",
    "\n",
    "\n",
    "    exe.copy_params_from(arg_params, aux_params)"
   ]
  },
  {
   "cell_type": "markdown",
   "metadata": {},
   "source": [
    "#### Initialize network to random Weights"
   ]
  },
  {
   "cell_type": "code",
   "execution_count": 23,
   "metadata": {},
   "outputs": [],
   "source": [
    "network = nn.get_net_317()\n",
    "init = mx.init.Normal(0.01) #note biases and gamma/beta are not affected\n",
    "\n",
    "# Binding\n",
    "exe = network.simple_bind(ctx=mx.gpu(), **input_shapes)\n",
    "# get handle to input arrays\n",
    "arg_arrays = dict(zip(network.list_arguments(), exe.arg_arrays))\n",
    "data = arg_arrays[train_iter.provide_data[0][0]]\n",
    "label = arg_arrays[train_iter.provide_label[0][0]]\n",
    "\n",
    "# Binding\n",
    "exe = network.simple_bind(ctx=mx.gpu(), **input_shapes)\n",
    "# get handle to input arrays\n",
    "arg_arrays = dict(zip(network.list_arguments(), exe.arg_arrays))\n",
    "data = arg_arrays[train_iter.provide_data[0][0]]\n",
    "label = arg_arrays[train_iter.provide_label[0][0]]"
   ]
  },
  {
   "cell_type": "markdown",
   "metadata": {},
   "source": [
    "### Train Network"
   ]
  },
  {
   "cell_type": "markdown",
   "metadata": {},
   "source": [
    "#### Find a good learning rate"
   ]
  },
  {
   "cell_type": "code",
   "execution_count": 37,
   "metadata": {},
   "outputs": [],
   "source": [
    "nb=train_iter.num_data//train_iter.batch_size"
   ]
  },
  {
   "cell_type": "code",
   "execution_count": 38,
   "metadata": {},
   "outputs": [],
   "source": [
    "sched=nn.lr_find(1e-4,nb,end_lr=1)"
   ]
  },
  {
   "cell_type": "code",
   "execution_count": 39,
   "metadata": {},
   "outputs": [],
   "source": [
    "# We also need to create an optimizer for updating weights\n",
    "opt = mx.optimizer.SGD(\n",
    "    learning_rate=.01,\n",
    "    momentum=0.9,\n",
    "    wd=0.00001,\n",
    "    lr_scheduler=sched)\n",
    "\n",
    "updater = mx.optimizer.get_updater(opt)"
   ]
  },
  {
   "cell_type": "code",
   "execution_count": 40,
   "metadata": {},
   "outputs": [
    {
     "ename": "ValueError",
     "evalue": "Shape of labels 1 does not match shape of predictions 5",
     "output_type": "error",
     "traceback": [
      "\u001b[0;31m---------------------------------------------------------------------------\u001b[0m",
      "\u001b[0;31mValueError\u001b[0m                                Traceback (most recent call last)",
      "\u001b[0;32m<ipython-input-40-aa0ccd5d3eda>\u001b[0m in \u001b[0;36m<module>\u001b[0;34m()\u001b[0m\n\u001b[1;32m     48\u001b[0m         \u001b[0;31m# predict\u001b[0m\u001b[0;34m\u001b[0m\u001b[0;34m\u001b[0m\u001b[0m\n\u001b[1;32m     49\u001b[0m         \u001b[0moutputs\u001b[0m \u001b[0;34m=\u001b[0m \u001b[0mexe\u001b[0m\u001b[0;34m.\u001b[0m\u001b[0mforward\u001b[0m\u001b[0;34m(\u001b[0m\u001b[0mis_train\u001b[0m\u001b[0;34m=\u001b[0m\u001b[0;32mFalse\u001b[0m\u001b[0;34m)\u001b[0m\u001b[0;34m\u001b[0m\u001b[0m\n\u001b[0;32m---> 50\u001b[0;31m         \u001b[0mmetric\u001b[0m\u001b[0;34m.\u001b[0m\u001b[0mupdate\u001b[0m\u001b[0;34m(\u001b[0m\u001b[0mbatch\u001b[0m\u001b[0;34m.\u001b[0m\u001b[0mlabel\u001b[0m\u001b[0;34m[\u001b[0m\u001b[0;36m0\u001b[0m\u001b[0;34m]\u001b[0m\u001b[0;34m,\u001b[0m \u001b[0mexe\u001b[0m\u001b[0;34m.\u001b[0m\u001b[0moutputs\u001b[0m\u001b[0;34m[\u001b[0m\u001b[0;36m0\u001b[0m\u001b[0;34m]\u001b[0m\u001b[0;34m)\u001b[0m\u001b[0;34m\u001b[0m\u001b[0m\n\u001b[0m\u001b[1;32m     51\u001b[0m     \u001b[0me\u001b[0m\u001b[0;34m=\u001b[0m\u001b[0mmetric\u001b[0m\u001b[0;34m.\u001b[0m\u001b[0mget\u001b[0m\u001b[0;34m(\u001b[0m\u001b[0;34m)\u001b[0m\u001b[0;34m\u001b[0m\u001b[0m\n\u001b[1;32m     52\u001b[0m     \u001b[0merr_valid\u001b[0m\u001b[0;34m=\u001b[0m\u001b[0;34m-\u001b[0m\u001b[0me\u001b[0m\u001b[0;34m[\u001b[0m\u001b[0;36m1\u001b[0m\u001b[0;34m]\u001b[0m\u001b[0;34m.\u001b[0m\u001b[0masnumpy\u001b[0m\u001b[0;34m(\u001b[0m\u001b[0;34m)\u001b[0m\u001b[0;34m[\u001b[0m\u001b[0;36m0\u001b[0m\u001b[0;34m]\u001b[0m\u001b[0;34m\u001b[0m\u001b[0m\n",
      "\u001b[0;32m~/.virtualenvs/colab/lib/python3.5/site-packages/mxnet/metric.py\u001b[0m in \u001b[0;36mupdate\u001b[0;34m(self, labels, preds)\u001b[0m\n\u001b[1;32m   1370\u001b[0m         \"\"\"\n\u001b[1;32m   1371\u001b[0m         \u001b[0;32mif\u001b[0m \u001b[0;32mnot\u001b[0m \u001b[0mself\u001b[0m\u001b[0;34m.\u001b[0m\u001b[0m_allow_extra_outputs\u001b[0m\u001b[0;34m:\u001b[0m\u001b[0;34m\u001b[0m\u001b[0m\n\u001b[0;32m-> 1372\u001b[0;31m             \u001b[0mlabels\u001b[0m\u001b[0;34m,\u001b[0m \u001b[0mpreds\u001b[0m \u001b[0;34m=\u001b[0m \u001b[0mcheck_label_shapes\u001b[0m\u001b[0;34m(\u001b[0m\u001b[0mlabels\u001b[0m\u001b[0;34m,\u001b[0m \u001b[0mpreds\u001b[0m\u001b[0;34m,\u001b[0m \u001b[0;32mTrue\u001b[0m\u001b[0;34m)\u001b[0m\u001b[0;34m\u001b[0m\u001b[0m\n\u001b[0m\u001b[1;32m   1373\u001b[0m \u001b[0;34m\u001b[0m\u001b[0m\n\u001b[1;32m   1374\u001b[0m         \u001b[0;32mfor\u001b[0m \u001b[0mpred\u001b[0m\u001b[0;34m,\u001b[0m \u001b[0mlabel\u001b[0m \u001b[0;32min\u001b[0m \u001b[0mzip\u001b[0m\u001b[0;34m(\u001b[0m\u001b[0mpreds\u001b[0m\u001b[0;34m,\u001b[0m \u001b[0mlabels\u001b[0m\u001b[0;34m)\u001b[0m\u001b[0;34m:\u001b[0m\u001b[0;34m\u001b[0m\u001b[0m\n",
      "\u001b[0;32m~/.virtualenvs/colab/lib/python3.5/site-packages/mxnet/metric.py\u001b[0m in \u001b[0;36mcheck_label_shapes\u001b[0;34m(labels, preds, wrap, shape)\u001b[0m\n\u001b[1;32m     56\u001b[0m     \u001b[0;32mif\u001b[0m \u001b[0mlabel_shape\u001b[0m \u001b[0;34m!=\u001b[0m \u001b[0mpred_shape\u001b[0m\u001b[0;34m:\u001b[0m\u001b[0;34m\u001b[0m\u001b[0m\n\u001b[1;32m     57\u001b[0m         raise ValueError(\"Shape of labels {} does not match shape of \"\n\u001b[0;32m---> 58\u001b[0;31m                          \"predictions {}\".format(label_shape, pred_shape))\n\u001b[0m\u001b[1;32m     59\u001b[0m \u001b[0;34m\u001b[0m\u001b[0m\n\u001b[1;32m     60\u001b[0m     \u001b[0;32mif\u001b[0m \u001b[0mwrap\u001b[0m\u001b[0;34m:\u001b[0m\u001b[0;34m\u001b[0m\u001b[0m\n",
      "\u001b[0;31mValueError\u001b[0m: Shape of labels 1 does not match shape of predictions 5"
     ]
    }
   ],
   "source": [
    "for epoch in range(0,1):\n",
    "\n",
    "    start = time.time()\n",
    "\n",
    "    metric.reset()\n",
    "\n",
    "    train_iter.reset()\n",
    "    \n",
    "    valid_iter.reset()\n",
    "    \n",
    "    sched.reset()\n",
    "        \n",
    "    sched.on_train_begin()\n",
    "    \n",
    "\n",
    "    for batch in train_iter:\n",
    "        # Copy data to executor input. Note the [:].\n",
    "        data[:] = batch.data[0]\n",
    "        label[:] = batch.label[0]\n",
    "\n",
    "        # Forward\n",
    "        outputs=exe.forward(is_train=True)\n",
    "        # Backward\n",
    "        exe.backward()\n",
    "\n",
    "        # Update\n",
    "        for i, pair in enumerate(zip(exe.arg_arrays, exe.grad_arrays)):\n",
    "            weight, grad = pair\n",
    "            updater(i, grad, weight)   \n",
    "        metric.update(batch.label[0], exe.outputs[0])#metric.update(label,p)\n",
    "        \n",
    "        e=metric.get()\n",
    "        err_train=-e[1].asnumpy()[0]\n",
    "        sched.on_batch_end(err_train)\n",
    "    \n",
    "    if epoch % 100== 0:       \n",
    "        #print(\"do_checkpoint\")\n",
    "        arg={k:v for k, v in arg_arrays.items() if k not in input_shapes}\n",
    "        aux = dict(zip(network.list_auxiliary_states(), exe.aux_arrays))\n",
    "        mx.model.save_checkpoint(prefix, epoch, network, arg, aux)\n",
    "        \n",
    "        \n",
    "    #compute valid loss per epoch    \n",
    "    metric.reset()\n",
    "    for batch in valid_iter:        \n",
    "        data[:] = batch.data[0]       \n",
    "        label[:] = batch.label[0]\n",
    "        # predict\n",
    "        outputs = exe.forward(is_train=False)\n",
    "        metric.update(batch.label[0], exe.outputs[0])\n",
    "    e=metric.get()\n",
    "    err_valid=-e[1].asnumpy()[0]\n",
    "    end = time.time()\n",
    "    print('time:',end-start,'Epoch:',epoch,'trainloss:',err_train,'validloss:',err_valid)"
   ]
  },
  {
   "cell_type": "code",
   "execution_count": null,
   "metadata": {},
   "outputs": [],
   "source": [
    "plt.plot(sched.lrs, sched.losses)"
   ]
  },
  {
   "cell_type": "code",
   "execution_count": null,
   "metadata": {},
   "outputs": [],
   "source": [
    "# We also need to create an optimizer for updating weights\n",
    "opt = mx.optimizer.SGD(\n",
    "    learning_rate=.06,rescale_grad=1.0/train_iter.batch_size)"
   ]
  },
  {
   "cell_type": "code",
   "execution_count": null,
   "metadata": {},
   "outputs": [],
   "source": [
    "updater.optimizer.lr_scheduler=None"
   ]
  },
  {
   "cell_type": "code",
   "execution_count": null,
   "metadata": {},
   "outputs": [],
   "source": [
    "updater = mx.optimizer.get_updater(opt)"
   ]
  },
  {
   "cell_type": "markdown",
   "metadata": {},
   "source": [
    "#### Start Training "
   ]
  },
  {
   "cell_type": "code",
   "execution_count": 29,
   "metadata": {},
   "outputs": [],
   "source": [
    "epochs = 2"
   ]
  },
  {
   "cell_type": "code",
   "execution_count": 30,
   "metadata": {},
   "outputs": [
    {
     "name": "stdout",
     "output_type": "stream",
     "text": [
      "time: 38.903106927871704 Epoch: 0 trainloss: -0.03908517 validloss: -0.038967926\n",
      "time: 26.442142248153687 Epoch: 1 trainloss: -0.039042007 validloss: -0.039013416\n",
      "time: 28.107386350631714 Epoch: 2 trainloss: -0.039057143 validloss: -0.038939286\n"
     ]
    }
   ],
   "source": [
    "\n",
    "for epoch in range(0,epochs+1):\n",
    "\n",
    "    start = time.time()\n",
    "\n",
    "    metric.reset()\n",
    "\n",
    "    train_iter.reset()\n",
    "    \n",
    "    valid_iter.reset()\n",
    "    \n",
    "\n",
    "    for batch in train_iter:\n",
    "        # Copy data to executor input. Note the [:].\n",
    "        data[:] = batch.data[0]\n",
    "        label[:] = batch.label[0]\n",
    "\n",
    "        # Forward\n",
    "        outputs=exe.forward(is_train=True)\n",
    "        # Backward\n",
    "        exe.backward()\n",
    "\n",
    "        # Update\n",
    "        for i, pair in enumerate(zip(exe.arg_arrays, exe.grad_arrays)):\n",
    "            weight, grad = pair\n",
    "            updater(i, grad, weight)   \n",
    "        metric.update(batch.label[0], exe.outputs[0])#metric.update(label,p)\n",
    "        \n",
    "    e=metric.get()\n",
    "    err_train=-e[1].asnumpy()[0]\n",
    "    \n",
    "    if epoch % 100== 0:       \n",
    "        #print(\"do_checkpoint\")\n",
    "        arg={k:v for k, v in arg_arrays.items() if k not in input_shapes}\n",
    "        aux = dict(zip(network.list_auxiliary_states(), exe.aux_arrays))\n",
    "        mx.model.save_checkpoint(prefix, epoch, network, arg, aux)\n",
    "        \n",
    "        \n",
    "    #compute valid loss per epoch    \n",
    "    metric.reset()\n",
    "    for batch in valid_iter:        \n",
    "        data[:] = batch.data[0]       \n",
    "        label[:] = batch.label[0]\n",
    "        # predict\n",
    "        outputs = exe.forward(is_train=False)\n",
    "        metric.update(batch.label[0], exe.outputs[0])\n",
    "    e=metric.get()\n",
    "    err_valid=-e[1].asnumpy()[0]\n",
    "    end = time.time()\n",
    "    print('time:',end-start,'Epoch:',epoch,'trainloss:',err_train,'validloss:',err_valid)"
   ]
  },
  {
   "cell_type": "markdown",
   "metadata": {},
   "source": [
    "## Evaluate Model"
   ]
  },
  {
   "cell_type": "code",
   "execution_count": null,
   "metadata": {},
   "outputs": [],
   "source": [
    "BATCH_SIZE=1\n",
    "valid_iter=nn.FileIter(train_data_path,train_idx_path,batch_size=BATCH_SIZE,do_shuffle=False,mean_image=x_mean,std_image = x_std)"
   ]
  },
  {
   "cell_type": "code",
   "execution_count": null,
   "metadata": {},
   "outputs": [],
   "source": [
    "def get_sample_at(valid_iter,n):\n",
    "    valid_iter.ind2=[n]\n",
    "    return valid_iter.next()"
   ]
  },
  {
   "cell_type": "code",
   "execution_count": null,
   "metadata": {},
   "outputs": [],
   "source": [
    "K = valid_iter.num_data\n",
    "n = random.randint(0,K)\n",
    "print('index = '+ str(n))\n",
    "batch = get_sample_at(valid_iter,n)\n",
    "\n",
    "\n",
    "data[:] = batch.data[0]       \n",
    "label[:] = batch.label[0]\n",
    "# predict\n",
    "outputs = exe.forward(is_train=False)\n",
    "\n",
    "\n",
    "p = outputs[0][0].asnumpy().reshape(32,32,32)\n",
    "\n",
    "\n",
    "\n",
    "X = batch.data[0][0][0].asnumpy()\n",
    "Y = batch.label[0][0].asnumpy().reshape((32,32,32))\n",
    "                              \n",
    "img = X*x_std+x_mean\n",
    "msk1 = Y\n",
    "msk2 = p>.5#.001\n",
    "msk2=msk2*1\n",
    "msk1= np.ma.masked_where(msk1 == 0, msk1)\n",
    "msk2= np.ma.masked_where(msk2 == 0, msk2)\n",
    "\n",
    "zs=32\n",
    "num_rows=np.ceil(zs/8).astype(int)\n",
    "f, plots = plt.subplots(num_rows, 8, sharex='col', sharey='row', figsize=(10, 8))\n",
    "for i in range(zs):\n",
    "    plots[i // 8, i % 8].axis('off')\n",
    "    plots[i // 8, i % 8].imshow(img[i], 'gray',vmin=0,vmax=1)\n",
    "    plots[i // 8, i % 8].imshow(msk1[i],interpolation='none', cmap=plt.cm.Reds, alpha=.7, vmin=0, vmax=1)\n",
    "    plots[i // 8, i % 8].imshow(msk2[i],interpolation='none',  alpha=0.4, vmin=0, vmax=1)\n",
    "\n",
    "\n",
    "      \n",
    "plt.tight_layout()"
   ]
  },
  {
   "cell_type": "markdown",
   "metadata": {},
   "source": [
    "## Book Keeping"
   ]
  },
  {
   "cell_type": "code",
   "execution_count": null,
   "metadata": {},
   "outputs": [],
   "source": []
  }
 ],
 "metadata": {
  "kernelspec": {
   "display_name": "Python 3",
   "language": "python",
   "name": "python3"
  },
  "language_info": {
   "codemirror_mode": {
    "name": "ipython",
    "version": 3
   },
   "file_extension": ".py",
   "mimetype": "text/x-python",
   "name": "python",
   "nbconvert_exporter": "python",
   "pygments_lexer": "ipython3",
   "version": "3.5.2"
  },
  "toc": {
   "base_numbering": 1,
   "nav_menu": {},
   "number_sections": true,
   "sideBar": false,
   "skip_h1_title": true,
   "title_cell": "Table of Contents",
   "title_sidebar": "Contents",
   "toc_cell": true,
   "toc_position": {
    "height": "442.667px",
    "left": "819px",
    "top": "110.567px",
    "width": "317.667px"
   },
   "toc_section_display": true,
   "toc_window_display": true
  }
 },
 "nbformat": 4,
 "nbformat_minor": 2
}
