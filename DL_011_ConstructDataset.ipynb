{
 "cells": [
  {
   "cell_type": "markdown",
   "metadata": {},
   "source": [
    "# Construct the Dataset"
   ]
  },
  {
   "cell_type": "markdown",
   "metadata": {},
   "source": [
    "## Table of Contents\n",
    "- [Split scans to train, validate, and test](#split)\n",
    "- [Filter scans by nodule diameter](#filter)\n",
    "- [Generate dataset](#generatedata)\n",
    "    - [Positive examples](#pos)\n",
    "    - [Negative examples](#neg)"
   ]
  },
  {
   "cell_type": "markdown",
   "metadata": {},
   "source": [
    "Now that we have developed our toolbox, DLToolboxImg, we are ready to build our dataset. The dataset will be derived from the LIDC dataset, with some modifications.\n",
    "\n",
    "From the ct-scan volumes provided by LIDC, we will extract 3d-patches of ct=scans. Those patches will serve as the input. The label will be a bolean mask where each pixel is classified as part of a nodule region or not.\n"
   ]
  },
  {
   "cell_type": "markdown",
   "metadata": {},
   "source": [
    "4Roadmap:\n",
    "1. split scans to train, validate, test\n",
    "2. Generate patches that contain a nodule:\n",
    "    - given a scan: find nodules centroid, find ctscan volume, find mask. \n",
    "    - extract a 52x52x52 patch around the nodule from the scan and associated mask\n",
    "    - save image in folder\n",
    "    - save path in a .csv file\n",
    "    "
   ]
  },
  {
   "cell_type": "markdown",
   "metadata": {},
   "source": [
    "## Split scans to train, validate, and test\n",
    "<a id=\"split\"></a>"
   ]
  },
  {
   "cell_type": "code",
   "execution_count": null,
   "metadata": {},
   "outputs": [],
   "source": []
  },
  {
   "cell_type": "markdown",
   "metadata": {},
   "source": [
    "## Filter scans by nodule diameter\n",
    "<a id=\"filter\"></a>"
   ]
  },
  {
   "cell_type": "code",
   "execution_count": null,
   "metadata": {},
   "outputs": [],
   "source": []
  },
  {
   "cell_type": "markdown",
   "metadata": {},
   "source": [
    "## Generate dataset \n",
    "<a id=\"generatedata\"></a>"
   ]
  },
  {
   "cell_type": "code",
   "execution_count": null,
   "metadata": {},
   "outputs": [],
   "source": []
  },
  {
   "cell_type": "markdown",
   "metadata": {},
   "source": [
    "### Positive examples\n",
    "<a id=\"pos\"></a>"
   ]
  },
  {
   "cell_type": "code",
   "execution_count": null,
   "metadata": {},
   "outputs": [],
   "source": []
  },
  {
   "cell_type": "markdown",
   "metadata": {},
   "source": [
    "### Negative examples\n",
    "<a id=\"neg\"></a>"
   ]
  },
  {
   "cell_type": "code",
   "execution_count": null,
   "metadata": {},
   "outputs": [],
   "source": [
    "this is where "
   ]
  }
 ],
 "metadata": {
  "kernelspec": {
   "display_name": "Python 3",
   "language": "python",
   "name": "python3"
  },
  "language_info": {
   "codemirror_mode": {
    "name": "ipython",
    "version": 3
   },
   "file_extension": ".py",
   "mimetype": "text/x-python",
   "name": "python",
   "nbconvert_exporter": "python",
   "pygments_lexer": "ipython3",
   "version": "3.5.2"
  }
 },
 "nbformat": 4,
 "nbformat_minor": 2
}
