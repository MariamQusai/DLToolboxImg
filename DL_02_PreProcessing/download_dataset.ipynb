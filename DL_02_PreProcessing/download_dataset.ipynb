{
  "nbformat": 4,
  "nbformat_minor": 0,
  "metadata": {
    "colab": {
      "name": "download_dataset.ipynb",
      "version": "0.3.2",
      "provenance": []
    },
    "kernelspec": {
      "name": "python3",
      "display_name": "Python 3"
    }
  },
  "cells": [
    {
      "metadata": {
        "id": "6kP57dMASn9o",
        "colab_type": "text"
      },
      "cell_type": "markdown",
      "source": [
        "# Data Description\n",
        "\"The Lung Image Database Consortium image collection (LIDC-IDRI) consists of diagnostic and lung cancer screening thoracic computed tomography (CT) scans with marked-up annotated lesions. It is a web-accessible international resource for development, training, and evaluation of computer-assisted diagnostic (CAD) methods for lung cancer detection and diagnosis. Initiated by the National Cancer Institute (NCI), further advanced by the Foundation for the National Institutes of Health (FNIH), and accompanied by the Food and Drug Administration (FDA) through active participation, this public-private partnership demonstrates the success of a consortium founded on a consensus-based process.\n",
        "\n",
        "Seven academic centers and eight medical imaging companies collaborated to create this data set which contains **1018 cases**.  Each subject includes images from a clinical thoracic CT scan and an associated XML file that records the results of a two-phase image annotation process performed by four experienced thoracic radiologists. In the initial blinded-read phase, each radiologist independently reviewed each CT scan and marked lesions belonging to one of three categories (\"nodule > or =3 mm,\" \"nodule <3 mm,\" and \"non-nodule > or =3 mm\"). In the subsequent unblinded-read phase, each radiologist independently reviewed their own marks along with the anonymized marks of the three other radiologists to render a final opinion. The goal of this process was to identify as completely as possible all lung nodules in each CT scan without requiring forced consensus.\"\" [[1]](https://wiki.cancerimagingarchive.net/display/Public/LIDC-IDRI)"
      ]
    },
    {
      "metadata": {
        "id": "bKIqzg_KUToW",
        "colab_type": "code",
        "colab": {
          "base_uri": "https://localhost:8080/",
          "height": 228
        },
        "outputId": "0bcbcef1-8a78-45b1-9e43-702354ff27b0"
      },
      "cell_type": "code",
      "source": [
        "!wget --header=\"Host: wiki.cancerimagingarchive.net\" --header=\"User-Agent: Mozilla/5.0 (X11; Linux x86_64) AppleWebKit/537.36 (KHTML, like Gecko) Ubuntu Chromium/65.0.3325.181 Chrome/65.0.3325.181 Safari/537.36\" --header=\"Accept: text/html,application/xhtml+xml,application/xml;q=0.9,image/webp,image/apng,*/*;q=0.8\" --header=\"Accept-Language: en-US,en;q=0.9\" --header=\"Cookie: JSESSIONID=D3C0A514BEC705F7FC010D4BFDF4B105; wit-announce-token=d72db6ef-cd6c-422e-a5cd-7ccf9851c5df-1504878444683-anon; __utma=204232706.329712826.1530523710.1530523710.1530523710.1; __utmc=204232706; __utmz=204232706.1530523710.1.1.utmcsr=(direct)|utmccn=(direct)|utmcmd=(none); __utmt=1; __utmb=204232706.1.10.1530523710\" --header=\"Connection: keep-alive\" \"https://wiki.cancerimagingarchive.net/download/attachments/1966254/TCIA_LIDC-IDRI_06-22-2015.jnlp?version=2&modificationDate=1450816658631&api=v2\" -O \"TCIA_LIDC-IDRI_06-22-2015.jnlp\" -c"
      ],
      "execution_count": 6,
      "outputs": [
        {
          "output_type": "stream",
          "text": [
            "--2018-07-02 09:33:33--  https://wiki.cancerimagingarchive.net/download/attachments/1966254/TCIA_LIDC-IDRI_06-22-2015.jnlp?version=2&modificationDate=1450816658631&api=v2\n",
            "Resolving wiki.cancerimagingarchive.net (wiki.cancerimagingarchive.net)... 144.30.124.210\n",
            "Connecting to wiki.cancerimagingarchive.net (wiki.cancerimagingarchive.net)|144.30.124.210|:443... connected.\n",
            "HTTP request sent, awaiting response... 200 OK\n",
            "Length: 2216 (2.2K) [application/x-upload-data]\n",
            "Saving to: ‘TCIA_LIDC-IDRI_06-22-2015.jnlp’\n",
            "\n",
            "TCIA_LIDC-IDRI_06-2 100%[===================>]   2.16K  --.-KB/s    in 0s      \n",
            "\n",
            "2018-07-02 09:33:33 (97.5 MB/s) - ‘TCIA_LIDC-IDRI_06-22-2015.jnlp’ saved [2216/2216]\n",
            "\n"
          ],
          "name": "stdout"
        }
      ]
    },
    {
      "metadata": {
        "id": "aV9VcX1cVwv8",
        "colab_type": "code",
        "colab": {}
      },
      "cell_type": "code",
      "source": [
        "!apt-get install icedtea-netx"
      ],
      "execution_count": 0,
      "outputs": []
    },
    {
      "metadata": {
        "id": "3Yjfmh-gY_YY",
        "colab_type": "code",
        "colab": {}
      },
      "cell_type": "code",
      "source": [
        "!javaws TCIA_LIDC-IDRI_06-22-2015.jnlp"
      ],
      "execution_count": 0,
      "outputs": []
    }
  ]
}